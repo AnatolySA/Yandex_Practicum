{
 "cells": [
  {
   "cell_type": "markdown",
   "id": "a2981da6",
   "metadata": {
    "deletable": false,
    "editable": false,
    "id": "c81daeeb"
   },
   "source": [
    "# Исследование надежности заемщиков\n"
   ]
  },
  {
   "cell_type": "markdown",
   "id": "f6fb763c",
   "metadata": {
    "deletable": false,
    "editable": false,
    "id": "827c20bf"
   },
   "source": [
    "Во второй части проекта вы выполните шаги 3 и 4. Их вручную проверит ревьюер.\n",
    "Чтобы вам не пришлось писать код заново для шагов 1 и 2, мы добавили авторские решения в ячейки с кодом. \n",
    "\n"
   ]
  },
  {
   "cell_type": "markdown",
   "id": "e92cfd15",
   "metadata": {
    "deletable": false,
    "editable": false,
    "id": "744d7639"
   },
   "source": [
    "## Откройте таблицу и изучите общую информацию о данных"
   ]
  },
  {
   "cell_type": "markdown",
   "id": "e5c5a6fc",
   "metadata": {
    "deletable": false,
    "editable": false,
    "id": "e7a14c31"
   },
   "source": [
    "**Задание 1. Импортируйте библиотеку pandas. Считайте данные из csv-файла в датафрейм и сохраните в переменную `data`. Путь к файлу:**\n",
    "\n",
    "`/datasets/data.csv`"
   ]
  },
  {
   "cell_type": "code",
   "execution_count": 1,
   "id": "cf81104b",
   "metadata": {
    "deletable": false,
    "id": "7bcf75c9"
   },
   "outputs": [],
   "source": [
    "import pandas as pd\n",
    "import seaborn \n",
    "import matplotlib.pyplot as plt\n",
    "\n",
    "try:\n",
    "    data = pd.read_csv('/datasets/data.csv')\n",
    "except:\n",
    "    data = pd.read_csv('https://code.s3.yandex.net/datasets/data.csv')"
   ]
  },
  {
   "cell_type": "markdown",
   "id": "9fcbf788",
   "metadata": {
    "deletable": false,
    "editable": false,
    "id": "b8038fe3"
   },
   "source": [
    "**Задание 2. Выведите первые 20 строчек датафрейма `data` на экран.**"
   ]
  },
  {
   "cell_type": "code",
   "execution_count": 2,
   "id": "d0d3515f",
   "metadata": {
    "deletable": false,
    "id": "2a7cab99",
    "outputId": "1a8f3ef2-d323-4ec2-ddf7-89670b5944c4"
   },
   "outputs": [
    {
     "data": {
      "text/html": [
       "<div>\n",
       "<style scoped>\n",
       "    .dataframe tbody tr th:only-of-type {\n",
       "        vertical-align: middle;\n",
       "    }\n",
       "\n",
       "    .dataframe tbody tr th {\n",
       "        vertical-align: top;\n",
       "    }\n",
       "\n",
       "    .dataframe thead th {\n",
       "        text-align: right;\n",
       "    }\n",
       "</style>\n",
       "<table border=\"1\" class=\"dataframe\">\n",
       "  <thead>\n",
       "    <tr style=\"text-align: right;\">\n",
       "      <th></th>\n",
       "      <th>children</th>\n",
       "      <th>days_employed</th>\n",
       "      <th>dob_years</th>\n",
       "      <th>education</th>\n",
       "      <th>education_id</th>\n",
       "      <th>family_status</th>\n",
       "      <th>family_status_id</th>\n",
       "      <th>gender</th>\n",
       "      <th>income_type</th>\n",
       "      <th>debt</th>\n",
       "      <th>total_income</th>\n",
       "      <th>purpose</th>\n",
       "    </tr>\n",
       "  </thead>\n",
       "  <tbody>\n",
       "    <tr>\n",
       "      <th>0</th>\n",
       "      <td>1</td>\n",
       "      <td>-8437.673028</td>\n",
       "      <td>42</td>\n",
       "      <td>высшее</td>\n",
       "      <td>0</td>\n",
       "      <td>женат / замужем</td>\n",
       "      <td>0</td>\n",
       "      <td>F</td>\n",
       "      <td>сотрудник</td>\n",
       "      <td>0</td>\n",
       "      <td>253875.639453</td>\n",
       "      <td>покупка жилья</td>\n",
       "    </tr>\n",
       "    <tr>\n",
       "      <th>1</th>\n",
       "      <td>1</td>\n",
       "      <td>-4024.803754</td>\n",
       "      <td>36</td>\n",
       "      <td>среднее</td>\n",
       "      <td>1</td>\n",
       "      <td>женат / замужем</td>\n",
       "      <td>0</td>\n",
       "      <td>F</td>\n",
       "      <td>сотрудник</td>\n",
       "      <td>0</td>\n",
       "      <td>112080.014102</td>\n",
       "      <td>приобретение автомобиля</td>\n",
       "    </tr>\n",
       "    <tr>\n",
       "      <th>2</th>\n",
       "      <td>0</td>\n",
       "      <td>-5623.422610</td>\n",
       "      <td>33</td>\n",
       "      <td>Среднее</td>\n",
       "      <td>1</td>\n",
       "      <td>женат / замужем</td>\n",
       "      <td>0</td>\n",
       "      <td>M</td>\n",
       "      <td>сотрудник</td>\n",
       "      <td>0</td>\n",
       "      <td>145885.952297</td>\n",
       "      <td>покупка жилья</td>\n",
       "    </tr>\n",
       "    <tr>\n",
       "      <th>3</th>\n",
       "      <td>3</td>\n",
       "      <td>-4124.747207</td>\n",
       "      <td>32</td>\n",
       "      <td>среднее</td>\n",
       "      <td>1</td>\n",
       "      <td>женат / замужем</td>\n",
       "      <td>0</td>\n",
       "      <td>M</td>\n",
       "      <td>сотрудник</td>\n",
       "      <td>0</td>\n",
       "      <td>267628.550329</td>\n",
       "      <td>дополнительное образование</td>\n",
       "    </tr>\n",
       "    <tr>\n",
       "      <th>4</th>\n",
       "      <td>0</td>\n",
       "      <td>340266.072047</td>\n",
       "      <td>53</td>\n",
       "      <td>среднее</td>\n",
       "      <td>1</td>\n",
       "      <td>гражданский брак</td>\n",
       "      <td>1</td>\n",
       "      <td>F</td>\n",
       "      <td>пенсионер</td>\n",
       "      <td>0</td>\n",
       "      <td>158616.077870</td>\n",
       "      <td>сыграть свадьбу</td>\n",
       "    </tr>\n",
       "    <tr>\n",
       "      <th>5</th>\n",
       "      <td>0</td>\n",
       "      <td>-926.185831</td>\n",
       "      <td>27</td>\n",
       "      <td>высшее</td>\n",
       "      <td>0</td>\n",
       "      <td>гражданский брак</td>\n",
       "      <td>1</td>\n",
       "      <td>M</td>\n",
       "      <td>компаньон</td>\n",
       "      <td>0</td>\n",
       "      <td>255763.565419</td>\n",
       "      <td>покупка жилья</td>\n",
       "    </tr>\n",
       "    <tr>\n",
       "      <th>6</th>\n",
       "      <td>0</td>\n",
       "      <td>-2879.202052</td>\n",
       "      <td>43</td>\n",
       "      <td>высшее</td>\n",
       "      <td>0</td>\n",
       "      <td>женат / замужем</td>\n",
       "      <td>0</td>\n",
       "      <td>F</td>\n",
       "      <td>компаньон</td>\n",
       "      <td>0</td>\n",
       "      <td>240525.971920</td>\n",
       "      <td>операции с жильем</td>\n",
       "    </tr>\n",
       "    <tr>\n",
       "      <th>7</th>\n",
       "      <td>0</td>\n",
       "      <td>-152.779569</td>\n",
       "      <td>50</td>\n",
       "      <td>СРЕДНЕЕ</td>\n",
       "      <td>1</td>\n",
       "      <td>женат / замужем</td>\n",
       "      <td>0</td>\n",
       "      <td>M</td>\n",
       "      <td>сотрудник</td>\n",
       "      <td>0</td>\n",
       "      <td>135823.934197</td>\n",
       "      <td>образование</td>\n",
       "    </tr>\n",
       "    <tr>\n",
       "      <th>8</th>\n",
       "      <td>2</td>\n",
       "      <td>-6929.865299</td>\n",
       "      <td>35</td>\n",
       "      <td>ВЫСШЕЕ</td>\n",
       "      <td>0</td>\n",
       "      <td>гражданский брак</td>\n",
       "      <td>1</td>\n",
       "      <td>F</td>\n",
       "      <td>сотрудник</td>\n",
       "      <td>0</td>\n",
       "      <td>95856.832424</td>\n",
       "      <td>на проведение свадьбы</td>\n",
       "    </tr>\n",
       "    <tr>\n",
       "      <th>9</th>\n",
       "      <td>0</td>\n",
       "      <td>-2188.756445</td>\n",
       "      <td>41</td>\n",
       "      <td>среднее</td>\n",
       "      <td>1</td>\n",
       "      <td>женат / замужем</td>\n",
       "      <td>0</td>\n",
       "      <td>M</td>\n",
       "      <td>сотрудник</td>\n",
       "      <td>0</td>\n",
       "      <td>144425.938277</td>\n",
       "      <td>покупка жилья для семьи</td>\n",
       "    </tr>\n",
       "    <tr>\n",
       "      <th>10</th>\n",
       "      <td>2</td>\n",
       "      <td>-4171.483647</td>\n",
       "      <td>36</td>\n",
       "      <td>высшее</td>\n",
       "      <td>0</td>\n",
       "      <td>женат / замужем</td>\n",
       "      <td>0</td>\n",
       "      <td>M</td>\n",
       "      <td>компаньон</td>\n",
       "      <td>0</td>\n",
       "      <td>113943.491460</td>\n",
       "      <td>покупка недвижимости</td>\n",
       "    </tr>\n",
       "    <tr>\n",
       "      <th>11</th>\n",
       "      <td>0</td>\n",
       "      <td>-792.701887</td>\n",
       "      <td>40</td>\n",
       "      <td>среднее</td>\n",
       "      <td>1</td>\n",
       "      <td>женат / замужем</td>\n",
       "      <td>0</td>\n",
       "      <td>F</td>\n",
       "      <td>сотрудник</td>\n",
       "      <td>0</td>\n",
       "      <td>77069.234271</td>\n",
       "      <td>покупка коммерческой недвижимости</td>\n",
       "    </tr>\n",
       "    <tr>\n",
       "      <th>12</th>\n",
       "      <td>0</td>\n",
       "      <td>NaN</td>\n",
       "      <td>65</td>\n",
       "      <td>среднее</td>\n",
       "      <td>1</td>\n",
       "      <td>гражданский брак</td>\n",
       "      <td>1</td>\n",
       "      <td>M</td>\n",
       "      <td>пенсионер</td>\n",
       "      <td>0</td>\n",
       "      <td>NaN</td>\n",
       "      <td>сыграть свадьбу</td>\n",
       "    </tr>\n",
       "    <tr>\n",
       "      <th>13</th>\n",
       "      <td>0</td>\n",
       "      <td>-1846.641941</td>\n",
       "      <td>54</td>\n",
       "      <td>неоконченное высшее</td>\n",
       "      <td>2</td>\n",
       "      <td>женат / замужем</td>\n",
       "      <td>0</td>\n",
       "      <td>F</td>\n",
       "      <td>сотрудник</td>\n",
       "      <td>0</td>\n",
       "      <td>130458.228857</td>\n",
       "      <td>приобретение автомобиля</td>\n",
       "    </tr>\n",
       "    <tr>\n",
       "      <th>14</th>\n",
       "      <td>0</td>\n",
       "      <td>-1844.956182</td>\n",
       "      <td>56</td>\n",
       "      <td>высшее</td>\n",
       "      <td>0</td>\n",
       "      <td>гражданский брак</td>\n",
       "      <td>1</td>\n",
       "      <td>F</td>\n",
       "      <td>компаньон</td>\n",
       "      <td>1</td>\n",
       "      <td>165127.911772</td>\n",
       "      <td>покупка жилой недвижимости</td>\n",
       "    </tr>\n",
       "    <tr>\n",
       "      <th>15</th>\n",
       "      <td>1</td>\n",
       "      <td>-972.364419</td>\n",
       "      <td>26</td>\n",
       "      <td>среднее</td>\n",
       "      <td>1</td>\n",
       "      <td>женат / замужем</td>\n",
       "      <td>0</td>\n",
       "      <td>F</td>\n",
       "      <td>сотрудник</td>\n",
       "      <td>0</td>\n",
       "      <td>116820.904450</td>\n",
       "      <td>строительство собственной недвижимости</td>\n",
       "    </tr>\n",
       "    <tr>\n",
       "      <th>16</th>\n",
       "      <td>0</td>\n",
       "      <td>-1719.934226</td>\n",
       "      <td>35</td>\n",
       "      <td>среднее</td>\n",
       "      <td>1</td>\n",
       "      <td>женат / замужем</td>\n",
       "      <td>0</td>\n",
       "      <td>F</td>\n",
       "      <td>сотрудник</td>\n",
       "      <td>0</td>\n",
       "      <td>289202.704229</td>\n",
       "      <td>недвижимость</td>\n",
       "    </tr>\n",
       "    <tr>\n",
       "      <th>17</th>\n",
       "      <td>0</td>\n",
       "      <td>-2369.999720</td>\n",
       "      <td>33</td>\n",
       "      <td>высшее</td>\n",
       "      <td>0</td>\n",
       "      <td>гражданский брак</td>\n",
       "      <td>1</td>\n",
       "      <td>M</td>\n",
       "      <td>сотрудник</td>\n",
       "      <td>0</td>\n",
       "      <td>90410.586745</td>\n",
       "      <td>строительство недвижимости</td>\n",
       "    </tr>\n",
       "    <tr>\n",
       "      <th>18</th>\n",
       "      <td>0</td>\n",
       "      <td>400281.136913</td>\n",
       "      <td>53</td>\n",
       "      <td>среднее</td>\n",
       "      <td>1</td>\n",
       "      <td>вдовец / вдова</td>\n",
       "      <td>2</td>\n",
       "      <td>F</td>\n",
       "      <td>пенсионер</td>\n",
       "      <td>0</td>\n",
       "      <td>56823.777243</td>\n",
       "      <td>на покупку подержанного автомобиля</td>\n",
       "    </tr>\n",
       "    <tr>\n",
       "      <th>19</th>\n",
       "      <td>0</td>\n",
       "      <td>-10038.818549</td>\n",
       "      <td>48</td>\n",
       "      <td>СРЕДНЕЕ</td>\n",
       "      <td>1</td>\n",
       "      <td>в разводе</td>\n",
       "      <td>3</td>\n",
       "      <td>F</td>\n",
       "      <td>сотрудник</td>\n",
       "      <td>0</td>\n",
       "      <td>242831.107982</td>\n",
       "      <td>на покупку своего автомобиля</td>\n",
       "    </tr>\n",
       "  </tbody>\n",
       "</table>\n",
       "</div>"
      ],
      "text/plain": [
       "    children  days_employed  dob_years            education  education_id  \\\n",
       "0          1   -8437.673028         42               высшее             0   \n",
       "1          1   -4024.803754         36              среднее             1   \n",
       "2          0   -5623.422610         33              Среднее             1   \n",
       "3          3   -4124.747207         32              среднее             1   \n",
       "4          0  340266.072047         53              среднее             1   \n",
       "5          0    -926.185831         27               высшее             0   \n",
       "6          0   -2879.202052         43               высшее             0   \n",
       "7          0    -152.779569         50              СРЕДНЕЕ             1   \n",
       "8          2   -6929.865299         35               ВЫСШЕЕ             0   \n",
       "9          0   -2188.756445         41              среднее             1   \n",
       "10         2   -4171.483647         36               высшее             0   \n",
       "11         0    -792.701887         40              среднее             1   \n",
       "12         0            NaN         65              среднее             1   \n",
       "13         0   -1846.641941         54  неоконченное высшее             2   \n",
       "14         0   -1844.956182         56               высшее             0   \n",
       "15         1    -972.364419         26              среднее             1   \n",
       "16         0   -1719.934226         35              среднее             1   \n",
       "17         0   -2369.999720         33               высшее             0   \n",
       "18         0  400281.136913         53              среднее             1   \n",
       "19         0  -10038.818549         48              СРЕДНЕЕ             1   \n",
       "\n",
       "       family_status  family_status_id gender income_type  debt  \\\n",
       "0    женат / замужем                 0      F   сотрудник     0   \n",
       "1    женат / замужем                 0      F   сотрудник     0   \n",
       "2    женат / замужем                 0      M   сотрудник     0   \n",
       "3    женат / замужем                 0      M   сотрудник     0   \n",
       "4   гражданский брак                 1      F   пенсионер     0   \n",
       "5   гражданский брак                 1      M   компаньон     0   \n",
       "6    женат / замужем                 0      F   компаньон     0   \n",
       "7    женат / замужем                 0      M   сотрудник     0   \n",
       "8   гражданский брак                 1      F   сотрудник     0   \n",
       "9    женат / замужем                 0      M   сотрудник     0   \n",
       "10   женат / замужем                 0      M   компаньон     0   \n",
       "11   женат / замужем                 0      F   сотрудник     0   \n",
       "12  гражданский брак                 1      M   пенсионер     0   \n",
       "13   женат / замужем                 0      F   сотрудник     0   \n",
       "14  гражданский брак                 1      F   компаньон     1   \n",
       "15   женат / замужем                 0      F   сотрудник     0   \n",
       "16   женат / замужем                 0      F   сотрудник     0   \n",
       "17  гражданский брак                 1      M   сотрудник     0   \n",
       "18    вдовец / вдова                 2      F   пенсионер     0   \n",
       "19         в разводе                 3      F   сотрудник     0   \n",
       "\n",
       "     total_income                                 purpose  \n",
       "0   253875.639453                           покупка жилья  \n",
       "1   112080.014102                 приобретение автомобиля  \n",
       "2   145885.952297                           покупка жилья  \n",
       "3   267628.550329              дополнительное образование  \n",
       "4   158616.077870                         сыграть свадьбу  \n",
       "5   255763.565419                           покупка жилья  \n",
       "6   240525.971920                       операции с жильем  \n",
       "7   135823.934197                             образование  \n",
       "8    95856.832424                   на проведение свадьбы  \n",
       "9   144425.938277                 покупка жилья для семьи  \n",
       "10  113943.491460                    покупка недвижимости  \n",
       "11   77069.234271       покупка коммерческой недвижимости  \n",
       "12            NaN                         сыграть свадьбу  \n",
       "13  130458.228857                 приобретение автомобиля  \n",
       "14  165127.911772              покупка жилой недвижимости  \n",
       "15  116820.904450  строительство собственной недвижимости  \n",
       "16  289202.704229                            недвижимость  \n",
       "17   90410.586745              строительство недвижимости  \n",
       "18   56823.777243      на покупку подержанного автомобиля  \n",
       "19  242831.107982            на покупку своего автомобиля  "
      ]
     },
     "execution_count": 2,
     "metadata": {},
     "output_type": "execute_result"
    }
   ],
   "source": [
    "data.head(20)"
   ]
  },
  {
   "cell_type": "markdown",
   "id": "1077a297",
   "metadata": {
    "deletable": false,
    "editable": false,
    "id": "1c12e233"
   },
   "source": [
    "**Задание 3. Выведите основную информацию о датафрейме с помощью метода `info()`.**"
   ]
  },
  {
   "cell_type": "code",
   "execution_count": 3,
   "id": "f2d902d5",
   "metadata": {
    "deletable": false,
    "id": "2b757bca",
    "outputId": "15376089-8dad-46c9-b520-c05248d43158"
   },
   "outputs": [
    {
     "name": "stdout",
     "output_type": "stream",
     "text": [
      "<class 'pandas.core.frame.DataFrame'>\n",
      "RangeIndex: 21525 entries, 0 to 21524\n",
      "Data columns (total 12 columns):\n",
      " #   Column            Non-Null Count  Dtype  \n",
      "---  ------            --------------  -----  \n",
      " 0   children          21525 non-null  int64  \n",
      " 1   days_employed     19351 non-null  float64\n",
      " 2   dob_years         21525 non-null  int64  \n",
      " 3   education         21525 non-null  object \n",
      " 4   education_id      21525 non-null  int64  \n",
      " 5   family_status     21525 non-null  object \n",
      " 6   family_status_id  21525 non-null  int64  \n",
      " 7   gender            21525 non-null  object \n",
      " 8   income_type       21525 non-null  object \n",
      " 9   debt              21525 non-null  int64  \n",
      " 10  total_income      19351 non-null  float64\n",
      " 11  purpose           21525 non-null  object \n",
      "dtypes: float64(2), int64(5), object(5)\n",
      "memory usage: 2.0+ MB\n"
     ]
    }
   ],
   "source": [
    "data.info()"
   ]
  },
  {
   "cell_type": "markdown",
   "id": "fa0470ea",
   "metadata": {
    "deletable": false,
    "editable": false,
    "id": "333ec665"
   },
   "source": [
    "## Предобработка данных"
   ]
  },
  {
   "cell_type": "markdown",
   "id": "eedf8ad7",
   "metadata": {
    "deletable": false,
    "editable": false,
    "id": "02d92d53"
   },
   "source": [
    "### Удаление пропусков"
   ]
  },
  {
   "cell_type": "markdown",
   "id": "dbf58382",
   "metadata": {
    "deletable": false,
    "editable": false,
    "id": "cd84967c"
   },
   "source": [
    "**Задание 4. Выведите количество пропущенных значений для каждого столбца. Используйте комбинацию двух методов.**"
   ]
  },
  {
   "cell_type": "code",
   "execution_count": 4,
   "id": "2886fc5b",
   "metadata": {
    "deletable": false,
    "id": "7f9b2309",
    "outputId": "81f4d817-781c-465c-ed15-91ce4446810d"
   },
   "outputs": [
    {
     "data": {
      "text/plain": [
       "children               0\n",
       "days_employed       2174\n",
       "dob_years              0\n",
       "education              0\n",
       "education_id           0\n",
       "family_status          0\n",
       "family_status_id       0\n",
       "gender                 0\n",
       "income_type            0\n",
       "debt                   0\n",
       "total_income        2174\n",
       "purpose                0\n",
       "dtype: int64"
      ]
     },
     "execution_count": 4,
     "metadata": {},
     "output_type": "execute_result"
    }
   ],
   "source": [
    "data.isna().sum()"
   ]
  },
  {
   "cell_type": "markdown",
   "id": "75f1deaa",
   "metadata": {
    "deletable": false,
    "editable": false,
    "id": "db86e27b"
   },
   "source": [
    "**Задание 5. В двух столбцах есть пропущенные значения. Один из них — `days_employed`. Пропуски в этом столбце вы обработаете на следующем этапе. Другой столбец с пропущенными значениями — `total_income` — хранит данные о доходах. На сумму дохода сильнее всего влияет тип занятости, поэтому заполнить пропуски в этом столбце нужно медианным значением по каждому типу из столбца `income_type`. Например, у человека с типом занятости `сотрудник` пропуск в столбце `total_income` должен быть заполнен медианным доходом среди всех записей с тем же типом.**"
   ]
  },
  {
   "cell_type": "code",
   "execution_count": 5,
   "id": "e4c6ffe6",
   "metadata": {
    "deletable": false,
    "id": "42006a93"
   },
   "outputs": [],
   "source": [
    "for t in data['income_type'].unique():\n",
    "    data.loc[(data['income_type'] == t) & (data['total_income'].isna()), 'total_income'] = \\\n",
    "    data.loc[(data['income_type'] == t), 'total_income'].median()"
   ]
  },
  {
   "cell_type": "markdown",
   "id": "f7dcedce",
   "metadata": {
    "deletable": false,
    "editable": false,
    "id": "89da5ece"
   },
   "source": [
    "### Обработка аномальных значений"
   ]
  },
  {
   "cell_type": "markdown",
   "id": "a8ce6998",
   "metadata": {
    "deletable": false,
    "editable": false,
    "id": "57964554"
   },
   "source": [
    "**Задание 6. В данных могут встречаться артефакты (аномалии) — значения, которые не отражают действительность и появились по какой-то ошибке. таким артефактом будет отрицательное количество дней трудового стажа в столбце `days_employed`. Для реальных данных это нормально. Обработайте значения в этом столбце: замените все отрицательные значения положительными с помощью метода `abs()`.**"
   ]
  },
  {
   "cell_type": "code",
   "execution_count": 6,
   "id": "feeaac4d",
   "metadata": {
    "deletable": false,
    "id": "f6f055bf"
   },
   "outputs": [],
   "source": [
    "data['days_employed'] = data['days_employed'].abs()"
   ]
  },
  {
   "cell_type": "markdown",
   "id": "ab2bf7b7",
   "metadata": {
    "deletable": false,
    "editable": false,
    "id": "6107dd2f"
   },
   "source": [
    "**Задание 7. Для каждого типа занятости выведите медианное значение трудового стажа `days_employed` в днях.**"
   ]
  },
  {
   "cell_type": "code",
   "execution_count": 7,
   "id": "a8191b86",
   "metadata": {
    "deletable": false,
    "id": "85a5faf6",
    "outputId": "801ef80e-522b-4668-f34e-565af7432bcf"
   },
   "outputs": [
    {
     "data": {
      "text/plain": [
       "income_type\n",
       "безработный        366413.652744\n",
       "в декрете            3296.759962\n",
       "госслужащий          2689.368353\n",
       "компаньон            1547.382223\n",
       "пенсионер          365213.306266\n",
       "предприниматель       520.848083\n",
       "сотрудник            1574.202821\n",
       "студент               578.751554\n",
       "Name: days_employed, dtype: float64"
      ]
     },
     "execution_count": 7,
     "metadata": {},
     "output_type": "execute_result"
    }
   ],
   "source": [
    "data.groupby('income_type')['days_employed'].agg('median')"
   ]
  },
  {
   "cell_type": "markdown",
   "id": "e6a751bf",
   "metadata": {
    "deletable": false,
    "editable": false,
    "id": "38d1a030"
   },
   "source": [
    "У двух типов (безработные и пенсионеры) получатся аномально большие значения. Исправить такие значения сложно, поэтому оставьте их как есть. Тем более этот столбец не понадобится вам для исследования."
   ]
  },
  {
   "cell_type": "markdown",
   "id": "33b2877b",
   "metadata": {
    "deletable": false,
    "editable": false,
    "id": "d8a9f147"
   },
   "source": [
    "**Задание 8. Выведите перечень уникальных значений столбца `children`.**"
   ]
  },
  {
   "cell_type": "code",
   "execution_count": 8,
   "id": "eb93f564",
   "metadata": {
    "deletable": false,
    "id": "ef5056eb",
    "outputId": "6975b15c-7f95-4697-d16d-a0c79b657b03"
   },
   "outputs": [
    {
     "data": {
      "text/plain": [
       "array([ 1,  0,  3,  2, -1,  4, 20,  5])"
      ]
     },
     "execution_count": 8,
     "metadata": {},
     "output_type": "execute_result"
    }
   ],
   "source": [
    "data['children'].unique()"
   ]
  },
  {
   "cell_type": "markdown",
   "id": "8bdbe886",
   "metadata": {
    "deletable": false,
    "editable": false,
    "id": "40b9ebf2"
   },
   "source": [
    "**Задание 9. В столбце `children` есть два аномальных значения. Удалите строки, в которых встречаются такие аномальные значения из датафрейма `data`.**"
   ]
  },
  {
   "cell_type": "code",
   "execution_count": 9,
   "id": "8c2acf52",
   "metadata": {
    "deletable": false,
    "id": "3ff9801d"
   },
   "outputs": [],
   "source": [
    "data = data[(data['children'] != -1) & (data['children'] != 20)]"
   ]
  },
  {
   "cell_type": "markdown",
   "id": "4422d42e",
   "metadata": {
    "deletable": false,
    "editable": false,
    "id": "bbc4d0ce"
   },
   "source": [
    "**Задание 10. Ещё раз выведите перечень уникальных значений столбца `children`, чтобы убедиться, что артефакты удалены.**"
   ]
  },
  {
   "cell_type": "code",
   "execution_count": 10,
   "id": "3d6fff50",
   "metadata": {
    "deletable": false,
    "id": "ad4fa8b7",
    "outputId": "b2097101-d49d-44d9-901b-32a65c9463d1"
   },
   "outputs": [
    {
     "data": {
      "text/plain": [
       "array([1, 0, 3, 2, 4, 5])"
      ]
     },
     "execution_count": 10,
     "metadata": {},
     "output_type": "execute_result"
    }
   ],
   "source": [
    "data['children'].unique()"
   ]
  },
  {
   "cell_type": "markdown",
   "id": "1a393d11",
   "metadata": {
    "deletable": false,
    "editable": false,
    "id": "75440b63"
   },
   "source": [
    "### Удаление пропусков (продолжение)"
   ]
  },
  {
   "cell_type": "markdown",
   "id": "a5ae2836",
   "metadata": {
    "deletable": false,
    "editable": false,
    "id": "f4ea573f"
   },
   "source": [
    "**Задание 11. Заполните пропуски в столбце `days_employed` медианными значениями по каждого типа занятости `income_type`.**"
   ]
  },
  {
   "cell_type": "code",
   "execution_count": 11,
   "id": "1ac26bb5",
   "metadata": {
    "deletable": false,
    "id": "af6b1a7e"
   },
   "outputs": [],
   "source": [
    "for t in data['income_type'].unique():\n",
    "    data.loc[(data['income_type'] == t) & (data['days_employed'].isna()), 'days_employed'] = \\\n",
    "    data.loc[(data['income_type'] == t), 'days_employed'].median()"
   ]
  },
  {
   "cell_type": "markdown",
   "id": "c5e91c28",
   "metadata": {
    "deletable": false,
    "editable": false,
    "id": "2753f40d"
   },
   "source": [
    "**Задание 12. Убедитесь, что все пропуски заполнены. Проверьте себя и ещё раз выведите количество пропущенных значений для каждого столбца с помощью двух методов.**"
   ]
  },
  {
   "cell_type": "code",
   "execution_count": 12,
   "id": "4f86f33d",
   "metadata": {
    "deletable": false,
    "id": "55f78bc2",
    "outputId": "8da1e4e1-358e-4e87-98c9-f261bce0a7b2"
   },
   "outputs": [
    {
     "data": {
      "text/plain": [
       "children            0\n",
       "days_employed       0\n",
       "dob_years           0\n",
       "education           0\n",
       "education_id        0\n",
       "family_status       0\n",
       "family_status_id    0\n",
       "gender              0\n",
       "income_type         0\n",
       "debt                0\n",
       "total_income        0\n",
       "purpose             0\n",
       "dtype: int64"
      ]
     },
     "execution_count": 12,
     "metadata": {},
     "output_type": "execute_result"
    }
   ],
   "source": [
    "data.isna().sum()"
   ]
  },
  {
   "cell_type": "markdown",
   "id": "2ddbaaa3",
   "metadata": {
    "deletable": false,
    "editable": false,
    "id": "ddc81e43"
   },
   "source": [
    "### Изменение типов данных"
   ]
  },
  {
   "cell_type": "markdown",
   "id": "4310f88d",
   "metadata": {
    "deletable": false,
    "editable": false,
    "id": "42d19d24"
   },
   "source": [
    "**Задание 13. Замените вещественный тип данных в столбце `total_income` на целочисленный с помощью метода `astype()`.**"
   ]
  },
  {
   "cell_type": "code",
   "execution_count": 13,
   "id": "4de9673b",
   "metadata": {
    "deletable": false,
    "id": "920b65ad"
   },
   "outputs": [],
   "source": [
    "data['total_income'] = data['total_income'].astype(int)"
   ]
  },
  {
   "cell_type": "markdown",
   "id": "1d87196b",
   "metadata": {
    "deletable": false,
    "editable": false,
    "id": "80c420ba"
   },
   "source": [
    "### Обработка дубликатов"
   ]
  },
  {
   "cell_type": "markdown",
   "id": "8540fe12",
   "metadata": {
    "deletable": false,
    "editable": false
   },
   "source": [
    "**Задание 14. Обработайте неявные дубликаты в столбце `education`. В этом столбце есть одни и те же значения, но записанные по-разному: с использованием заглавных и строчных букв. Приведите их к нижнему регистру. Проверьте остальные столбцы.**"
   ]
  },
  {
   "cell_type": "code",
   "execution_count": 14,
   "id": "8637064e",
   "metadata": {
    "deletable": false
   },
   "outputs": [],
   "source": [
    "data['education'] = data['education'].str.lower()"
   ]
  },
  {
   "cell_type": "markdown",
   "id": "91b2e3ff",
   "metadata": {
    "deletable": false,
    "editable": false,
    "id": "dc587695"
   },
   "source": [
    "**Задание 15. Выведите на экран количество строк-дубликатов в данных. Если такие строки присутствуют, удалите их.**"
   ]
  },
  {
   "cell_type": "code",
   "execution_count": 15,
   "id": "116a27a0",
   "metadata": {
    "deletable": false,
    "id": "3ee445e4",
    "outputId": "9684deba-1934-42d1-99e1-cda61740f822"
   },
   "outputs": [
    {
     "data": {
      "text/plain": [
       "71"
      ]
     },
     "execution_count": 15,
     "metadata": {},
     "output_type": "execute_result"
    }
   ],
   "source": [
    "data.duplicated().sum()"
   ]
  },
  {
   "cell_type": "code",
   "execution_count": 16,
   "id": "a31f7954",
   "metadata": {
    "deletable": false,
    "id": "8575fe05"
   },
   "outputs": [],
   "source": [
    "data = data.drop_duplicates()"
   ]
  },
  {
   "cell_type": "markdown",
   "id": "67cbc92f",
   "metadata": {
    "deletable": false,
    "editable": false,
    "id": "9904cf55"
   },
   "source": [
    "### Категоризация данных"
   ]
  },
  {
   "cell_type": "markdown",
   "id": "544887b1",
   "metadata": {
    "deletable": false,
    "editable": false,
    "id": "72fcc8a2"
   },
   "source": [
    "**Задание 16. На основании диапазонов, указанных ниже, создайте в датафрейме `data` столбец `total_income_category` с категориями:**\n",
    "\n",
    "- 0–30000 — `'E'`;\n",
    "- 30001–50000 — `'D'`;\n",
    "- 50001–200000 — `'C'`;\n",
    "- 200001–1000000 — `'B'`;\n",
    "- 1000001 и выше — `'A'`.\n",
    "\n",
    "\n",
    "**Например, кредитополучателю с доходом 25000 нужно назначить категорию `'E'`, а клиенту, получающему 235000, — `'B'`. Используйте собственную функцию с именем `categorize_income()` и метод `apply()`.**"
   ]
  },
  {
   "cell_type": "code",
   "execution_count": 17,
   "id": "53cd331c",
   "metadata": {
    "deletable": false,
    "id": "e1771346"
   },
   "outputs": [],
   "source": [
    "def categorize_income(income):\n",
    "    try:\n",
    "        if 0 <= income <= 30000:\n",
    "            return 'E'\n",
    "        elif 30001 <= income <= 50000:\n",
    "            return 'D'\n",
    "        elif 50001 <= income <= 200000:\n",
    "            return 'C'\n",
    "        elif 200001 <= income <= 1000000:\n",
    "            return 'B'\n",
    "        elif income >= 1000001:\n",
    "            return 'A'\n",
    "    except:\n",
    "        pass"
   ]
  },
  {
   "cell_type": "code",
   "execution_count": 18,
   "id": "6cac856b",
   "metadata": {
    "deletable": false,
    "id": "d5f3586d"
   },
   "outputs": [],
   "source": [
    "data['total_income_category'] = data['total_income'].apply(categorize_income)"
   ]
  },
  {
   "cell_type": "markdown",
   "id": "210f33e7",
   "metadata": {
    "deletable": false,
    "editable": false,
    "id": "dde49b5c"
   },
   "source": [
    "**Задание 17. Выведите на экран перечень уникальных целей взятия кредита из столбца `purpose`.**"
   ]
  },
  {
   "cell_type": "code",
   "execution_count": 19,
   "id": "ecfadca5",
   "metadata": {
    "deletable": false,
    "id": "f67ce9b3",
    "outputId": "673c12d9-7d7e-4ae0-9812-c622c89dd244"
   },
   "outputs": [
    {
     "data": {
      "text/plain": [
       "array(['покупка жилья', 'приобретение автомобиля',\n",
       "       'дополнительное образование', 'сыграть свадьбу',\n",
       "       'операции с жильем', 'образование', 'на проведение свадьбы',\n",
       "       'покупка жилья для семьи', 'покупка недвижимости',\n",
       "       'покупка коммерческой недвижимости', 'покупка жилой недвижимости',\n",
       "       'строительство собственной недвижимости', 'недвижимость',\n",
       "       'строительство недвижимости', 'на покупку подержанного автомобиля',\n",
       "       'на покупку своего автомобиля',\n",
       "       'операции с коммерческой недвижимостью',\n",
       "       'строительство жилой недвижимости', 'жилье',\n",
       "       'операции со своей недвижимостью', 'автомобили',\n",
       "       'заняться образованием', 'сделка с подержанным автомобилем',\n",
       "       'получение образования', 'автомобиль', 'свадьба',\n",
       "       'получение дополнительного образования', 'покупка своего жилья',\n",
       "       'операции с недвижимостью', 'получение высшего образования',\n",
       "       'свой автомобиль', 'сделка с автомобилем',\n",
       "       'профильное образование', 'высшее образование',\n",
       "       'покупка жилья для сдачи', 'на покупку автомобиля', 'ремонт жилью',\n",
       "       'заняться высшим образованием'], dtype=object)"
      ]
     },
     "execution_count": 19,
     "metadata": {},
     "output_type": "execute_result"
    }
   ],
   "source": [
    "data['purpose'].unique()"
   ]
  },
  {
   "cell_type": "markdown",
   "id": "4649a085",
   "metadata": {
    "deletable": false,
    "editable": false,
    "id": "85d0aef0"
   },
   "source": [
    "**Задание 18. Создайте функцию, которая на основании данных из столбца `purpose` сформирует новый столбец `purpose_category`, в который войдут следующие категории:**\n",
    "\n",
    "- `'операции с автомобилем'`,\n",
    "- `'операции с недвижимостью'`,\n",
    "- `'проведение свадьбы'`,\n",
    "- `'получение образования'`.\n",
    "\n",
    "**Например, если в столбце `purpose` находится подстрока `'на покупку автомобиля'`, то в столбце `purpose_category` должна появиться строка `'операции с автомобилем'`.**\n",
    "\n",
    "**Используйте собственную функцию с именем `categorize_purpose()` и метод `apply()`. Изучите данные в столбце `purpose` и определите, какие подстроки помогут вам правильно определить категорию.**"
   ]
  },
  {
   "cell_type": "code",
   "execution_count": 20,
   "id": "4a99c511",
   "metadata": {
    "deletable": false,
    "id": "e149fab4"
   },
   "outputs": [],
   "source": [
    "def categorize_purpose(row):\n",
    "    try:\n",
    "        if 'автом' in row:\n",
    "            return 'операции с автомобилем'\n",
    "        elif 'жил' in row or 'недвиж' in row:\n",
    "            return 'операции с недвижимостью'\n",
    "        elif 'свад' in row:\n",
    "            return 'проведение свадьбы'\n",
    "        elif 'образов' in row:\n",
    "            return 'получение образования'\n",
    "    except:\n",
    "        return 'нет категории'"
   ]
  },
  {
   "cell_type": "code",
   "execution_count": 21,
   "id": "ab13c9b6",
   "metadata": {
    "deletable": false,
    "id": "bf36e69b"
   },
   "outputs": [],
   "source": [
    "data['purpose_category'] = data['purpose'].apply(categorize_purpose)"
   ]
  },
  {
   "cell_type": "markdown",
   "id": "270c37af",
   "metadata": {
    "deletable": false,
    "editable": false,
    "id": "09b242bf"
   },
   "source": [
    "### Шаг 3. Исследуйте данные и ответьте на вопросы"
   ]
  },
  {
   "cell_type": "markdown",
   "id": "7661e268",
   "metadata": {
    "deletable": false,
    "editable": false,
    "id": "c5d66278"
   },
   "source": [
    "#### 3.1 Есть ли зависимость между количеством детей и возвратом кредита в срок?"
   ]
  },
  {
   "cell_type": "code",
   "execution_count": 22,
   "id": "b7c6a5b7",
   "metadata": {},
   "outputs": [
    {
     "name": "stdout",
     "output_type": "stream",
     "text": [
      "   Кол-во детей  Всего заемщиков  Всего должников  Доля должников  \\\n",
      "0             0            14091             1063           7.54%   \n",
      "1             1             4808              444           9.23%   \n",
      "2             2             2052              194           9.45%   \n",
      "3             3              330               27           8.18%   \n",
      "4             4               41                4           9.76%   \n",
      "5             5                9                0           0.00%   \n",
      "\n",
      "   Доля от общего кол-ва  \n",
      "0                 66.06%  \n",
      "1                 22.54%  \n",
      "2                  9.62%  \n",
      "3                  1.55%  \n",
      "4                  0.19%  \n",
      "5                  0.04%  \n"
     ]
    }
   ],
   "source": [
    "pd.options.display.float_format = '{:,.2f}%'.format\n",
    "data_chil = data.pivot_table(index = ['children'], values = 'debt',  aggfunc = ['count', 'sum', 'mean'])\n",
    "data_chil = data_chil.reset_index()\n",
    "data_chil.columns = ['Кол-во детей', 'Всего заемщиков', 'Всего должников', 'Доля должников']\n",
    "data_chil['Доля должников'] = data_chil['Доля должников']*100\n",
    "data_chil['Доля от общего кол-ва'] = data_chil['Всего заемщиков'] / data_chil['Всего заемщиков'].sum() * 100\n",
    "print(data_chil)"
   ]
  },
  {
   "cell_type": "code",
   "execution_count": 23,
   "id": "30eba638",
   "metadata": {
    "deletable": false,
    "id": "2cacfc4a"
   },
   "outputs": [
    {
     "data": {
      "image/png": "[encoded data removed]",
      "text/plain": [
       "<Figure size 1152x288 with 1 Axes>"
      ]
     },
     "metadata": {},
     "output_type": "display_data"
    }
   ],
   "source": [
    "seaborn.set(rc={\"figure.figsize\":( 16 , 4 )})\n",
    "seaborn.barplot(x='Кол-во детей', y='Доля должников', data = data_chil).set(\n",
    "    title = 'Доля должников в зависимости от количества детей'\n",
    ");\n",
    "plt.xlabel('Количество детей', size= 16 , weight= 100);\n",
    "plt.ylabel('Доля должников', size= 16, weight= 100);\n",
    "plt.title('Доля должников в зависимости от количества детей', size= 16, weight= 100);"
   ]
  },
  {
   "cell_type": "markdown",
   "id": "d18761a4",
   "metadata": {},
   "source": [
    "<div class=\"alert-success\" style=\"padding: 20px; border-radius: 10px\">\n",
    "<b>Комментарий ревьюера ✔️</b>\n",
    "    \n",
    "Отлично, что испольуешь графики в этом проекте. Они делают представление результатов расчетов намного нагляднее и понятнее. Твоя способность визуализировать информацию показывает, что ты знаешь, как преподнести информацию так, чтобы она была легко понятна для других. 👌\n",
    "    \n",
    "</div>"
   ]
  },
  {
   "cell_type": "markdown",
   "id": "2aef5332",
   "metadata": {},
   "source": [
    "<div class=\"alert-warning\" style=\"padding: 20px; border-radius: 10px\">\n",
    "<b>Комментарий ревьюера ⚠️</b>\n",
    "\n",
    "Для того, чтобы график смотрелся аккуратнее стоит убрать надпись `<AxesSubplot:...>`, добавить название, подписать оси. Размер графика можно отрегулировать параметром `figsize`.</div>"
   ]
  },
  {
   "cell_type": "markdown",
   "id": "d0c3be13",
   "metadata": {},
   "source": [
    "<p>\n",
    "<div class=\"alert-info\" style=\"padding: 20px; border-radius: 10px\">\n",
    "<b>Комментарий студента 💎</b>\n",
    "\n",
    "Я смог изменить размер, нашел, как менять размер подписей с natplotlib, но не seaborn, увы. Буду рад подсказке\n",
    "Кроме этого, не получается убрать текст сверху, не понимаю, как это сделать, тут тоже буду рад помощи. </div>\n"
   ]
  },
  {
   "cell_type": "markdown",
   "id": "e668eeae",
   "metadata": {},
   "source": [
    "<div class=\"alert-success\" style=\"border-radius: 10px; padding: 10px\">\n",
    "<b>Комментарий ревьюера V2 ✔️</b>\n",
    "\n",
    "Существуют разные способы, я обычно добавляю все нужные элементы с помошью Matplotlib 👇</div>"
   ]
  },
  {
   "cell_type": "code",
   "execution_count": 24,
   "id": "18691aae",
   "metadata": {},
   "outputs": [
    {
     "data": {
      "image/png": "[encoded data removed]",
      "text/plain": [
       "<Figure size 1152x288 with 1 Axes>"
      ]
     },
     "metadata": {},
     "output_type": "display_data"
    }
   ],
   "source": [
    "seaborn.barplot(x='Кол-во детей', y='Доля от общего кол-ва', data = data_chil);\n",
    "plt.xlabel('Количество детей', size= 16 , weight= 100);\n",
    "plt.ylabel('Доля заемщиков', size= 16, weight= 100);\n",
    "plt.title('Доля заемщиков в зависимости от количества детей', size= 16, weight= 100);"
   ]
  },
  {
   "cell_type": "markdown",
   "id": "fed5f3e5",
   "metadata": {
    "deletable": false,
    "id": "3a6b99ec"
   },
   "source": [
    "**Вывод:**  \n",
    "На первый взгляд может показаться, что семьи с **5** детьми всегда погашают кредит в соответствии с договором. Однако необходимо учитывать, что в генеральной совокупности доля таких семей ничтожно мала: только <u>9 (0,04%)</u> заемщиков указали такое количество детей.  \n",
    "Предположим, что значимой является доля в 5% и выше. Тогда делать однозначные выводы о заемщиках с **3** и **4** детьми некорректно, так как их доли среди всех заемщиков составляют <u>1,55%</u> и <u>0,19%</u> соответственно.  \n",
    "Среди семей с **1** и **2** детьми доли кредитов, по которым возникала задолженность, примерно равны - <u>9,24%</u> и <u>9,45%</u> соответственно. \n",
    "В то же время среди заемщиков **без детей** задолженность возникала лишь в <u>7,54%</u> случаев.   \n",
    "Таким образом, исходя из имеющихся данных, можем сделать вывод, что заемщики без детей ***реже*** допускают нарушение кредитного договора в части сроков внесения платежа, чем заемщики с 1 и 2 детьми, доля нарушений договоров по которым примерно равна. Сделать однозначные достоверные выводы о заемщиках с 3, 4 и 5 детьми невозможно, так как отсутствует необходимое количество наблюдений.\n"
   ]
  },
  {
   "cell_type": "markdown",
   "id": "e1089351",
   "metadata": {
    "deletable": false,
    "editable": false,
    "id": "97be82ca"
   },
   "source": [
    "#### 3.2 Есть ли зависимость между семейным положением и возвратом кредита в срок?"
   ]
  },
  {
   "cell_type": "markdown",
   "id": "70454a37",
   "metadata": {
    "deletable": false,
    "id": "dc3f7ee8"
   },
   "source": []
  },
  {
   "cell_type": "code",
   "execution_count": 25,
   "id": "ede8396f",
   "metadata": {},
   "outputs": [
    {
     "name": "stdout",
     "output_type": "stream",
     "text": [
      "         Семейный статус  Всего заемщиков  Всего должников  Доля должников  \\\n",
      "0  Не женат / не замужем             2796              273           9.76%   \n",
      "1              в разводе             1189               84           7.06%   \n",
      "2         вдовец / вдова              951               63           6.62%   \n",
      "3       гражданский брак             4134              385           9.31%   \n",
      "4        женат / замужем            12261              927           7.56%   \n",
      "\n",
      "   Доля от общего кол-ва  \n",
      "0                 13.11%  \n",
      "1                  5.57%  \n",
      "2                  4.46%  \n",
      "3                 19.38%  \n",
      "4                 57.48%  \n"
     ]
    }
   ],
   "source": [
    "data_stat = data.pivot_table(index = ['family_status'], values = 'debt',  aggfunc = ['count', 'sum', 'mean'])\n",
    "data_stat = data_stat.reset_index()\n",
    "data_stat.columns = ['Семейный статус', 'Всего заемщиков', 'Всего должников', 'Доля должников']\n",
    "data_stat['Доля должников'] = data_stat['Доля должников']*100\n",
    "data_stat['Доля от общего кол-ва'] = data_stat['Всего заемщиков'] / data_stat['Всего заемщиков'].sum() * 100\n",
    "print(data_stat)"
   ]
  },
  {
   "cell_type": "code",
   "execution_count": 26,
   "id": "a64e8088",
   "metadata": {},
   "outputs": [
    {
     "data": {
      "image/png": "[encoded data removed]",
      "text/plain": [
       "<Figure size 1152x288 with 1 Axes>"
      ]
     },
     "metadata": {},
     "output_type": "display_data"
    }
   ],
   "source": [
    "seaborn.barplot(x='Доля должников', y='Семейный статус', data = data_stat);\n",
    "plt.xlabel('Доля должников', size= 16 , weight= 100);\n",
    "plt.ylabel('Семейный статус', size= 16, weight= 100);\n",
    "plt.title('Доля должников в зависимости от семейного статуса', size= 16, weight= 100);"
   ]
  },
  {
   "cell_type": "code",
   "execution_count": 27,
   "id": "a8b7d2bc",
   "metadata": {},
   "outputs": [
    {
     "data": {
      "image/png": "[encoded data removed]",
      "text/plain": [
       "<Figure size 1152x288 with 1 Axes>"
      ]
     },
     "metadata": {},
     "output_type": "display_data"
    }
   ],
   "source": [
    "seaborn.barplot(x='Доля от общего кол-ва', y='Семейный статус', data = data_stat);\n",
    "plt.xlabel('Доля заемщиков', size= 16 , weight= 100);\n",
    "plt.ylabel('Семейный статус', size= 16, weight= 100);\n",
    "plt.title('Доля заемщиков в зависимости от семейного статуса', size= 16, weight= 100);"
   ]
  },
  {
   "cell_type": "markdown",
   "id": "6af2f94c",
   "metadata": {
    "deletable": false,
    "id": "1cef7837"
   },
   "source": [
    "**Вывод:**  \n",
    "*Наименьшая* доля (<u>6,62%</u>) кредитов с задолженностью наблюдается среди заемщиков в статусе **\"вдовец/вдова\"**.  \n",
    "Заемщики **в разводе** допускали возникновение задолженности в <u>7,06%</u> случаев.  \n",
    "При этом доля таких заемщиков среди общего количества составляет 4,46% и 5,57%. Требуется дальнейший анализ, так как увеличение выборки может привести к существенному изменению результата. \n",
    "**Женатые/замужние** заемщики допускали нарушение кредитных договоров в <u>7,56%</u> случаев.  \n",
    "Худшие показатели у заемщиков, проживающих в **гражданском браке** (<u>9,31%</u>), а также **не замужних/не женатых** заемщиков (<u>9,76%</u>). \n"
   ]
  },
  {
   "cell_type": "markdown",
   "id": "db0329fd",
   "metadata": {
    "deletable": false,
    "editable": false,
    "id": "1e8b2fca"
   },
   "source": [
    "#### 3.3 Есть ли зависимость между уровнем дохода и возвратом кредита в срок?"
   ]
  },
  {
   "cell_type": "markdown",
   "id": "8318953f",
   "metadata": {
    "deletable": false,
    "id": "cd7e3720"
   },
   "source": []
  },
  {
   "cell_type": "code",
   "execution_count": 28,
   "id": "26f38e21",
   "metadata": {},
   "outputs": [
    {
     "name": "stdout",
     "output_type": "stream",
     "text": [
      "  Категория дохода  Всего заемщиков  Всего должников  Доля должников  \\\n",
      "0                A               25                2           8.00%   \n",
      "1                B             5014              354           7.06%   \n",
      "2                C            15921             1353           8.50%   \n",
      "3                D              349               21           6.02%   \n",
      "4                E               22                2           9.09%   \n",
      "\n",
      "   Доля от общего кол-ва  \n",
      "0                  0.12%  \n",
      "1                 23.51%  \n",
      "2                 74.64%  \n",
      "3                  1.64%  \n",
      "4                  0.10%  \n"
     ]
    }
   ],
   "source": [
    "data_inc = data.pivot_table(index = ['total_income_category'], values = 'debt',  aggfunc = ['count', 'sum', 'mean'])\n",
    "data_inc = data_inc.reset_index()\n",
    "data_inc.columns = ['Категория дохода', 'Всего заемщиков', 'Всего должников', 'Доля должников']\n",
    "data_inc['Доля должников'] = data_inc['Доля должников']*100\n",
    "data_inc['Доля от общего кол-ва'] = data_inc['Всего заемщиков'] / data_inc['Всего заемщиков'].sum() * 100\n",
    "print(data_inc)"
   ]
  },
  {
   "cell_type": "code",
   "execution_count": 29,
   "id": "d87750e3",
   "metadata": {},
   "outputs": [
    {
     "data": {
      "image/png": "[encoded data removed]",
      "text/plain": [
       "<Figure size 1152x288 with 1 Axes>"
      ]
     },
     "metadata": {},
     "output_type": "display_data"
    }
   ],
   "source": [
    "seaborn.barplot(x='Доля должников', y='Категория дохода', data = data_inc);\n",
    "plt.xlabel('Доля должников', size= 16 , weight= 100);\n",
    "plt.ylabel('Категория дохода', size= 16, weight= 100);\n",
    "plt.title('Доля должников в зависимости от категории дохода', size= 16, weight= 100);"
   ]
  },
  {
   "cell_type": "code",
   "execution_count": 30,
   "id": "02d89d8e",
   "metadata": {},
   "outputs": [
    {
     "data": {
      "image/png": "[encoded data removed]",
      "text/plain": [
       "<Figure size 1152x288 with 1 Axes>"
      ]
     },
     "metadata": {},
     "output_type": "display_data"
    }
   ],
   "source": [
    "seaborn.barplot(x='Доля от общего кол-ва', y='Категория дохода', data = data_inc);\n",
    "plt.xlabel('Доля от общего кол-ва', size= 16 , weight= 100);\n",
    "plt.ylabel('Категория дохода', size= 16, weight= 100);\n",
    "plt.title('Доля заемщиков в зависимости от категории дохода', size= 16, weight= 100);"
   ]
  },
  {
   "cell_type": "markdown",
   "id": "aa431f9f",
   "metadata": {
    "deletable": false,
    "id": "e8593def"
   },
   "source": [
    "**Вывод:**  \n",
    "Доля заемщиков, относящихся к категориям **A** (0,12%), **E** (0,10%) и **D** (1,64%), в генеральной совокупности является несущественной, выводы о наличии/отсутствии взаимосвязи между уровнем дохода и возвратом кредита в срок, а также о силе такой связи не будут обоснованы.  \n",
    "Большая часть заемщиков располагает доходом, позволяющим отнести их к категории **C** (74,64%). Доля кредитов, по которым у таких заемщиков возникает задолженность, составляет <u>8,50%</u>.  \n",
    "Заемщики, доходы которых относятся к категории **B** (23,50%), допускали нарушение договоров в <u>7,06%</u> наблюдений.  "
   ]
  },
  {
   "cell_type": "markdown",
   "id": "2ff9a76d",
   "metadata": {
    "deletable": false,
    "editable": false,
    "id": "99ecbd1f"
   },
   "source": [
    "#### 3.4 Как разные цели кредита влияют на его возврат в срок?"
   ]
  },
  {
   "cell_type": "markdown",
   "id": "7d2d0cca",
   "metadata": {
    "deletable": false,
    "id": "2b687290"
   },
   "source": []
  },
  {
   "cell_type": "code",
   "execution_count": 31,
   "id": "bdad71dc",
   "metadata": {},
   "outputs": [
    {
     "name": "stdout",
     "output_type": "stream",
     "text": [
      "               Цель кредита  Всего заемщиков  Всего должников  Доля должников  \\\n",
      "0    операции с автомобилем             4279              400           9.35%   \n",
      "1  операции с недвижимостью            10751              780           7.26%   \n",
      "2     получение образования             3988              369           9.25%   \n",
      "3        проведение свадьбы             2313              183           7.91%   \n",
      "\n",
      "   Доля от общего кол-ва  \n",
      "0                 20.06%  \n",
      "1                 50.40%  \n",
      "2                 18.70%  \n",
      "3                 10.84%  \n"
     ]
    }
   ],
   "source": [
    "data_purp = data.pivot_table(index = ['purpose_category'], values = 'debt',  aggfunc = ['count', 'sum', 'mean'])\n",
    "data_purp = data_purp.reset_index()\n",
    "data_purp.columns = ['Цель кредита', 'Всего заемщиков', 'Всего должников', 'Доля должников']\n",
    "data_purp['Доля должников'] = data_purp['Доля должников']*100\n",
    "data_purp['Доля от общего кол-ва'] = data_purp['Всего заемщиков'] / data_purp['Всего заемщиков'].sum() * 100\n",
    "print(data_purp)"
   ]
  },
  {
   "cell_type": "code",
   "execution_count": 32,
   "id": "4015919e",
   "metadata": {},
   "outputs": [
    {
     "data": {
      "image/png": "[encoded data removed]",
      "text/plain": [
       "<Figure size 1152x288 with 1 Axes>"
      ]
     },
     "metadata": {},
     "output_type": "display_data"
    }
   ],
   "source": [
    "seaborn.barplot(x='Доля должников', y='Цель кредита', data = data_purp);\n",
    "plt.xlabel('Доля должников', size= 16 , weight= 100);\n",
    "plt.ylabel('Цель кредита', size= 16, weight= 100);\n",
    "plt.title('Доля должников в зависимости от цели кредита', size= 16, weight= 100);"
   ]
  },
  {
   "cell_type": "code",
   "execution_count": 33,
   "id": "3dc62c25",
   "metadata": {},
   "outputs": [
    {
     "data": {
      "image/png": "[encoded data removed]",
      "text/plain": [
       "<Figure size 1152x288 with 1 Axes>"
      ]
     },
     "metadata": {},
     "output_type": "display_data"
    }
   ],
   "source": [
    "seaborn.barplot(x='Доля от общего кол-ва', y='Цель кредита', data = data_purp);\n",
    "plt.xlabel('Доля должников', size= 16 , weight= 100);\n",
    "plt.ylabel('Цель кредита', size= 16, weight= 100);\n",
    "plt.title('Доля завемщиков в зависимости от цели кредита', size= 16, weight= 100);"
   ]
  },
  {
   "cell_type": "markdown",
   "id": "73e745d2",
   "metadata": {
    "deletable": false,
    "id": "b4bb2ce6"
   },
   "source": [
    "**Вывод:**   \n",
    "Наименьшая доля нарушения срока внесения очередного платежа наблюдается по кредитам, взятым на **операции с недвижимостью**, и составляет <u>7,26%</u>. Немного чаще не возвращают кредит в срок заемщики, цель которых **проведение свадьбы** (в <u>7,91%</u> случаев).  \n",
    "Наибольшая доля нарушения сроков возврата кредита наблюдается в отношении займов на **операции с автомобилем** (<u>9,35%</u>) и **получение образования** (<u>9,25%</u>)."
   ]
  },
  {
   "cell_type": "markdown",
   "id": "852b2974",
   "metadata": {
    "deletable": false,
    "editable": false,
    "id": "09c3ac4c"
   },
   "source": [
    "#### 3.5 Приведите возможные причины появления пропусков в исходных данных."
   ]
  },
  {
   "cell_type": "markdown",
   "id": "a0306412",
   "metadata": {
    "deletable": false,
    "id": "9da2ceda"
   },
   "source": [
    "Как известно, пропуски могут быть:  \n",
    "- полностью случайные: если вероятность встретить пропуск не зависит ни от каких других значений.  \n",
    "- случайные: если вероятность пропуска зависит от других значений в наборе данных, но не от значений собственного столбца.   \n",
    "- неслучайные: если вероятность пропуска зависит от других значений, в том числе и от значений собственного столбца. \n",
    "\n",
    "Пропуски в исследуемых данных могут возникать по ряду причин:  \n",
    "- данные не являются обязательными для заполнения, поэтому не были получены на этапе сбора информации;\n",
    "- потенциальный заемщик/кредитный менеджер допустили ошибку при заполнении определенных полей;\n",
    "- потенциальный заемщик/кредитный менеджер умышленно утаили/исказили информацию, посчитав, что это не повлияет на шансы получения кредита/увеличит шансы одобрения кредита."
   ]
  },
  {
   "cell_type": "markdown",
   "id": "d3717256",
   "metadata": {
    "deletable": false,
    "editable": false,
    "id": "7b0487d6"
   },
   "source": [
    "#### 3.6 Объясните, почему заполнить пропуски медианным значением — лучшее решение для количественных переменных."
   ]
  },
  {
   "cell_type": "markdown",
   "id": "69704697",
   "metadata": {
    "deletable": false,
    "id": "7ecf2b8e"
   },
   "source": [
    "Среднее значение некорректно характеризует данные, когда некоторые значения сильно выделяются среди большинства. В таком случае медиана является значением, более точно характеризующим выборку, деля ее пополам - одна половина наблюдаемых значений больше медианы, а другая - меньше.   "
   ]
  },
  {
   "cell_type": "markdown",
   "id": "c9f754ed",
   "metadata": {
    "deletable": false,
    "editable": false,
    "id": "6db5255a"
   },
   "source": [
    "### Шаг 4: общий вывод."
   ]
  },
  {
   "cell_type": "markdown",
   "id": "b53e8d90",
   "metadata": {
    "deletable": false,
    "id": "bad65432"
   },
   "source": [
    "Безусловно, парная корреляция является важным показателем взаимосвязи между двумя наблюдаемыми рядами. При этом необходимо помнить, что наличие такой взаимосвязи не исключает возможности влияния других факторов.  \n",
    "На мой взгляд, для получения наиболее достоверной оценки вероятности нарушения срока возврата кредита необходимо:\n",
    "- применить скоринговую систему оценки потенциального заемщика: для каждого показателя необходимо ввести балльную шкалу, оценивать заемщика по сумме набранных баллов;\n",
    "- продолжить анализ поступающих данных для выявления новых взаимосвязей, а также подтверждения/опровержения выдвинутых гипотез. "
   ]
  },
  {
   "cell_type": "markdown",
   "id": "3407c93d",
   "metadata": {},
   "source": [
    "На первом этапе мы оценили данные, возможность их использования для анализа.  \n",
    "На втором этапе обработали аномальные значения и повторы, чтобы избежать искажения полученных результатов.  \n",
    "На третьем этапе проанализировали данные, чтобы выявить степень влияния различных факторов на возврат кредита в установленный срок.  \n",
    "Из имеющихся данных, можем сделать вывод, что заемщики без детей реже допускают нарушение кредитного договора в части сроков внесения платежа, чем заемщики с 1 и 2 детьми, доля нарушений договоров по которым примерно равна. Сделать однозначные достоверные выводы о заемщиках с 3, 4 и 5 детьми не удалось, так как отсутствует достаточное для этого количество данных.\n",
    "Наименьшая доля кредитов с задолженностью наблюдается среди заемщиков в статусе \"вдовец/вдова\", а также заемщики в разводе.\n",
    "При этом доля таких заемщиков среди общего количества достаточно мала; требуется дальнейший анализ, так как увеличение выборки может привести к существенному изменению результата. Женатые/замужние заемщики допускали нарушение кредитных договоров в 7,56% случаев.\n",
    "Худшие показатели у заемщиков, проживающих в гражданском браке, а также не замужних/не женатых заемщиков.\n",
    "Большая часть заемщиков располагает доходом, позволяющим отнести их к категории C (74,64%). Доля кредитов, по которым у таких заемщиков возникает задолженность, составляет 8,50%. Заемщики, доходы которых относятся к категории B, допускали нарушение договоров реже.\n",
    "Наименьшая доля нарушения срока внесения очередного платежа наблюдается по кредитам, взятым на операции с недвижимостью. Немного чаще не возвращают кредит в срок заемщики, цель которых проведение свадьбы.\n",
    "Наибольшая доля нарушения сроков возврата кредита наблюдается в отношении займов на операции с автомобилем и получение образования."
   ]
  }
 ],
 "metadata": {
  "ExecuteTimeLog": [
   {
    "duration": 564,
    "start_time": "2023-02-05T05:42:24.602Z"
   },
   {
    "duration": 46,
    "start_time": "2023-02-05T05:42:26.006Z"
   },
   {
    "duration": 15,
    "start_time": "2023-02-05T05:42:27.992Z"
   },
   {
    "duration": 10,
    "start_time": "2023-02-05T05:42:29.730Z"
   },
   {
    "duration": 53,
    "start_time": "2023-02-05T05:42:30.115Z"
   },
   {
    "duration": 4,
    "start_time": "2023-02-05T05:42:30.648Z"
   },
   {
    "duration": 9,
    "start_time": "2023-02-05T05:42:31.029Z"
   },
   {
    "duration": 5,
    "start_time": "2023-02-05T05:42:31.594Z"
   },
   {
    "duration": 8,
    "start_time": "2023-02-05T05:42:31.969Z"
   },
   {
    "duration": 4,
    "start_time": "2023-02-05T05:42:32.360Z"
   },
   {
    "duration": 43,
    "start_time": "2023-02-05T05:42:32.941Z"
   },
   {
    "duration": 15,
    "start_time": "2023-02-05T05:42:33.331Z"
   },
   {
    "duration": 4,
    "start_time": "2023-02-05T05:42:33.995Z"
   },
   {
    "duration": 11,
    "start_time": "2023-02-05T05:42:34.598Z"
   },
   {
    "duration": 29,
    "start_time": "2023-02-05T05:42:35.007Z"
   },
   {
    "duration": 29,
    "start_time": "2023-02-05T05:42:35.217Z"
   },
   {
    "duration": 4,
    "start_time": "2023-02-05T05:42:36.083Z"
   },
   {
    "duration": 15,
    "start_time": "2023-02-05T05:42:36.535Z"
   },
   {
    "duration": 7,
    "start_time": "2023-02-05T05:42:37.438Z"
   },
   {
    "duration": 4,
    "start_time": "2023-02-05T05:42:38.530Z"
   },
   {
    "duration": 11,
    "start_time": "2023-02-05T05:42:39.722Z"
   },
   {
    "duration": 722,
    "start_time": "2023-02-05T06:16:43.186Z"
   },
   {
    "duration": 9,
    "start_time": "2023-02-05T06:18:45.579Z"
   },
   {
    "duration": 21,
    "start_time": "2023-02-05T06:19:16.318Z"
   },
   {
    "duration": 6,
    "start_time": "2023-02-05T06:19:19.434Z"
   },
   {
    "duration": 13,
    "start_time": "2023-02-05T06:21:04.411Z"
   },
   {
    "duration": 15,
    "start_time": "2023-02-05T06:43:51.607Z"
   },
   {
    "duration": 60,
    "start_time": "2023-02-05T06:44:04.800Z"
   },
   {
    "duration": 7,
    "start_time": "2023-02-05T06:44:15.948Z"
   },
   {
    "duration": 7,
    "start_time": "2023-02-05T06:44:32.629Z"
   },
   {
    "duration": 23,
    "start_time": "2023-02-05T06:50:14.239Z"
   },
   {
    "duration": 44,
    "start_time": "2023-02-05T06:50:35.565Z"
   },
   {
    "duration": 17,
    "start_time": "2023-02-05T06:50:40.839Z"
   },
   {
    "duration": 34,
    "start_time": "2023-02-05T06:50:57.003Z"
   },
   {
    "duration": 16,
    "start_time": "2023-02-05T06:51:09.626Z"
   },
   {
    "duration": 23,
    "start_time": "2023-02-05T06:52:22.234Z"
   },
   {
    "duration": 544,
    "start_time": "2023-02-05T06:53:41.398Z"
   },
   {
    "duration": 19,
    "start_time": "2023-02-05T06:54:01.879Z"
   },
   {
    "duration": 45,
    "start_time": "2023-02-05T06:54:15.443Z"
   },
   {
    "duration": 13,
    "start_time": "2023-02-05T06:54:33.904Z"
   },
   {
    "duration": 17,
    "start_time": "2023-02-05T06:54:45.742Z"
   },
   {
    "duration": 21,
    "start_time": "2023-02-05T06:55:21.501Z"
   },
   {
    "duration": 24,
    "start_time": "2023-02-05T06:55:33.168Z"
   },
   {
    "duration": 3,
    "start_time": "2023-02-05T06:56:25.662Z"
   },
   {
    "duration": 10,
    "start_time": "2023-02-05T06:56:54.853Z"
   },
   {
    "duration": 21,
    "start_time": "2023-02-05T06:57:09.896Z"
   },
   {
    "duration": 47,
    "start_time": "2023-02-05T06:57:36.592Z"
   },
   {
    "duration": 16,
    "start_time": "2023-02-05T06:57:42.312Z"
   },
   {
    "duration": 24,
    "start_time": "2023-02-05T06:58:43.673Z"
   },
   {
    "duration": 17,
    "start_time": "2023-02-05T06:59:01.241Z"
   },
   {
    "duration": 16,
    "start_time": "2023-02-05T07:00:51.515Z"
   },
   {
    "duration": 11,
    "start_time": "2023-02-05T07:01:15.471Z"
   },
   {
    "duration": 16,
    "start_time": "2023-02-05T07:01:35.108Z"
   },
   {
    "duration": 11,
    "start_time": "2023-02-05T07:02:20.219Z"
   },
   {
    "duration": 17,
    "start_time": "2023-02-05T07:06:00.646Z"
   },
   {
    "duration": 54,
    "start_time": "2023-02-05T07:07:39.998Z"
   },
   {
    "duration": 17,
    "start_time": "2023-02-05T07:07:46.568Z"
   },
   {
    "duration": 15,
    "start_time": "2023-02-05T07:08:56.120Z"
   },
   {
    "duration": 18,
    "start_time": "2023-02-05T07:09:11.125Z"
   },
   {
    "duration": 16,
    "start_time": "2023-02-05T07:10:28.145Z"
   },
   {
    "duration": 15,
    "start_time": "2023-02-05T07:11:19.016Z"
   },
   {
    "duration": 18,
    "start_time": "2023-02-05T07:11:49.914Z"
   },
   {
    "duration": 25,
    "start_time": "2023-02-05T07:14:00.906Z"
   },
   {
    "duration": 21,
    "start_time": "2023-02-05T07:14:08.634Z"
   },
   {
    "duration": 19,
    "start_time": "2023-02-05T07:14:23.220Z"
   },
   {
    "duration": 18,
    "start_time": "2023-02-05T07:15:11.145Z"
   },
   {
    "duration": 19,
    "start_time": "2023-02-05T07:16:12.781Z"
   },
   {
    "duration": 20,
    "start_time": "2023-02-05T07:17:08.558Z"
   },
   {
    "duration": 20,
    "start_time": "2023-02-05T07:18:25.186Z"
   },
   {
    "duration": 49,
    "start_time": "2023-02-05T07:20:33.535Z"
   },
   {
    "duration": 54,
    "start_time": "2023-02-05T07:21:00.789Z"
   },
   {
    "duration": 22,
    "start_time": "2023-02-05T07:21:15.156Z"
   },
   {
    "duration": 23,
    "start_time": "2023-02-05T07:22:07.239Z"
   },
   {
    "duration": 1618,
    "start_time": "2023-02-05T08:06:59.633Z"
   },
   {
    "duration": 10,
    "start_time": "2023-02-05T08:09:53.498Z"
   },
   {
    "duration": 128,
    "start_time": "2023-02-05T08:10:03.581Z"
   },
   {
    "duration": 111,
    "start_time": "2023-02-05T08:10:20.706Z"
   },
   {
    "duration": 107,
    "start_time": "2023-02-05T08:11:20.971Z"
   },
   {
    "duration": 34,
    "start_time": "2023-02-05T09:15:50.474Z"
   },
   {
    "duration": 125,
    "start_time": "2023-02-05T09:16:25.647Z"
   },
   {
    "duration": 9,
    "start_time": "2023-02-05T09:16:49.568Z"
   },
   {
    "duration": 9,
    "start_time": "2023-02-05T09:17:00.861Z"
   },
   {
    "duration": 117,
    "start_time": "2023-02-05T09:17:09.040Z"
   },
   {
    "duration": 116,
    "start_time": "2023-02-05T09:17:16.863Z"
   },
   {
    "duration": 122,
    "start_time": "2023-02-05T09:18:01.837Z"
   },
   {
    "duration": 32,
    "start_time": "2023-02-05T09:23:32.770Z"
   },
   {
    "duration": 22,
    "start_time": "2023-02-05T09:25:04.325Z"
   },
   {
    "duration": 89,
    "start_time": "2023-02-05T09:25:24.799Z"
   },
   {
    "duration": 129,
    "start_time": "2023-02-05T09:29:29.600Z"
   },
   {
    "duration": 143,
    "start_time": "2023-02-05T09:29:33.033Z"
   },
   {
    "duration": 37,
    "start_time": "2023-02-05T09:30:04.486Z"
   },
   {
    "duration": 22,
    "start_time": "2023-02-05T09:30:40.268Z"
   },
   {
    "duration": 22,
    "start_time": "2023-02-05T09:30:59.732Z"
   },
   {
    "duration": 124,
    "start_time": "2023-02-05T09:31:04.550Z"
   },
   {
    "duration": 132,
    "start_time": "2023-02-05T09:31:06.249Z"
   },
   {
    "duration": 29,
    "start_time": "2023-02-05T09:31:10.503Z"
   },
   {
    "duration": 126,
    "start_time": "2023-02-05T09:31:12.178Z"
   },
   {
    "duration": 176,
    "start_time": "2023-02-05T09:31:13.968Z"
   },
   {
    "duration": 33,
    "start_time": "2023-02-05T09:31:19.695Z"
   },
   {
    "duration": 113,
    "start_time": "2023-02-05T09:31:50.095Z"
   },
   {
    "duration": 123,
    "start_time": "2023-02-05T09:32:19.804Z"
   },
   {
    "duration": 30,
    "start_time": "2023-02-05T09:35:22.701Z"
   },
   {
    "duration": 130,
    "start_time": "2023-02-05T09:36:08.060Z"
   },
   {
    "duration": 123,
    "start_time": "2023-02-05T09:36:19.907Z"
   },
   {
    "duration": 501,
    "start_time": "2023-02-06T13:30:14.087Z"
   },
   {
    "duration": 22,
    "start_time": "2023-02-06T13:30:14.590Z"
   },
   {
    "duration": 28,
    "start_time": "2023-02-06T13:30:14.613Z"
   },
   {
    "duration": 20,
    "start_time": "2023-02-06T13:30:14.643Z"
   },
   {
    "duration": 37,
    "start_time": "2023-02-06T13:30:14.665Z"
   },
   {
    "duration": 4,
    "start_time": "2023-02-06T13:30:14.704Z"
   },
   {
    "duration": 69,
    "start_time": "2023-02-06T13:30:14.710Z"
   },
   {
    "duration": 52,
    "start_time": "2023-02-06T13:30:14.781Z"
   },
   {
    "duration": 45,
    "start_time": "2023-02-06T13:30:14.835Z"
   },
   {
    "duration": 31,
    "start_time": "2023-02-06T13:30:14.884Z"
   },
   {
    "duration": 69,
    "start_time": "2023-02-06T13:30:14.917Z"
   },
   {
    "duration": 20,
    "start_time": "2023-02-06T13:30:14.988Z"
   },
   {
    "duration": 118,
    "start_time": "2023-02-06T13:30:15.009Z"
   },
   {
    "duration": 206,
    "start_time": "2023-02-06T13:30:15.129Z"
   },
   {
    "duration": 79,
    "start_time": "2023-02-06T13:30:15.337Z"
   },
   {
    "duration": 116,
    "start_time": "2023-02-06T13:30:15.418Z"
   },
   {
    "duration": 19,
    "start_time": "2023-02-06T13:30:15.536Z"
   },
   {
    "duration": 78,
    "start_time": "2023-02-06T13:30:15.557Z"
   },
   {
    "duration": 85,
    "start_time": "2023-02-06T13:30:15.636Z"
   },
   {
    "duration": 63,
    "start_time": "2023-02-06T13:30:15.723Z"
   },
   {
    "duration": 104,
    "start_time": "2023-02-06T13:30:15.788Z"
   },
   {
    "duration": 1116,
    "start_time": "2023-02-06T13:30:15.894Z"
   },
   {
    "duration": 0,
    "start_time": "2023-02-06T13:30:17.012Z"
   },
   {
    "duration": 0,
    "start_time": "2023-02-06T13:30:17.013Z"
   },
   {
    "duration": 0,
    "start_time": "2023-02-06T13:30:17.014Z"
   },
   {
    "duration": 0,
    "start_time": "2023-02-06T13:30:17.016Z"
   },
   {
    "duration": 0,
    "start_time": "2023-02-06T13:30:17.017Z"
   },
   {
    "duration": 0,
    "start_time": "2023-02-06T13:30:17.018Z"
   },
   {
    "duration": 0,
    "start_time": "2023-02-06T13:30:17.020Z"
   },
   {
    "duration": 0,
    "start_time": "2023-02-06T13:30:17.021Z"
   },
   {
    "duration": 0,
    "start_time": "2023-02-06T13:30:17.022Z"
   },
   {
    "duration": 0,
    "start_time": "2023-02-06T13:30:17.024Z"
   },
   {
    "duration": 39,
    "start_time": "2023-02-06T13:34:10.383Z"
   },
   {
    "duration": 24,
    "start_time": "2023-02-06T13:35:33.582Z"
   },
   {
    "duration": 24,
    "start_time": "2023-02-06T13:36:02.280Z"
   },
   {
    "duration": 22,
    "start_time": "2023-02-06T13:45:49.450Z"
   },
   {
    "duration": 23,
    "start_time": "2023-02-06T13:46:14.108Z"
   },
   {
    "duration": 669,
    "start_time": "2023-02-06T13:47:02.900Z"
   },
   {
    "duration": 134,
    "start_time": "2023-02-06T13:47:15.144Z"
   },
   {
    "duration": 120,
    "start_time": "2023-02-06T13:47:30.315Z"
   },
   {
    "duration": 107,
    "start_time": "2023-02-06T13:48:06.613Z"
   },
   {
    "duration": 49,
    "start_time": "2023-02-06T14:49:35.470Z"
   },
   {
    "duration": 500,
    "start_time": "2023-02-06T14:49:45.498Z"
   },
   {
    "duration": 23,
    "start_time": "2023-02-06T14:49:46.000Z"
   },
   {
    "duration": 16,
    "start_time": "2023-02-06T14:49:46.179Z"
   },
   {
    "duration": 10,
    "start_time": "2023-02-06T14:49:46.874Z"
   },
   {
    "duration": 34,
    "start_time": "2023-02-06T14:49:47.229Z"
   },
   {
    "duration": 4,
    "start_time": "2023-02-06T14:49:47.775Z"
   },
   {
    "duration": 8,
    "start_time": "2023-02-06T14:49:48.151Z"
   },
   {
    "duration": 5,
    "start_time": "2023-02-06T14:49:48.744Z"
   },
   {
    "duration": 7,
    "start_time": "2023-02-06T14:49:49.162Z"
   },
   {
    "duration": 5,
    "start_time": "2023-02-06T14:49:49.540Z"
   },
   {
    "duration": 33,
    "start_time": "2023-02-06T14:49:50.298Z"
   },
   {
    "duration": 10,
    "start_time": "2023-02-06T14:49:51.377Z"
   },
   {
    "duration": 4,
    "start_time": "2023-02-06T14:49:58.945Z"
   },
   {
    "duration": 11,
    "start_time": "2023-02-06T14:50:00.443Z"
   },
   {
    "duration": 25,
    "start_time": "2023-02-06T14:50:01.473Z"
   },
   {
    "duration": 18,
    "start_time": "2023-02-06T14:50:02.441Z"
   },
   {
    "duration": 4,
    "start_time": "2023-02-06T14:50:04.273Z"
   },
   {
    "duration": 9,
    "start_time": "2023-02-06T14:50:05.111Z"
   },
   {
    "duration": 6,
    "start_time": "2023-02-06T14:50:08.678Z"
   },
   {
    "duration": 4,
    "start_time": "2023-02-06T14:50:10.173Z"
   },
   {
    "duration": 9,
    "start_time": "2023-02-06T14:50:10.690Z"
   },
   {
    "duration": 26,
    "start_time": "2023-02-06T14:50:13.146Z"
   },
   {
    "duration": 996,
    "start_time": "2023-02-06T14:50:14.783Z"
   },
   {
    "duration": 795,
    "start_time": "2023-02-06T14:50:15.781Z"
   },
   {
    "duration": 114,
    "start_time": "2023-02-06T14:50:39.369Z"
   },
   {
    "duration": 29,
    "start_time": "2023-02-06T14:50:43.489Z"
   },
   {
    "duration": 25,
    "start_time": "2023-02-06T14:51:39.077Z"
   },
   {
    "duration": 121,
    "start_time": "2023-02-06T14:54:16.676Z"
   },
   {
    "duration": 121,
    "start_time": "2023-02-06T14:54:18.748Z"
   },
   {
    "duration": 22,
    "start_time": "2023-02-06T15:13:12.138Z"
   },
   {
    "duration": 24,
    "start_time": "2023-02-06T15:14:38.950Z"
   },
   {
    "duration": 104,
    "start_time": "2023-02-06T15:14:44.250Z"
   },
   {
    "duration": 134,
    "start_time": "2023-02-06T15:14:47.410Z"
   },
   {
    "duration": 110,
    "start_time": "2023-02-06T15:16:47.744Z"
   },
   {
    "duration": 24,
    "start_time": "2023-02-06T15:34:50.407Z"
   },
   {
    "duration": 83,
    "start_time": "2023-02-06T15:35:37.955Z"
   },
   {
    "duration": 106,
    "start_time": "2023-02-06T15:36:07.154Z"
   },
   {
    "duration": 107,
    "start_time": "2023-02-06T15:36:08.167Z"
   },
   {
    "duration": 470,
    "start_time": "2023-02-07T07:36:38.489Z"
   },
   {
    "duration": 26,
    "start_time": "2023-02-07T07:36:38.961Z"
   },
   {
    "duration": 15,
    "start_time": "2023-02-07T07:36:38.988Z"
   },
   {
    "duration": 10,
    "start_time": "2023-02-07T07:36:39.005Z"
   },
   {
    "duration": 33,
    "start_time": "2023-02-07T07:36:39.017Z"
   },
   {
    "duration": 4,
    "start_time": "2023-02-07T07:36:39.052Z"
   },
   {
    "duration": 39,
    "start_time": "2023-02-07T07:36:39.058Z"
   },
   {
    "duration": 5,
    "start_time": "2023-02-07T07:36:39.099Z"
   },
   {
    "duration": 10,
    "start_time": "2023-02-07T07:36:39.105Z"
   },
   {
    "duration": 12,
    "start_time": "2023-02-07T07:36:39.118Z"
   },
   {
    "duration": 39,
    "start_time": "2023-02-07T07:36:39.131Z"
   },
   {
    "duration": 25,
    "start_time": "2023-02-07T07:36:39.172Z"
   },
   {
    "duration": 5,
    "start_time": "2023-02-07T07:36:39.200Z"
   },
   {
    "duration": 13,
    "start_time": "2023-02-07T07:36:39.207Z"
   },
   {
    "duration": 25,
    "start_time": "2023-02-07T07:36:39.222Z"
   },
   {
    "duration": 45,
    "start_time": "2023-02-07T07:36:39.248Z"
   },
   {
    "duration": 5,
    "start_time": "2023-02-07T07:36:39.295Z"
   },
   {
    "duration": 19,
    "start_time": "2023-02-07T07:36:39.301Z"
   },
   {
    "duration": 9,
    "start_time": "2023-02-07T07:36:39.322Z"
   },
   {
    "duration": 4,
    "start_time": "2023-02-07T07:36:39.333Z"
   },
   {
    "duration": 14,
    "start_time": "2023-02-07T07:36:39.338Z"
   },
   {
    "duration": 46,
    "start_time": "2023-02-07T07:36:39.353Z"
   },
   {
    "duration": 860,
    "start_time": "2023-02-07T07:36:39.401Z"
   },
   {
    "duration": 150,
    "start_time": "2023-02-07T07:36:40.263Z"
   },
   {
    "duration": 29,
    "start_time": "2023-02-07T07:36:40.416Z"
   },
   {
    "duration": 151,
    "start_time": "2023-02-07T07:36:40.447Z"
   },
   {
    "duration": 147,
    "start_time": "2023-02-07T07:36:40.599Z"
   },
   {
    "duration": 24,
    "start_time": "2023-02-07T07:36:40.750Z"
   },
   {
    "duration": 131,
    "start_time": "2023-02-07T07:36:40.775Z"
   },
   {
    "duration": 128,
    "start_time": "2023-02-07T07:36:40.908Z"
   },
   {
    "duration": 25,
    "start_time": "2023-02-07T07:36:41.038Z"
   },
   {
    "duration": 131,
    "start_time": "2023-02-07T07:36:41.065Z"
   },
   {
    "duration": 139,
    "start_time": "2023-02-07T07:36:41.198Z"
   },
   {
    "duration": 4,
    "start_time": "2023-02-07T07:41:24.067Z"
   },
   {
    "duration": 52,
    "start_time": "2023-02-07T14:27:29.802Z"
   },
   {
    "duration": 571,
    "start_time": "2023-02-07T14:27:39.286Z"
   },
   {
    "duration": 26,
    "start_time": "2023-02-07T14:27:39.859Z"
   },
   {
    "duration": 17,
    "start_time": "2023-02-07T14:27:40.005Z"
   },
   {
    "duration": 11,
    "start_time": "2023-02-07T14:27:40.936Z"
   },
   {
    "duration": 38,
    "start_time": "2023-02-07T14:27:41.313Z"
   },
   {
    "duration": 3,
    "start_time": "2023-02-07T14:27:41.873Z"
   },
   {
    "duration": 7,
    "start_time": "2023-02-07T14:27:42.256Z"
   },
   {
    "duration": 5,
    "start_time": "2023-02-07T14:27:42.811Z"
   },
   {
    "duration": 8,
    "start_time": "2023-02-07T14:27:43.189Z"
   },
   {
    "duration": 5,
    "start_time": "2023-02-07T14:27:43.585Z"
   },
   {
    "duration": 34,
    "start_time": "2023-02-07T14:27:44.178Z"
   },
   {
    "duration": 10,
    "start_time": "2023-02-07T14:27:44.567Z"
   },
   {
    "duration": 4,
    "start_time": "2023-02-07T14:27:45.528Z"
   },
   {
    "duration": 13,
    "start_time": "2023-02-07T14:27:46.195Z"
   },
   {
    "duration": 20,
    "start_time": "2023-02-07T14:27:46.620Z"
   },
   {
    "duration": 18,
    "start_time": "2023-02-07T14:27:46.819Z"
   },
   {
    "duration": 5,
    "start_time": "2023-02-07T14:27:47.491Z"
   },
   {
    "duration": 11,
    "start_time": "2023-02-07T14:27:47.702Z"
   },
   {
    "duration": 6,
    "start_time": "2023-02-07T14:27:48.150Z"
   },
   {
    "duration": 3,
    "start_time": "2023-02-07T14:27:49.132Z"
   },
   {
    "duration": 9,
    "start_time": "2023-02-07T14:27:49.380Z"
   },
   {
    "duration": 30,
    "start_time": "2023-02-07T14:27:51.793Z"
   },
   {
    "duration": 1060,
    "start_time": "2023-02-07T14:27:53.283Z"
   },
   {
    "duration": 134,
    "start_time": "2023-02-07T14:27:59.357Z"
   },
   {
    "duration": 195,
    "start_time": "2023-02-07T14:33:13.561Z"
   },
   {
    "duration": 137,
    "start_time": "2023-02-07T14:34:54.818Z"
   },
   {
    "duration": 150,
    "start_time": "2023-02-07T14:35:04.075Z"
   },
   {
    "duration": 143,
    "start_time": "2023-02-07T14:35:20.762Z"
   },
   {
    "duration": 142,
    "start_time": "2023-02-07T14:35:30.211Z"
   },
   {
    "duration": 251,
    "start_time": "2023-02-07T14:37:48.027Z"
   },
   {
    "duration": 136,
    "start_time": "2023-02-07T14:37:58.278Z"
   },
   {
    "duration": 138,
    "start_time": "2023-02-07T14:39:16.150Z"
   },
   {
    "duration": 137,
    "start_time": "2023-02-07T14:39:32.831Z"
   },
   {
    "duration": 532,
    "start_time": "2023-02-08T14:53:19.495Z"
   },
   {
    "duration": 33,
    "start_time": "2023-02-08T14:53:20.029Z"
   },
   {
    "duration": 17,
    "start_time": "2023-02-08T14:53:20.218Z"
   },
   {
    "duration": 19,
    "start_time": "2023-02-08T14:53:21.334Z"
   },
   {
    "duration": 37,
    "start_time": "2023-02-08T14:53:21.680Z"
   },
   {
    "duration": 4,
    "start_time": "2023-02-08T14:53:22.252Z"
   },
   {
    "duration": 9,
    "start_time": "2023-02-08T14:53:22.653Z"
   },
   {
    "duration": 5,
    "start_time": "2023-02-08T14:53:23.253Z"
   },
   {
    "duration": 18,
    "start_time": "2023-02-08T14:53:23.634Z"
   },
   {
    "duration": 6,
    "start_time": "2023-02-08T14:53:24.026Z"
   },
   {
    "duration": 45,
    "start_time": "2023-02-08T14:53:24.630Z"
   },
   {
    "duration": 13,
    "start_time": "2023-02-08T14:53:25.053Z"
   },
   {
    "duration": 4,
    "start_time": "2023-02-08T14:53:25.681Z"
   },
   {
    "duration": 21,
    "start_time": "2023-02-08T14:53:26.434Z"
   },
   {
    "duration": 22,
    "start_time": "2023-02-08T14:53:26.816Z"
   },
   {
    "duration": 29,
    "start_time": "2023-02-08T14:53:27.023Z"
   },
   {
    "duration": 5,
    "start_time": "2023-02-08T14:53:27.749Z"
   },
   {
    "duration": 11,
    "start_time": "2023-02-08T14:53:27.974Z"
   },
   {
    "duration": 5,
    "start_time": "2023-02-08T14:53:29.675Z"
   },
   {
    "duration": 3,
    "start_time": "2023-02-08T14:53:31.172Z"
   },
   {
    "duration": 9,
    "start_time": "2023-02-08T14:53:31.654Z"
   },
   {
    "duration": 77,
    "start_time": "2023-02-08T15:05:44.772Z"
   },
   {
    "duration": 18,
    "start_time": "2023-02-08T15:06:03.197Z"
   },
   {
    "duration": 15,
    "start_time": "2023-02-08T15:06:08.682Z"
   },
   {
    "duration": 75,
    "start_time": "2023-02-08T15:06:45.560Z"
   },
   {
    "duration": 16,
    "start_time": "2023-02-08T15:07:04.802Z"
   },
   {
    "duration": 13,
    "start_time": "2023-02-08T15:09:32.240Z"
   },
   {
    "duration": 14,
    "start_time": "2023-02-08T15:10:00.259Z"
   },
   {
    "duration": 19,
    "start_time": "2023-02-08T15:10:21.627Z"
   },
   {
    "duration": 26,
    "start_time": "2023-02-08T15:11:05.418Z"
   },
   {
    "duration": 47,
    "start_time": "2023-02-08T15:11:40.830Z"
   },
   {
    "duration": 19,
    "start_time": "2023-02-08T15:11:47.148Z"
   },
   {
    "duration": 25,
    "start_time": "2023-02-08T15:11:58.118Z"
   },
   {
    "duration": 26,
    "start_time": "2023-02-08T15:19:47.547Z"
   },
   {
    "duration": 24,
    "start_time": "2023-02-08T15:20:05.528Z"
   },
   {
    "duration": 40,
    "start_time": "2023-02-08T15:20:23.969Z"
   },
   {
    "duration": 41,
    "start_time": "2023-02-08T15:20:38.124Z"
   },
   {
    "duration": 27,
    "start_time": "2023-02-08T15:21:28.604Z"
   },
   {
    "duration": 26,
    "start_time": "2023-02-08T15:21:34.890Z"
   },
   {
    "duration": 25,
    "start_time": "2023-02-08T15:21:54.975Z"
   },
   {
    "duration": 26,
    "start_time": "2023-02-08T15:22:04.853Z"
   },
   {
    "duration": 735,
    "start_time": "2023-02-08T15:23:55.458Z"
   },
   {
    "duration": 775,
    "start_time": "2023-02-08T15:24:19.219Z"
   },
   {
    "duration": 26,
    "start_time": "2023-02-08T15:24:25.175Z"
   },
   {
    "duration": 25,
    "start_time": "2023-02-08T15:24:50.718Z"
   },
   {
    "duration": 27,
    "start_time": "2023-02-08T15:25:33.927Z"
   },
   {
    "duration": 23,
    "start_time": "2023-02-08T15:27:23.833Z"
   },
   {
    "duration": 35,
    "start_time": "2023-02-08T15:27:52.733Z"
   },
   {
    "duration": 35,
    "start_time": "2023-02-08T15:28:10.927Z"
   },
   {
    "duration": 24,
    "start_time": "2023-02-08T15:28:19.885Z"
   },
   {
    "duration": 26,
    "start_time": "2023-02-08T15:31:05.484Z"
   },
   {
    "duration": 38,
    "start_time": "2023-02-08T15:38:06.516Z"
   },
   {
    "duration": 24,
    "start_time": "2023-02-08T15:41:23.364Z"
   },
   {
    "duration": 25,
    "start_time": "2023-02-08T15:42:00.712Z"
   },
   {
    "duration": 25,
    "start_time": "2023-02-08T15:42:40.980Z"
   },
   {
    "duration": 27,
    "start_time": "2023-02-08T15:43:54.429Z"
   },
   {
    "duration": 804,
    "start_time": "2023-02-08T15:44:07.512Z"
   },
   {
    "duration": 961,
    "start_time": "2023-02-08T15:44:18.194Z"
   },
   {
    "duration": 27,
    "start_time": "2023-02-08T15:44:24.662Z"
   },
   {
    "duration": 30,
    "start_time": "2023-02-08T15:44:34.836Z"
   },
   {
    "duration": 34,
    "start_time": "2023-02-08T15:45:24.856Z"
   },
   {
    "duration": 24,
    "start_time": "2023-02-08T15:45:42.155Z"
   },
   {
    "duration": 2,
    "start_time": "2023-02-08T15:50:17.032Z"
   },
   {
    "duration": 588,
    "start_time": "2023-02-09T14:20:14.860Z"
   },
   {
    "duration": 25,
    "start_time": "2023-02-09T14:20:15.452Z"
   },
   {
    "duration": 16,
    "start_time": "2023-02-09T14:20:15.597Z"
   },
   {
    "duration": 9,
    "start_time": "2023-02-09T14:20:16.775Z"
   },
   {
    "duration": 32,
    "start_time": "2023-02-09T14:20:17.171Z"
   },
   {
    "duration": 4,
    "start_time": "2023-02-09T14:20:17.842Z"
   },
   {
    "duration": 10,
    "start_time": "2023-02-09T14:20:18.254Z"
   },
   {
    "duration": 4,
    "start_time": "2023-02-09T14:20:18.827Z"
   },
   {
    "duration": 6,
    "start_time": "2023-02-09T14:20:19.230Z"
   },
   {
    "duration": 4,
    "start_time": "2023-02-09T14:20:19.616Z"
   },
   {
    "duration": 31,
    "start_time": "2023-02-09T14:20:20.205Z"
   },
   {
    "duration": 9,
    "start_time": "2023-02-09T14:20:20.956Z"
   },
   {
    "duration": 4,
    "start_time": "2023-02-09T14:20:21.889Z"
   },
   {
    "duration": 15,
    "start_time": "2023-02-09T14:20:22.481Z"
   },
   {
    "duration": 20,
    "start_time": "2023-02-09T14:20:22.922Z"
   },
   {
    "duration": 20,
    "start_time": "2023-02-09T14:20:23.151Z"
   },
   {
    "duration": 3,
    "start_time": "2023-02-09T14:20:24.194Z"
   },
   {
    "duration": 13,
    "start_time": "2023-02-09T14:20:24.651Z"
   },
   {
    "duration": 9,
    "start_time": "2023-02-09T14:20:25.854Z"
   },
   {
    "duration": 4,
    "start_time": "2023-02-09T14:20:26.900Z"
   },
   {
    "duration": 8,
    "start_time": "2023-02-09T14:20:27.310Z"
   },
   {
    "duration": 28,
    "start_time": "2023-02-09T14:20:29.412Z"
   },
   {
    "duration": 25,
    "start_time": "2023-02-09T14:22:16.324Z"
   },
   {
    "duration": 25,
    "start_time": "2023-02-09T14:22:26.862Z"
   },
   {
    "duration": 1644,
    "start_time": "2023-02-09T14:23:31.085Z"
   },
   {
    "duration": 122,
    "start_time": "2023-02-09T14:23:45.750Z"
   },
   {
    "duration": 113,
    "start_time": "2023-02-09T14:24:17.479Z"
   },
   {
    "duration": 109,
    "start_time": "2023-02-09T14:24:36.085Z"
   },
   {
    "duration": 113,
    "start_time": "2023-02-09T14:24:52.707Z"
   },
   {
    "duration": 107,
    "start_time": "2023-02-09T14:25:08.398Z"
   },
   {
    "duration": 118,
    "start_time": "2023-02-09T14:27:05.005Z"
   },
   {
    "duration": 109,
    "start_time": "2023-02-09T14:27:12.932Z"
   },
   {
    "duration": 167,
    "start_time": "2023-02-09T14:27:16.490Z"
   },
   {
    "duration": 108,
    "start_time": "2023-02-09T14:27:58.153Z"
   },
   {
    "duration": 126,
    "start_time": "2023-02-09T14:28:47.307Z"
   },
   {
    "duration": 142,
    "start_time": "2023-02-09T14:42:45.950Z"
   },
   {
    "duration": 119,
    "start_time": "2023-02-09T14:42:57.891Z"
   },
   {
    "duration": 119,
    "start_time": "2023-02-09T14:45:21.402Z"
   },
   {
    "duration": 125,
    "start_time": "2023-02-09T14:45:37.930Z"
   },
   {
    "duration": 118,
    "start_time": "2023-02-09T14:47:12.110Z"
   },
   {
    "duration": 17,
    "start_time": "2023-02-09T14:47:19.811Z"
   },
   {
    "duration": 14,
    "start_time": "2023-02-09T14:47:28.881Z"
   },
   {
    "duration": 193,
    "start_time": "2023-02-09T14:47:34.347Z"
   },
   {
    "duration": 132,
    "start_time": "2023-02-09T14:47:39.708Z"
   },
   {
    "duration": 130,
    "start_time": "2023-02-09T14:48:58.554Z"
   },
   {
    "duration": 433,
    "start_time": "2023-02-09T14:52:12.887Z"
   },
   {
    "duration": 155,
    "start_time": "2023-02-09T14:52:20.406Z"
   },
   {
    "duration": 110,
    "start_time": "2023-02-09T14:52:28.987Z"
   },
   {
    "duration": 120,
    "start_time": "2023-02-09T14:56:09.631Z"
   },
   {
    "duration": 57,
    "start_time": "2023-02-09T14:57:10.527Z"
   },
   {
    "duration": 112,
    "start_time": "2023-02-09T14:57:17.227Z"
   },
   {
    "duration": 153,
    "start_time": "2023-02-09T14:57:29.720Z"
   },
   {
    "duration": 148,
    "start_time": "2023-02-09T14:57:35.604Z"
   },
   {
    "duration": 109,
    "start_time": "2023-02-09T14:57:50.447Z"
   },
   {
    "duration": 149,
    "start_time": "2023-02-09T14:58:35.902Z"
   },
   {
    "duration": 132,
    "start_time": "2023-02-09T14:59:52.179Z"
   },
   {
    "duration": 125,
    "start_time": "2023-02-09T15:00:11.857Z"
   },
   {
    "duration": 123,
    "start_time": "2023-02-09T15:00:18.656Z"
   },
   {
    "duration": 109,
    "start_time": "2023-02-09T15:01:40.463Z"
   },
   {
    "duration": 225,
    "start_time": "2023-02-09T15:01:56.906Z"
   },
   {
    "duration": 138,
    "start_time": "2023-02-09T15:02:10.878Z"
   },
   {
    "duration": 143,
    "start_time": "2023-02-09T15:02:29.513Z"
   },
   {
    "duration": 128,
    "start_time": "2023-02-09T15:02:35.082Z"
   },
   {
    "duration": 18,
    "start_time": "2023-02-09T15:07:12.113Z"
   },
   {
    "duration": 15,
    "start_time": "2023-02-09T15:07:52.196Z"
   },
   {
    "duration": 15,
    "start_time": "2023-02-09T15:08:10.888Z"
   },
   {
    "duration": 14,
    "start_time": "2023-02-09T15:09:00.980Z"
   },
   {
    "duration": 143,
    "start_time": "2023-02-09T15:09:08.778Z"
   },
   {
    "duration": 154,
    "start_time": "2023-02-09T15:09:15.290Z"
   },
   {
    "duration": 159,
    "start_time": "2023-02-09T15:09:22.581Z"
   },
   {
    "duration": 150,
    "start_time": "2023-02-09T15:09:27.363Z"
   },
   {
    "duration": 160,
    "start_time": "2023-02-09T15:09:31.477Z"
   },
   {
    "duration": 161,
    "start_time": "2023-02-09T15:10:33.485Z"
   },
   {
    "duration": 160,
    "start_time": "2023-02-09T15:11:38.452Z"
   },
   {
    "duration": 157,
    "start_time": "2023-02-09T15:11:55.293Z"
   },
   {
    "duration": 185,
    "start_time": "2023-02-09T15:12:22.634Z"
   },
   {
    "duration": 169,
    "start_time": "2023-02-09T15:12:58.496Z"
   },
   {
    "duration": 277,
    "start_time": "2023-02-09T15:13:08.016Z"
   },
   {
    "duration": 168,
    "start_time": "2023-02-09T15:16:09.227Z"
   },
   {
    "duration": 174,
    "start_time": "2023-02-09T15:16:16.887Z"
   },
   {
    "duration": 176,
    "start_time": "2023-02-09T15:16:27.893Z"
   },
   {
    "duration": 155,
    "start_time": "2023-02-09T15:16:35.349Z"
   },
   {
    "duration": 154,
    "start_time": "2023-02-09T15:17:13.159Z"
   },
   {
    "duration": 160,
    "start_time": "2023-02-09T15:17:41.438Z"
   },
   {
    "duration": 155,
    "start_time": "2023-02-09T15:17:57.947Z"
   },
   {
    "duration": 182,
    "start_time": "2023-02-09T15:18:07.326Z"
   },
   {
    "duration": 165,
    "start_time": "2023-02-09T15:25:43.417Z"
   },
   {
    "duration": 161,
    "start_time": "2023-02-09T15:25:56.314Z"
   },
   {
    "duration": 159,
    "start_time": "2023-02-09T15:26:56.051Z"
   },
   {
    "duration": 160,
    "start_time": "2023-02-09T15:27:35.743Z"
   },
   {
    "duration": 144,
    "start_time": "2023-02-09T15:28:16.821Z"
   },
   {
    "duration": 176,
    "start_time": "2023-02-09T15:28:34.936Z"
   },
   {
    "duration": 2,
    "start_time": "2023-02-09T15:34:44.531Z"
   },
   {
    "duration": 2,
    "start_time": "2023-02-09T15:34:57.650Z"
   },
   {
    "duration": 18,
    "start_time": "2023-02-09T15:34:57.654Z"
   },
   {
    "duration": 0,
    "start_time": "2023-02-09T15:34:57.673Z"
   },
   {
    "duration": 133,
    "start_time": "2023-02-09T15:34:57.715Z"
   },
   {
    "duration": 142,
    "start_time": "2023-02-09T15:34:57.850Z"
   },
   {
    "duration": 169,
    "start_time": "2023-02-09T15:34:57.993Z"
   },
   {
    "duration": 22,
    "start_time": "2023-02-09T15:34:58.163Z"
   },
   {
    "duration": 160,
    "start_time": "2023-02-09T15:34:58.187Z"
   },
   {
    "duration": 158,
    "start_time": "2023-02-09T15:34:58.349Z"
   },
   {
    "duration": 173,
    "start_time": "2023-02-09T15:35:32.578Z"
   },
   {
    "duration": 149,
    "start_time": "2023-02-09T15:35:41.548Z"
   },
   {
    "duration": 152,
    "start_time": "2023-02-09T15:35:44.687Z"
   },
   {
    "duration": 27,
    "start_time": "2023-02-09T15:39:33.641Z"
   },
   {
    "duration": 27,
    "start_time": "2023-02-09T15:39:53.708Z"
   },
   {
    "duration": 699,
    "start_time": "2023-02-09T15:41:45.653Z"
   },
   {
    "duration": 16,
    "start_time": "2023-02-09T15:42:02.906Z"
   },
   {
    "duration": 175,
    "start_time": "2023-02-09T15:42:17.418Z"
   },
   {
    "duration": 166,
    "start_time": "2023-02-09T15:42:40.673Z"
   },
   {
    "duration": 184,
    "start_time": "2023-02-09T15:44:23.568Z"
   },
   {
    "duration": 175,
    "start_time": "2023-02-09T15:44:32.800Z"
   },
   {
    "duration": 526,
    "start_time": "2023-02-10T00:18:52.650Z"
   },
   {
    "duration": 21,
    "start_time": "2023-02-10T00:18:53.177Z"
   },
   {
    "duration": 15,
    "start_time": "2023-02-10T00:18:53.422Z"
   },
   {
    "duration": 12,
    "start_time": "2023-02-10T00:18:54.583Z"
   },
   {
    "duration": 32,
    "start_time": "2023-02-10T00:18:54.993Z"
   },
   {
    "duration": 4,
    "start_time": "2023-02-10T00:18:55.585Z"
   },
   {
    "duration": 8,
    "start_time": "2023-02-10T00:18:55.984Z"
   },
   {
    "duration": 4,
    "start_time": "2023-02-10T00:18:56.595Z"
   },
   {
    "duration": 7,
    "start_time": "2023-02-10T00:18:56.994Z"
   },
   {
    "duration": 4,
    "start_time": "2023-02-10T00:18:57.398Z"
   },
   {
    "duration": 31,
    "start_time": "2023-02-10T00:18:57.979Z"
   },
   {
    "duration": 8,
    "start_time": "2023-02-10T00:18:58.384Z"
   },
   {
    "duration": 4,
    "start_time": "2023-02-10T00:18:58.987Z"
   },
   {
    "duration": 10,
    "start_time": "2023-02-10T00:18:59.585Z"
   },
   {
    "duration": 20,
    "start_time": "2023-02-10T00:18:59.984Z"
   },
   {
    "duration": 17,
    "start_time": "2023-02-10T00:19:00.178Z"
   },
   {
    "duration": 4,
    "start_time": "2023-02-10T00:19:00.770Z"
   },
   {
    "duration": 9,
    "start_time": "2023-02-10T00:19:00.976Z"
   },
   {
    "duration": 6,
    "start_time": "2023-02-10T00:19:01.369Z"
   },
   {
    "duration": 4,
    "start_time": "2023-02-10T00:19:02.052Z"
   },
   {
    "duration": 7,
    "start_time": "2023-02-10T00:19:02.286Z"
   },
   {
    "duration": 27,
    "start_time": "2023-02-10T00:19:03.262Z"
   },
   {
    "duration": 3,
    "start_time": "2023-02-10T00:19:04.225Z"
   },
   {
    "duration": 1106,
    "start_time": "2023-02-10T00:19:06.089Z"
   },
   {
    "duration": 197,
    "start_time": "2023-02-10T00:19:09.112Z"
   },
   {
    "duration": 9,
    "start_time": "2023-02-10T00:19:20.335Z"
   },
   {
    "duration": 29,
    "start_time": "2023-02-10T00:19:21.361Z"
   },
   {
    "duration": 199,
    "start_time": "2023-02-10T00:19:24.164Z"
   },
   {
    "duration": 185,
    "start_time": "2023-02-10T00:19:26.083Z"
   },
   {
    "duration": 26,
    "start_time": "2023-02-10T00:20:57.299Z"
   },
   {
    "duration": 214,
    "start_time": "2023-02-10T00:22:54.788Z"
   },
   {
    "duration": 193,
    "start_time": "2023-02-10T00:24:03.606Z"
   },
   {
    "duration": 36,
    "start_time": "2023-02-10T00:25:35.915Z"
   },
   {
    "duration": 3,
    "start_time": "2023-02-10T00:25:53.954Z"
   },
   {
    "duration": 198,
    "start_time": "2023-02-10T00:28:43.997Z"
   },
   {
    "duration": 256,
    "start_time": "2023-02-10T00:28:46.853Z"
   },
   {
    "duration": 192,
    "start_time": "2023-02-10T00:29:05.783Z"
   },
   {
    "duration": 102,
    "start_time": "2023-02-10T00:29:16.354Z"
   },
   {
    "duration": 164,
    "start_time": "2023-02-10T00:29:54.386Z"
   },
   {
    "duration": 12,
    "start_time": "2023-02-10T00:30:42.648Z"
   },
   {
    "duration": 163,
    "start_time": "2023-02-10T00:31:23.376Z"
   },
   {
    "duration": 12,
    "start_time": "2023-02-10T00:31:51.905Z"
   },
   {
    "duration": 165,
    "start_time": "2023-02-10T00:32:02.787Z"
   },
   {
    "duration": 168,
    "start_time": "2023-02-10T00:32:41.878Z"
   },
   {
    "duration": 156,
    "start_time": "2023-02-10T00:33:24.592Z"
   },
   {
    "duration": 159,
    "start_time": "2023-02-10T00:33:46.361Z"
   },
   {
    "duration": 170,
    "start_time": "2023-02-10T00:34:05.026Z"
   },
   {
    "duration": 191,
    "start_time": "2023-02-10T00:34:18.474Z"
   },
   {
    "duration": 164,
    "start_time": "2023-02-10T00:34:36.294Z"
   },
   {
    "duration": 149,
    "start_time": "2023-02-10T00:47:56.396Z"
   },
   {
    "duration": 433,
    "start_time": "2023-02-10T07:30:03.656Z"
   },
   {
    "duration": 29,
    "start_time": "2023-02-10T07:30:04.091Z"
   },
   {
    "duration": 19,
    "start_time": "2023-02-10T07:30:04.122Z"
   },
   {
    "duration": 12,
    "start_time": "2023-02-10T07:30:04.143Z"
   },
   {
    "duration": 67,
    "start_time": "2023-02-10T07:30:04.157Z"
   },
   {
    "duration": 4,
    "start_time": "2023-02-10T07:30:04.226Z"
   },
   {
    "duration": 27,
    "start_time": "2023-02-10T07:30:04.232Z"
   },
   {
    "duration": 5,
    "start_time": "2023-02-10T07:30:04.261Z"
   },
   {
    "duration": 19,
    "start_time": "2023-02-10T07:30:04.268Z"
   },
   {
    "duration": 11,
    "start_time": "2023-02-10T07:30:04.292Z"
   },
   {
    "duration": 34,
    "start_time": "2023-02-10T07:30:04.305Z"
   },
   {
    "duration": 9,
    "start_time": "2023-02-10T07:30:04.340Z"
   },
   {
    "duration": 5,
    "start_time": "2023-02-10T07:30:04.350Z"
   },
   {
    "duration": 11,
    "start_time": "2023-02-10T07:30:04.357Z"
   },
   {
    "duration": 41,
    "start_time": "2023-02-10T07:30:04.369Z"
   },
   {
    "duration": 18,
    "start_time": "2023-02-10T07:30:04.411Z"
   },
   {
    "duration": 4,
    "start_time": "2023-02-10T07:30:04.430Z"
   },
   {
    "duration": 16,
    "start_time": "2023-02-10T07:30:04.435Z"
   },
   {
    "duration": 9,
    "start_time": "2023-02-10T07:30:04.452Z"
   },
   {
    "duration": 5,
    "start_time": "2023-02-10T07:30:04.463Z"
   },
   {
    "duration": 39,
    "start_time": "2023-02-10T07:30:04.469Z"
   },
   {
    "duration": 42,
    "start_time": "2023-02-10T07:30:04.509Z"
   },
   {
    "duration": 3,
    "start_time": "2023-02-10T07:30:04.552Z"
   },
   {
    "duration": 959,
    "start_time": "2023-02-10T07:30:04.556Z"
   },
   {
    "duration": 180,
    "start_time": "2023-02-10T07:30:05.517Z"
   },
   {
    "duration": 3,
    "start_time": "2023-02-10T07:30:05.702Z"
   },
   {
    "duration": 63,
    "start_time": "2023-02-10T07:30:05.706Z"
   },
   {
    "duration": 188,
    "start_time": "2023-02-10T07:30:05.772Z"
   },
   {
    "duration": 200,
    "start_time": "2023-02-10T07:30:05.962Z"
   },
   {
    "duration": 3,
    "start_time": "2023-02-10T07:30:06.164Z"
   },
   {
    "duration": 45,
    "start_time": "2023-02-10T07:30:06.169Z"
   },
   {
    "duration": 171,
    "start_time": "2023-02-10T07:30:06.215Z"
   },
   {
    "duration": 190,
    "start_time": "2023-02-10T07:30:06.388Z"
   },
   {
    "duration": 3,
    "start_time": "2023-02-10T07:30:06.580Z"
   },
   {
    "duration": 40,
    "start_time": "2023-02-10T07:30:06.584Z"
   },
   {
    "duration": 189,
    "start_time": "2023-02-10T07:30:06.625Z"
   },
   {
    "duration": 181,
    "start_time": "2023-02-10T07:30:06.816Z"
   },
   {
    "duration": 171,
    "start_time": "2023-02-10T07:34:01.214Z"
   },
   {
    "duration": 745,
    "start_time": "2023-11-21T10:49:39.989Z"
   },
   {
    "duration": 1485,
    "start_time": "2023-11-21T10:52:41.241Z"
   },
   {
    "duration": 21,
    "start_time": "2023-11-21T10:52:42.728Z"
   },
   {
    "duration": 16,
    "start_time": "2023-11-21T10:52:42.751Z"
   },
   {
    "duration": 15,
    "start_time": "2023-11-21T10:52:42.769Z"
   },
   {
    "duration": 61,
    "start_time": "2023-11-21T10:52:42.786Z"
   },
   {
    "duration": 3,
    "start_time": "2023-11-21T10:52:42.849Z"
   },
   {
    "duration": 10,
    "start_time": "2023-11-21T10:52:42.854Z"
   },
   {
    "duration": 4,
    "start_time": "2023-11-21T10:52:42.865Z"
   },
   {
    "duration": 7,
    "start_time": "2023-11-21T10:52:42.871Z"
   },
   {
    "duration": 5,
    "start_time": "2023-11-21T10:52:42.879Z"
   },
   {
    "duration": 37,
    "start_time": "2023-11-21T10:52:42.912Z"
   },
   {
    "duration": 10,
    "start_time": "2023-11-21T10:52:42.951Z"
   },
   {
    "duration": 4,
    "start_time": "2023-11-21T10:52:42.962Z"
   },
   {
    "duration": 18,
    "start_time": "2023-11-21T10:52:42.969Z"
   },
   {
    "duration": 20,
    "start_time": "2023-11-21T10:52:43.011Z"
   },
   {
    "duration": 17,
    "start_time": "2023-11-21T10:52:43.033Z"
   },
   {
    "duration": 4,
    "start_time": "2023-11-21T10:52:43.051Z"
   },
   {
    "duration": 20,
    "start_time": "2023-11-21T10:52:43.056Z"
   },
   {
    "duration": 7,
    "start_time": "2023-11-21T10:52:43.077Z"
   },
   {
    "duration": 28,
    "start_time": "2023-11-21T10:52:43.086Z"
   },
   {
    "duration": 14,
    "start_time": "2023-11-21T10:52:43.115Z"
   },
   {
    "duration": 29,
    "start_time": "2023-11-21T10:52:43.131Z"
   },
   {
    "duration": 200,
    "start_time": "2023-11-21T10:52:43.161Z"
   },
   {
    "duration": 184,
    "start_time": "2023-11-21T10:52:43.363Z"
   },
   {
    "duration": 30,
    "start_time": "2023-11-21T10:52:43.548Z"
   },
   {
    "duration": 234,
    "start_time": "2023-11-21T10:52:43.580Z"
   },
   {
    "duration": 210,
    "start_time": "2023-11-21T10:52:43.816Z"
   },
   {
    "duration": 31,
    "start_time": "2023-11-21T10:52:44.028Z"
   },
   {
    "duration": 193,
    "start_time": "2023-11-21T10:52:44.061Z"
   },
   {
    "duration": 201,
    "start_time": "2023-11-21T10:52:44.256Z"
   },
   {
    "duration": 33,
    "start_time": "2023-11-21T10:52:44.459Z"
   },
   {
    "duration": 203,
    "start_time": "2023-11-21T10:52:44.494Z"
   },
   {
    "duration": 191,
    "start_time": "2023-11-21T10:52:44.699Z"
   }
  ],
  "colab": {
   "name": "dpp_template_part2.ipynb",
   "provenance": []
  },
  "kernelspec": {
   "display_name": "Python 3 (ipykernel)",
   "language": "python",
   "name": "python3"
  },
  "language_info": {
   "codemirror_mode": {
    "name": "ipython",
    "version": 3
   },
   "file_extension": ".py",
   "mimetype": "text/x-python",
   "name": "python",
   "nbconvert_exporter": "python",
   "pygments_lexer": "ipython3",
   "version": "3.9.5"
  },
  "toc": {
   "base_numbering": 1,
   "nav_menu": {},
   "number_sections": true,
   "sideBar": true,
   "skip_h1_title": true,
   "title_cell": "Table of Contents",
   "title_sidebar": "Contents",
   "toc_cell": false,
   "toc_position": {},
   "toc_section_display": true,
   "toc_window_display": false
  }
 },
 "nbformat": 4,
 "nbformat_minor": 5
}
