{
 "cells": [
  {
   "cell_type": "markdown",
   "metadata": {},
   "source": [
    "# Рекомендация тарифов"
   ]
  },
  {
   "cell_type": "markdown",
   "metadata": {},
   "source": [
    "В вашем распоряжении данные о поведении клиентов, которые уже перешли на эти тарифы (из проекта курса «Статистический анализ данных»). Нужно построить модель для задачи классификации, которая выберет подходящий тариф. Предобработка данных не понадобится — вы её уже сделали.\n",
    "\n",
    "Постройте модель с максимально большим значением *accuracy*. Чтобы сдать проект успешно, нужно довести долю правильных ответов по крайней мере до 0.75. Проверьте *accuracy* на тестовой выборке самостоятельно."
   ]
  },
  {
   "cell_type": "markdown",
   "metadata": {},
   "source": [
    "## Изучение файла"
   ]
  },
  {
   "cell_type": "code",
   "execution_count": 1,
   "metadata": {},
   "outputs": [],
   "source": [
    "import pandas as pd\n",
    "from sklearn.tree import DecisionTreeClassifier\n",
    "from sklearn.ensemble import RandomForestClassifier\n",
    "from sklearn.linear_model import LogisticRegression\n",
    "from sklearn.dummy import DummyClassifier\n",
    "from sklearn.model_selection import train_test_split\n",
    "from sklearn.metrics import accuracy_score\n",
    "import seaborn as sb"
   ]
  },
  {
   "cell_type": "code",
   "execution_count": 2,
   "metadata": {},
   "outputs": [
    {
     "data": {
      "text/html": [
       "<div>\n",
       "<style scoped>\n",
       "    .dataframe tbody tr th:only-of-type {\n",
       "        vertical-align: middle;\n",
       "    }\n",
       "\n",
       "    .dataframe tbody tr th {\n",
       "        vertical-align: top;\n",
       "    }\n",
       "\n",
       "    .dataframe thead th {\n",
       "        text-align: right;\n",
       "    }\n",
       "</style>\n",
       "<table border=\"1\" class=\"dataframe\">\n",
       "  <thead>\n",
       "    <tr style=\"text-align: right;\">\n",
       "      <th></th>\n",
       "      <th>calls</th>\n",
       "      <th>minutes</th>\n",
       "      <th>messages</th>\n",
       "      <th>mb_used</th>\n",
       "      <th>is_ultra</th>\n",
       "    </tr>\n",
       "  </thead>\n",
       "  <tbody>\n",
       "    <tr>\n",
       "      <th>0</th>\n",
       "      <td>40.0</td>\n",
       "      <td>311.90</td>\n",
       "      <td>83.0</td>\n",
       "      <td>19915.42</td>\n",
       "      <td>0</td>\n",
       "    </tr>\n",
       "    <tr>\n",
       "      <th>1</th>\n",
       "      <td>85.0</td>\n",
       "      <td>516.75</td>\n",
       "      <td>56.0</td>\n",
       "      <td>22696.96</td>\n",
       "      <td>0</td>\n",
       "    </tr>\n",
       "    <tr>\n",
       "      <th>2</th>\n",
       "      <td>77.0</td>\n",
       "      <td>467.66</td>\n",
       "      <td>86.0</td>\n",
       "      <td>21060.45</td>\n",
       "      <td>0</td>\n",
       "    </tr>\n",
       "    <tr>\n",
       "      <th>3</th>\n",
       "      <td>106.0</td>\n",
       "      <td>745.53</td>\n",
       "      <td>81.0</td>\n",
       "      <td>8437.39</td>\n",
       "      <td>1</td>\n",
       "    </tr>\n",
       "    <tr>\n",
       "      <th>4</th>\n",
       "      <td>66.0</td>\n",
       "      <td>418.74</td>\n",
       "      <td>1.0</td>\n",
       "      <td>14502.75</td>\n",
       "      <td>0</td>\n",
       "    </tr>\n",
       "  </tbody>\n",
       "</table>\n",
       "</div>"
      ],
      "text/plain": [
       "   calls  minutes  messages   mb_used  is_ultra\n",
       "0   40.0   311.90      83.0  19915.42         0\n",
       "1   85.0   516.75      56.0  22696.96         0\n",
       "2   77.0   467.66      86.0  21060.45         0\n",
       "3  106.0   745.53      81.0   8437.39         1\n",
       "4   66.0   418.74       1.0  14502.75         0"
      ]
     },
     "metadata": {},
     "output_type": "display_data"
    },
    {
     "name": "stdout",
     "output_type": "stream",
     "text": [
      "<class 'pandas.core.frame.DataFrame'>\n",
      "RangeIndex: 3214 entries, 0 to 3213\n",
      "Data columns (total 5 columns):\n",
      " #   Column    Non-Null Count  Dtype  \n",
      "---  ------    --------------  -----  \n",
      " 0   calls     3214 non-null   float64\n",
      " 1   minutes   3214 non-null   float64\n",
      " 2   messages  3214 non-null   float64\n",
      " 3   mb_used   3214 non-null   float64\n",
      " 4   is_ultra  3214 non-null   int64  \n",
      "dtypes: float64(4), int64(1)\n",
      "memory usage: 125.7 KB\n"
     ]
    },
    {
     "data": {
      "text/plain": [
       "None"
      ]
     },
     "metadata": {},
     "output_type": "display_data"
    },
    {
     "data": {
      "text/html": [
       "<div>\n",
       "<style scoped>\n",
       "    .dataframe tbody tr th:only-of-type {\n",
       "        vertical-align: middle;\n",
       "    }\n",
       "\n",
       "    .dataframe tbody tr th {\n",
       "        vertical-align: top;\n",
       "    }\n",
       "\n",
       "    .dataframe thead th {\n",
       "        text-align: right;\n",
       "    }\n",
       "</style>\n",
       "<table border=\"1\" class=\"dataframe\">\n",
       "  <thead>\n",
       "    <tr style=\"text-align: right;\">\n",
       "      <th></th>\n",
       "      <th>calls</th>\n",
       "      <th>minutes</th>\n",
       "      <th>messages</th>\n",
       "      <th>mb_used</th>\n",
       "      <th>is_ultra</th>\n",
       "    </tr>\n",
       "  </thead>\n",
       "  <tbody>\n",
       "    <tr>\n",
       "      <th>count</th>\n",
       "      <td>3214.000000</td>\n",
       "      <td>3214.000000</td>\n",
       "      <td>3214.000000</td>\n",
       "      <td>3214.000000</td>\n",
       "      <td>3214.000000</td>\n",
       "    </tr>\n",
       "    <tr>\n",
       "      <th>mean</th>\n",
       "      <td>63.038892</td>\n",
       "      <td>438.208787</td>\n",
       "      <td>38.281269</td>\n",
       "      <td>17207.673836</td>\n",
       "      <td>0.306472</td>\n",
       "    </tr>\n",
       "    <tr>\n",
       "      <th>std</th>\n",
       "      <td>33.236368</td>\n",
       "      <td>234.569872</td>\n",
       "      <td>36.148326</td>\n",
       "      <td>7570.968246</td>\n",
       "      <td>0.461100</td>\n",
       "    </tr>\n",
       "    <tr>\n",
       "      <th>min</th>\n",
       "      <td>0.000000</td>\n",
       "      <td>0.000000</td>\n",
       "      <td>0.000000</td>\n",
       "      <td>0.000000</td>\n",
       "      <td>0.000000</td>\n",
       "    </tr>\n",
       "    <tr>\n",
       "      <th>25%</th>\n",
       "      <td>40.000000</td>\n",
       "      <td>274.575000</td>\n",
       "      <td>9.000000</td>\n",
       "      <td>12491.902500</td>\n",
       "      <td>0.000000</td>\n",
       "    </tr>\n",
       "    <tr>\n",
       "      <th>50%</th>\n",
       "      <td>62.000000</td>\n",
       "      <td>430.600000</td>\n",
       "      <td>30.000000</td>\n",
       "      <td>16943.235000</td>\n",
       "      <td>0.000000</td>\n",
       "    </tr>\n",
       "    <tr>\n",
       "      <th>75%</th>\n",
       "      <td>82.000000</td>\n",
       "      <td>571.927500</td>\n",
       "      <td>57.000000</td>\n",
       "      <td>21424.700000</td>\n",
       "      <td>1.000000</td>\n",
       "    </tr>\n",
       "    <tr>\n",
       "      <th>max</th>\n",
       "      <td>244.000000</td>\n",
       "      <td>1632.060000</td>\n",
       "      <td>224.000000</td>\n",
       "      <td>49745.730000</td>\n",
       "      <td>1.000000</td>\n",
       "    </tr>\n",
       "  </tbody>\n",
       "</table>\n",
       "</div>"
      ],
      "text/plain": [
       "             calls      minutes     messages       mb_used     is_ultra\n",
       "count  3214.000000  3214.000000  3214.000000   3214.000000  3214.000000\n",
       "mean     63.038892   438.208787    38.281269  17207.673836     0.306472\n",
       "std      33.236368   234.569872    36.148326   7570.968246     0.461100\n",
       "min       0.000000     0.000000     0.000000      0.000000     0.000000\n",
       "25%      40.000000   274.575000     9.000000  12491.902500     0.000000\n",
       "50%      62.000000   430.600000    30.000000  16943.235000     0.000000\n",
       "75%      82.000000   571.927500    57.000000  21424.700000     1.000000\n",
       "max     244.000000  1632.060000   224.000000  49745.730000     1.000000"
      ]
     },
     "metadata": {},
     "output_type": "display_data"
    },
    {
     "data": {
      "image/png": "[encoded data removed]",
      "text/plain": [
       "<Figure size 1152x360 with 6 Axes>"
      ]
     },
     "metadata": {},
     "output_type": "display_data"
    }
   ],
   "source": [
    "data = pd.read_csv('/datasets/users_behavior.csv')\n",
    "display(data.head())\n",
    "display(data.info())\n",
    "display(data.describe())\n",
    "sb.set(rc={\"figure.figsize\":( 16 , 5 )})\n",
    "data.hist();"
   ]
  },
  {
   "cell_type": "markdown",
   "metadata": {},
   "source": [
    "Общее количество наблюдений составило 3214. Для каждого наблюдения известно количество звонков (`сalls`), суммарная длительность звонков в минутах (`minutes`), количество sms-сообщений (`messages`), израсходованный интернет-трафик в Мб (`mb_used`), а также каким тарифом пользовался абонент в течение месяца (`is_ultra`, «Ультра» — 1, «Смарт» — 0). В базе данных отсутствуют пропуски. С помощью гистограмм и описательной статистики обнаружили наличие выбросов: встречаются абоненты, у которых один или несколько признаков существенно превышают средние и медианные значения. Однако следует обратить внимание на следующее: различие между средним и медианным значением для признаков достаточно невелико, что позволяет нам сделать вывод о том, что выбросы носят единичный характер и существенного искажения результатов при анализе не произойдет. Также следует учитывать, что предобработка датасета уже проведена. Кроме того, набор данных является достаточно небольшим, что также является аргументом против усечения выборки."
   ]
  },
  {
   "cell_type": "code",
   "execution_count": 3,
   "metadata": {},
   "outputs": [
    {
     "data": {
      "text/html": [
       "<div>\n",
       "<style scoped>\n",
       "    .dataframe tbody tr th:only-of-type {\n",
       "        vertical-align: middle;\n",
       "    }\n",
       "\n",
       "    .dataframe tbody tr th {\n",
       "        vertical-align: top;\n",
       "    }\n",
       "\n",
       "    .dataframe thead th {\n",
       "        text-align: right;\n",
       "    }\n",
       "</style>\n",
       "<table border=\"1\" class=\"dataframe\">\n",
       "  <thead>\n",
       "    <tr style=\"text-align: right;\">\n",
       "      <th></th>\n",
       "      <th>calls</th>\n",
       "      <th>minutes</th>\n",
       "      <th>messages</th>\n",
       "      <th>mb_used</th>\n",
       "      <th>is_ultra</th>\n",
       "    </tr>\n",
       "  </thead>\n",
       "  <tbody>\n",
       "    <tr>\n",
       "      <th>calls</th>\n",
       "      <td>1.000000</td>\n",
       "      <td>0.982083</td>\n",
       "      <td>0.177385</td>\n",
       "      <td>0.286442</td>\n",
       "      <td>0.207122</td>\n",
       "    </tr>\n",
       "    <tr>\n",
       "      <th>minutes</th>\n",
       "      <td>0.982083</td>\n",
       "      <td>1.000000</td>\n",
       "      <td>0.173110</td>\n",
       "      <td>0.280967</td>\n",
       "      <td>0.206955</td>\n",
       "    </tr>\n",
       "    <tr>\n",
       "      <th>messages</th>\n",
       "      <td>0.177385</td>\n",
       "      <td>0.173110</td>\n",
       "      <td>1.000000</td>\n",
       "      <td>0.195721</td>\n",
       "      <td>0.203830</td>\n",
       "    </tr>\n",
       "    <tr>\n",
       "      <th>mb_used</th>\n",
       "      <td>0.286442</td>\n",
       "      <td>0.280967</td>\n",
       "      <td>0.195721</td>\n",
       "      <td>1.000000</td>\n",
       "      <td>0.198568</td>\n",
       "    </tr>\n",
       "    <tr>\n",
       "      <th>is_ultra</th>\n",
       "      <td>0.207122</td>\n",
       "      <td>0.206955</td>\n",
       "      <td>0.203830</td>\n",
       "      <td>0.198568</td>\n",
       "      <td>1.000000</td>\n",
       "    </tr>\n",
       "  </tbody>\n",
       "</table>\n",
       "</div>"
      ],
      "text/plain": [
       "             calls   minutes  messages   mb_used  is_ultra\n",
       "calls     1.000000  0.982083  0.177385  0.286442  0.207122\n",
       "minutes   0.982083  1.000000  0.173110  0.280967  0.206955\n",
       "messages  0.177385  0.173110  1.000000  0.195721  0.203830\n",
       "mb_used   0.286442  0.280967  0.195721  1.000000  0.198568\n",
       "is_ultra  0.207122  0.206955  0.203830  0.198568  1.000000"
      ]
     },
     "execution_count": 3,
     "metadata": {},
     "output_type": "execute_result"
    }
   ],
   "source": [
    "data.corr()"
   ]
  },
  {
   "cell_type": "markdown",
   "metadata": {},
   "source": [
    "Коэффициент корреляции между количеством звонков `calls` и суммарной длительностью звонков в минутах `minutes` равен 0,98, что говорит о наличии прямой очень сильной связи. Во избежание возникновения мультиколлинеарности при дальнейшем анализе исключим один из показателей (`calls`) из объясняющих признаков."
   ]
  },
  {
   "cell_type": "code",
   "execution_count": 4,
   "metadata": {},
   "outputs": [
    {
     "name": "stdout",
     "output_type": "stream",
     "text": [
      "Доля абонентов, пользовавшихся тарифом \"Ультра\":    69.35%\n",
      "Доля абонентов, не пользовавшихся тарифом \"Ультра\": 30.65%\n"
     ]
    }
   ],
   "source": [
    "ultra_true = len(data.loc[data['is_ultra'] == 0]) / len(data)\n",
    "ultra_false = len(data.loc[data['is_ultra'] == 1]) / len(data)\n",
    "print(f'Доля абонентов, пользовавшихся тарифом \"Ультра\": {ultra_true:9.2%}')\n",
    "print(f'Доля абонентов, не пользовавшихся тарифом \"Ультра\": {ultra_false:.2%}')"
   ]
  },
  {
   "cell_type": "markdown",
   "metadata": {},
   "source": [
    "Несмотря на то, что баланс классов смещен в сторону пользователей тарифа \"Ультра\", не станем заниматься дополнительной обработкой датасета. Перед нами стоит задача бинарной классификации, результатом решения которой будет модель, рекомендующая тариф, и сокращение числа примеров мажоритарного класса или увеличение числа примеров миноритарного класса может исказить определяемые взаимосвязи, что негативно скажется на результате. Кроме того, когда мы используем вероятностные модели для бинарной классификации, модели не сильно зависят от баланса классов. "
   ]
  },
  {
   "cell_type": "markdown",
   "metadata": {},
   "source": [
    "## Деление данных на выборки"
   ]
  },
  {
   "cell_type": "code",
   "execution_count": 5,
   "metadata": {},
   "outputs": [
    {
     "name": "stdout",
     "output_type": "stream",
     "text": [
      "Доля обучающей выборки (data_train):     59.99%.\n",
      "Доля валидационной выборки (data_valid): 20.01%.\n",
      "Доля тестовой выборки (data_test):       20.01%.\n"
     ]
    }
   ],
   "source": [
    "features = data.drop(['is_ultra', 'calls'], axis = 1)\n",
    "target = data['is_ultra']\n",
    "\n",
    "data_train, data_test_valid = train_test_split(data, test_size=0.4, random_state=442)\n",
    "data_test, data_valid = train_test_split(data_test_valid, test_size=0.5, random_state=442)\n",
    "print(f'Доля обучающей выборки (data_train): {len(data_train) / len(data):10.2%}.\\n'\n",
    "      f'Доля валидационной выборки (data_valid): {len(data_valid) / len(data):.2%}.\\n'\n",
    "      f'Доля тестовой выборки (data_test): {len(data_test) / len(data):12.2%}.')"
   ]
  },
  {
   "cell_type": "markdown",
   "metadata": {},
   "source": [
    "Так как у нас есть один набор данных без спрятанной тестовой выборки, данные нужно разбить на три части: обучающую, валидационную и тестовую выборки. Исходили из того, что размеры тестового и валидационного наборов обычно равны, то есть исходные данные необходимо разбить в соотношении 3:1:1. "
   ]
  },
  {
   "cell_type": "markdown",
   "metadata": {},
   "source": [
    "## Исследование моделей"
   ]
  },
  {
   "cell_type": "code",
   "execution_count": 6,
   "metadata": {},
   "outputs": [],
   "source": [
    "# Определим определяющие (features) и определяемые (target) признаки для каждой выборки:\n",
    "# Тренировочная выборка:\n",
    "features_train = data_train.drop(['is_ultra', 'calls'], axis = 1)\n",
    "target_train = data_train['is_ultra']\n",
    "# Валидационная выборка:\n",
    "features_valid = data_valid.drop(['is_ultra', 'calls'], axis = 1)\n",
    "target_valid = data_valid['is_ultra']\n",
    "# Тестовая выборка:\n",
    "features_test = data_test.drop(['is_ultra', 'calls'], axis = 1)\n",
    "target_test = data_test['is_ultra']"
   ]
  },
  {
   "cell_type": "code",
   "execution_count": 7,
   "metadata": {},
   "outputs": [
    {
     "name": "stdout",
     "output_type": "stream",
     "text": [
      "Accuracy модели с глубиной дерева max_depth, равной 1, составляет 0.74028\n",
      "Accuracy модели с глубиной дерева max_depth, равной 2, составляет 0.76672\n",
      "Accuracy модели с глубиной дерева max_depth, равной 3, составляет 0.78538\n",
      "Accuracy модели с глубиной дерева max_depth, равной 4, составляет 0.78849\n",
      "Accuracy модели с глубиной дерева max_depth, равной 5, составляет 0.77605\n",
      "Accuracy модели с глубиной дерева max_depth, равной 6, составляет 0.7776\n",
      "Accuracy модели с глубиной дерева max_depth, равной 7, составляет 0.78694\n",
      "Accuracy модели с глубиной дерева max_depth, равной 8, составляет 0.78538\n",
      "Accuracy модели с глубиной дерева max_depth, равной 9, составляет 0.77916\n",
      "\n",
      "Наибольшее значение accuracy (0.78849)достигается при гиперпараметре max_depth, равном 4.\n"
     ]
    }
   ],
   "source": [
    "best_model = None\n",
    "best_result = 0\n",
    "best_depth = 0\n",
    "# Объявим цикл, в котором будем перебирать гиперпараметры модели\n",
    "for depth in range(1, 10):\n",
    "    # Объявили модель дерева решений\n",
    "    model = DecisionTreeClassifier(random_state=12345, max_depth=depth)\n",
    "    # Обучили модель\n",
    "    model.fit(features_train, target_train)\n",
    "    predictions = model.predict(features_valid)\n",
    "    # Рассчитали точность для моделей с различными гиперпараметрами\n",
    "    result = accuracy_score(target_valid, predictions)\n",
    "    print(f'Accuracy модели с глубиной дерева max_depth, равной {depth}, составляет {result:.5}')\n",
    "    if result > best_result:\n",
    "        best_model = model\n",
    "        best_result = result\n",
    "        best_depth = depth\n",
    "print(f'\\nНаибольшее значение accuracy ({best_result:.5})' \n",
    "      f'достигается при гиперпараметре max_depth, равном {best_depth}.')"
   ]
  },
  {
   "cell_type": "code",
   "execution_count": 8,
   "metadata": {},
   "outputs": [
    {
     "name": "stdout",
     "output_type": "stream",
     "text": [
      "Accuracy модели с количеством деревьев, равным 1, составляет: 0.75272\n",
      "Accuracy модели с количеством деревьев, равным 2, составляет: 0.72784\n",
      "Accuracy модели с количеством деревьев, равным 3, составляет: 0.77605\n",
      "Accuracy модели с количеством деревьев, равным 4, составляет: 0.76983\n",
      "Accuracy модели с количеством деревьев, равным 5, составляет: 0.77916\n",
      "Accuracy модели с количеством деревьев, равным 6, составляет: 0.7776\n",
      "Accuracy модели с количеством деревьев, равным 7, составляет: 0.7916\n",
      "Accuracy модели с количеством деревьев, равным 8, составляет: 0.78072\n",
      "\n",
      "Наибольшее значение accuracy (0.7916) достигается при гиперпараметре n_estimators, равном 7.\n"
     ]
    }
   ],
   "source": [
    "best_model = None\n",
    "best_result = 0\n",
    "best_est = 0\n",
    "# Объявим цикл, в котором будем перебирать гиперпараметры модели\n",
    "for est in range(1, 9):\n",
    "    # Объявили модель случайного леса\n",
    "    model = RandomForestClassifier(random_state=442, n_estimators=est, max_depth = 10)\n",
    "    # Обучили модель\n",
    "    model.fit(features_train, target_train) \n",
    "    predictions = model.predict(features_valid)\n",
    "    # Рассчитали точность для моделей с различными гиперпараметрами\n",
    "    result = accuracy_score(target_valid, predictions)\n",
    "    print(f'Accuracy модели с количеством деревьев, равным {est}, составляет: {result:.5}')\n",
    "    if result > best_result:\n",
    "        best_model = model\n",
    "        best_result = result\n",
    "        best_est = est\n",
    "print(f'\\nНаибольшее значение accuracy ({best_result:.5})'\n",
    "      f' достигается при гиперпараметре n_estimators, равном {best_est}.')"
   ]
  },
  {
   "cell_type": "code",
   "execution_count": 9,
   "metadata": {
    "scrolled": false
   },
   "outputs": [
    {
     "name": "stdout",
     "output_type": "stream",
     "text": [
      "Accuracy модели логистической регрессии равна 0.74736.\n"
     ]
    }
   ],
   "source": [
    "# Объявили модель логистической регрессии\n",
    "model = LogisticRegression(random_state=442, solver='lbfgs', max_iter=1000)\n",
    "# Обучили модель\n",
    "model.fit(features, target)\n",
    "predictions = model.predict(features)\n",
    "result = accuracy_score(target, predictions)\n",
    "print(f'Accuracy модели логистической регрессии равна {result:.5}.') "
   ]
  },
  {
   "cell_type": "markdown",
   "metadata": {},
   "source": [
    "Мы рассмотрели 3 различных модели, которые выберут подходящий тариф. При этом для моделей случайного леса и дерева решений применяли различные гиперпараметры. Наибольшее точной оказалась модель случайного леса с гиперпараметром `n_estimators`, равным 7; значение accuracy составило 0.7916. Дерево решений показало близкий результат, точность при глубине дерева, равной 4, составила 0.78849.Точность модели логистической регрессии равна 0.74798."
   ]
  },
  {
   "cell_type": "markdown",
   "metadata": {},
   "source": [
    "## Проверка модели на тестовой выборке"
   ]
  },
  {
   "cell_type": "code",
   "execution_count": 12,
   "metadata": {},
   "outputs": [
    {
     "name": "stdout",
     "output_type": "stream",
     "text": [
      "Accuracy модели случайного леса на тестовой выборки составила 0.81649\n"
     ]
    }
   ],
   "source": [
    "# Объявили модель, показавшую наилучший результат\n",
    "model = RandomForestClassifier(random_state=442, n_estimators=5, max_depth = 10)\n",
    "# Обучили модель на валидационной выборке\n",
    "model.fit(features_train, target_train) \n",
    "# Рассчитали точность для тестовых данных\n",
    "result = model.score(features_test, target_test) \n",
    "print(f'Accuracy модели случайного леса на тестовой выборки составила {result:.5}')"
   ]
  },
  {
   "cell_type": "markdown",
   "metadata": {},
   "source": [
    "Точность лучшей модели на тестовой выборке оказалась ниже, чем на валидационной, и составила 81,65%, что выше порогового значения в 75%.  \n",
    "\n",
    "Нами было рассмотрено 3 модели, лучшая из них протестирована на тестовой выборке. Полученное значение точности преодолело порог в 75%, следовательно, мы можем рекомендовать модель для дальнейшего использования. Модель `RandomForestClassifier` со значением гиперпараметров `n_estimators` и `max_depth` `7` и `10` соответственно рекомендована для дальнейшего использования."
   ]
  },
  {
   "cell_type": "markdown",
   "metadata": {},
   "source": [
    "## Проверка модели на адекватность"
   ]
  },
  {
   "cell_type": "markdown",
   "metadata": {},
   "source": [
    "Чтобы оценить адекватность модели в задачах классификации, нужно сравнить её со случайной. Сравним точность полученных моделей с точностью модели `DummyClassifier`. Этот классификатор служит простой базой для сравнения с другими более сложными классификаторами. Конкретное поведение базовой линии выбирается с помощью гиперпараметра `strategy`. Выберем в качестве значения `most_frequent` - метод прогнозирования, всегда возвращающий наиболее часто встречающееся значение класса в наблюдаемом аргументе. "
   ]
  },
  {
   "cell_type": "code",
   "execution_count": 13,
   "metadata": {},
   "outputs": [
    {
     "name": "stdout",
     "output_type": "stream",
     "text": [
      "Accuracy модели DummyClassifier равна 0.70918.\n"
     ]
    }
   ],
   "source": [
    "dummy_model = DummyClassifier(strategy='most_frequent', random_state=442)\n",
    "dummy_model.fit(features_train, target_train)\n",
    "print(f'Accuracy модели DummyClassifier равна {dummy_model.score(features_test, target_test):.5}.') "
   ]
  },
  {
   "cell_type": "markdown",
   "metadata": {},
   "source": [
    "Точность каждой рассмотренной нами модели оказалась выше, что свидетельствует о их адекватности."
   ]
  }
 ],
 "metadata": {
  "ExecuteTimeLog": [
   {
    "duration": 1334,
    "start_time": "2023-03-31T13:35:18.563Z"
   },
   {
    "duration": 45,
    "start_time": "2023-03-31T13:35:26.940Z"
   },
   {
    "duration": 139,
    "start_time": "2023-03-31T13:36:09.367Z"
   },
   {
    "duration": 46,
    "start_time": "2023-03-31T13:36:18.161Z"
   },
   {
    "duration": 56,
    "start_time": "2023-03-31T13:37:08.165Z"
   },
   {
    "duration": 4,
    "start_time": "2023-03-31T14:48:41.750Z"
   },
   {
    "duration": 13,
    "start_time": "2023-03-31T14:48:50.437Z"
   },
   {
    "duration": 17,
    "start_time": "2023-03-31T14:49:56.351Z"
   },
   {
    "duration": 5,
    "start_time": "2023-03-31T14:50:21.921Z"
   },
   {
    "duration": 7,
    "start_time": "2023-03-31T14:50:41.225Z"
   },
   {
    "duration": 7,
    "start_time": "2023-03-31T14:51:21.703Z"
   },
   {
    "duration": 5,
    "start_time": "2023-03-31T14:51:36.166Z"
   },
   {
    "duration": 5,
    "start_time": "2023-03-31T14:52:16.873Z"
   },
   {
    "duration": 6,
    "start_time": "2023-03-31T14:52:22.793Z"
   },
   {
    "duration": 7,
    "start_time": "2023-03-31T14:52:28.954Z"
   },
   {
    "duration": 7,
    "start_time": "2023-03-31T14:52:34.217Z"
   },
   {
    "duration": 7,
    "start_time": "2023-03-31T14:52:40.219Z"
   },
   {
    "duration": 12,
    "start_time": "2023-03-31T14:52:44.891Z"
   },
   {
    "duration": 11,
    "start_time": "2023-03-31T14:52:49.828Z"
   },
   {
    "duration": 7,
    "start_time": "2023-03-31T14:52:58.885Z"
   },
   {
    "duration": 6,
    "start_time": "2023-03-31T14:53:03.300Z"
   },
   {
    "duration": 7,
    "start_time": "2023-03-31T14:53:24.136Z"
   },
   {
    "duration": 6,
    "start_time": "2023-03-31T14:53:31.106Z"
   },
   {
    "duration": 6,
    "start_time": "2023-03-31T14:53:59.384Z"
   },
   {
    "duration": 7,
    "start_time": "2023-03-31T14:54:06.034Z"
   },
   {
    "duration": 5,
    "start_time": "2023-03-31T14:54:22.671Z"
   },
   {
    "duration": 7,
    "start_time": "2023-03-31T14:55:10.222Z"
   },
   {
    "duration": 7,
    "start_time": "2023-03-31T14:55:29.161Z"
   },
   {
    "duration": 6,
    "start_time": "2023-03-31T14:55:38.276Z"
   },
   {
    "duration": 7,
    "start_time": "2023-03-31T14:55:47.416Z"
   },
   {
    "duration": 5,
    "start_time": "2023-03-31T14:55:59.312Z"
   },
   {
    "duration": 6,
    "start_time": "2023-03-31T14:56:10.516Z"
   },
   {
    "duration": 63,
    "start_time": "2023-03-31T14:57:13.373Z"
   },
   {
    "duration": 943,
    "start_time": "2023-03-31T14:57:24.387Z"
   },
   {
    "duration": 653,
    "start_time": "2023-03-31T14:58:17.085Z"
   },
   {
    "duration": 575,
    "start_time": "2023-03-31T14:58:48.327Z"
   },
   {
    "duration": 4,
    "start_time": "2023-03-31T14:58:51.365Z"
   },
   {
    "duration": 1248,
    "start_time": "2023-03-31T14:59:00.809Z"
   },
   {
    "duration": 565,
    "start_time": "2023-03-31T14:59:02.059Z"
   },
   {
    "duration": 6,
    "start_time": "2023-03-31T14:59:02.626Z"
   },
   {
    "duration": 1500,
    "start_time": "2023-03-31T15:10:27.839Z"
   },
   {
    "duration": 639,
    "start_time": "2023-03-31T15:10:29.341Z"
   },
   {
    "duration": 7,
    "start_time": "2023-03-31T15:10:29.982Z"
   },
   {
    "duration": 105,
    "start_time": "2023-03-31T15:16:43.407Z"
   },
   {
    "duration": 6,
    "start_time": "2023-03-31T15:16:59.873Z"
   },
   {
    "duration": 15,
    "start_time": "2023-03-31T15:18:41.516Z"
   },
   {
    "duration": 5,
    "start_time": "2023-03-31T15:23:18.384Z"
   },
   {
    "duration": 14,
    "start_time": "2023-03-31T15:30:05.206Z"
   },
   {
    "duration": 3,
    "start_time": "2023-03-31T15:30:31.690Z"
   },
   {
    "duration": 3,
    "start_time": "2023-03-31T15:31:34.367Z"
   },
   {
    "duration": 243,
    "start_time": "2023-03-31T15:31:38.123Z"
   },
   {
    "duration": 830,
    "start_time": "2023-03-31T15:32:08.474Z"
   },
   {
    "duration": 234,
    "start_time": "2023-03-31T15:32:15.067Z"
   },
   {
    "duration": 58,
    "start_time": "2023-03-31T15:32:19.809Z"
   },
   {
    "duration": 74,
    "start_time": "2023-03-31T15:32:24.151Z"
   },
   {
    "duration": 99,
    "start_time": "2023-03-31T15:32:27.601Z"
   },
   {
    "duration": 134,
    "start_time": "2023-03-31T15:32:30.957Z"
   },
   {
    "duration": 225,
    "start_time": "2023-03-31T15:32:34.565Z"
   },
   {
    "duration": 203,
    "start_time": "2023-03-31T15:32:38.310Z"
   },
   {
    "duration": 259,
    "start_time": "2023-03-31T15:32:42.215Z"
   },
   {
    "duration": 204,
    "start_time": "2023-03-31T15:32:48.127Z"
   },
   {
    "duration": 3,
    "start_time": "2023-03-31T15:33:31.328Z"
   },
   {
    "duration": 15,
    "start_time": "2023-03-31T15:34:45.394Z"
   },
   {
    "duration": 3,
    "start_time": "2023-03-31T15:34:58.551Z"
   },
   {
    "duration": 38,
    "start_time": "2023-03-31T15:35:02.160Z"
   },
   {
    "duration": 59,
    "start_time": "2023-03-31T15:35:12.263Z"
   },
   {
    "duration": 57,
    "start_time": "2023-03-31T15:35:17.827Z"
   },
   {
    "duration": 100,
    "start_time": "2023-03-31T15:35:21.976Z"
   },
   {
    "duration": 72,
    "start_time": "2023-03-31T15:35:52.237Z"
   },
   {
    "duration": 54,
    "start_time": "2023-03-31T15:36:07.577Z"
   },
   {
    "duration": 55,
    "start_time": "2023-03-31T15:37:08.522Z"
   },
   {
    "duration": 55,
    "start_time": "2023-03-31T15:37:13.227Z"
   },
   {
    "duration": 57,
    "start_time": "2023-03-31T15:37:28.202Z"
   },
   {
    "duration": 57,
    "start_time": "2023-03-31T15:37:35.829Z"
   },
   {
    "duration": 58,
    "start_time": "2023-03-31T15:37:40.528Z"
   },
   {
    "duration": 1693,
    "start_time": "2023-04-01T07:35:56.202Z"
   },
   {
    "duration": 821,
    "start_time": "2023-04-01T07:35:57.897Z"
   },
   {
    "duration": 9,
    "start_time": "2023-04-01T07:35:58.720Z"
   },
   {
    "duration": 16,
    "start_time": "2023-04-01T07:35:58.731Z"
   },
   {
    "duration": 100,
    "start_time": "2023-04-01T07:35:58.749Z"
   },
   {
    "duration": 282,
    "start_time": "2023-04-01T07:35:58.851Z"
   },
   {
    "duration": 186,
    "start_time": "2023-04-01T10:00:50.938Z"
   },
   {
    "duration": 200,
    "start_time": "2023-04-01T10:01:12.605Z"
   },
   {
    "duration": 67,
    "start_time": "2023-04-01T10:02:54.190Z"
   },
   {
    "duration": 188,
    "start_time": "2023-04-01T10:05:27.428Z"
   },
   {
    "duration": 198,
    "start_time": "2023-04-01T10:05:39.678Z"
   },
   {
    "duration": 226,
    "start_time": "2023-04-01T10:05:50.222Z"
   },
   {
    "duration": 191,
    "start_time": "2023-04-01T10:06:32.498Z"
   },
   {
    "duration": 126,
    "start_time": "2023-04-01T10:07:05.231Z"
   },
   {
    "duration": 78,
    "start_time": "2023-04-01T10:07:17.106Z"
   },
   {
    "duration": 61,
    "start_time": "2023-04-01T10:10:06.331Z"
   },
   {
    "duration": 63,
    "start_time": "2023-04-01T10:10:23.847Z"
   },
   {
    "duration": 192,
    "start_time": "2023-04-01T10:12:44.573Z"
   },
   {
    "duration": 189,
    "start_time": "2023-04-01T10:12:58.310Z"
   },
   {
    "duration": 76,
    "start_time": "2023-04-01T10:14:12.478Z"
   },
   {
    "duration": 1564,
    "start_time": "2023-04-01T10:14:29.477Z"
   },
   {
    "duration": 794,
    "start_time": "2023-04-01T10:14:31.043Z"
   },
   {
    "duration": 9,
    "start_time": "2023-04-01T10:14:31.839Z"
   },
   {
    "duration": 25,
    "start_time": "2023-04-01T10:14:31.850Z"
   },
   {
    "duration": 73,
    "start_time": "2023-04-01T10:14:31.877Z"
   },
   {
    "duration": 213,
    "start_time": "2023-04-01T10:14:31.951Z"
   },
   {
    "duration": 4,
    "start_time": "2023-04-01T10:15:13.783Z"
   },
   {
    "duration": 157,
    "start_time": "2023-04-01T10:17:55.205Z"
   },
   {
    "duration": 3,
    "start_time": "2023-04-01T10:18:03.613Z"
   },
   {
    "duration": 262,
    "start_time": "2023-04-01T10:18:08.173Z"
   },
   {
    "duration": 110,
    "start_time": "2023-04-01T10:18:50.097Z"
   },
   {
    "duration": 122,
    "start_time": "2023-04-01T10:19:08.181Z"
   },
   {
    "duration": 1094,
    "start_time": "2023-04-01T10:20:02.850Z"
   },
   {
    "duration": 701,
    "start_time": "2023-04-01T10:20:13.197Z"
   },
   {
    "duration": 187,
    "start_time": "2023-04-01T10:20:22.412Z"
   },
   {
    "duration": 1405,
    "start_time": "2023-04-01T10:37:02.396Z"
   },
   {
    "duration": 384,
    "start_time": "2023-04-01T10:37:10.912Z"
   },
   {
    "duration": 5,
    "start_time": "2023-04-01T10:39:14.994Z"
   },
   {
    "duration": 1004,
    "start_time": "2023-04-01T10:39:15.001Z"
   },
   {
    "duration": 10,
    "start_time": "2023-04-01T10:39:16.007Z"
   },
   {
    "duration": 10,
    "start_time": "2023-04-01T10:39:16.019Z"
   },
   {
    "duration": 87,
    "start_time": "2023-04-01T10:39:16.031Z"
   },
   {
    "duration": 202,
    "start_time": "2023-04-01T10:39:16.121Z"
   },
   {
    "duration": 1265,
    "start_time": "2023-04-01T10:39:16.326Z"
   },
   {
    "duration": 552,
    "start_time": "2023-04-01T10:49:12.546Z"
   },
   {
    "duration": 167,
    "start_time": "2023-04-01T11:08:56.786Z"
   },
   {
    "duration": 227,
    "start_time": "2023-04-01T11:09:12.348Z"
   },
   {
    "duration": 281,
    "start_time": "2023-04-01T11:09:23.033Z"
   },
   {
    "duration": 198,
    "start_time": "2023-04-01T11:09:28.541Z"
   },
   {
    "duration": 236,
    "start_time": "2023-04-01T11:09:35.026Z"
   },
   {
    "duration": 207,
    "start_time": "2023-04-01T11:09:38.399Z"
   },
   {
    "duration": 193,
    "start_time": "2023-04-01T11:09:43.487Z"
   },
   {
    "duration": 198,
    "start_time": "2023-04-01T11:09:47.472Z"
   },
   {
    "duration": 245,
    "start_time": "2023-04-01T11:10:16.066Z"
   },
   {
    "duration": 206,
    "start_time": "2023-04-01T11:10:24.016Z"
   },
   {
    "duration": 190,
    "start_time": "2023-04-01T11:10:28.334Z"
   },
   {
    "duration": 164,
    "start_time": "2023-04-01T11:10:48.758Z"
   },
   {
    "duration": 129,
    "start_time": "2023-04-01T11:10:56.254Z"
   },
   {
    "duration": 188,
    "start_time": "2023-04-01T11:10:59.844Z"
   },
   {
    "duration": 179,
    "start_time": "2023-04-01T11:11:06.774Z"
   },
   {
    "duration": 197,
    "start_time": "2023-04-01T11:11:17.467Z"
   },
   {
    "duration": 239,
    "start_time": "2023-04-01T11:11:30.576Z"
   },
   {
    "duration": 150,
    "start_time": "2023-04-01T11:11:41.642Z"
   },
   {
    "duration": 160,
    "start_time": "2023-04-01T11:12:46.591Z"
   },
   {
    "duration": 26,
    "start_time": "2023-04-01T11:15:56.799Z"
   },
   {
    "duration": 28,
    "start_time": "2023-04-01T11:16:02.436Z"
   },
   {
    "duration": 21,
    "start_time": "2023-04-01T11:18:48.493Z"
   },
   {
    "duration": 186,
    "start_time": "2023-04-01T11:19:08.301Z"
   },
   {
    "duration": 65,
    "start_time": "2023-04-01T11:19:21.691Z"
   },
   {
    "duration": 1472,
    "start_time": "2023-04-01T11:21:17.396Z"
   },
   {
    "duration": 801,
    "start_time": "2023-04-01T11:21:18.870Z"
   },
   {
    "duration": 17,
    "start_time": "2023-04-01T11:21:19.672Z"
   },
   {
    "duration": 10,
    "start_time": "2023-04-01T11:21:19.690Z"
   },
   {
    "duration": 69,
    "start_time": "2023-04-01T11:21:19.702Z"
   },
   {
    "duration": 184,
    "start_time": "2023-04-01T11:21:19.773Z"
   },
   {
    "duration": 531,
    "start_time": "2023-04-01T11:21:19.959Z"
   },
   {
    "duration": 110,
    "start_time": "2023-04-01T11:21:20.492Z"
   },
   {
    "duration": 103,
    "start_time": "2023-04-02T11:36:27.812Z"
   },
   {
    "duration": 2215,
    "start_time": "2023-04-02T11:36:34.502Z"
   },
   {
    "duration": 1698,
    "start_time": "2023-04-02T11:36:40.483Z"
   },
   {
    "duration": 1084,
    "start_time": "2023-04-02T11:36:42.183Z"
   },
   {
    "duration": 12,
    "start_time": "2023-04-02T11:36:43.272Z"
   },
   {
    "duration": 8,
    "start_time": "2023-04-02T11:36:43.289Z"
   },
   {
    "duration": 85,
    "start_time": "2023-04-02T11:36:43.303Z"
   },
   {
    "duration": 216,
    "start_time": "2023-04-02T11:36:43.393Z"
   },
   {
    "duration": 2035,
    "start_time": "2023-04-02T11:36:43.611Z"
   },
   {
    "duration": 34,
    "start_time": "2023-04-02T11:36:45.647Z"
   },
   {
    "duration": 87,
    "start_time": "2023-04-02T11:36:45.686Z"
   },
   {
    "duration": 19,
    "start_time": "2023-04-02T11:36:59.070Z"
   },
   {
    "duration": 8,
    "start_time": "2023-04-02T11:57:07.577Z"
   },
   {
    "duration": 10,
    "start_time": "2023-04-02T11:57:13.266Z"
   },
   {
    "duration": 1332,
    "start_time": "2023-04-02T12:03:39.685Z"
   },
   {
    "duration": 660,
    "start_time": "2023-04-02T12:03:41.019Z"
   },
   {
    "duration": 8,
    "start_time": "2023-04-02T12:03:41.681Z"
   },
   {
    "duration": 11,
    "start_time": "2023-04-02T12:03:41.690Z"
   },
   {
    "duration": 75,
    "start_time": "2023-04-02T12:03:41.702Z"
   },
   {
    "duration": 176,
    "start_time": "2023-04-02T12:03:41.778Z"
   },
   {
    "duration": 2107,
    "start_time": "2023-04-02T12:03:41.956Z"
   },
   {
    "duration": 189,
    "start_time": "2023-04-02T12:03:44.068Z"
   },
   {
    "duration": 5,
    "start_time": "2023-04-02T12:03:44.265Z"
   },
   {
    "duration": 2963,
    "start_time": "2023-04-02T12:40:16.770Z"
   },
   {
    "duration": 859,
    "start_time": "2023-04-02T12:40:19.736Z"
   },
   {
    "duration": 12,
    "start_time": "2023-04-02T12:40:20.598Z"
   },
   {
    "duration": 28,
    "start_time": "2023-04-02T12:40:20.613Z"
   },
   {
    "duration": 217,
    "start_time": "2023-04-02T12:40:20.644Z"
   },
   {
    "duration": 192,
    "start_time": "2023-04-02T12:40:20.862Z"
   },
   {
    "duration": 493,
    "start_time": "2023-04-02T12:40:21.056Z"
   },
   {
    "duration": 200,
    "start_time": "2023-04-02T12:40:21.551Z"
   },
   {
    "duration": 12,
    "start_time": "2023-04-02T12:40:21.753Z"
   },
   {
    "duration": 1769,
    "start_time": "2023-04-03T06:56:32.030Z"
   },
   {
    "duration": 1266,
    "start_time": "2023-04-03T06:56:33.801Z"
   },
   {
    "duration": 66,
    "start_time": "2023-04-03T06:56:35.069Z"
   },
   {
    "duration": 41,
    "start_time": "2023-04-03T06:56:35.136Z"
   },
   {
    "duration": 395,
    "start_time": "2023-04-03T06:56:35.179Z"
   },
   {
    "duration": 399,
    "start_time": "2023-04-03T06:56:35.576Z"
   },
   {
    "duration": 1169,
    "start_time": "2023-04-03T06:56:35.977Z"
   },
   {
    "duration": 115,
    "start_time": "2023-04-03T06:56:37.235Z"
   },
   {
    "duration": 5,
    "start_time": "2023-04-03T06:56:37.353Z"
   },
   {
    "duration": 28,
    "start_time": "2023-04-03T06:58:09.063Z"
   },
   {
    "duration": 6,
    "start_time": "2023-04-03T06:58:26.225Z"
   },
   {
    "duration": 6,
    "start_time": "2023-04-03T06:58:39.086Z"
   },
   {
    "duration": 137,
    "start_time": "2023-04-03T07:33:53.285Z"
   },
   {
    "duration": 71,
    "start_time": "2023-04-03T07:34:01.481Z"
   },
   {
    "duration": 66,
    "start_time": "2023-04-03T07:34:18.971Z"
   },
   {
    "duration": 73,
    "start_time": "2023-04-03T07:34:28.671Z"
   },
   {
    "duration": 70,
    "start_time": "2023-04-03T07:34:38.227Z"
   },
   {
    "duration": 181,
    "start_time": "2023-04-03T07:35:13.991Z"
   },
   {
    "duration": 186,
    "start_time": "2023-04-03T07:35:36.541Z"
   },
   {
    "duration": 811,
    "start_time": "2023-04-03T07:37:18.033Z"
   },
   {
    "duration": 511,
    "start_time": "2023-04-03T07:41:33.822Z"
   },
   {
    "duration": 24,
    "start_time": "2023-04-03T08:02:23.226Z"
   },
   {
    "duration": 3,
    "start_time": "2023-04-03T08:02:43.691Z"
   },
   {
    "duration": 10,
    "start_time": "2023-04-03T08:02:49.347Z"
   },
   {
    "duration": 12,
    "start_time": "2023-04-03T08:03:02.679Z"
   },
   {
    "duration": 12,
    "start_time": "2023-04-03T08:03:16.814Z"
   },
   {
    "duration": 13,
    "start_time": "2023-04-03T08:03:30.316Z"
   },
   {
    "duration": 17,
    "start_time": "2023-04-03T08:03:39.431Z"
   },
   {
    "duration": 13,
    "start_time": "2023-04-03T08:03:54.487Z"
   },
   {
    "duration": 9,
    "start_time": "2023-04-03T08:04:23.260Z"
   },
   {
    "duration": 6,
    "start_time": "2023-04-03T08:21:28.547Z"
   },
   {
    "duration": 1841,
    "start_time": "2023-04-03T08:21:35.782Z"
   },
   {
    "duration": 952,
    "start_time": "2023-04-03T08:21:37.626Z"
   },
   {
    "duration": 11,
    "start_time": "2023-04-03T08:21:38.580Z"
   },
   {
    "duration": 7,
    "start_time": "2023-04-03T08:21:38.593Z"
   },
   {
    "duration": 103,
    "start_time": "2023-04-03T08:21:38.603Z"
   },
   {
    "duration": 211,
    "start_time": "2023-04-03T08:21:38.708Z"
   },
   {
    "duration": 1435,
    "start_time": "2023-04-03T08:21:38.921Z"
   },
   {
    "duration": 131,
    "start_time": "2023-04-03T08:21:40.367Z"
   },
   {
    "duration": 46,
    "start_time": "2023-04-03T08:21:40.499Z"
   },
   {
    "duration": 39,
    "start_time": "2023-04-03T09:01:43.361Z"
   },
   {
    "duration": 21,
    "start_time": "2023-04-03T09:01:48.819Z"
   },
   {
    "duration": 32,
    "start_time": "2023-04-03T09:08:19.823Z"
   },
   {
    "duration": 2259,
    "start_time": "2023-04-03T09:13:05.772Z"
   },
   {
    "duration": 1116,
    "start_time": "2023-04-03T09:13:08.041Z"
   },
   {
    "duration": 39,
    "start_time": "2023-04-03T09:13:09.159Z"
   },
   {
    "duration": 17,
    "start_time": "2023-04-03T09:13:09.201Z"
   },
   {
    "duration": 21,
    "start_time": "2023-04-03T09:13:09.221Z"
   },
   {
    "duration": 154,
    "start_time": "2023-04-03T09:13:09.246Z"
   },
   {
    "duration": 242,
    "start_time": "2023-04-03T09:13:09.403Z"
   },
   {
    "duration": 869,
    "start_time": "2023-04-03T09:13:09.647Z"
   },
   {
    "duration": 171,
    "start_time": "2023-04-03T09:13:10.521Z"
   },
   {
    "duration": 16,
    "start_time": "2023-04-03T09:13:10.694Z"
   },
   {
    "duration": 19,
    "start_time": "2023-04-03T09:14:34.110Z"
   },
   {
    "duration": 7,
    "start_time": "2023-04-03T09:14:42.120Z"
   },
   {
    "duration": 13,
    "start_time": "2023-04-03T09:15:14.690Z"
   },
   {
    "duration": 127,
    "start_time": "2023-04-03T09:15:17.696Z"
   },
   {
    "duration": 232,
    "start_time": "2023-04-03T09:15:24.294Z"
   },
   {
    "duration": 1553,
    "start_time": "2023-04-03T09:15:29.215Z"
   },
   {
    "duration": 55,
    "start_time": "2023-04-03T09:15:36.903Z"
   },
   {
    "duration": 20,
    "start_time": "2023-04-03T09:30:53.965Z"
   },
   {
    "duration": 9,
    "start_time": "2023-04-03T09:31:34.271Z"
   },
   {
    "duration": 152,
    "start_time": "2023-04-03T09:32:43.409Z"
   },
   {
    "duration": 103,
    "start_time": "2023-04-03T09:32:57.413Z"
   },
   {
    "duration": 129,
    "start_time": "2023-04-03T09:33:03.920Z"
   },
   {
    "duration": 213,
    "start_time": "2023-04-03T09:34:19.101Z"
   },
   {
    "duration": 12,
    "start_time": "2023-04-03T09:34:30.585Z"
   },
   {
    "duration": 7,
    "start_time": "2023-04-03T09:34:58.815Z"
   },
   {
    "duration": 7,
    "start_time": "2023-04-03T10:02:35.671Z"
   },
   {
    "duration": 7,
    "start_time": "2023-04-03T10:02:41.332Z"
   },
   {
    "duration": 6,
    "start_time": "2023-04-03T10:02:44.758Z"
   },
   {
    "duration": 6,
    "start_time": "2023-04-03T10:02:48.677Z"
   },
   {
    "duration": 8,
    "start_time": "2023-04-03T10:02:52.620Z"
   },
   {
    "duration": 7,
    "start_time": "2023-04-03T10:02:58.626Z"
   },
   {
    "duration": 7,
    "start_time": "2023-04-03T10:03:07.699Z"
   },
   {
    "duration": 12,
    "start_time": "2023-04-03T10:03:21.392Z"
   },
   {
    "duration": 1820,
    "start_time": "2023-04-03T10:18:57.037Z"
   },
   {
    "duration": 976,
    "start_time": "2023-04-03T10:18:58.866Z"
   },
   {
    "duration": 17,
    "start_time": "2023-04-03T10:18:59.847Z"
   },
   {
    "duration": 11,
    "start_time": "2023-04-03T10:18:59.868Z"
   },
   {
    "duration": 18,
    "start_time": "2023-04-03T10:18:59.881Z"
   },
   {
    "duration": 37,
    "start_time": "2023-04-03T10:18:59.901Z"
   },
   {
    "duration": 125,
    "start_time": "2023-04-03T10:18:59.940Z"
   },
   {
    "duration": 172,
    "start_time": "2023-04-03T10:19:00.070Z"
   },
   {
    "duration": 613,
    "start_time": "2023-04-03T10:19:00.244Z"
   },
   {
    "duration": 59,
    "start_time": "2023-04-03T10:19:00.934Z"
   },
   {
    "duration": 45,
    "start_time": "2023-04-03T10:19:00.996Z"
   },
   {
    "duration": 25,
    "start_time": "2023-04-03T10:20:57.305Z"
   },
   {
    "duration": 7,
    "start_time": "2023-04-03T10:21:03.314Z"
   }
  ],
  "kernelspec": {
   "display_name": "Python 3 (ipykernel)",
   "language": "python",
   "name": "python3"
  },
  "language_info": {
   "codemirror_mode": {
    "name": "ipython",
    "version": 3
   },
   "file_extension": ".py",
   "mimetype": "text/x-python",
   "name": "python",
   "nbconvert_exporter": "python",
   "pygments_lexer": "ipython3",
   "version": "3.9.13"
  },
  "toc": {
   "base_numbering": 1,
   "nav_menu": {},
   "number_sections": true,
   "sideBar": true,
   "skip_h1_title": true,
   "title_cell": "Table of Contents",
   "title_sidebar": "Contents",
   "toc_cell": false,
   "toc_position": {
    "height": "calc(100% - 180px)",
    "left": "10px",
    "top": "150px",
    "width": "384px"
   },
   "toc_section_display": true,
   "toc_window_display": true
  }
 },
 "nbformat": 4,
 "nbformat_minor": 2
}
