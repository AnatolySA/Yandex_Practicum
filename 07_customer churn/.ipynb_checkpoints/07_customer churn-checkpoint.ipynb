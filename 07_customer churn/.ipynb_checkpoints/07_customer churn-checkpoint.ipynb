{
 "cells": [
  {
   "cell_type": "code",
   "execution_count": 1,
   "metadata": {
    "collapsed": true
   },
   "outputs": [
    {
     "name": "stdout",
     "output_type": "stream",
     "text": [
      "Requirement already satisfied: scikit-learn==1.1.3 in /opt/conda/lib/python3.9/site-packages (1.1.3)\n",
      "Requirement already satisfied: threadpoolctl>=2.0.0 in /opt/conda/lib/python3.9/site-packages (from scikit-learn==1.1.3) (3.1.0)\n",
      "Requirement already satisfied: numpy>=1.17.3 in /opt/conda/lib/python3.9/site-packages (from scikit-learn==1.1.3) (1.21.1)\n",
      "Requirement already satisfied: joblib>=1.0.0 in /opt/conda/lib/python3.9/site-packages (from scikit-learn==1.1.3) (1.2.0)\n",
      "Requirement already satisfied: scipy>=1.3.2 in /opt/conda/lib/python3.9/site-packages (from scikit-learn==1.1.3) (1.9.1)\n"
     ]
    }
   ],
   "source": [
    "!pip install scikit-learn==1.1.3"
   ]
  },
  {
   "cell_type": "code",
   "execution_count": 2,
   "metadata": {
    "collapsed": true
   },
   "outputs": [
    {
     "name": "stdout",
     "output_type": "stream",
     "text": [
      "Requirement already satisfied: imblearn in /opt/conda/lib/python3.9/site-packages (0.0)\r\n",
      "Requirement already satisfied: imbalanced-learn in /opt/conda/lib/python3.9/site-packages (from imblearn) (0.10.1)\r\n",
      "Requirement already satisfied: scikit-learn>=1.0.2 in /opt/conda/lib/python3.9/site-packages (from imbalanced-learn->imblearn) (1.1.3)\r\n",
      "Requirement already satisfied: scipy>=1.3.2 in /opt/conda/lib/python3.9/site-packages (from imbalanced-learn->imblearn) (1.9.1)\r\n",
      "Requirement already satisfied: numpy>=1.17.3 in /opt/conda/lib/python3.9/site-packages (from imbalanced-learn->imblearn) (1.21.1)\r\n",
      "Requirement already satisfied: joblib>=1.1.1 in /opt/conda/lib/python3.9/site-packages (from imbalanced-learn->imblearn) (1.2.0)\r\n",
      "Requirement already satisfied: threadpoolctl>=2.0.0 in /opt/conda/lib/python3.9/site-packages (from imbalanced-learn->imblearn) (3.1.0)\r\n"
     ]
    }
   ],
   "source": [
    "!pip install imblearn"
   ]
  },
  {
   "cell_type": "code",
   "execution_count": 3,
   "metadata": {},
   "outputs": [],
   "source": [
    "from imblearn.over_sampling import SMOTE"
   ]
  },
  {
   "cell_type": "markdown",
   "metadata": {
    "toc": true
   },
   "source": [
    "<h1>Содержание<span class=\"tocSkip\"></span></h1>\n",
    "<div class=\"toc\"><ul class=\"toc-item\"><li><span><a href=\"#Подготовка-данных\" data-toc-modified-id=\"Подготовка-данных-1\"><span class=\"toc-item-num\">1&nbsp;&nbsp;</span>Подготовка данных</a></span></li><li><span><a href=\"#Исследование-задачи\" data-toc-modified-id=\"Исследование-задачи-2\"><span class=\"toc-item-num\">2&nbsp;&nbsp;</span>Исследование задачи</a></span><ul class=\"toc-item\"><li><span><a href=\"#Модель-решающего-дерева\" data-toc-modified-id=\"Модель-решающего-дерева-2.1\"><span class=\"toc-item-num\">2.1&nbsp;&nbsp;</span>Модель решающего дерева</a></span></li><li><span><a href=\"#Модель-случайного-леса\" data-toc-modified-id=\"Модель-случайного-леса-2.2\"><span class=\"toc-item-num\">2.2&nbsp;&nbsp;</span>Модель случайного леса</a></span></li><li><span><a href=\"#Модель-логистической-регрессии\" data-toc-modified-id=\"Модель-логистической-регрессии-2.3\"><span class=\"toc-item-num\">2.3&nbsp;&nbsp;</span>Модель логистической регрессии</a></span></li><li><span><a href=\"#Константная-модель\" data-toc-modified-id=\"Константная-модель-2.4\"><span class=\"toc-item-num\">2.4&nbsp;&nbsp;</span>Константная модель</a></span></li><li><span><a href=\"#Вывод\" data-toc-modified-id=\"Вывод-2.5\"><span class=\"toc-item-num\">2.5&nbsp;&nbsp;</span>Вывод</a></span></li></ul></li><li><span><a href=\"#Борьба-с-дисбалансом\" data-toc-modified-id=\"Борьба-с-дисбалансом-3\"><span class=\"toc-item-num\">3&nbsp;&nbsp;</span>Борьба с дисбалансом</a></span><ul class=\"toc-item\"><li><span><a href=\"#Взвешивание-классов\" data-toc-modified-id=\"Взвешивание-классов-3.1\"><span class=\"toc-item-num\">3.1&nbsp;&nbsp;</span>Взвешивание классов</a></span><ul class=\"toc-item\"><li><span><a href=\"#Модель-решаюшего-дерева\" data-toc-modified-id=\"Модель-решаюшего-дерева-3.1.1\"><span class=\"toc-item-num\">3.1.1&nbsp;&nbsp;</span>Модель решаюшего дерева</a></span></li><li><span><a href=\"#Модель-случайного-леса\" data-toc-modified-id=\"Модель-случайного-леса-3.1.2\"><span class=\"toc-item-num\">3.1.2&nbsp;&nbsp;</span>Модель случайного леса</a></span></li><li><span><a href=\"#Модель-логистической-регрессии\" data-toc-modified-id=\"Модель-логистической-регрессии-3.1.3\"><span class=\"toc-item-num\">3.1.3&nbsp;&nbsp;</span>Модель логистической регрессии</a></span></li><li><span><a href=\"#Вывод\" data-toc-modified-id=\"Вывод-3.1.4\"><span class=\"toc-item-num\">3.1.4&nbsp;&nbsp;</span>Вывод</a></span></li></ul></li><li><span><a href=\"#Увеличение-выборки\" data-toc-modified-id=\"Увеличение-выборки-3.2\"><span class=\"toc-item-num\">3.2&nbsp;&nbsp;</span>Увеличение выборки</a></span><ul class=\"toc-item\"><li><span><a href=\"#Модель-решаюшего-дерева\" data-toc-modified-id=\"Модель-решаюшего-дерева-3.2.1\"><span class=\"toc-item-num\">3.2.1&nbsp;&nbsp;</span>Модель решаюшего дерева</a></span></li><li><span><a href=\"#Модель-случайного-леса\" data-toc-modified-id=\"Модель-случайного-леса-3.2.2\"><span class=\"toc-item-num\">3.2.2&nbsp;&nbsp;</span>Модель случайного леса</a></span></li><li><span><a href=\"#Модель-логистической-регрессии\" data-toc-modified-id=\"Модель-логистической-регрессии-3.2.3\"><span class=\"toc-item-num\">3.2.3&nbsp;&nbsp;</span>Модель логистической регрессии</a></span></li><li><span><a href=\"#Вывод\" data-toc-modified-id=\"Вывод-3.2.4\"><span class=\"toc-item-num\">3.2.4&nbsp;&nbsp;</span>Вывод</a></span></li></ul></li><li><span><a href=\"#Уменьшение-выборки\" data-toc-modified-id=\"Уменьшение-выборки-3.3\"><span class=\"toc-item-num\">3.3&nbsp;&nbsp;</span>Уменьшение выборки</a></span><ul class=\"toc-item\"><li><span><a href=\"#Модель-решаюшего-дерева\" data-toc-modified-id=\"Модель-решаюшего-дерева-3.3.1\"><span class=\"toc-item-num\">3.3.1&nbsp;&nbsp;</span>Модель решаюшего дерева</a></span></li><li><span><a href=\"#Модель-случайного-леса\" data-toc-modified-id=\"Модель-случайного-леса-3.3.2\"><span class=\"toc-item-num\">3.3.2&nbsp;&nbsp;</span>Модель случайного леса</a></span></li><li><span><a href=\"#Модель-логистической-регрессии\" data-toc-modified-id=\"Модель-логистической-регрессии-3.3.3\"><span class=\"toc-item-num\">3.3.3&nbsp;&nbsp;</span>Модель логистической регрессии</a></span></li><li><span><a href=\"#Вывод\" data-toc-modified-id=\"Вывод-3.3.4\"><span class=\"toc-item-num\">3.3.4&nbsp;&nbsp;</span>Вывод</a></span></li></ul></li><li><span><a href=\"#Общий-вывод\" data-toc-modified-id=\"Общий-вывод-3.4\"><span class=\"toc-item-num\">3.4&nbsp;&nbsp;</span>Общий вывод</a></span></li></ul></li><li><span><a href=\"#Тестирование-модели\" data-toc-modified-id=\"Тестирование-модели-4\"><span class=\"toc-item-num\">4&nbsp;&nbsp;</span>Тестирование модели</a></span></li><li><span><a href=\"#Чек-лист-готовности-проекта\" data-toc-modified-id=\"Чек-лист-готовности-проекта-5\"><span class=\"toc-item-num\">5&nbsp;&nbsp;</span>Чек-лист готовности проекта</a></span></li></ul></div>"
   ]
  },
  {
   "cell_type": "markdown",
   "metadata": {},
   "source": [
    "# Отток клиентов"
   ]
  },
  {
   "cell_type": "markdown",
   "metadata": {},
   "source": [
    "Из «Бета-Банка» стали уходить клиенты. Каждый месяц. Немного, но заметно. Банковские маркетологи посчитали: сохранять текущих клиентов дешевле, чем привлекать новых.\n",
    "\n",
    "Нужно спрогнозировать, уйдёт клиент из банка в ближайшее время или нет. Вам предоставлены исторические данные о поведении клиентов и расторжении договоров с банком. \n",
    "\n",
    "Постройте модель с предельно большим значением *F1*-меры. Чтобы сдать проект успешно, нужно довести метрику до 0.59. Проверьте *F1*-меру на тестовой выборке самостоятельно.\n",
    "\n",
    "Дополнительно измеряйте *AUC-ROC*, сравнивайте её значение с *F1*-мерой.\n",
    "\n",
    "Источник данных: [https://www.kaggle.com/barelydedicated/bank-customer-churn-modeling](https://www.kaggle.com/barelydedicated/bank-customer-churn-modeling)"
   ]
  },
  {
   "cell_type": "markdown",
   "metadata": {},
   "source": [
    "## Подготовка данных"
   ]
  },
  {
   "cell_type": "code",
   "execution_count": 4,
   "metadata": {},
   "outputs": [],
   "source": [
    "# Импортируем модули, необходимые для решения поставленной задачи\n",
    "import numpy as np\n",
    "import pandas as pd\n",
    "import seaborn as sns\n",
    "from sklearn.dummy import DummyClassifier\n",
    "from sklearn.ensemble import RandomForestClassifier\n",
    "from sklearn.linear_model import LogisticRegression\n",
    "from sklearn.metrics import (\n",
    "    accuracy_score,\n",
    "    confusion_matrix,\n",
    "    f1_score,\n",
    "    precision_score,    \n",
    "    mean_absolute_error,\n",
    "    recall_score,\n",
    "    roc_auc_score\n",
    ")\n",
    "from sklearn.model_selection import train_test_split\n",
    "from sklearn.preprocessing import (\n",
    "    OneHotEncoder,\n",
    "    \n",
    "    \n",
    ")\n",
    "\n",
    "from sklearn.tree import DecisionTreeClassifier\n",
    "from sklearn.utils import shuffle"
   ]
  },
  {
   "cell_type": "code",
   "execution_count": 5,
   "metadata": {
    "scrolled": false
   },
   "outputs": [
    {
     "data": {
      "text/html": [
       "<div>\n",
       "<style scoped>\n",
       "    .dataframe tbody tr th:only-of-type {\n",
       "        vertical-align: middle;\n",
       "    }\n",
       "\n",
       "    .dataframe tbody tr th {\n",
       "        vertical-align: top;\n",
       "    }\n",
       "\n",
       "    .dataframe thead th {\n",
       "        text-align: right;\n",
       "    }\n",
       "</style>\n",
       "<table border=\"1\" class=\"dataframe\">\n",
       "  <thead>\n",
       "    <tr style=\"text-align: right;\">\n",
       "      <th></th>\n",
       "      <th>RowNumber</th>\n",
       "      <th>CustomerId</th>\n",
       "      <th>Surname</th>\n",
       "      <th>CreditScore</th>\n",
       "      <th>Geography</th>\n",
       "      <th>Gender</th>\n",
       "      <th>Age</th>\n",
       "      <th>Tenure</th>\n",
       "      <th>Balance</th>\n",
       "      <th>NumOfProducts</th>\n",
       "      <th>HasCrCard</th>\n",
       "      <th>IsActiveMember</th>\n",
       "      <th>EstimatedSalary</th>\n",
       "      <th>Exited</th>\n",
       "    </tr>\n",
       "  </thead>\n",
       "  <tbody>\n",
       "    <tr>\n",
       "      <th>0</th>\n",
       "      <td>1</td>\n",
       "      <td>15634602</td>\n",
       "      <td>Hargrave</td>\n",
       "      <td>619</td>\n",
       "      <td>France</td>\n",
       "      <td>Female</td>\n",
       "      <td>42</td>\n",
       "      <td>2.0</td>\n",
       "      <td>0.00</td>\n",
       "      <td>1</td>\n",
       "      <td>1</td>\n",
       "      <td>1</td>\n",
       "      <td>101348.88</td>\n",
       "      <td>1</td>\n",
       "    </tr>\n",
       "    <tr>\n",
       "      <th>1</th>\n",
       "      <td>2</td>\n",
       "      <td>15647311</td>\n",
       "      <td>Hill</td>\n",
       "      <td>608</td>\n",
       "      <td>Spain</td>\n",
       "      <td>Female</td>\n",
       "      <td>41</td>\n",
       "      <td>1.0</td>\n",
       "      <td>83807.86</td>\n",
       "      <td>1</td>\n",
       "      <td>0</td>\n",
       "      <td>1</td>\n",
       "      <td>112542.58</td>\n",
       "      <td>0</td>\n",
       "    </tr>\n",
       "    <tr>\n",
       "      <th>2</th>\n",
       "      <td>3</td>\n",
       "      <td>15619304</td>\n",
       "      <td>Onio</td>\n",
       "      <td>502</td>\n",
       "      <td>France</td>\n",
       "      <td>Female</td>\n",
       "      <td>42</td>\n",
       "      <td>8.0</td>\n",
       "      <td>159660.80</td>\n",
       "      <td>3</td>\n",
       "      <td>1</td>\n",
       "      <td>0</td>\n",
       "      <td>113931.57</td>\n",
       "      <td>1</td>\n",
       "    </tr>\n",
       "    <tr>\n",
       "      <th>3</th>\n",
       "      <td>4</td>\n",
       "      <td>15701354</td>\n",
       "      <td>Boni</td>\n",
       "      <td>699</td>\n",
       "      <td>France</td>\n",
       "      <td>Female</td>\n",
       "      <td>39</td>\n",
       "      <td>1.0</td>\n",
       "      <td>0.00</td>\n",
       "      <td>2</td>\n",
       "      <td>0</td>\n",
       "      <td>0</td>\n",
       "      <td>93826.63</td>\n",
       "      <td>0</td>\n",
       "    </tr>\n",
       "    <tr>\n",
       "      <th>4</th>\n",
       "      <td>5</td>\n",
       "      <td>15737888</td>\n",
       "      <td>Mitchell</td>\n",
       "      <td>850</td>\n",
       "      <td>Spain</td>\n",
       "      <td>Female</td>\n",
       "      <td>43</td>\n",
       "      <td>2.0</td>\n",
       "      <td>125510.82</td>\n",
       "      <td>1</td>\n",
       "      <td>1</td>\n",
       "      <td>1</td>\n",
       "      <td>79084.10</td>\n",
       "      <td>0</td>\n",
       "    </tr>\n",
       "    <tr>\n",
       "      <th>5</th>\n",
       "      <td>6</td>\n",
       "      <td>15574012</td>\n",
       "      <td>Chu</td>\n",
       "      <td>645</td>\n",
       "      <td>Spain</td>\n",
       "      <td>Male</td>\n",
       "      <td>44</td>\n",
       "      <td>8.0</td>\n",
       "      <td>113755.78</td>\n",
       "      <td>2</td>\n",
       "      <td>1</td>\n",
       "      <td>0</td>\n",
       "      <td>149756.71</td>\n",
       "      <td>1</td>\n",
       "    </tr>\n",
       "    <tr>\n",
       "      <th>6</th>\n",
       "      <td>7</td>\n",
       "      <td>15592531</td>\n",
       "      <td>Bartlett</td>\n",
       "      <td>822</td>\n",
       "      <td>France</td>\n",
       "      <td>Male</td>\n",
       "      <td>50</td>\n",
       "      <td>7.0</td>\n",
       "      <td>0.00</td>\n",
       "      <td>2</td>\n",
       "      <td>1</td>\n",
       "      <td>1</td>\n",
       "      <td>10062.80</td>\n",
       "      <td>0</td>\n",
       "    </tr>\n",
       "    <tr>\n",
       "      <th>7</th>\n",
       "      <td>8</td>\n",
       "      <td>15656148</td>\n",
       "      <td>Obinna</td>\n",
       "      <td>376</td>\n",
       "      <td>Germany</td>\n",
       "      <td>Female</td>\n",
       "      <td>29</td>\n",
       "      <td>4.0</td>\n",
       "      <td>115046.74</td>\n",
       "      <td>4</td>\n",
       "      <td>1</td>\n",
       "      <td>0</td>\n",
       "      <td>119346.88</td>\n",
       "      <td>1</td>\n",
       "    </tr>\n",
       "    <tr>\n",
       "      <th>8</th>\n",
       "      <td>9</td>\n",
       "      <td>15792365</td>\n",
       "      <td>He</td>\n",
       "      <td>501</td>\n",
       "      <td>France</td>\n",
       "      <td>Male</td>\n",
       "      <td>44</td>\n",
       "      <td>4.0</td>\n",
       "      <td>142051.07</td>\n",
       "      <td>2</td>\n",
       "      <td>0</td>\n",
       "      <td>1</td>\n",
       "      <td>74940.50</td>\n",
       "      <td>0</td>\n",
       "    </tr>\n",
       "    <tr>\n",
       "      <th>9</th>\n",
       "      <td>10</td>\n",
       "      <td>15592389</td>\n",
       "      <td>H?</td>\n",
       "      <td>684</td>\n",
       "      <td>France</td>\n",
       "      <td>Male</td>\n",
       "      <td>27</td>\n",
       "      <td>2.0</td>\n",
       "      <td>134603.88</td>\n",
       "      <td>1</td>\n",
       "      <td>1</td>\n",
       "      <td>1</td>\n",
       "      <td>71725.73</td>\n",
       "      <td>0</td>\n",
       "    </tr>\n",
       "  </tbody>\n",
       "</table>\n",
       "</div>"
      ],
      "text/plain": [
       "   RowNumber  CustomerId   Surname  CreditScore Geography  Gender  Age  \\\n",
       "0          1    15634602  Hargrave          619    France  Female   42   \n",
       "1          2    15647311      Hill          608     Spain  Female   41   \n",
       "2          3    15619304      Onio          502    France  Female   42   \n",
       "3          4    15701354      Boni          699    France  Female   39   \n",
       "4          5    15737888  Mitchell          850     Spain  Female   43   \n",
       "5          6    15574012       Chu          645     Spain    Male   44   \n",
       "6          7    15592531  Bartlett          822    France    Male   50   \n",
       "7          8    15656148    Obinna          376   Germany  Female   29   \n",
       "8          9    15792365        He          501    France    Male   44   \n",
       "9         10    15592389        H?          684    France    Male   27   \n",
       "\n",
       "   Tenure    Balance  NumOfProducts  HasCrCard  IsActiveMember  \\\n",
       "0     2.0       0.00              1          1               1   \n",
       "1     1.0   83807.86              1          0               1   \n",
       "2     8.0  159660.80              3          1               0   \n",
       "3     1.0       0.00              2          0               0   \n",
       "4     2.0  125510.82              1          1               1   \n",
       "5     8.0  113755.78              2          1               0   \n",
       "6     7.0       0.00              2          1               1   \n",
       "7     4.0  115046.74              4          1               0   \n",
       "8     4.0  142051.07              2          0               1   \n",
       "9     2.0  134603.88              1          1               1   \n",
       "\n",
       "   EstimatedSalary  Exited  \n",
       "0        101348.88       1  \n",
       "1        112542.58       0  \n",
       "2        113931.57       1  \n",
       "3         93826.63       0  \n",
       "4         79084.10       0  \n",
       "5        149756.71       1  \n",
       "6         10062.80       0  \n",
       "7        119346.88       1  \n",
       "8         74940.50       0  \n",
       "9         71725.73       0  "
      ]
     },
     "execution_count": 5,
     "metadata": {},
     "output_type": "execute_result"
    }
   ],
   "source": [
    "# Считываем данные из файла\n",
    "data = pd.read_csv('/datasets/Churn.csv')\n",
    "# Выведем на экран первые 10 строк датафрейма\n",
    "data.head(10)"
   ]
  },
  {
   "cell_type": "markdown",
   "metadata": {},
   "source": [
    "В датафрейме есть ряды как с числовыми, так и категориальными данными."
   ]
  },
  {
   "cell_type": "code",
   "execution_count": 6,
   "metadata": {
    "scrolled": false
   },
   "outputs": [
    {
     "name": "stdout",
     "output_type": "stream",
     "text": [
      "<class 'pandas.core.frame.DataFrame'>\n",
      "RangeIndex: 10000 entries, 0 to 9999\n",
      "Data columns (total 14 columns):\n",
      " #   Column           Non-Null Count  Dtype  \n",
      "---  ------           --------------  -----  \n",
      " 0   RowNumber        10000 non-null  int64  \n",
      " 1   CustomerId       10000 non-null  int64  \n",
      " 2   Surname          10000 non-null  object \n",
      " 3   CreditScore      10000 non-null  int64  \n",
      " 4   Geography        10000 non-null  object \n",
      " 5   Gender           10000 non-null  object \n",
      " 6   Age              10000 non-null  int64  \n",
      " 7   Tenure           9091 non-null   float64\n",
      " 8   Balance          10000 non-null  float64\n",
      " 9   NumOfProducts    10000 non-null  int64  \n",
      " 10  HasCrCard        10000 non-null  int64  \n",
      " 11  IsActiveMember   10000 non-null  int64  \n",
      " 12  EstimatedSalary  10000 non-null  float64\n",
      " 13  Exited           10000 non-null  int64  \n",
      "dtypes: float64(3), int64(8), object(3)\n",
      "memory usage: 1.1+ MB\n"
     ]
    }
   ],
   "source": [
    "# Выведем на экран основную информацию о датафрейме\n",
    "data.info()"
   ]
  },
  {
   "cell_type": "code",
   "execution_count": 7,
   "metadata": {},
   "outputs": [
    {
     "data": {
      "text/html": [
       "<div>\n",
       "<style scoped>\n",
       "    .dataframe tbody tr th:only-of-type {\n",
       "        vertical-align: middle;\n",
       "    }\n",
       "\n",
       "    .dataframe tbody tr th {\n",
       "        vertical-align: top;\n",
       "    }\n",
       "\n",
       "    .dataframe thead th {\n",
       "        text-align: right;\n",
       "    }\n",
       "</style>\n",
       "<table border=\"1\" class=\"dataframe\">\n",
       "  <thead>\n",
       "    <tr style=\"text-align: right;\">\n",
       "      <th></th>\n",
       "      <th>count</th>\n",
       "      <th>unique</th>\n",
       "      <th>top</th>\n",
       "      <th>freq</th>\n",
       "      <th>mean</th>\n",
       "      <th>std</th>\n",
       "      <th>min</th>\n",
       "      <th>25%</th>\n",
       "      <th>50%</th>\n",
       "      <th>75%</th>\n",
       "      <th>max</th>\n",
       "    </tr>\n",
       "  </thead>\n",
       "  <tbody>\n",
       "    <tr>\n",
       "      <th>RowNumber</th>\n",
       "      <td>10000.0</td>\n",
       "      <td>NaN</td>\n",
       "      <td>NaN</td>\n",
       "      <td>NaN</td>\n",
       "      <td>5000.5</td>\n",
       "      <td>2886.89568</td>\n",
       "      <td>1.0</td>\n",
       "      <td>2500.75</td>\n",
       "      <td>5000.5</td>\n",
       "      <td>7500.25</td>\n",
       "      <td>10000.0</td>\n",
       "    </tr>\n",
       "    <tr>\n",
       "      <th>CustomerId</th>\n",
       "      <td>10000.0</td>\n",
       "      <td>NaN</td>\n",
       "      <td>NaN</td>\n",
       "      <td>NaN</td>\n",
       "      <td>15690940.5694</td>\n",
       "      <td>71936.186123</td>\n",
       "      <td>15565701.0</td>\n",
       "      <td>15628528.25</td>\n",
       "      <td>15690738.0</td>\n",
       "      <td>15753233.75</td>\n",
       "      <td>15815690.0</td>\n",
       "    </tr>\n",
       "    <tr>\n",
       "      <th>Surname</th>\n",
       "      <td>10000</td>\n",
       "      <td>2932</td>\n",
       "      <td>Smith</td>\n",
       "      <td>32</td>\n",
       "      <td>NaN</td>\n",
       "      <td>NaN</td>\n",
       "      <td>NaN</td>\n",
       "      <td>NaN</td>\n",
       "      <td>NaN</td>\n",
       "      <td>NaN</td>\n",
       "      <td>NaN</td>\n",
       "    </tr>\n",
       "    <tr>\n",
       "      <th>CreditScore</th>\n",
       "      <td>10000.0</td>\n",
       "      <td>NaN</td>\n",
       "      <td>NaN</td>\n",
       "      <td>NaN</td>\n",
       "      <td>650.5288</td>\n",
       "      <td>96.653299</td>\n",
       "      <td>350.0</td>\n",
       "      <td>584.0</td>\n",
       "      <td>652.0</td>\n",
       "      <td>718.0</td>\n",
       "      <td>850.0</td>\n",
       "    </tr>\n",
       "    <tr>\n",
       "      <th>Geography</th>\n",
       "      <td>10000</td>\n",
       "      <td>3</td>\n",
       "      <td>France</td>\n",
       "      <td>5014</td>\n",
       "      <td>NaN</td>\n",
       "      <td>NaN</td>\n",
       "      <td>NaN</td>\n",
       "      <td>NaN</td>\n",
       "      <td>NaN</td>\n",
       "      <td>NaN</td>\n",
       "      <td>NaN</td>\n",
       "    </tr>\n",
       "    <tr>\n",
       "      <th>Gender</th>\n",
       "      <td>10000</td>\n",
       "      <td>2</td>\n",
       "      <td>Male</td>\n",
       "      <td>5457</td>\n",
       "      <td>NaN</td>\n",
       "      <td>NaN</td>\n",
       "      <td>NaN</td>\n",
       "      <td>NaN</td>\n",
       "      <td>NaN</td>\n",
       "      <td>NaN</td>\n",
       "      <td>NaN</td>\n",
       "    </tr>\n",
       "    <tr>\n",
       "      <th>Age</th>\n",
       "      <td>10000.0</td>\n",
       "      <td>NaN</td>\n",
       "      <td>NaN</td>\n",
       "      <td>NaN</td>\n",
       "      <td>38.9218</td>\n",
       "      <td>10.487806</td>\n",
       "      <td>18.0</td>\n",
       "      <td>32.0</td>\n",
       "      <td>37.0</td>\n",
       "      <td>44.0</td>\n",
       "      <td>92.0</td>\n",
       "    </tr>\n",
       "    <tr>\n",
       "      <th>Tenure</th>\n",
       "      <td>9091.0</td>\n",
       "      <td>NaN</td>\n",
       "      <td>NaN</td>\n",
       "      <td>NaN</td>\n",
       "      <td>4.99769</td>\n",
       "      <td>2.894723</td>\n",
       "      <td>0.0</td>\n",
       "      <td>2.0</td>\n",
       "      <td>5.0</td>\n",
       "      <td>7.0</td>\n",
       "      <td>10.0</td>\n",
       "    </tr>\n",
       "    <tr>\n",
       "      <th>Balance</th>\n",
       "      <td>10000.0</td>\n",
       "      <td>NaN</td>\n",
       "      <td>NaN</td>\n",
       "      <td>NaN</td>\n",
       "      <td>76485.889288</td>\n",
       "      <td>62397.405202</td>\n",
       "      <td>0.0</td>\n",
       "      <td>0.0</td>\n",
       "      <td>97198.54</td>\n",
       "      <td>127644.24</td>\n",
       "      <td>250898.09</td>\n",
       "    </tr>\n",
       "    <tr>\n",
       "      <th>NumOfProducts</th>\n",
       "      <td>10000.0</td>\n",
       "      <td>NaN</td>\n",
       "      <td>NaN</td>\n",
       "      <td>NaN</td>\n",
       "      <td>1.5302</td>\n",
       "      <td>0.581654</td>\n",
       "      <td>1.0</td>\n",
       "      <td>1.0</td>\n",
       "      <td>1.0</td>\n",
       "      <td>2.0</td>\n",
       "      <td>4.0</td>\n",
       "    </tr>\n",
       "    <tr>\n",
       "      <th>HasCrCard</th>\n",
       "      <td>10000.0</td>\n",
       "      <td>NaN</td>\n",
       "      <td>NaN</td>\n",
       "      <td>NaN</td>\n",
       "      <td>0.7055</td>\n",
       "      <td>0.45584</td>\n",
       "      <td>0.0</td>\n",
       "      <td>0.0</td>\n",
       "      <td>1.0</td>\n",
       "      <td>1.0</td>\n",
       "      <td>1.0</td>\n",
       "    </tr>\n",
       "    <tr>\n",
       "      <th>IsActiveMember</th>\n",
       "      <td>10000.0</td>\n",
       "      <td>NaN</td>\n",
       "      <td>NaN</td>\n",
       "      <td>NaN</td>\n",
       "      <td>0.5151</td>\n",
       "      <td>0.499797</td>\n",
       "      <td>0.0</td>\n",
       "      <td>0.0</td>\n",
       "      <td>1.0</td>\n",
       "      <td>1.0</td>\n",
       "      <td>1.0</td>\n",
       "    </tr>\n",
       "    <tr>\n",
       "      <th>EstimatedSalary</th>\n",
       "      <td>10000.0</td>\n",
       "      <td>NaN</td>\n",
       "      <td>NaN</td>\n",
       "      <td>NaN</td>\n",
       "      <td>100090.239881</td>\n",
       "      <td>57510.492818</td>\n",
       "      <td>11.58</td>\n",
       "      <td>51002.11</td>\n",
       "      <td>100193.915</td>\n",
       "      <td>149388.2475</td>\n",
       "      <td>199992.48</td>\n",
       "    </tr>\n",
       "    <tr>\n",
       "      <th>Exited</th>\n",
       "      <td>10000.0</td>\n",
       "      <td>NaN</td>\n",
       "      <td>NaN</td>\n",
       "      <td>NaN</td>\n",
       "      <td>0.2037</td>\n",
       "      <td>0.402769</td>\n",
       "      <td>0.0</td>\n",
       "      <td>0.0</td>\n",
       "      <td>0.0</td>\n",
       "      <td>0.0</td>\n",
       "      <td>1.0</td>\n",
       "    </tr>\n",
       "  </tbody>\n",
       "</table>\n",
       "</div>"
      ],
      "text/plain": [
       "                   count unique     top  freq           mean           std  \\\n",
       "RowNumber        10000.0    NaN     NaN   NaN         5000.5    2886.89568   \n",
       "CustomerId       10000.0    NaN     NaN   NaN  15690940.5694  71936.186123   \n",
       "Surname            10000   2932   Smith    32            NaN           NaN   \n",
       "CreditScore      10000.0    NaN     NaN   NaN       650.5288     96.653299   \n",
       "Geography          10000      3  France  5014            NaN           NaN   \n",
       "Gender             10000      2    Male  5457            NaN           NaN   \n",
       "Age              10000.0    NaN     NaN   NaN        38.9218     10.487806   \n",
       "Tenure            9091.0    NaN     NaN   NaN        4.99769      2.894723   \n",
       "Balance          10000.0    NaN     NaN   NaN   76485.889288  62397.405202   \n",
       "NumOfProducts    10000.0    NaN     NaN   NaN         1.5302      0.581654   \n",
       "HasCrCard        10000.0    NaN     NaN   NaN         0.7055       0.45584   \n",
       "IsActiveMember   10000.0    NaN     NaN   NaN         0.5151      0.499797   \n",
       "EstimatedSalary  10000.0    NaN     NaN   NaN  100090.239881  57510.492818   \n",
       "Exited           10000.0    NaN     NaN   NaN         0.2037      0.402769   \n",
       "\n",
       "                        min          25%         50%          75%         max  \n",
       "RowNumber               1.0      2500.75      5000.5      7500.25     10000.0  \n",
       "CustomerId       15565701.0  15628528.25  15690738.0  15753233.75  15815690.0  \n",
       "Surname                 NaN          NaN         NaN          NaN         NaN  \n",
       "CreditScore           350.0        584.0       652.0        718.0       850.0  \n",
       "Geography               NaN          NaN         NaN          NaN         NaN  \n",
       "Gender                  NaN          NaN         NaN          NaN         NaN  \n",
       "Age                    18.0         32.0        37.0         44.0        92.0  \n",
       "Tenure                  0.0          2.0         5.0          7.0        10.0  \n",
       "Balance                 0.0          0.0    97198.54    127644.24   250898.09  \n",
       "NumOfProducts           1.0          1.0         1.0          2.0         4.0  \n",
       "HasCrCard               0.0          0.0         1.0          1.0         1.0  \n",
       "IsActiveMember          0.0          0.0         1.0          1.0         1.0  \n",
       "EstimatedSalary       11.58     51002.11  100193.915  149388.2475   199992.48  \n",
       "Exited                  0.0          0.0         0.0          0.0         1.0  "
      ]
     },
     "execution_count": 7,
     "metadata": {},
     "output_type": "execute_result"
    }
   ],
   "source": [
    "# Выведем на экран статистику датафрейма\n",
    "data.describe(include='all').T"
   ]
  },
  {
   "cell_type": "markdown",
   "metadata": {},
   "source": [
    "Близость средних и мединных значений позволяет сделать вывод о наличии выбросов, существенно искажающих результаты анализа данных."
   ]
  },
  {
   "cell_type": "code",
   "execution_count": 8,
   "metadata": {},
   "outputs": [
    {
     "data": {
      "image/png": "[encoded data removed]",
      "text/plain": [
       "<Figure size 1152x1152 with 12 Axes>"
      ]
     },
     "metadata": {},
     "output_type": "display_data"
    }
   ],
   "source": [
    "# Настроим отображение графиков\n",
    "sns.set(rc={\"figure.figsize\":( 16 , 16 )}) # Задали размер графиков\n",
    "# Выведем на экран гистограммы датафрейма\n",
    "data.hist();"
   ]
  },
  {
   "cell_type": "markdown",
   "metadata": {},
   "source": [
    "Анализируя гистограммы, можем отметить смещение по некоторым рядам, что позволяет отметить следующие закономерности:\n",
    "1. Большая часть клиентов банка моложе 40 лет. \n",
    "2. Многие клиенты не имеют средств на счетах (что может быть вызвано условиями по кредитным продуктам - обязательное открытие счета при получении кредита или кредитной карты).\n",
    "3. Возможно, банк испытывает трудности с привлечением новых клиентов: количество клиентов, сотрудничающих с банком более 9 лет растет, в то время как число клиентов, привлеченных менее, чем 2 года назад, снижается. \n",
    "4. Можем отметить дисбаланс классов по данным об уходе клиента из банка (`Exited`)."
   ]
  },
  {
   "cell_type": "code",
   "execution_count": 9,
   "metadata": {},
   "outputs": [],
   "source": [
    "# Приводим названия в соответствие с хорошим стилем:\n",
    "data = data.rename(columns=\n",
    "                   {'RowNumber': 'row_number',\n",
    "                    'CustomerId': 'customer_id',\n",
    "                    'Surname': 'surname',\n",
    "                    'CreditScore': 'credit_score',\n",
    "                    'Geography': 'geography',\n",
    "                    'Gender': 'gender',\n",
    "                    'Age': 'age',\n",
    "                    'Tenure': 'tenure',\n",
    "                    'Balance': 'balance',\n",
    "                    'NumOfProducts': 'num_of_products',\n",
    "                    'HasCrCard': 'has_cr_card',\n",
    "                    'IsActiveMember': 'is_active_member',\n",
    "                    'EstimatedSalary': 'estimated_salary',\n",
    "                    'Exited': 'exited',\n",
    "                   }\n",
    "                    )"
   ]
  },
  {
   "cell_type": "code",
   "execution_count": 10,
   "metadata": {},
   "outputs": [
    {
     "data": {
      "text/plain": [
       "0"
      ]
     },
     "execution_count": 10,
     "metadata": {},
     "output_type": "execute_result"
    }
   ],
   "source": [
    "# Проверили датафрейм на наличие дубликатов\n",
    "data.duplicated().sum()"
   ]
  },
  {
   "cell_type": "markdown",
   "metadata": {},
   "source": [
    "В датафрейме отсутствуют дублирующиеся записи."
   ]
  },
  {
   "cell_type": "code",
   "execution_count": 11,
   "metadata": {
    "scrolled": false
   },
   "outputs": [
    {
     "data": {
      "text/plain": [
       "row_number            0\n",
       "customer_id           0\n",
       "surname               0\n",
       "credit_score          0\n",
       "geography             0\n",
       "gender                0\n",
       "age                   0\n",
       "tenure              909\n",
       "balance               0\n",
       "num_of_products       0\n",
       "has_cr_card           0\n",
       "is_active_member      0\n",
       "estimated_salary      0\n",
       "exited                0\n",
       "dtype: int64"
      ]
     },
     "execution_count": 11,
     "metadata": {},
     "output_type": "execute_result"
    }
   ],
   "source": [
    "# Проверили датафрейм на наличие пропусков\n",
    "data.isna().sum()"
   ]
  },
  {
   "cell_type": "markdown",
   "metadata": {},
   "source": [
    "В данных есть пропуски в ряде `Tenrue`."
   ]
  },
  {
   "cell_type": "code",
   "execution_count": 12,
   "metadata": {
    "scrolled": false
   },
   "outputs": [
    {
     "data": {
      "image/png": "[encoded data removed]",
      "text/plain": [
       "<Figure size 1152x1152 with 12 Axes>"
      ]
     },
     "metadata": {},
     "output_type": "display_data"
    },
    {
     "data": {
      "image/png": "[encoded data removed]",
      "text/plain": [
       "<Figure size 1152x1152 with 12 Axes>"
      ]
     },
     "metadata": {},
     "output_type": "display_data"
    },
    {
     "data": {
      "image/png": "[encoded data removed]",
      "text/plain": [
       "<Figure size 1152x1152 with 12 Axes>"
      ]
     },
     "metadata": {},
     "output_type": "display_data"
    }
   ],
   "source": [
    "data.loc[(data['tenure'] == 10)].hist();\n",
    "data.loc[(data['tenure'] == 0)].hist();\n",
    "data.loc[(data['tenure'].isna())].hist();"
   ]
  },
  {
   "cell_type": "markdown",
   "metadata": {},
   "source": [
    "Гистограммы помогают нам сделать вывод о том, что заполнение пропусков каким-либо расчетным значением может существенно исказить выборку и результаты ее анализа. При этом очевидных признаков для категоризации данных тоже нет. Не смотря на то, что выбросы - около 9% от выборки, избавимся от них, так как оставшихся значений достаточно для обучения состоятельных моделей."
   ]
  },
  {
   "cell_type": "code",
   "execution_count": 13,
   "metadata": {},
   "outputs": [],
   "source": [
    "# Избавляемся от пропущенных значений\n",
    "data = data.loc[~(data['tenure'].isna())]\n",
    "\n",
    "# Меняем тип данных на \"int\"\n",
    "data['tenure'] = data['tenure'].astype(int)"
   ]
  },
  {
   "cell_type": "code",
   "execution_count": 17,
   "metadata": {},
   "outputs": [],
   "source": [
    "# Изменили тип, чтобы добавить в энкодер \n",
    "data['num_of_products'] = data['num_of_products'].astype(object) \n",
    "# Разбиваем датафрейм на тренировочну, валидационную и тестовую выборки\n",
    "train, valid, test = np.split(data.sample(frac=1, random_state=442), [int(.6*len(data)), int(.8*len(data))])\n",
    "\n",
    "# Задаем определяющие (features) и определяемые (target) признаки для каждой выборки:\n",
    "# Тренировочная выборка:\n",
    "features_train = train.drop(columns = ['exited', 'row_number', 'customer_id', 'surname'])\n",
    "target_train = train['exited']\n",
    "\n",
    "# Валидационная выборка:\n",
    "features_valid = valid.drop(columns = ['exited', 'row_number', 'customer_id', 'surname'])\n",
    "target_valid = valid['exited']\n",
    "\n",
    "# Тестовая выборка:\n",
    "features_test = test.drop(columns = ['exited', 'row_number', 'customer_id', 'surname'])\n",
    "target_test = test['exited']\n",
    "\n",
    "# Задаем список рядов, которые будут переданы в энкодер\n",
    "ohe_features = features_train.select_dtypes(include='object').columns.to_list()\n",
    "\n",
    "# Объявляем энкодер\n",
    "encoder_ohe = OneHotEncoder(drop='first', handle_unknown='ignore', sparse=False)\n",
    "\n",
    "# Обучаем энкодер на тренировочной выборке\n",
    "encoder_ohe.fit(train[ohe_features])\n",
    "\n",
    "# Добавляем в тренировочную выборку закодированные признаки\n",
    "features_train[\n",
    "    encoder_ohe.get_feature_names_out()\n",
    "] = encoder_ohe.transform(features_train[ohe_features])\n",
    "\n",
    "# Удаляем из датафрейма незакодированные признаки\n",
    "features_train = features_train.drop(ohe_features, axis=1)\n",
    "\n",
    "# Энкодером, обученным на тренировочной выборке, кодируем валидационную выборку\n",
    "features_valid[\n",
    "    encoder_ohe.get_feature_names_out()\n",
    "] = encoder_ohe.transform(features_valid[ohe_features])\n",
    "\n",
    "# Удаляем из датафрейма незакодированные признаки\n",
    "features_valid = features_valid.drop(ohe_features, axis=1)\n",
    "\n",
    "# Энкодером, обученным на тренировочной выборке, кодируем тестовую выборку\n",
    "features_test[\n",
    "    encoder_ohe.get_feature_names_out()\n",
    "] = encoder_ohe.transform(features_test[ohe_features])\n",
    "\n",
    "# Удаляем из датафрейма незакодированные признаки\n",
    "features_test = features_test.drop(ohe_features, axis=1)"
   ]
  },
  {
   "cell_type": "code",
   "execution_count": 18,
   "metadata": {},
   "outputs": [],
   "source": [
    "# Осуществляем стандартизацию определяющих признаков\n",
    "numeric = ['credit_score', 'age', 'tenure', 'balance', 'estimated_salary']\n",
    "scaler = StandardScaler()\n",
    "scaler.fit(features_train[numeric])\n",
    "features_train[numeric] = scaler.transform(features_train[numeric])\n",
    "features_valid[numeric] = scaler.transform(features_valid[numeric])\n",
    "features_test[numeric] = scaler.transform(features_test[numeric])"
   ]
  },
  {
   "cell_type": "markdown",
   "metadata": {},
   "source": [
    "На первом этапе нами проведена работа по предобработке данных и подготовке датафрейма к дальнейшему моделированию."
   ]
  },
  {
   "cell_type": "markdown",
   "metadata": {},
   "source": [
    "## Исследование задачи"
   ]
  },
  {
   "cell_type": "code",
   "execution_count": 19,
   "metadata": {},
   "outputs": [
    {
     "name": "stdout",
     "output_type": "stream",
     "text": [
      "Доля положительных ответов на тренировочной выборке составляет 20.59%.\n"
     ]
    }
   ],
   "source": [
    "# Рассчитываем долю положительных ответов на тренировочной выборке\n",
    "pos = len(train.loc[train['exited'] == 1])/len(train['exited'])\n",
    "print(f'Доля положительных ответов на тренировочной выборке составляет {pos:.2%}.')"
   ]
  },
  {
   "cell_type": "markdown",
   "metadata": {},
   "source": [
    "Классы не сбалансированы, доля положительных ответов на тренировочной выборке - 20,6%, отрицательных - 79,4%. Некоторые модели могут работать с несбалансированными выборками без ущерба точности прогноза. Оценим модели решающего дерева, случайного леса и логистической регрессии на несбалансированной выборке.  "
   ]
  },
  {
   "cell_type": "markdown",
   "metadata": {},
   "source": [
    "### Модель решающего дерева"
   ]
  },
  {
   "cell_type": "code",
   "execution_count": 20,
   "metadata": {
    "scrolled": false
   },
   "outputs": [
    {
     "name": "stdout",
     "output_type": "stream",
     "text": [
      "При максимизации показателя \"F1\" для модели решающего дерева наилучший результат достигается при глубине\n",
      " max_depth: 5.\n",
      "Такая модель имеет следующие характеристики:\n",
      "Полнота (recall): 52.66%\n",
      "Точность (precision): 72.87%\n",
      "F1-мера: 61.14%\n",
      "Матрица ошибок:\n",
      " [[1391   70]\n",
      " [ 169  188]]\n",
      "Площадь под кривой ошибок (AUC ROC): 0.837\n"
     ]
    }
   ],
   "source": [
    "# Задаем переменные-счетчики\n",
    "result_f = 0\n",
    "best_depth_f = 1\n",
    "\n",
    "# В цикле перебираем различную глубину решаюшего дерева\n",
    "for depth in range(2, 51):\n",
    "    model = DecisionTreeClassifier(random_state=442, max_depth=depth)\n",
    "    model.fit(features_train, target_train)\n",
    "    predicted_valid = model.predict(features_valid)\n",
    "    # Отбираем лучшую модель\n",
    "    # В качестве оценки качества используем показатель F1-мера\n",
    "    if f1_score(target_valid, predicted_valid) > result_f:\n",
    "        best_depth_f = depth\n",
    "        result_f = f1_score(target_valid, predicted_valid)\n",
    "print(f'При максимизации показателя \"F1\" '\n",
    "      f'для модели решающего дерева наилучший результат достигается при глубине\\n max_depth: {best_depth_f}.')\n",
    "print(f'Такая модель имеет следующие характеристики:')\n",
    "\n",
    "# Объявляем лучшую из рассмотренных модель\n",
    "model = DecisionTreeClassifier(random_state=442, max_depth=best_depth_f)\n",
    "\n",
    "# Обучаем модель\n",
    "model.fit(features_train, target_train)\n",
    "\n",
    "# Строим предсказания\n",
    "predicted_valid = model.predict(features_valid)\n",
    "\n",
    "# Оцениваем качество модели\n",
    "probabilities_valid = model.predict_proba(features_valid)\n",
    "probabilities_one_valid = probabilities_valid[:, 1]\n",
    "auc_roc = roc_auc_score(target_valid, probabilities_one_valid)\n",
    "\n",
    "# Выводим на экран показатели качества модели\n",
    "print(f'Полнота (recall): {recall_score(target_valid, predicted_valid):.2%}')\n",
    "print(f'Точность (precision): {precision_score(target_valid, predicted_valid):.2%}')\n",
    "print(f'F1-мера: {f1_score(target_valid, predicted_valid):.2%}')\n",
    "print('Матрица ошибок:\\n', confusion_matrix(target_valid, predicted_valid))\n",
    "print(f'Площадь под кривой ошибок (AUC ROC): {auc_roc:.3}')"
   ]
  },
  {
   "cell_type": "markdown",
   "metadata": {},
   "source": [
    "### Модель случайного леса"
   ]
  },
  {
   "cell_type": "code",
   "execution_count": 21,
   "metadata": {
    "scrolled": false
   },
   "outputs": [
    {
     "name": "stdout",
     "output_type": "stream",
     "text": [
      "При максимизации показателя \"F1\" для модели случайного леса наилучший результат достигается \n",
      "при следующих гиперпараметрах:\n",
      "n_estimators: 91,\n",
      " max_depth: 19.\n",
      "Такая модель имеет следующие характеристики:\n",
      "Accuracy: 87.90%\n",
      "Полнота (recall): 52.66%\n",
      "Точность (precision): 78.66%\n",
      "F1-мера: 63.09%\n",
      "Матрица ошибок:\n",
      " [[1410   51]\n",
      " [ 169  188]]\n",
      "Площадь под кривой ошибок (AUC ROC): 0.87\n"
     ]
    }
   ],
   "source": [
    "# Задаем переменные-счетчики\n",
    "best_result_f = 0\n",
    "best_est_f = 0\n",
    "best_depth_f = 0\n",
    "# В цикле перебираем гиперпараметры модели\n",
    "for est in range(1, 101, 10):\n",
    "    for depth in range(1, 51): # Объявили модель случайного леса\n",
    "        model = RandomForestClassifier(random_state=442, n_estimators=est, max_depth = depth)\n",
    "        # Обучили модель\n",
    "        model.fit(features_train, target_train) \n",
    "        predicted_valid = model.predict(features_valid)\n",
    "        # Отбираем лучшую модель\n",
    "        # В качестве оценки качества используем показатель F1-мера\n",
    "        if f1_score(target_valid, predicted_valid) > best_result_f:\n",
    "            best_result_f = f1_score(target_valid, predicted_valid)\n",
    "            best_est_f = est\n",
    "            best_depth_f = depth            \n",
    "print(f'При максимизации показателя \"F1\" '\n",
    "      f'для модели случайного леса наилучший результат достигается \\n'\n",
    "      f'при следующих гиперпараметрах:\\n'\n",
    "      f'n_estimators: {best_est_f},\\n max_depth: {best_depth_f}.')\n",
    "print(f'Такая модель имеет следующие характеристики:')\n",
    "\n",
    "# Объявляем лучшую из рассмотренных модель\n",
    "model = RandomForestClassifier(random_state=442, n_estimators=best_est_f, max_depth = best_depth_f)\n",
    "\n",
    "# Обучаем модель\n",
    "model.fit(features_train, target_train)\n",
    "\n",
    "# Строим предсказания\n",
    "predicted_valid = model.predict(features_valid)\n",
    "\n",
    "# Оцениваем качество модели\n",
    "probabilities_valid = model.predict_proba(features_valid)\n",
    "probabilities_one_valid = probabilities_valid[:, 1]\n",
    "auc_roc = roc_auc_score(target_valid, probabilities_one_valid)\n",
    "\n",
    "# Выводим на экран показатели качества модели\n",
    "print(f'Accuracy: {accuracy_score(target_valid, predicted_valid):.2%}') \n",
    "print(f'Полнота (recall): {recall_score(target_valid, predicted_valid):.2%}')\n",
    "print(f'Точность (precision): {precision_score(target_valid, predicted_valid):.2%}')\n",
    "print(f'F1-мера: {f1_score(target_valid, predicted_valid):.2%}')\n",
    "print('Матрица ошибок:\\n', confusion_matrix(target_valid, predicted_valid))\n",
    "print(f'Площадь под кривой ошибок (AUC ROC): {auc_roc:.3}')"
   ]
  },
  {
   "cell_type": "markdown",
   "metadata": {},
   "source": [
    "### Модель логистической регрессии"
   ]
  },
  {
   "cell_type": "code",
   "execution_count": 22,
   "metadata": {
    "scrolled": false
   },
   "outputs": [
    {
     "name": "stdout",
     "output_type": "stream",
     "text": [
      "Модель логистической регрессии имеет следующие характеристики:\n",
      "Accuracy: 84.87%\n",
      "F1-мера: 50.98%\n",
      "Площадь под кривой ошибок (AUC ROC): 0.846\n"
     ]
    }
   ],
   "source": [
    "# Объявляем модель\n",
    "model = LogisticRegression(random_state=442, solver='liblinear', max_iter=10000)\n",
    "\n",
    "# Обучаем модель\n",
    "model.fit(features_train, target_train)\n",
    "\n",
    "# Строим предсказания\n",
    "predictions = model.predict(features_valid)\n",
    "\n",
    "# Оцениваем качество модели\n",
    "probabilities_valid = model.predict_proba(features_valid)\n",
    "probabilities_one_valid = probabilities_valid[:, 1]\n",
    "auc_roc = roc_auc_score(target_valid, probabilities_one_valid)\n",
    "\n",
    "# Выводим на экран показатели качества модели\n",
    "print('Модель логистической регрессии имеет следующие характеристики:')\n",
    "print(f'Accuracy: {accuracy_score(target_valid, predictions):.2%}')\n",
    "print(f'F1-мера: {f1_score(target_valid, predictions):.2%}')\n",
    "print(f'Площадь под кривой ошибок (AUC ROC): {auc_roc:.3}')"
   ]
  },
  {
   "cell_type": "markdown",
   "metadata": {},
   "source": [
    "### Константная модель"
   ]
  },
  {
   "cell_type": "code",
   "execution_count": 26,
   "metadata": {},
   "outputs": [
    {
     "name": "stdout",
     "output_type": "stream",
     "text": [
      "Точность константной модели: 20.39%\n"
     ]
    }
   ],
   "source": [
    "# Анализируем константную модель\n",
    "target = data['exited']\n",
    "features = data.drop(columns = ['exited', 'row_number', 'customer_id', 'surname'])\n",
    "target_pred = target\n",
    "target_pred = 1\n",
    "target_pred_constant = pd.Series(target_pred, index=target.index)\n",
    "\n",
    "# Выводим на экран показатели качества модели\n",
    "print(f'Точность константной модели: {accuracy_score(target, target_pred_constant):.2%}')"
   ]
  },
  {
   "cell_type": "code",
   "execution_count": 27,
   "metadata": {},
   "outputs": [
    {
     "name": "stdout",
     "output_type": "stream",
     "text": [
      "Константная модель имеет следующие характеристики:\n",
      "F1-мера: 34.11%\n"
     ]
    }
   ],
   "source": [
    "# Объявляем константную модель\n",
    "dummy_model = DummyClassifier(strategy='constant', constant=1)\n",
    "dummy_model.fit(features_train, target_train)\n",
    "\n",
    "# Выводим на экран показатели качества модели\n",
    "print('Константная модель имеет следующие характеристики:')\n",
    "print(f'F1-мера: {f1_score(dummy_model.predict(features_test), target_test):.2%}')"
   ]
  },
  {
   "cell_type": "markdown",
   "metadata": {},
   "source": [
    "### Вывод"
   ]
  },
  {
   "cell_type": "markdown",
   "metadata": {},
   "source": [
    "Нами рассмотрены модели решающего дерева, случайного леса и логистической регрессии на несбалансированной выборке. В качестве критерия оценки эффективности моделей рассматриваем показатель `F1-мера`, представлящая собой гармоническое среднее между точностью и полнотой. Она стремится к нулю, если точность или полнота стремится к нулю. Лучшей из рассмотренных нами моделью является модель случайного леса (63,09%), немного хуже результат у модели решающего дерева (61,14%). `F1-мера` модели логистической регрессии равно 50,98%, что подтверждает необходимость устранения дисбаланса для модели такого типа.\n",
    "\n",
    "Кроме этого, внимания заслуживает показатель площади под кривой ошибок (`AUC-ROC`), позволяющий выявить, как сильно наша модель отличается от случайной (`AUC-ROC` случайной модели равна 0.5). Рассмотренные нами модели показали результат выше 0,8. "
   ]
  },
  {
   "cell_type": "markdown",
   "metadata": {},
   "source": [
    "## Борьба с дисбалансом"
   ]
  },
  {
   "cell_type": "markdown",
   "metadata": {},
   "source": [
    "### Взвешивание классов"
   ]
  },
  {
   "cell_type": "markdown",
   "metadata": {},
   "source": [
    "#### Модель решаюшего дерева"
   ]
  },
  {
   "cell_type": "code",
   "execution_count": 28,
   "metadata": {},
   "outputs": [
    {
     "name": "stdout",
     "output_type": "stream",
     "text": [
      "При максимизации показателя \"F1\" для модели решающего дерева наилучший результат достигается при глубине\n",
      " max_depth: 4.\n",
      "Такая модель имеет следующие характеристики:\n",
      "Accuracy: 78.77%\n",
      "Полнота (recall): 74.79%\n",
      "Точность (precision): 47.42%\n",
      "F1-мера: 58.04%\n",
      "Матрица ошибок:\n",
      " [[1165  296]\n",
      " [  90  267]]\n",
      "Площадь под кривой ошибок (AUC ROC): 0.843\n"
     ]
    }
   ],
   "source": [
    "# Задаем переменные-счетчики\n",
    "result_f = 0\n",
    "best_depth_f = 1\n",
    "\n",
    "# В цикле перебираем гиперпараметры модели\n",
    "for depth in range(2, 51):\n",
    "    model = DecisionTreeClassifier(random_state=442, max_depth=depth, class_weight = 'balanced')\n",
    "    model.fit(features_train, target_train)\n",
    "    predicted_valid = model.predict(features_valid)\n",
    "    # Отбираем лучшую модель\n",
    "    # В качестве оценки качества используем показатель F1-мера\n",
    "    if f1_score(target_valid, predicted_valid) > result_f:\n",
    "        best_depth_f = depth\n",
    "        result_f = f1_score(target_valid, predicted_valid)\n",
    "print(f'При максимизации показателя \"F1\" '\n",
    "      f'для модели решающего дерева наилучший результат достигается при глубине\\n max_depth: {best_depth_f}.')\n",
    "print(f'Такая модель имеет следующие характеристики:')\n",
    "\n",
    "# Объявляем лучшую из рассмотренных модель\n",
    "model = DecisionTreeClassifier(random_state=442, max_depth=best_depth_f, class_weight = 'balanced')\n",
    "\n",
    "# Обучаем модель\n",
    "model.fit(features_train, target_train)\n",
    "\n",
    "# Строим предсказания\n",
    "predicted_valid = model.predict(features_valid)\n",
    "\n",
    "# Оцениваем качество модели\n",
    "probabilities_valid = model.predict_proba(features_valid)\n",
    "probabilities_one_valid = probabilities_valid[:, 1]\n",
    "auc_roc = roc_auc_score(target_valid, probabilities_one_valid)\n",
    "\n",
    "# Выводим на экран показатели качества модели\n",
    "print(f'Accuracy: {accuracy_score(target_valid, predicted_valid):.2%}') \n",
    "print(f'Полнота (recall): {recall_score(target_valid, predicted_valid):.2%}')\n",
    "print(f'Точность (precision): {precision_score(target_valid, predicted_valid):.2%}')\n",
    "print(f'F1-мера: {f1_score(target_valid, predicted_valid):.2%}')\n",
    "print('Матрица ошибок:\\n', confusion_matrix(target_valid, predicted_valid))\n",
    "print(f'Площадь под кривой ошибок (AUC ROC): {auc_roc:.3}')"
   ]
  },
  {
   "cell_type": "markdown",
   "metadata": {},
   "source": [
    "#### Модель случайного леса"
   ]
  },
  {
   "cell_type": "code",
   "execution_count": 29,
   "metadata": {},
   "outputs": [
    {
     "name": "stdout",
     "output_type": "stream",
     "text": [
      "При максимизации показателя \"F1\" для модели случайного леса наилучший результат достигается \n",
      "при следующих гиперпараметрах:\n",
      "n_estimators: 91,\n",
      " max_depth: 11.\n",
      "Такая модель имеет следующие характеристики:\n",
      "Accuracy: 86.08%\n",
      "Полнота (recall): 65.27%\n",
      "Точность (precision): 64.36%\n",
      "F1-мера: 64.81%\n",
      "Матрица ошибок:\n",
      " [[1332  129]\n",
      " [ 124  233]]\n",
      "Площадь под кривой ошибок (AUC ROC): 0.876\n"
     ]
    }
   ],
   "source": [
    "# Задаем переменные-счетчики\n",
    "best_result_f = 0\n",
    "best_est_f = 0\n",
    "best_depth_f = 0\n",
    "# В цикле перебираем гиперпараметры модели\n",
    "for est in range(1, 101, 10):\n",
    "    for depth in range(1, 51): \n",
    "        model = RandomForestClassifier(random_state=442, n_estimators=est, max_depth = depth, class_weight = 'balanced')\n",
    "        # Обучили модель\n",
    "        model.fit(features_train, target_train) \n",
    "        predicted_valid = model.predict(features_valid)\n",
    "        # Отбираем лучшую модель\n",
    "        # В качестве оценки качества используем показатель F1-мера\n",
    "        if f1_score(target_valid, predicted_valid) > best_result_f:\n",
    "            best_result_f = f1_score(target_valid, predicted_valid)\n",
    "            best_est_f = est\n",
    "            best_depth_f = depth\n",
    "print(f'При максимизации показателя \"F1\" '\n",
    "      f'для модели случайного леса наилучший результат достигается \\n'\n",
    "      f'при следующих гиперпараметрах:\\n'\n",
    "      f'n_estimators: {best_est_f},\\n max_depth: {best_depth_f}.')\n",
    "print(f'Такая модель имеет следующие характеристики:')\n",
    "\n",
    "# Объявляем лучшую из рассмотренных модель\n",
    "model = RandomForestClassifier(random_state=442, n_estimators=best_est_f, max_depth = best_depth_f, class_weight = 'balanced')\n",
    "\n",
    "# Обучаем модель\n",
    "model.fit(features_train, target_train)\n",
    "\n",
    "# Строим предсказания\n",
    "predicted_valid = model.predict(features_valid)\n",
    "\n",
    "# Оцениваем качество модели\n",
    "probabilities_valid = model.predict_proba(features_valid)\n",
    "probabilities_one_valid = probabilities_valid[:, 1]\n",
    "auc_roc = roc_auc_score(target_valid, probabilities_one_valid)\n",
    "\n",
    "# Выводим на экран показатели качества модели\n",
    "print(f'Accuracy: {accuracy_score(target_valid, predicted_valid):.2%}') \n",
    "print(f'Полнота (recall): {recall_score(target_valid, predicted_valid):.2%}')\n",
    "print(f'Точность (precision): {precision_score(target_valid, predicted_valid):.2%}')\n",
    "print(f'F1-мера: {f1_score(target_valid, predicted_valid):.2%}')\n",
    "print('Матрица ошибок:\\n', confusion_matrix(target_valid, predicted_valid))\n",
    "print(f'Площадь под кривой ошибок (AUC ROC): {auc_roc:.3}')"
   ]
  },
  {
   "cell_type": "markdown",
   "metadata": {},
   "source": [
    "#### Модель логистической регрессии"
   ]
  },
  {
   "cell_type": "code",
   "execution_count": 30,
   "metadata": {},
   "outputs": [
    {
     "name": "stdout",
     "output_type": "stream",
     "text": [
      "Модель логистической регрессии имеет следующие характеристики:\n",
      "Accuracy: 77.01%\n",
      "F1-мера: 57.35%\n",
      "Площадь под кривой ошибок (AUC ROC): 0.846\n"
     ]
    }
   ],
   "source": [
    "# Объявляем модель\n",
    "model = LogisticRegression(random_state=442, solver='liblinear', max_iter=10000, class_weight='balanced')\n",
    "\n",
    "# Обучаем модель\n",
    "model.fit(features_train, target_train)\n",
    "\n",
    "# Строим предсказания\n",
    "predictions = model.predict(features_valid)\n",
    "\n",
    "# Оцениваем качество модели\n",
    "probabilities_valid = model.predict_proba(features_valid)\n",
    "probabilities_one_valid = probabilities_valid[:, 1]\n",
    "auc_roc = roc_auc_score(target_valid, probabilities_one_valid)\n",
    "\n",
    "# Выводим на экран показатели качества модели\n",
    "print('Модель логистической регрессии имеет следующие характеристики:')\n",
    "print(f'Accuracy: {accuracy_score(target_valid, predictions):.2%}')\n",
    "print(f'F1-мера: {f1_score(target_valid, predictions):.2%}')\n",
    "print(f'Площадь под кривой ошибок (AUC ROC): {auc_roc:.3}')"
   ]
  },
  {
   "cell_type": "markdown",
   "metadata": {},
   "source": [
    "#### Вывод"
   ]
  },
  {
   "cell_type": "markdown",
   "metadata": {},
   "source": [
    "Одним из способов преодолеть дисбаланс классов является их взвешивание. Это происходит автоматически при передачи в объявляемую модель соответствующего параметра. \n",
    "\n",
    "При борьбе с дисбалансом таким методом лучшей моделью оказалась модель случайного леса, показатель `F1-меры` которой составляет 65,99%, а площадь под кривой ошибок - 0,877. Хуже всех в очередной раз проявила себя модель логистической регрессии, однако показатель `F1-меры` у нее при взвешивании классов увеличился до 57,35%."
   ]
  },
  {
   "cell_type": "markdown",
   "metadata": {},
   "source": [
    "### Увеличение выборки"
   ]
  },
  {
   "cell_type": "code",
   "execution_count": 31,
   "metadata": {},
   "outputs": [],
   "source": [
    "\"\"\"\n",
    "def upsample(features, target, repeat):\n",
    "    features_zeros = features[target == 0]\n",
    "    features_ones = features[target == 1]\n",
    "    target_zeros = target[target == 0]\n",
    "    target_ones = target[target == 1]\n",
    "\n",
    "    features_upsampled = pd.concat([features_zeros] + [features_ones] * repeat)\n",
    "    target_upsampled = pd.concat([target_zeros] + [target_ones] * repeat)\n",
    "    \n",
    "    features_upsampled, target_upsampled = shuffle(\n",
    "        features_upsampled, target_upsampled, random_state=442)\n",
    "    \n",
    "    return features_upsampled, target_upsampled\n",
    "\n",
    "features_upsampled, target_upsampled = upsample(features_train, target_train, 4)\n",
    "\"\"\""
   ]
  },
  {
   "cell_type": "code",
   "execution_count": 32,
   "metadata": {},
   "outputs": [],
   "source": [
    "oversample = SMOTE(random_state=442)\n",
    "features_upsampled, target_upsampled = oversample.fit_resample(features_train, target_train)"
   ]
  },
  {
   "cell_type": "markdown",
   "metadata": {},
   "source": [
    "#### Модель решаюшего дерева"
   ]
  },
  {
   "cell_type": "code",
   "execution_count": 33,
   "metadata": {},
   "outputs": [
    {
     "name": "stdout",
     "output_type": "stream",
     "text": [
      "При максимизации показателя \"F1\" для модели решающего дерева наилучший результат достигается при глубине\n",
      " max_depth: 6.\n",
      "Такая модель имеет следующие характеристики:\n",
      "Accuracy: 81.52%\n",
      "Полнота (recall): 68.07%\n",
      "Точность (precision): 52.26%\n",
      "F1-мера: 59.12%\n",
      "Матрица ошибок:\n",
      " [[1239  222]\n",
      " [ 114  243]]\n",
      "Площадь под кривой ошибок (AUC ROC): 0.835\n"
     ]
    }
   ],
   "source": [
    "# Задаем переменные-счетчики\n",
    "result_f = 0\n",
    "best_depth_f = 1\n",
    "# В цикле перебираем гиперпараметры модели\n",
    "for depth in range(2, 51):\n",
    "    model = DecisionTreeClassifier(random_state=442, max_depth=depth)\n",
    "    model.fit(features_upsampled, target_upsampled)\n",
    "    predicted_valid = model.predict(features_valid)\n",
    "    # Отбираем лучшую модель\n",
    "    # В качестве оценки качества используем показатель F1-мера\n",
    "    if f1_score(target_valid, predicted_valid) > result_f:\n",
    "        best_depth_f = depth\n",
    "        result_f = f1_score(target_valid, predicted_valid)\n",
    "print(f'При максимизации показателя \"F1\" '\n",
    "      f'для модели решающего дерева наилучший результат достигается при глубине\\n max_depth: {best_depth_f}.')\n",
    "print(f'Такая модель имеет следующие характеристики:')\n",
    "\n",
    "# Объявляем лучшую из рассмотренных модель\n",
    "model = DecisionTreeClassifier(random_state=442, max_depth=best_depth_f)\n",
    "\n",
    "# Обучаем модель\n",
    "model.fit(features_upsampled, target_upsampled)\n",
    "\n",
    "# Строим предсказания\n",
    "predicted_valid = model.predict(features_valid)\n",
    "\n",
    "# Оцениваем качество модели\n",
    "probabilities_valid = model.predict_proba(features_valid)\n",
    "probabilities_one_valid = probabilities_valid[:, 1]\n",
    "auc_roc = roc_auc_score(target_valid, probabilities_one_valid)\n",
    "\n",
    "# Выводим на экран показатели качества модели\n",
    "print(f'Accuracy: {accuracy_score(target_valid, predicted_valid):.2%}') \n",
    "print(f'Полнота (recall): {recall_score(target_valid, predicted_valid):.2%}')\n",
    "print(f'Точность (precision): {precision_score(target_valid, predicted_valid):.2%}')\n",
    "print(f'F1-мера: {f1_score(target_valid, predicted_valid):.2%}')\n",
    "print('Матрица ошибок:\\n', confusion_matrix(target_valid, predicted_valid))\n",
    "print(f'Площадь под кривой ошибок (AUC ROC): {auc_roc:.3}')"
   ]
  },
  {
   "cell_type": "markdown",
   "metadata": {},
   "source": [
    "#### Модель случайного леса"
   ]
  },
  {
   "cell_type": "code",
   "execution_count": 34,
   "metadata": {
    "scrolled": false
   },
   "outputs": [
    {
     "name": "stdout",
     "output_type": "stream",
     "text": [
      "При максимизации показателя \"F1\" для модели случайного леса наилучший результат достигается \n",
      "при следующих гиперпараметрах:\n",
      "n_estimators: 81,\n",
      " max_depth: 8.\n",
      "Такая модель имеет следующие характеристики:\n",
      "Accuracy: 83.99%\n",
      "Полнота (recall): 72.83%\n",
      "Точность (precision): 57.27%\n",
      "F1-мера: 64.12%\n",
      "Матрица ошибок:\n",
      " [[1267  194]\n",
      " [  97  260]]\n",
      "Площадь под кривой ошибок (AUC ROC): 0.871\n"
     ]
    }
   ],
   "source": [
    "# Задаем переменные-счетчики\n",
    "best_result_f = 0\n",
    "best_est_f = 0\n",
    "best_depth_f = 0\n",
    "# В цикле перебираем гиперпараметры модели\n",
    "for est in range(1, 101, 10):\n",
    "    for depth in range(1, 51):\n",
    "        model = RandomForestClassifier(random_state=442, n_estimators=est, max_depth = depth, class_weight = 'balanced')\n",
    "        model.fit(features_upsampled, target_upsampled) \n",
    "        predicted_valid = model.predict(features_valid)\n",
    "        # Отбираем лучшую модель\n",
    "        # В качестве оценки качества используем показатель F1-мера\n",
    "        if f1_score(target_valid, predicted_valid) > best_result_f:\n",
    "            best_result_f = f1_score(target_valid, predicted_valid)\n",
    "            best_est_f = est\n",
    "            best_depth_f = depth\n",
    "print(f'При максимизации показателя \"F1\" '\n",
    "      f'для модели случайного леса наилучший результат достигается \\n'\n",
    "      f'при следующих гиперпараметрах:\\n'\n",
    "      f'n_estimators: {best_est_f},\\n max_depth: {best_depth_f}.')\n",
    "print(f'Такая модель имеет следующие характеристики:')\n",
    "\n",
    "# Объявляем лучшую из рассмотренных модель\n",
    "model = RandomForestClassifier(random_state=442, n_estimators=best_est_f, max_depth = best_depth_f, class_weight = 'balanced')\n",
    "\n",
    "# Обучаем модель\n",
    "model.fit(features_upsampled, target_upsampled)\n",
    "\n",
    "# Строим предсказания\n",
    "predicted_valid = model.predict(features_valid)\n",
    "\n",
    "# Оцениваем качество модели\n",
    "probabilities_valid = model.predict_proba(features_valid)\n",
    "probabilities_one_valid = probabilities_valid[:, 1]\n",
    "auc_roc = roc_auc_score(target_valid, probabilities_one_valid)\n",
    "\n",
    "# Выводим на экран показатели качества модели\n",
    "print(f'Accuracy: {accuracy_score(target_valid, predicted_valid):.2%}') \n",
    "print(f'Полнота (recall): {recall_score(target_valid, predicted_valid):.2%}')\n",
    "print(f'Точность (precision): {precision_score(target_valid, predicted_valid):.2%}')\n",
    "print(f'F1-мера: {f1_score(target_valid, predicted_valid):.2%}')\n",
    "print('Матрица ошибок:\\n', confusion_matrix(target_valid, predicted_valid))\n",
    "print(f'Площадь под кривой ошибок (AUC ROC): {auc_roc:.3}')"
   ]
  },
  {
   "cell_type": "markdown",
   "metadata": {},
   "source": [
    "#### Модель логистической регрессии"
   ]
  },
  {
   "cell_type": "code",
   "execution_count": 35,
   "metadata": {
    "scrolled": true
   },
   "outputs": [
    {
     "name": "stdout",
     "output_type": "stream",
     "text": [
      "Accuracy: 77.23%\n",
      "F1-мера: 57.05%\n",
      "Площадь под кривой ошибок (AUC ROC): 0.843\n"
     ]
    }
   ],
   "source": [
    "# Объявляем модель\n",
    "model = LogisticRegression(random_state=442, solver='liblinear')\n",
    "\n",
    "# Обучаем модель\n",
    "model.fit(features_upsampled, target_upsampled)\n",
    "\n",
    "# Строим предсказания\n",
    "predictions = model.predict(features_valid)\n",
    "\n",
    "# Оцениваем качество модели\n",
    "probabilities_valid = model.predict_proba(features_valid)\n",
    "probabilities_one_valid = probabilities_valid[:, 1]\n",
    "auc_roc = roc_auc_score(target_valid, probabilities_one_valid)\n",
    "\n",
    "# Выводим на экран показатели качества модели\n",
    "print(f'Accuracy: {accuracy_score(target_valid, predictions):.2%}')\n",
    "print(f'F1-мера: {f1_score(target_valid, predictions):.2%}')\n",
    "print(f'Площадь под кривой ошибок (AUC ROC): {auc_roc:.3}')"
   ]
  },
  {
   "cell_type": "markdown",
   "metadata": {},
   "source": [
    "#### Вывод"
   ]
  },
  {
   "cell_type": "markdown",
   "metadata": {},
   "source": [
    "Еще одним способом преодолеть дисбаланс классов является увеличение выборки, заключающийся в копировании положительных объектов.\n",
    "\n",
    "При борьбе с дисбалансом таким методом лучшей моделью оказалась модель случайного леса, показатель `F1-меры` которой составляет 64,12%, а площадь под кривой ошибок - 0,871. `F1-мера` модели решающего дерева увеличилась до 59,12%, площадь под кривой ошибок незначительно уменьшилась до 0,835. Хуже всех в очередной раз проявила себя модель логистической регрессии, показатель `F1-меры` у нее снизился по сравнению с моделью при взвешивании классов и составил 57,05%. "
   ]
  },
  {
   "cell_type": "markdown",
   "metadata": {},
   "source": [
    "### Уменьшение выборки"
   ]
  },
  {
   "cell_type": "code",
   "execution_count": 36,
   "metadata": {},
   "outputs": [],
   "source": [
    "def downsample(features, target, fraction):\n",
    "    features_zeros = features[target == 0]\n",
    "    features_ones = features[target == 1]\n",
    "    target_zeros = target[target == 0]\n",
    "    target_ones = target[target == 1]\n",
    "\n",
    "    features_downsampled = pd.concat(\n",
    "        [features_zeros.sample(frac=fraction, random_state=442)] + [features_ones])\n",
    "    target_downsampled = pd.concat(\n",
    "        [target_zeros.sample(frac=fraction, random_state=442)] + [target_ones])\n",
    "    \n",
    "    features_downsampled, target_downsampled = shuffle(\n",
    "        features_downsampled, target_downsampled, random_state=442)\n",
    "    \n",
    "    return features_downsampled, target_downsampled\n",
    "\n",
    "features_downsampled, target_downsampled = downsample(features_train, target_train, 0.25)"
   ]
  },
  {
   "cell_type": "markdown",
   "metadata": {},
   "source": [
    "#### Модель решаюшего дерева"
   ]
  },
  {
   "cell_type": "code",
   "execution_count": 37,
   "metadata": {},
   "outputs": [
    {
     "name": "stdout",
     "output_type": "stream",
     "text": [
      "При максимизации показателя \"F1\" для модели решающего дерева наилучший результат достигается при глубине\n",
      " max_depth: 3.\n",
      "Такая модель имеет следующие характеристики:\n",
      "Accuracy: 81.35%\n",
      "Полнота (recall): 63.03%\n",
      "Точность (precision): 52.08%\n",
      "F1-мера: 57.03%\n",
      "Матрица ошибок:\n",
      " [[1254  207]\n",
      " [ 132  225]]\n"
     ]
    }
   ],
   "source": [
    "# Задаем переменные-счетчики\n",
    "result_f = 0\n",
    "best_depth_f = 1\n",
    "# В цикле перебираем гиперпараметры модели\n",
    "for depth in range(2, 51):\n",
    "    model = DecisionTreeClassifier(random_state=442, max_depth=depth)\n",
    "    model.fit(features_downsampled, target_downsampled)\n",
    "    predicted_valid = model.predict(features_valid)\n",
    "    # Отбираем лучшую модель\n",
    "    # В качестве оценки качества используем показатель F1-мера\n",
    "    if f1_score(target_valid, predicted_valid) > result_f:\n",
    "        best_depth_f = depth\n",
    "        result_f = f1_score(target_valid, predicted_valid)\n",
    "print(f'При максимизации показателя \"F1\" '\n",
    "      f'для модели решающего дерева наилучший результат достигается при глубине\\n max_depth: {best_depth_f}.')\n",
    "print(f'Такая модель имеет следующие характеристики:')\n",
    "\n",
    "# Объявляем лучшую из рассмотренных модель\n",
    "model = DecisionTreeClassifier(random_state=442, max_depth=best_depth_f)\n",
    "\n",
    "# Обучаем модель\n",
    "model.fit(features_downsampled, target_downsampled)\n",
    "\n",
    "# Строим предсказания\n",
    "predicted_valid = model.predict(features_valid)\n",
    "\n",
    "# Оцениваем качество модели\n",
    "probabilities_valid = model.predict_proba(features_valid)\n",
    "probabilities_one_valid = probabilities_valid[:, 1]\n",
    "auc_roc = roc_auc_score(target_valid, probabilities_one_valid)\n",
    "\n",
    "# Выводим на экран показатели качества модели\n",
    "print(f'Accuracy: {accuracy_score(target_valid, predicted_valid):.2%}') \n",
    "print(f'Полнота (recall): {recall_score(target_valid, predicted_valid):.2%}')\n",
    "print(f'Точность (precision): {precision_score(target_valid, predicted_valid):.2%}')\n",
    "print(f'F1-мера: {f1_score(target_valid, predicted_valid):.2%}')\n",
    "print('Матрица ошибок:\\n', confusion_matrix(target_valid, predicted_valid))"
   ]
  },
  {
   "cell_type": "markdown",
   "metadata": {},
   "source": [
    "#### Модель случайного леса"
   ]
  },
  {
   "cell_type": "code",
   "execution_count": 38,
   "metadata": {},
   "outputs": [
    {
     "name": "stdout",
     "output_type": "stream",
     "text": [
      "При максимизации показателя \"F1\" для модели случайного леса наилучший результат достигается \n",
      "при следующих гиперпараметрах:\n",
      "n_estimators: 91,\n",
      " max_depth: 6.\n",
      "Такая модель имеет следующие характеристики:\n",
      "Accuracy: 80.58%\n",
      "Полнота (recall): 79.27%\n",
      "Точность (precision): 50.36%\n",
      "F1-мера: 61.59%\n",
      "Матрица ошибок:\n",
      " [[1182  279]\n",
      " [  74  283]]\n",
      "Площадь под кривой ошибок (AUC ROC): 0.87\n"
     ]
    }
   ],
   "source": [
    "# Задаем переменные-счетчики\n",
    "best_result_f = 0\n",
    "best_est_f = 0\n",
    "best_depth_f = 0\n",
    "# В цикле перебираем гиперпараметры модели\n",
    "for est in range(1, 101, 10):\n",
    "    for depth in range(1, 51):\n",
    "        model = RandomForestClassifier(random_state=442, n_estimators=est, max_depth = depth, class_weight = 'balanced')\n",
    "        model.fit(features_downsampled, target_downsampled)\n",
    "        predicted_valid = model.predict(features_valid)\n",
    "        # Отбираем лучшую модель\n",
    "        # В качестве оценки качества используем показатель F1-мера\n",
    "        if f1_score(target_valid, predicted_valid) > best_result_f:\n",
    "            best_result_f = f1_score(target_valid, predicted_valid)\n",
    "            best_est_f = est\n",
    "            best_depth_f = depth\n",
    "print(f'При максимизации показателя \"F1\" '\n",
    "      f'для модели случайного леса наилучший результат достигается \\n'\n",
    "      f'при следующих гиперпараметрах:\\n'\n",
    "      f'n_estimators: {best_est_f},\\n max_depth: {best_depth_f}.')\n",
    "print(f'Такая модель имеет следующие характеристики:')\n",
    "\n",
    "# Объявляем лучшую из рассмотренных модель\n",
    "model = RandomForestClassifier(random_state=442, n_estimators=best_est_f, max_depth = best_depth_f, class_weight = 'balanced')\n",
    "\n",
    "# Обучаем модель\n",
    "model.fit(features_downsampled, target_downsampled)\n",
    "\n",
    "# Строим предсказания\n",
    "predicted_valid = model.predict(features_valid)\n",
    "\n",
    "# Оцениваем качество модели\n",
    "probabilities_valid = model.predict_proba(features_valid)\n",
    "probabilities_one_valid = probabilities_valid[:, 1]\n",
    "auc_roc = roc_auc_score(target_valid, probabilities_one_valid)\n",
    "\n",
    "# Выводим на экран показатели качества модели\n",
    "print(f'Accuracy: {accuracy_score(target_valid, predicted_valid):.2%}') \n",
    "print(f'Полнота (recall): {recall_score(target_valid, predicted_valid):.2%}')\n",
    "print(f'Точность (precision): {precision_score(target_valid, predicted_valid):.2%}')\n",
    "print(f'F1-мера: {f1_score(target_valid, predicted_valid):.2%}')\n",
    "print('Матрица ошибок:\\n', confusion_matrix(target_valid, predicted_valid))\n",
    "print(f'Площадь под кривой ошибок (AUC ROC): {auc_roc:.3}')"
   ]
  },
  {
   "cell_type": "markdown",
   "metadata": {},
   "source": [
    "#### Модель логистической регрессии"
   ]
  },
  {
   "cell_type": "code",
   "execution_count": 39,
   "metadata": {},
   "outputs": [
    {
     "name": "stdout",
     "output_type": "stream",
     "text": [
      "Accuracy: 76.29%\n",
      "F1-мера: 56.86%\n",
      "Площадь под кривой ошибок (AUC ROC): 0.845\n"
     ]
    }
   ],
   "source": [
    "# Объявляем модель\n",
    "model = LogisticRegression(random_state=442, solver='liblinear')\n",
    "\n",
    "# Обучаем модель\n",
    "model.fit(features_downsampled, target_downsampled)\n",
    "\n",
    "# Строим предсказания\n",
    "predictions = model.predict(features_valid)\n",
    "\n",
    "# Оцениваем качество модели\n",
    "probabilities_valid = model.predict_proba(features_valid)\n",
    "probabilities_one_valid = probabilities_valid[:, 1]\n",
    "auc_roc = roc_auc_score(target_valid, probabilities_one_valid)\n",
    "\n",
    "# Выводим на экран показатели качества модели\n",
    "print(f'Accuracy: {accuracy_score(target_valid, predictions):.2%}')\n",
    "print(f'F1-мера: {f1_score(target_valid, predictions):.2%}')\n",
    "print(f'Площадь под кривой ошибок (AUC ROC): {auc_roc:.3}')"
   ]
  },
  {
   "cell_type": "markdown",
   "metadata": {},
   "source": [
    "#### Вывод"
   ]
  },
  {
   "cell_type": "markdown",
   "metadata": {},
   "source": [
    "Также преодолеть дисбаланс классов можно путем уменьшения выборки, заключающимся в случайном отбрасывании части отрицательных объектов.\n",
    "\n",
    "При борьбе с дисбалансом таким методом лучшей моделью оказалась модель случайного леса, однако показатель `F1-меры` составляет 61,59%. `F1-мера` модели решающего дерева снизилась до 57,03%, а вот аналогичный показатель модели логистической регрессии снизился до 56,86%. "
   ]
  },
  {
   "cell_type": "markdown",
   "metadata": {},
   "source": [
    "### Общий вывод"
   ]
  },
  {
   "cell_type": "markdown",
   "metadata": {},
   "source": [
    "Нами было оценено качество моделей при борьбе с дисбалансом разными способами. В каждом случае лучшими показателями обладала модель случайного леса. При этом показатель `F1-меры` лучшей модели с учетом несбалансированности классов увеличился по сравнению с лучшей моделью без учета дисбаланса на 1,7 процентных пункта и составила 64,81%. Гиперпараметры лучшей модели: n_estimators: 91, max_depth: 11, class_weight='balanced'. Хуже остальных была модель логистической регрессии, тем не менее ее показатели улучшились. "
   ]
  },
  {
   "cell_type": "markdown",
   "metadata": {},
   "source": [
    "## Тестирование модели"
   ]
  },
  {
   "cell_type": "markdown",
   "metadata": {},
   "source": [
    "Проверим качество лучшей модели на тестовой выборке."
   ]
  },
  {
   "cell_type": "code",
   "execution_count": 43,
   "metadata": {},
   "outputs": [
    {
     "name": "stdout",
     "output_type": "stream",
     "text": [
      "Такая модель имеет следующие характеристики:\n",
      "Accuracy: 84.28%\n",
      "Полнота (recall): 62.57%\n",
      "Точность (precision): 61.58%\n",
      "F1-мера: 62.07%\n",
      "Матрица ошибок:\n",
      " [[1299  146]\n",
      " [ 140  234]]\n",
      "Площадь под кривой ошибок (AUC ROC): 0.867\n"
     ]
    }
   ],
   "source": [
    "# Объявляем модель\n",
    "model = RandomForestClassifier(random_state=442, n_estimators=91, max_depth = 11, class_weight = 'balanced')\n",
    "\n",
    "# Обучаем модель\n",
    "model.fit(features_train, target_train) \n",
    "\n",
    "# Строим предсказания\n",
    "predicted_test = model.predict(features_test)\n",
    "\n",
    "# Оцениваем качество модели\n",
    "probabilities_valid = model.predict_proba(features_test)\n",
    "probabilities_one_valid = probabilities_valid[:, 1]\n",
    "auc_roc = roc_auc_score(target_test, probabilities_one_valid)\n",
    "\n",
    "# Выводим на экран показатели качества модели\n",
    "print(f'Такая модель имеет следующие характеристики:')\n",
    "print(f'Accuracy: {accuracy_score(target_test, predicted_test):.2%}') \n",
    "print(f'Полнота (recall): {recall_score(target_test, predicted_test):.2%}')\n",
    "print(f'Точность (precision): {precision_score(target_test, predicted_test):.2%}')\n",
    "print(f'F1-мера: {f1_score(target_test, predicted_test):.2%}')\n",
    "print('Матрица ошибок:\\n', confusion_matrix(target_test, predicted_test))\n",
    "print(f'Площадь под кривой ошибок (AUC ROC): {auc_roc:.3}')"
   ]
  },
  {
   "cell_type": "markdown",
   "metadata": {},
   "source": [
    "В ходе решения поставленной задачи мы рассматривали три типа моделей - модель решающего дерева, модель случайного леса и логистическая модель регресси. Сперва мы оценили их на несбалансированной выборке, а затем учли дисбаланс классов, заново обучили модели и сравнили полученные результаты. На тренировочной и валидационной выборках лучшие результаты были достигнуты на модели случайного леса с применением взвешивания классов - показатель F1-меры составил 64,81%, а площадь под кривой ошибок - 0,876. \n",
    "\n",
    "При проведении итогового теста на тестовой выборке мы получили значение F1-меры, равное 62,07%, площадь под кривой ошибок составила 0,867."
   ]
  }
 ],
 "metadata": {
  "ExecuteTimeLog": [
   {
    "duration": 371,
    "start_time": "2023-04-14T12:09:57.238Z"
   },
   {
    "duration": 76,
    "start_time": "2023-04-14T12:09:58.735Z"
   },
   {
    "duration": 82,
    "start_time": "2023-04-14T12:10:25.059Z"
   },
   {
    "duration": 16,
    "start_time": "2023-04-14T12:10:30.825Z"
   },
   {
    "duration": 58,
    "start_time": "2023-04-14T14:22:19.415Z"
   },
   {
    "duration": 68,
    "start_time": "2023-04-14T14:22:28.769Z"
   },
   {
    "duration": 15,
    "start_time": "2023-04-14T14:22:32.048Z"
   },
   {
    "duration": 43,
    "start_time": "2023-04-14T14:22:37.614Z"
   },
   {
    "duration": 16,
    "start_time": "2023-04-14T14:22:44.214Z"
   },
   {
    "duration": 1405,
    "start_time": "2023-04-14T14:23:04.515Z"
   },
   {
    "duration": 1001,
    "start_time": "2023-04-14T14:23:11.247Z"
   },
   {
    "duration": 33660,
    "start_time": "2023-04-14T14:23:52.341Z"
   },
   {
    "duration": 82,
    "start_time": "2023-04-14T14:25:33.040Z"
   },
   {
    "duration": 721,
    "start_time": "2023-04-14T14:25:46.306Z"
   },
   {
    "duration": 1546,
    "start_time": "2023-04-14T14:25:49.962Z"
   },
   {
    "duration": 491,
    "start_time": "2023-04-14T14:28:45.260Z"
   },
   {
    "duration": 27982,
    "start_time": "2023-04-14T14:30:14.563Z"
   },
   {
    "duration": 4,
    "start_time": "2023-04-14T14:30:42.547Z"
   },
   {
    "duration": 9,
    "start_time": "2023-04-14T14:31:08.870Z"
   },
   {
    "duration": 5,
    "start_time": "2023-04-14T14:31:12.758Z"
   },
   {
    "duration": 66,
    "start_time": "2023-04-14T14:31:31.606Z"
   },
   {
    "duration": 6,
    "start_time": "2023-04-14T14:31:37.136Z"
   },
   {
    "duration": 101128,
    "start_time": "2023-04-14T14:31:50.323Z"
   },
   {
    "duration": 10,
    "start_time": "2023-04-14T14:34:31.863Z"
   },
   {
    "duration": 105275,
    "start_time": "2023-04-14T14:34:38.164Z"
   },
   {
    "duration": 1634,
    "start_time": "2023-04-14T14:37:03.824Z"
   },
   {
    "duration": 2423,
    "start_time": "2023-04-14T14:37:20.602Z"
   },
   {
    "duration": 8,
    "start_time": "2023-04-14T14:38:02.430Z"
   },
   {
    "duration": 29,
    "start_time": "2023-04-14T14:38:35.830Z"
   },
   {
    "duration": 1234,
    "start_time": "2023-04-15T03:57:23.730Z"
   },
   {
    "duration": 170,
    "start_time": "2023-04-15T03:57:24.966Z"
   },
   {
    "duration": 1469,
    "start_time": "2023-04-15T03:57:25.137Z"
   },
   {
    "duration": 9,
    "start_time": "2023-04-15T03:57:26.607Z"
   },
   {
    "duration": 19,
    "start_time": "2023-04-15T03:57:26.618Z"
   },
   {
    "duration": 414,
    "start_time": "2023-04-15T11:48:09.621Z"
   },
   {
    "duration": 1667,
    "start_time": "2023-04-16T09:27:52.727Z"
   },
   {
    "duration": 185,
    "start_time": "2023-04-16T09:27:54.396Z"
   },
   {
    "duration": 1850,
    "start_time": "2023-04-16T09:27:54.582Z"
   },
   {
    "duration": 10,
    "start_time": "2023-04-16T09:27:56.434Z"
   },
   {
    "duration": 30,
    "start_time": "2023-04-16T09:27:56.446Z"
   },
   {
    "duration": 13,
    "start_time": "2023-04-16T09:29:35.486Z"
   },
   {
    "duration": 259,
    "start_time": "2023-04-16T09:34:26.545Z"
   },
   {
    "duration": 224,
    "start_time": "2023-04-16T09:34:33.469Z"
   },
   {
    "duration": 3587,
    "start_time": "2023-04-16T09:35:36.901Z"
   },
   {
    "duration": 12,
    "start_time": "2023-04-16T09:36:24.701Z"
   },
   {
    "duration": 30,
    "start_time": "2023-04-16T09:37:34.247Z"
   },
   {
    "duration": 31,
    "start_time": "2023-04-16T09:38:03.228Z"
   },
   {
    "duration": 37,
    "start_time": "2023-04-16T09:38:09.634Z"
   },
   {
    "duration": 28,
    "start_time": "2023-04-16T09:38:22.185Z"
   },
   {
    "duration": 30,
    "start_time": "2023-04-16T09:39:08.849Z"
   },
   {
    "duration": 4,
    "start_time": "2023-04-16T09:43:14.405Z"
   },
   {
    "duration": 3,
    "start_time": "2023-04-16T09:43:15.257Z"
   },
   {
    "duration": 9,
    "start_time": "2023-04-16T10:05:24.205Z"
   },
   {
    "duration": 41,
    "start_time": "2023-04-16T10:06:57.603Z"
   },
   {
    "duration": 15,
    "start_time": "2023-04-16T10:07:07.128Z"
   },
   {
    "duration": 24,
    "start_time": "2023-04-16T10:07:20.659Z"
   },
   {
    "duration": 23,
    "start_time": "2023-04-16T10:07:34.155Z"
   },
   {
    "duration": 21,
    "start_time": "2023-04-16T10:09:16.902Z"
   },
   {
    "duration": 23,
    "start_time": "2023-04-16T10:09:33.715Z"
   },
   {
    "duration": 11,
    "start_time": "2023-04-16T10:10:00.494Z"
   },
   {
    "duration": 21,
    "start_time": "2023-04-16T10:10:04.895Z"
   },
   {
    "duration": 26,
    "start_time": "2023-04-16T10:10:20.340Z"
   },
   {
    "duration": 4,
    "start_time": "2023-04-16T10:33:23.510Z"
   },
   {
    "duration": 12,
    "start_time": "2023-04-16T10:33:44.147Z"
   },
   {
    "duration": 7,
    "start_time": "2023-04-16T10:33:48.718Z"
   },
   {
    "duration": 120,
    "start_time": "2023-04-16T10:34:54.585Z"
   },
   {
    "duration": 8348,
    "start_time": "2023-04-16T10:35:01.712Z"
   },
   {
    "duration": 0,
    "start_time": "2023-04-16T10:35:10.062Z"
   },
   {
    "duration": 4,
    "start_time": "2023-04-16T10:35:16.303Z"
   },
   {
    "duration": 20,
    "start_time": "2023-04-16T10:35:17.823Z"
   },
   {
    "duration": 1720,
    "start_time": "2023-04-16T10:35:46.398Z"
   },
   {
    "duration": 45,
    "start_time": "2023-04-16T10:35:48.120Z"
   },
   {
    "duration": 1905,
    "start_time": "2023-04-16T10:35:48.167Z"
   },
   {
    "duration": 6,
    "start_time": "2023-04-16T10:35:50.074Z"
   },
   {
    "duration": 31,
    "start_time": "2023-04-16T10:35:50.083Z"
   },
   {
    "duration": 18,
    "start_time": "2023-04-16T10:35:50.116Z"
   },
   {
    "duration": 10,
    "start_time": "2023-04-16T10:35:50.136Z"
   },
   {
    "duration": 6,
    "start_time": "2023-04-16T10:35:50.147Z"
   },
   {
    "duration": 1521,
    "start_time": "2023-04-16T10:35:50.155Z"
   },
   {
    "duration": 0,
    "start_time": "2023-04-16T10:35:51.677Z"
   },
   {
    "duration": 1489,
    "start_time": "2023-04-16T10:36:26.453Z"
   },
   {
    "duration": 44,
    "start_time": "2023-04-16T10:36:27.944Z"
   },
   {
    "duration": 1817,
    "start_time": "2023-04-16T10:36:27.990Z"
   },
   {
    "duration": 6,
    "start_time": "2023-04-16T10:36:29.808Z"
   },
   {
    "duration": 41,
    "start_time": "2023-04-16T10:36:29.816Z"
   },
   {
    "duration": 16,
    "start_time": "2023-04-16T10:36:29.858Z"
   },
   {
    "duration": 50,
    "start_time": "2023-04-16T10:36:29.876Z"
   },
   {
    "duration": 3,
    "start_time": "2023-04-16T10:36:29.927Z"
   },
   {
    "duration": 12,
    "start_time": "2023-04-16T10:36:29.932Z"
   },
   {
    "duration": 12,
    "start_time": "2023-04-16T10:36:29.946Z"
   },
   {
    "duration": 1639,
    "start_time": "2023-04-16T10:37:48.804Z"
   },
   {
    "duration": 1917,
    "start_time": "2023-04-16T10:38:05.845Z"
   },
   {
    "duration": 6,
    "start_time": "2023-04-16T10:41:55.902Z"
   },
   {
    "duration": 1770,
    "start_time": "2023-04-16T10:42:12.346Z"
   },
   {
    "duration": 2030,
    "start_time": "2023-04-16T10:42:21.611Z"
   },
   {
    "duration": 13,
    "start_time": "2023-04-16T10:42:46.510Z"
   },
   {
    "duration": 27,
    "start_time": "2023-04-16T10:43:07.315Z"
   },
   {
    "duration": 30,
    "start_time": "2023-04-16T10:43:49.256Z"
   },
   {
    "duration": 2278,
    "start_time": "2023-04-16T10:44:40.209Z"
   },
   {
    "duration": 2060,
    "start_time": "2023-04-16T12:54:27.275Z"
   },
   {
    "duration": 6,
    "start_time": "2023-04-16T13:11:29.748Z"
   },
   {
    "duration": 25,
    "start_time": "2023-04-16T13:11:34.099Z"
   },
   {
    "duration": 4,
    "start_time": "2023-04-16T13:43:03.718Z"
   },
   {
    "duration": 5,
    "start_time": "2023-04-16T13:45:43.771Z"
   },
   {
    "duration": 18,
    "start_time": "2023-04-16T13:45:50.407Z"
   },
   {
    "duration": 4,
    "start_time": "2023-04-16T13:46:10.203Z"
   },
   {
    "duration": 20,
    "start_time": "2023-04-16T13:46:11.345Z"
   },
   {
    "duration": 3,
    "start_time": "2023-04-16T13:49:33.108Z"
   },
   {
    "duration": 116,
    "start_time": "2023-04-16T13:49:52.293Z"
   },
   {
    "duration": 1591,
    "start_time": "2023-04-16T13:53:54.215Z"
   },
   {
    "duration": 41,
    "start_time": "2023-04-16T13:53:55.808Z"
   },
   {
    "duration": 1979,
    "start_time": "2023-04-16T13:53:55.851Z"
   },
   {
    "duration": 5,
    "start_time": "2023-04-16T13:53:57.833Z"
   },
   {
    "duration": 23,
    "start_time": "2023-04-16T13:53:57.840Z"
   },
   {
    "duration": 8,
    "start_time": "2023-04-16T13:53:57.865Z"
   },
   {
    "duration": 1714,
    "start_time": "2023-04-16T13:53:57.874Z"
   },
   {
    "duration": 7,
    "start_time": "2023-04-16T13:53:59.589Z"
   },
   {
    "duration": 39,
    "start_time": "2023-04-16T13:53:59.597Z"
   },
   {
    "duration": 30,
    "start_time": "2023-04-16T13:53:59.638Z"
   },
   {
    "duration": 5,
    "start_time": "2023-04-16T13:53:59.670Z"
   },
   {
    "duration": 141,
    "start_time": "2023-04-16T13:53:59.677Z"
   },
   {
    "duration": 4,
    "start_time": "2023-04-16T13:55:00.919Z"
   },
   {
    "duration": 6,
    "start_time": "2023-04-16T13:55:44.803Z"
   },
   {
    "duration": 23,
    "start_time": "2023-04-16T13:56:15.413Z"
   },
   {
    "duration": 24,
    "start_time": "2023-04-16T13:56:22.063Z"
   },
   {
    "duration": 21,
    "start_time": "2023-04-16T13:56:27.115Z"
   },
   {
    "duration": 9,
    "start_time": "2023-04-16T13:58:45.421Z"
   },
   {
    "duration": 15,
    "start_time": "2023-04-16T13:58:56.915Z"
   },
   {
    "duration": 15,
    "start_time": "2023-04-16T13:59:07.357Z"
   },
   {
    "duration": 5,
    "start_time": "2023-04-16T13:59:22.963Z"
   },
   {
    "duration": 3,
    "start_time": "2023-04-16T13:59:34.134Z"
   },
   {
    "duration": 28,
    "start_time": "2023-04-16T14:00:27.310Z"
   },
   {
    "duration": 17,
    "start_time": "2023-04-16T14:00:36.351Z"
   },
   {
    "duration": 3,
    "start_time": "2023-04-16T14:00:53.826Z"
   },
   {
    "duration": 16,
    "start_time": "2023-04-16T14:00:54.419Z"
   },
   {
    "duration": 5,
    "start_time": "2023-04-16T14:01:16.518Z"
   },
   {
    "duration": 1572,
    "start_time": "2023-04-16T14:01:21.723Z"
   },
   {
    "duration": 41,
    "start_time": "2023-04-16T14:01:23.297Z"
   },
   {
    "duration": 1862,
    "start_time": "2023-04-16T14:01:23.340Z"
   },
   {
    "duration": 5,
    "start_time": "2023-04-16T14:01:25.204Z"
   },
   {
    "duration": 23,
    "start_time": "2023-04-16T14:01:25.211Z"
   },
   {
    "duration": 16,
    "start_time": "2023-04-16T14:01:25.236Z"
   },
   {
    "duration": 1742,
    "start_time": "2023-04-16T14:01:25.253Z"
   },
   {
    "duration": 6,
    "start_time": "2023-04-16T14:01:26.997Z"
   },
   {
    "duration": 37,
    "start_time": "2023-04-16T14:01:27.004Z"
   },
   {
    "duration": 43,
    "start_time": "2023-04-16T14:01:27.043Z"
   },
   {
    "duration": 9,
    "start_time": "2023-04-16T14:01:27.088Z"
   },
   {
    "duration": 5,
    "start_time": "2023-04-16T14:01:27.100Z"
   },
   {
    "duration": 38,
    "start_time": "2023-04-16T14:01:27.107Z"
   },
   {
    "duration": 9,
    "start_time": "2023-04-16T14:01:27.148Z"
   },
   {
    "duration": 148,
    "start_time": "2023-04-16T14:01:27.159Z"
   },
   {
    "duration": 0,
    "start_time": "2023-04-16T14:01:27.309Z"
   },
   {
    "duration": 2,
    "start_time": "2023-04-16T14:01:37.151Z"
   },
   {
    "duration": 23,
    "start_time": "2023-04-16T14:01:38.207Z"
   },
   {
    "duration": 19,
    "start_time": "2023-04-16T14:01:39.895Z"
   },
   {
    "duration": 25,
    "start_time": "2023-04-16T14:01:54.922Z"
   },
   {
    "duration": 4,
    "start_time": "2023-04-16T14:06:37.130Z"
   },
   {
    "duration": 1958,
    "start_time": "2023-04-16T14:06:38.419Z"
   },
   {
    "duration": 41,
    "start_time": "2023-04-16T14:08:26.919Z"
   },
   {
    "duration": 43,
    "start_time": "2023-04-16T14:08:31.323Z"
   },
   {
    "duration": 64,
    "start_time": "2023-04-16T14:08:36.903Z"
   },
   {
    "duration": 12,
    "start_time": "2023-04-16T14:09:01.765Z"
   },
   {
    "duration": 37,
    "start_time": "2023-04-16T14:09:04.719Z"
   },
   {
    "duration": 1606,
    "start_time": "2023-04-16T14:09:07.723Z"
   },
   {
    "duration": 5,
    "start_time": "2023-04-16T14:12:32.272Z"
   },
   {
    "duration": 5,
    "start_time": "2023-04-16T14:14:03.447Z"
   },
   {
    "duration": 8,
    "start_time": "2023-04-16T14:15:36.803Z"
   },
   {
    "duration": 8,
    "start_time": "2023-04-16T14:16:36.868Z"
   },
   {
    "duration": 1595,
    "start_time": "2023-04-16T14:20:23.834Z"
   },
   {
    "duration": 106,
    "start_time": "2023-04-16T14:22:08.707Z"
   },
   {
    "duration": 1578,
    "start_time": "2023-04-16T14:22:15.713Z"
   },
   {
    "duration": 56,
    "start_time": "2023-04-16T14:22:17.293Z"
   },
   {
    "duration": 23,
    "start_time": "2023-04-16T14:22:17.350Z"
   },
   {
    "duration": 62,
    "start_time": "2023-04-16T14:22:17.375Z"
   },
   {
    "duration": 1653,
    "start_time": "2023-04-16T14:22:17.440Z"
   },
   {
    "duration": 5,
    "start_time": "2023-04-16T14:22:19.095Z"
   },
   {
    "duration": 19,
    "start_time": "2023-04-16T14:22:19.102Z"
   },
   {
    "duration": 19,
    "start_time": "2023-04-16T14:22:19.123Z"
   },
   {
    "duration": 1587,
    "start_time": "2023-04-16T14:22:19.144Z"
   },
   {
    "duration": 8,
    "start_time": "2023-04-16T14:22:20.733Z"
   },
   {
    "duration": 25,
    "start_time": "2023-04-16T14:22:20.742Z"
   },
   {
    "duration": 33,
    "start_time": "2023-04-16T14:22:20.768Z"
   },
   {
    "duration": 7,
    "start_time": "2023-04-16T14:22:20.803Z"
   },
   {
    "duration": 25,
    "start_time": "2023-04-16T14:22:20.813Z"
   },
   {
    "duration": 43,
    "start_time": "2023-04-16T14:22:20.839Z"
   },
   {
    "duration": 1499,
    "start_time": "2023-04-16T14:57:30.313Z"
   },
   {
    "duration": 57,
    "start_time": "2023-04-16T14:57:31.814Z"
   },
   {
    "duration": 15,
    "start_time": "2023-04-16T14:57:31.873Z"
   },
   {
    "duration": 53,
    "start_time": "2023-04-16T14:57:31.890Z"
   },
   {
    "duration": 1703,
    "start_time": "2023-04-16T14:57:31.945Z"
   },
   {
    "duration": 5,
    "start_time": "2023-04-16T14:57:33.649Z"
   },
   {
    "duration": 20,
    "start_time": "2023-04-16T14:57:33.655Z"
   },
   {
    "duration": 13,
    "start_time": "2023-04-16T14:57:33.677Z"
   },
   {
    "duration": 20,
    "start_time": "2023-04-16T14:57:33.692Z"
   },
   {
    "duration": 23,
    "start_time": "2023-04-16T14:57:33.714Z"
   },
   {
    "duration": 18,
    "start_time": "2023-04-16T14:57:33.739Z"
   },
   {
    "duration": 45,
    "start_time": "2023-04-16T14:57:33.759Z"
   },
   {
    "duration": 10,
    "start_time": "2023-04-16T14:57:33.806Z"
   },
   {
    "duration": 8,
    "start_time": "2023-04-16T14:57:33.835Z"
   },
   {
    "duration": 36,
    "start_time": "2023-04-16T14:57:33.845Z"
   },
   {
    "duration": 1385,
    "start_time": "2023-04-16T15:01:11.736Z"
   },
   {
    "duration": 1583,
    "start_time": "2023-04-16T15:01:43.312Z"
   },
   {
    "duration": 55,
    "start_time": "2023-04-16T15:01:44.897Z"
   },
   {
    "duration": 12,
    "start_time": "2023-04-16T15:01:44.954Z"
   },
   {
    "duration": 39,
    "start_time": "2023-04-16T15:01:44.967Z"
   },
   {
    "duration": 1761,
    "start_time": "2023-04-16T15:01:45.009Z"
   },
   {
    "duration": 5,
    "start_time": "2023-04-16T15:01:46.772Z"
   },
   {
    "duration": 21,
    "start_time": "2023-04-16T15:01:46.779Z"
   },
   {
    "duration": 8,
    "start_time": "2023-04-16T15:01:46.801Z"
   },
   {
    "duration": 1698,
    "start_time": "2023-04-16T15:01:46.810Z"
   },
   {
    "duration": 9,
    "start_time": "2023-04-16T15:01:48.510Z"
   },
   {
    "duration": 34,
    "start_time": "2023-04-16T15:01:48.521Z"
   },
   {
    "duration": 37,
    "start_time": "2023-04-16T15:01:48.557Z"
   },
   {
    "duration": 7,
    "start_time": "2023-04-16T15:01:48.596Z"
   },
   {
    "duration": 7,
    "start_time": "2023-04-16T15:01:48.605Z"
   },
   {
    "duration": 32,
    "start_time": "2023-04-16T15:01:48.614Z"
   },
   {
    "duration": 3,
    "start_time": "2023-04-16T15:15:04.433Z"
   },
   {
    "duration": 3,
    "start_time": "2023-04-16T15:15:04.804Z"
   },
   {
    "duration": 2052,
    "start_time": "2023-04-17T07:19:31.619Z"
   },
   {
    "duration": 185,
    "start_time": "2023-04-17T07:19:33.674Z"
   },
   {
    "duration": 17,
    "start_time": "2023-04-17T07:19:33.861Z"
   },
   {
    "duration": 65,
    "start_time": "2023-04-17T07:19:33.880Z"
   },
   {
    "duration": 2055,
    "start_time": "2023-04-17T07:19:33.947Z"
   },
   {
    "duration": 7,
    "start_time": "2023-04-17T07:19:36.005Z"
   },
   {
    "duration": 59,
    "start_time": "2023-04-17T07:19:36.015Z"
   },
   {
    "duration": 21,
    "start_time": "2023-04-17T07:19:36.077Z"
   },
   {
    "duration": 2025,
    "start_time": "2023-04-17T07:19:36.100Z"
   },
   {
    "duration": 17,
    "start_time": "2023-04-17T07:19:38.128Z"
   },
   {
    "duration": 61,
    "start_time": "2023-04-17T07:19:38.147Z"
   },
   {
    "duration": 60,
    "start_time": "2023-04-17T07:19:38.211Z"
   },
   {
    "duration": 9,
    "start_time": "2023-04-17T07:19:38.272Z"
   },
   {
    "duration": 29,
    "start_time": "2023-04-17T07:19:38.283Z"
   },
   {
    "duration": 32,
    "start_time": "2023-04-17T07:19:38.314Z"
   },
   {
    "duration": 8,
    "start_time": "2023-04-17T07:19:38.348Z"
   },
   {
    "duration": 17,
    "start_time": "2023-04-17T07:19:38.358Z"
   },
   {
    "duration": 5,
    "start_time": "2023-04-17T07:49:24.709Z"
   },
   {
    "duration": 12,
    "start_time": "2023-04-17T07:49:42.420Z"
   },
   {
    "duration": 96,
    "start_time": "2023-04-17T07:50:57.232Z"
   },
   {
    "duration": 403,
    "start_time": "2023-04-17T07:51:31.370Z"
   },
   {
    "duration": 11,
    "start_time": "2023-04-17T07:51:44.135Z"
   },
   {
    "duration": 110,
    "start_time": "2023-04-17T07:52:01.358Z"
   },
   {
    "duration": 189,
    "start_time": "2023-04-17T07:52:06.631Z"
   },
   {
    "duration": 127,
    "start_time": "2023-04-17T07:52:52.519Z"
   },
   {
    "duration": 19,
    "start_time": "2023-04-17T07:53:12.031Z"
   },
   {
    "duration": 25,
    "start_time": "2023-04-17T07:53:31.031Z"
   },
   {
    "duration": 1565,
    "start_time": "2023-04-17T07:54:23.134Z"
   },
   {
    "duration": 6,
    "start_time": "2023-04-17T07:54:34.280Z"
   },
   {
    "duration": 1843,
    "start_time": "2023-04-17T07:55:03.328Z"
   },
   {
    "duration": 1189,
    "start_time": "2023-04-17T07:55:14.587Z"
   },
   {
    "duration": 4,
    "start_time": "2023-04-17T07:56:40.787Z"
   },
   {
    "duration": 9,
    "start_time": "2023-04-17T07:56:53.232Z"
   },
   {
    "duration": 13,
    "start_time": "2023-04-17T08:03:49.431Z"
   },
   {
    "duration": 4,
    "start_time": "2023-04-17T08:04:54.336Z"
   },
   {
    "duration": 33,
    "start_time": "2023-04-17T08:05:07.648Z"
   },
   {
    "duration": 46,
    "start_time": "2023-04-17T08:05:17.071Z"
   },
   {
    "duration": 4,
    "start_time": "2023-04-17T08:05:42.543Z"
   },
   {
    "duration": 40,
    "start_time": "2023-04-17T08:05:47.351Z"
   },
   {
    "duration": 53,
    "start_time": "2023-04-17T08:05:56.266Z"
   },
   {
    "duration": 54,
    "start_time": "2023-04-17T08:06:05.883Z"
   },
   {
    "duration": 4,
    "start_time": "2023-04-17T08:06:53.469Z"
   },
   {
    "duration": 48,
    "start_time": "2023-04-17T08:06:57.573Z"
   },
   {
    "duration": 6,
    "start_time": "2023-04-17T08:07:14.788Z"
   },
   {
    "duration": 73,
    "start_time": "2023-04-17T08:07:19.828Z"
   },
   {
    "duration": 6,
    "start_time": "2023-04-17T08:07:38.079Z"
   },
   {
    "duration": 45,
    "start_time": "2023-04-17T08:07:42.827Z"
   },
   {
    "duration": 275,
    "start_time": "2023-04-17T08:08:47.552Z"
   },
   {
    "duration": 185,
    "start_time": "2023-04-17T08:08:53.531Z"
   },
   {
    "duration": 65,
    "start_time": "2023-04-17T08:09:00.452Z"
   },
   {
    "duration": 67,
    "start_time": "2023-04-17T08:09:08.532Z"
   },
   {
    "duration": 228,
    "start_time": "2023-04-17T08:09:50.732Z"
   },
   {
    "duration": 53,
    "start_time": "2023-04-17T08:09:58.399Z"
   },
   {
    "duration": 65,
    "start_time": "2023-04-17T08:10:17.139Z"
   },
   {
    "duration": 290,
    "start_time": "2023-04-17T08:11:26.430Z"
   },
   {
    "duration": 256,
    "start_time": "2023-04-17T08:12:55.482Z"
   },
   {
    "duration": 6,
    "start_time": "2023-04-17T08:13:14.137Z"
   },
   {
    "duration": 50,
    "start_time": "2023-04-17T08:13:30.054Z"
   },
   {
    "duration": 49,
    "start_time": "2023-04-17T08:14:54.014Z"
   },
   {
    "duration": 67,
    "start_time": "2023-04-17T08:15:06.125Z"
   },
   {
    "duration": 77,
    "start_time": "2023-04-17T08:15:16.130Z"
   },
   {
    "duration": 448,
    "start_time": "2023-04-17T08:18:35.153Z"
   },
   {
    "duration": 437,
    "start_time": "2023-04-17T08:19:20.363Z"
   },
   {
    "duration": 49,
    "start_time": "2023-04-17T08:20:02.668Z"
   },
   {
    "duration": 35,
    "start_time": "2023-04-17T08:20:17.550Z"
   },
   {
    "duration": 20,
    "start_time": "2023-04-17T08:20:31.632Z"
   },
   {
    "duration": 33,
    "start_time": "2023-04-17T08:20:52.659Z"
   },
   {
    "duration": 19,
    "start_time": "2023-04-17T08:21:55.193Z"
   },
   {
    "duration": 5,
    "start_time": "2023-04-17T08:22:01.765Z"
   },
   {
    "duration": 375,
    "start_time": "2023-04-17T08:22:07.029Z"
   },
   {
    "duration": 181,
    "start_time": "2023-04-17T08:24:25.675Z"
   },
   {
    "duration": 138,
    "start_time": "2023-04-17T08:24:33.237Z"
   },
   {
    "duration": 133,
    "start_time": "2023-04-17T08:24:56.443Z"
   },
   {
    "duration": 312,
    "start_time": "2023-04-17T08:25:03.418Z"
   },
   {
    "duration": 345,
    "start_time": "2023-04-17T08:27:40.530Z"
   },
   {
    "duration": 304,
    "start_time": "2023-04-17T08:27:53.870Z"
   },
   {
    "duration": 334,
    "start_time": "2023-04-17T08:28:23.073Z"
   },
   {
    "duration": 315,
    "start_time": "2023-04-17T08:28:59.975Z"
   },
   {
    "duration": 8,
    "start_time": "2023-04-17T08:59:44.973Z"
   },
   {
    "duration": 14,
    "start_time": "2023-04-17T08:59:48.682Z"
   },
   {
    "duration": 36,
    "start_time": "2023-04-17T09:01:07.569Z"
   },
   {
    "duration": 13,
    "start_time": "2023-04-17T09:09:30.275Z"
   },
   {
    "duration": 336,
    "start_time": "2023-04-17T09:10:03.835Z"
   },
   {
    "duration": 13,
    "start_time": "2023-04-17T09:10:15.483Z"
   },
   {
    "duration": 8,
    "start_time": "2023-04-17T09:10:24.993Z"
   },
   {
    "duration": 10,
    "start_time": "2023-04-17T09:10:30.710Z"
   },
   {
    "duration": 9,
    "start_time": "2023-04-17T09:10:50.801Z"
   },
   {
    "duration": 13,
    "start_time": "2023-04-17T09:10:58.580Z"
   },
   {
    "duration": 364,
    "start_time": "2023-04-17T09:13:56.106Z"
   },
   {
    "duration": 5432,
    "start_time": "2023-04-17T10:26:58.737Z"
   },
   {
    "duration": 337,
    "start_time": "2023-04-17T10:27:21.531Z"
   },
   {
    "duration": 68,
    "start_time": "2023-04-17T10:27:33.647Z"
   },
   {
    "duration": 9,
    "start_time": "2023-04-17T10:27:38.628Z"
   },
   {
    "duration": 646,
    "start_time": "2023-04-17T11:24:53.781Z"
   },
   {
    "duration": 4,
    "start_time": "2023-04-17T11:25:05.205Z"
   },
   {
    "duration": 5,
    "start_time": "2023-04-17T11:25:34.759Z"
   },
   {
    "duration": 75,
    "start_time": "2023-04-17T11:25:36.780Z"
   },
   {
    "duration": 1695,
    "start_time": "2023-04-17T11:25:41.632Z"
   },
   {
    "duration": 67,
    "start_time": "2023-04-17T11:25:43.329Z"
   },
   {
    "duration": 13,
    "start_time": "2023-04-17T11:25:43.398Z"
   },
   {
    "duration": 55,
    "start_time": "2023-04-17T11:25:43.414Z"
   },
   {
    "duration": 2119,
    "start_time": "2023-04-17T11:25:43.472Z"
   },
   {
    "duration": 5,
    "start_time": "2023-04-17T11:25:45.594Z"
   },
   {
    "duration": 33,
    "start_time": "2023-04-17T11:25:45.601Z"
   },
   {
    "duration": 25,
    "start_time": "2023-04-17T11:25:45.636Z"
   },
   {
    "duration": 1967,
    "start_time": "2023-04-17T11:25:45.663Z"
   },
   {
    "duration": 9,
    "start_time": "2023-04-17T11:25:47.632Z"
   },
   {
    "duration": 45,
    "start_time": "2023-04-17T11:25:47.643Z"
   },
   {
    "duration": 41,
    "start_time": "2023-04-17T11:25:47.691Z"
   },
   {
    "duration": 9,
    "start_time": "2023-04-17T11:25:47.734Z"
   },
   {
    "duration": 29,
    "start_time": "2023-04-17T11:25:47.746Z"
   },
   {
    "duration": 43,
    "start_time": "2023-04-17T11:25:47.777Z"
   },
   {
    "duration": 41,
    "start_time": "2023-04-17T11:25:47.822Z"
   },
   {
    "duration": 259,
    "start_time": "2023-04-17T11:25:47.866Z"
   },
   {
    "duration": 147,
    "start_time": "2023-04-17T11:25:48.127Z"
   },
   {
    "duration": 0,
    "start_time": "2023-04-17T11:25:48.276Z"
   },
   {
    "duration": 48,
    "start_time": "2023-04-17T11:26:11.652Z"
   },
   {
    "duration": 280,
    "start_time": "2023-04-17T11:27:58.716Z"
   },
   {
    "duration": 385,
    "start_time": "2023-04-17T11:28:24.105Z"
   },
   {
    "duration": 820,
    "start_time": "2023-04-17T11:28:35.005Z"
   },
   {
    "duration": 2124,
    "start_time": "2023-04-17T11:28:43.706Z"
   },
   {
    "duration": 29256,
    "start_time": "2023-04-17T11:28:53.863Z"
   },
   {
    "duration": 397,
    "start_time": "2023-04-17T11:30:00.806Z"
   },
   {
    "duration": 608,
    "start_time": "2023-04-17T11:30:34.564Z"
   },
   {
    "duration": 10180,
    "start_time": "2023-04-17T11:30:44.494Z"
   },
   {
    "duration": 10046,
    "start_time": "2023-04-17T11:32:05.307Z"
   },
   {
    "duration": 9490,
    "start_time": "2023-04-17T11:32:42.076Z"
   },
   {
    "duration": 11284,
    "start_time": "2023-04-17T13:16:49.164Z"
   },
   {
    "duration": 11130,
    "start_time": "2023-04-17T13:17:36.355Z"
   },
   {
    "duration": 11392,
    "start_time": "2023-04-17T13:18:00.167Z"
   },
   {
    "duration": 14,
    "start_time": "2023-04-17T13:47:37.346Z"
   },
   {
    "duration": 14,
    "start_time": "2023-04-17T13:48:04.735Z"
   },
   {
    "duration": 1607,
    "start_time": "2023-04-17T13:48:10.792Z"
   },
   {
    "duration": 63,
    "start_time": "2023-04-17T13:48:12.402Z"
   },
   {
    "duration": 13,
    "start_time": "2023-04-17T13:48:12.467Z"
   },
   {
    "duration": 63,
    "start_time": "2023-04-17T13:48:12.482Z"
   },
   {
    "duration": 2024,
    "start_time": "2023-04-17T13:48:12.548Z"
   },
   {
    "duration": 8,
    "start_time": "2023-04-17T13:48:14.575Z"
   },
   {
    "duration": 28,
    "start_time": "2023-04-17T13:48:14.585Z"
   },
   {
    "duration": 138,
    "start_time": "2023-04-17T13:48:14.615Z"
   },
   {
    "duration": 2225,
    "start_time": "2023-04-17T13:48:14.755Z"
   },
   {
    "duration": 7,
    "start_time": "2023-04-17T13:48:16.982Z"
   },
   {
    "duration": 15,
    "start_time": "2023-04-17T13:48:17.042Z"
   },
   {
    "duration": 117,
    "start_time": "2023-04-17T13:48:17.059Z"
   },
   {
    "duration": 65,
    "start_time": "2023-04-17T13:48:17.179Z"
   },
   {
    "duration": 14,
    "start_time": "2023-04-17T13:48:17.248Z"
   },
   {
    "duration": 114,
    "start_time": "2023-04-17T13:48:17.265Z"
   },
   {
    "duration": 65,
    "start_time": "2023-04-17T13:48:17.381Z"
   },
   {
    "duration": 619,
    "start_time": "2023-04-17T13:48:17.447Z"
   },
   {
    "duration": 9559,
    "start_time": "2023-04-17T13:48:18.068Z"
   },
   {
    "duration": 15,
    "start_time": "2023-04-17T13:48:27.629Z"
   },
   {
    "duration": 146,
    "start_time": "2023-04-17T13:48:27.646Z"
   },
   {
    "duration": 36,
    "start_time": "2023-04-17T13:49:13.628Z"
   },
   {
    "duration": 9,
    "start_time": "2023-04-17T13:51:01.732Z"
   },
   {
    "duration": 583,
    "start_time": "2023-04-17T13:51:04.672Z"
   },
   {
    "duration": 561,
    "start_time": "2023-04-17T13:51:14.295Z"
   },
   {
    "duration": 595,
    "start_time": "2023-04-17T13:51:18.147Z"
   },
   {
    "duration": 709,
    "start_time": "2023-04-17T13:51:46.633Z"
   },
   {
    "duration": 8,
    "start_time": "2023-04-17T13:55:01.964Z"
   },
   {
    "duration": 375,
    "start_time": "2023-04-17T13:55:21.383Z"
   },
   {
    "duration": 538,
    "start_time": "2023-04-17T13:55:31.409Z"
   },
   {
    "duration": 27,
    "start_time": "2023-04-17T13:55:44.392Z"
   },
   {
    "duration": 8,
    "start_time": "2023-04-17T13:55:58.129Z"
   },
   {
    "duration": 1248,
    "start_time": "2023-04-17T13:56:07.308Z"
   },
   {
    "duration": 546,
    "start_time": "2023-04-17T13:56:51.896Z"
   },
   {
    "duration": 11,
    "start_time": "2023-04-17T13:59:30.721Z"
   },
   {
    "duration": 56,
    "start_time": "2023-04-17T14:01:29.776Z"
   },
   {
    "duration": 37,
    "start_time": "2023-04-17T14:02:14.098Z"
   },
   {
    "duration": 265,
    "start_time": "2023-04-17T14:02:53.062Z"
   },
   {
    "duration": 196,
    "start_time": "2023-04-17T14:05:51.882Z"
   },
   {
    "duration": 209,
    "start_time": "2023-04-17T14:06:33.061Z"
   },
   {
    "duration": 216,
    "start_time": "2023-04-17T14:06:47.566Z"
   },
   {
    "duration": 206,
    "start_time": "2023-04-17T14:07:46.278Z"
   },
   {
    "duration": 195,
    "start_time": "2023-04-17T14:07:54.504Z"
   },
   {
    "duration": 201,
    "start_time": "2023-04-17T14:08:11.666Z"
   },
   {
    "duration": 216,
    "start_time": "2023-04-17T14:08:35.158Z"
   },
   {
    "duration": 207,
    "start_time": "2023-04-17T14:08:44.460Z"
   },
   {
    "duration": 200,
    "start_time": "2023-04-17T14:09:35.382Z"
   },
   {
    "duration": 237,
    "start_time": "2023-04-17T14:11:01.972Z"
   },
   {
    "duration": 248,
    "start_time": "2023-04-17T14:11:25.727Z"
   },
   {
    "duration": 252,
    "start_time": "2023-04-17T14:12:34.257Z"
   },
   {
    "duration": 240,
    "start_time": "2023-04-17T14:12:47.811Z"
   },
   {
    "duration": 247,
    "start_time": "2023-04-17T14:12:53.919Z"
   },
   {
    "duration": 294,
    "start_time": "2023-04-17T14:13:06.568Z"
   },
   {
    "duration": 10112,
    "start_time": "2023-04-17T14:13:45.277Z"
   },
   {
    "duration": 10664,
    "start_time": "2023-04-17T14:23:07.285Z"
   },
   {
    "duration": 10849,
    "start_time": "2023-04-17T14:24:02.915Z"
   },
   {
    "duration": 10512,
    "start_time": "2023-04-17T14:25:58.277Z"
   },
   {
    "duration": 11001,
    "start_time": "2023-04-17T14:27:00.582Z"
   },
   {
    "duration": 10604,
    "start_time": "2023-04-17T14:28:34.596Z"
   },
   {
    "duration": 911,
    "start_time": "2023-04-17T14:33:24.167Z"
   },
   {
    "duration": 1106,
    "start_time": "2023-04-17T14:33:41.559Z"
   },
   {
    "duration": 635,
    "start_time": "2023-04-17T14:33:51.634Z"
   },
   {
    "duration": 762,
    "start_time": "2023-04-17T14:34:12.208Z"
   },
   {
    "duration": 442,
    "start_time": "2023-04-17T14:34:16.904Z"
   },
   {
    "duration": 42,
    "start_time": "2023-04-17T14:37:16.513Z"
   },
   {
    "duration": 9,
    "start_time": "2023-04-17T14:37:43.470Z"
   },
   {
    "duration": 19,
    "start_time": "2023-04-17T14:37:56.984Z"
   },
   {
    "duration": 847,
    "start_time": "2023-04-17T14:38:44.309Z"
   },
   {
    "duration": 5,
    "start_time": "2023-04-17T14:41:01.494Z"
   },
   {
    "duration": 7,
    "start_time": "2023-04-17T14:41:10.214Z"
   },
   {
    "duration": 9,
    "start_time": "2023-04-17T14:41:19.785Z"
   },
   {
    "duration": 22,
    "start_time": "2023-04-17T14:41:34.674Z"
   },
   {
    "duration": 861,
    "start_time": "2023-04-17T14:41:40.616Z"
   },
   {
    "duration": 138,
    "start_time": "2023-04-17T14:41:56.638Z"
   },
   {
    "duration": 9,
    "start_time": "2023-04-17T14:42:08.499Z"
   },
   {
    "duration": 1380,
    "start_time": "2023-04-17T14:42:10.872Z"
   },
   {
    "duration": 1969,
    "start_time": "2023-04-17T14:52:25.901Z"
   },
   {
    "duration": 112,
    "start_time": "2023-04-17T14:52:27.873Z"
   },
   {
    "duration": 17,
    "start_time": "2023-04-17T14:52:27.994Z"
   },
   {
    "duration": 65,
    "start_time": "2023-04-17T14:52:28.013Z"
   },
   {
    "duration": 2389,
    "start_time": "2023-04-17T14:52:28.080Z"
   },
   {
    "duration": 12,
    "start_time": "2023-04-17T14:52:30.475Z"
   },
   {
    "duration": 122,
    "start_time": "2023-04-17T14:52:30.489Z"
   },
   {
    "duration": 88,
    "start_time": "2023-04-17T14:52:30.613Z"
   },
   {
    "duration": 2332,
    "start_time": "2023-04-17T14:52:30.704Z"
   },
   {
    "duration": 14,
    "start_time": "2023-04-17T14:52:33.041Z"
   },
   {
    "duration": 64,
    "start_time": "2023-04-17T14:52:33.057Z"
   },
   {
    "duration": 96,
    "start_time": "2023-04-17T14:52:33.123Z"
   },
   {
    "duration": 10,
    "start_time": "2023-04-17T14:52:33.221Z"
   },
   {
    "duration": 74,
    "start_time": "2023-04-17T14:52:33.236Z"
   },
   {
    "duration": 53,
    "start_time": "2023-04-17T14:52:33.312Z"
   },
   {
    "duration": 36,
    "start_time": "2023-04-17T14:52:33.372Z"
   },
   {
    "duration": 393,
    "start_time": "2023-04-17T14:52:33.411Z"
   },
   {
    "duration": 0,
    "start_time": "2023-04-17T14:52:33.807Z"
   },
   {
    "duration": 0,
    "start_time": "2023-04-17T14:52:33.808Z"
   },
   {
    "duration": 0,
    "start_time": "2023-04-17T14:52:33.809Z"
   },
   {
    "duration": 0,
    "start_time": "2023-04-17T14:52:33.810Z"
   },
   {
    "duration": 0,
    "start_time": "2023-04-17T14:52:33.811Z"
   },
   {
    "duration": 2026,
    "start_time": "2023-04-17T14:53:22.406Z"
   },
   {
    "duration": 88,
    "start_time": "2023-04-17T14:53:24.435Z"
   },
   {
    "duration": 32,
    "start_time": "2023-04-17T14:53:24.525Z"
   },
   {
    "duration": 74,
    "start_time": "2023-04-17T14:53:24.567Z"
   },
   {
    "duration": 2674,
    "start_time": "2023-04-17T14:53:24.644Z"
   },
   {
    "duration": 8,
    "start_time": "2023-04-17T14:53:27.321Z"
   },
   {
    "duration": 63,
    "start_time": "2023-04-17T14:53:27.350Z"
   },
   {
    "duration": 14,
    "start_time": "2023-04-17T14:53:27.416Z"
   },
   {
    "duration": 2412,
    "start_time": "2023-04-17T14:53:27.432Z"
   },
   {
    "duration": 10,
    "start_time": "2023-04-17T14:53:29.846Z"
   },
   {
    "duration": 55,
    "start_time": "2023-04-17T14:53:29.858Z"
   },
   {
    "duration": 54,
    "start_time": "2023-04-17T14:53:29.916Z"
   },
   {
    "duration": 12,
    "start_time": "2023-04-17T14:53:29.973Z"
   },
   {
    "duration": 126,
    "start_time": "2023-04-17T14:53:29.990Z"
   },
   {
    "duration": 115,
    "start_time": "2023-04-17T14:53:30.119Z"
   },
   {
    "duration": 19,
    "start_time": "2023-04-17T14:53:30.237Z"
   },
   {
    "duration": 397,
    "start_time": "2023-04-17T14:53:30.260Z"
   },
   {
    "duration": 11849,
    "start_time": "2023-04-17T14:53:30.659Z"
   },
   {
    "duration": 110,
    "start_time": "2023-04-17T14:53:42.511Z"
   },
   {
    "duration": 0,
    "start_time": "2023-04-17T14:53:42.623Z"
   },
   {
    "duration": 0,
    "start_time": "2023-04-17T14:53:42.624Z"
   },
   {
    "duration": 0,
    "start_time": "2023-04-17T14:53:42.628Z"
   },
   {
    "duration": 9,
    "start_time": "2023-04-17T14:53:53.959Z"
   },
   {
    "duration": 1221,
    "start_time": "2023-04-17T14:53:54.638Z"
   },
   {
    "duration": 1064,
    "start_time": "2023-04-17T14:54:05.427Z"
   },
   {
    "duration": 8,
    "start_time": "2023-04-17T15:25:17.010Z"
   },
   {
    "duration": 22,
    "start_time": "2023-04-17T15:25:24.574Z"
   },
   {
    "duration": 1925,
    "start_time": "2023-04-18T00:15:30.814Z"
   },
   {
    "duration": 224,
    "start_time": "2023-04-18T00:15:32.741Z"
   },
   {
    "duration": 18,
    "start_time": "2023-04-18T00:15:32.971Z"
   },
   {
    "duration": 54,
    "start_time": "2023-04-18T00:15:32.992Z"
   },
   {
    "duration": 2047,
    "start_time": "2023-04-18T00:15:33.049Z"
   },
   {
    "duration": 6,
    "start_time": "2023-04-18T00:15:35.100Z"
   },
   {
    "duration": 47,
    "start_time": "2023-04-18T00:15:35.108Z"
   },
   {
    "duration": 39,
    "start_time": "2023-04-18T00:15:35.157Z"
   },
   {
    "duration": 1927,
    "start_time": "2023-04-18T00:15:35.198Z"
   },
   {
    "duration": 7,
    "start_time": "2023-04-18T00:15:37.128Z"
   },
   {
    "duration": 31,
    "start_time": "2023-04-18T00:15:37.136Z"
   },
   {
    "duration": 59,
    "start_time": "2023-04-18T00:15:37.171Z"
   },
   {
    "duration": 6,
    "start_time": "2023-04-18T00:15:37.233Z"
   },
   {
    "duration": 8,
    "start_time": "2023-04-18T00:15:37.241Z"
   },
   {
    "duration": 73,
    "start_time": "2023-04-18T00:15:37.251Z"
   },
   {
    "duration": 9,
    "start_time": "2023-04-18T00:15:37.326Z"
   },
   {
    "duration": 267,
    "start_time": "2023-04-18T00:15:37.337Z"
   },
   {
    "duration": 10409,
    "start_time": "2023-04-18T00:15:37.605Z"
   },
   {
    "duration": 3,
    "start_time": "2023-04-18T00:15:48.015Z"
   },
   {
    "duration": 678,
    "start_time": "2023-04-18T00:15:48.019Z"
   },
   {
    "duration": 77,
    "start_time": "2023-04-18T00:15:48.701Z"
   },
   {
    "duration": 241,
    "start_time": "2023-04-18T00:18:43.802Z"
   },
   {
    "duration": 10824,
    "start_time": "2023-04-18T00:20:00.356Z"
   },
   {
    "duration": 471,
    "start_time": "2023-04-18T00:21:02.895Z"
   },
   {
    "duration": 14,
    "start_time": "2023-04-18T00:22:04.365Z"
   },
   {
    "duration": 14,
    "start_time": "2023-04-18T00:26:13.018Z"
   },
   {
    "duration": 1668,
    "start_time": "2023-04-18T00:26:58.323Z"
   },
   {
    "duration": 887,
    "start_time": "2023-04-18T00:28:44.101Z"
   },
   {
    "duration": 999,
    "start_time": "2023-04-18T00:29:06.197Z"
   },
   {
    "duration": 256,
    "start_time": "2023-04-18T00:29:59.905Z"
   },
   {
    "duration": 631,
    "start_time": "2023-04-18T00:31:22.430Z"
   },
   {
    "duration": 149,
    "start_time": "2023-04-18T00:35:45.199Z"
   },
   {
    "duration": 4,
    "start_time": "2023-04-18T00:36:01.206Z"
   },
   {
    "duration": 12,
    "start_time": "2023-04-18T00:36:25.417Z"
   },
   {
    "duration": 24,
    "start_time": "2023-04-18T00:37:43.852Z"
   },
   {
    "duration": 6,
    "start_time": "2023-04-18T00:37:55.427Z"
   },
   {
    "duration": 4,
    "start_time": "2023-04-18T00:38:08.098Z"
   },
   {
    "duration": 5,
    "start_time": "2023-04-18T00:38:14.378Z"
   },
   {
    "duration": 11,
    "start_time": "2023-04-18T00:38:31.814Z"
   },
   {
    "duration": 5,
    "start_time": "2023-04-18T00:38:33.678Z"
   },
   {
    "duration": 4,
    "start_time": "2023-04-18T00:38:49.546Z"
   },
   {
    "duration": 5,
    "start_time": "2023-04-18T00:39:01.030Z"
   },
   {
    "duration": 32,
    "start_time": "2023-04-18T00:40:41.599Z"
   },
   {
    "duration": 660,
    "start_time": "2023-04-18T00:40:45.226Z"
   },
   {
    "duration": 36,
    "start_time": "2023-04-18T00:40:55.519Z"
   },
   {
    "duration": 41,
    "start_time": "2023-04-18T00:42:04.200Z"
   },
   {
    "duration": 268,
    "start_time": "2023-04-18T00:48:15.412Z"
   },
   {
    "duration": 658,
    "start_time": "2023-04-18T00:48:56.238Z"
   },
   {
    "duration": 797,
    "start_time": "2023-04-18T00:49:13.076Z"
   },
   {
    "duration": 103259,
    "start_time": "2023-04-18T00:49:52.921Z"
   },
   {
    "duration": 0,
    "start_time": "2023-04-18T00:51:36.183Z"
   },
   {
    "duration": 265491,
    "start_time": "2023-04-18T00:52:00.299Z"
   },
   {
    "duration": 130250,
    "start_time": "2023-04-18T00:56:39.727Z"
   },
   {
    "duration": 1654,
    "start_time": "2023-04-18T00:59:49.199Z"
   },
   {
    "duration": 191066,
    "start_time": "2023-04-18T01:00:58.370Z"
   },
   {
    "duration": 11,
    "start_time": "2023-04-18T01:05:24.930Z"
   },
   {
    "duration": 5,
    "start_time": "2023-04-18T01:05:32.470Z"
   },
   {
    "duration": 11,
    "start_time": "2023-04-18T01:06:51.499Z"
   },
   {
    "duration": 5,
    "start_time": "2023-04-18T01:07:02.707Z"
   },
   {
    "duration": 85,
    "start_time": "2023-04-18T01:07:41.373Z"
   },
   {
    "duration": 625,
    "start_time": "2023-04-18T01:08:40.938Z"
   },
   {
    "duration": 74021,
    "start_time": "2023-04-18T01:09:23.381Z"
   },
   {
    "duration": 2130,
    "start_time": "2023-04-18T12:18:47.846Z"
   },
   {
    "duration": 93,
    "start_time": "2023-04-18T12:18:49.978Z"
   },
   {
    "duration": 11,
    "start_time": "2023-04-18T12:18:50.072Z"
   },
   {
    "duration": 43,
    "start_time": "2023-04-18T12:18:50.085Z"
   },
   {
    "duration": 1422,
    "start_time": "2023-04-18T12:18:50.129Z"
   },
   {
    "duration": 4,
    "start_time": "2023-04-18T12:18:51.552Z"
   },
   {
    "duration": 33,
    "start_time": "2023-04-18T12:18:51.558Z"
   },
   {
    "duration": 15,
    "start_time": "2023-04-18T12:18:51.592Z"
   },
   {
    "duration": 1330,
    "start_time": "2023-04-18T12:18:51.608Z"
   },
   {
    "duration": 5,
    "start_time": "2023-04-18T12:18:52.942Z"
   },
   {
    "duration": 25,
    "start_time": "2023-04-18T12:18:52.949Z"
   },
   {
    "duration": 37,
    "start_time": "2023-04-18T12:18:52.976Z"
   },
   {
    "duration": 5,
    "start_time": "2023-04-18T12:18:53.015Z"
   },
   {
    "duration": 23,
    "start_time": "2023-04-18T12:18:53.021Z"
   },
   {
    "duration": 40,
    "start_time": "2023-04-18T12:18:53.045Z"
   },
   {
    "duration": 12,
    "start_time": "2023-04-18T12:18:53.087Z"
   },
   {
    "duration": 1302,
    "start_time": "2023-04-18T12:18:53.101Z"
   },
   {
    "duration": 123577,
    "start_time": "2023-04-18T12:18:54.404Z"
   },
   {
    "duration": 2,
    "start_time": "2023-04-18T12:20:57.983Z"
   },
   {
    "duration": 85,
    "start_time": "2023-04-18T12:20:57.987Z"
   },
   {
    "duration": 96,
    "start_time": "2023-04-18T12:20:58.077Z"
   },
   {
    "duration": 1291,
    "start_time": "2023-04-18T12:20:58.174Z"
   },
   {
    "duration": 122896,
    "start_time": "2023-04-18T12:20:59.467Z"
   },
   {
    "duration": 25,
    "start_time": "2023-04-18T12:23:02.364Z"
   },
   {
    "duration": 273,
    "start_time": "2023-04-18T12:23:02.390Z"
   },
   {
    "duration": 17,
    "start_time": "2023-04-18T12:23:02.665Z"
   },
   {
    "duration": 57,
    "start_time": "2023-04-18T12:23:02.684Z"
   },
   {
    "duration": 1667,
    "start_time": "2023-04-18T12:23:02.772Z"
   },
   {
    "duration": 174759,
    "start_time": "2023-04-18T12:23:04.440Z"
   },
   {
    "duration": 9,
    "start_time": "2023-04-18T12:25:59.200Z"
   },
   {
    "duration": 13,
    "start_time": "2023-04-18T12:25:59.210Z"
   },
   {
    "duration": 738,
    "start_time": "2023-04-18T12:25:59.225Z"
   },
   {
    "duration": 67396,
    "start_time": "2023-04-18T12:25:59.964Z"
   },
   {
    "duration": 191,
    "start_time": "2023-04-18T12:39:50.445Z"
   },
   {
    "duration": 18,
    "start_time": "2023-04-18T12:45:54.757Z"
   },
   {
    "duration": 1782,
    "start_time": "2023-04-19T00:34:58.119Z"
   },
   {
    "duration": 1624,
    "start_time": "2023-04-19T08:45:47.536Z"
   },
   {
    "duration": 194,
    "start_time": "2023-04-19T08:45:49.163Z"
   },
   {
    "duration": 13,
    "start_time": "2023-04-19T08:45:50.574Z"
   },
   {
    "duration": 43,
    "start_time": "2023-04-19T08:45:51.344Z"
   },
   {
    "duration": 1964,
    "start_time": "2023-04-19T08:45:51.713Z"
   },
   {
    "duration": 5,
    "start_time": "2023-04-19T08:45:53.679Z"
   },
   {
    "duration": 29,
    "start_time": "2023-04-19T08:45:53.686Z"
   },
   {
    "duration": 8,
    "start_time": "2023-04-19T08:45:53.717Z"
   },
   {
    "duration": 1774,
    "start_time": "2023-04-19T08:45:53.727Z"
   },
   {
    "duration": 7,
    "start_time": "2023-04-19T08:45:55.503Z"
   },
   {
    "duration": 28,
    "start_time": "2023-04-19T08:45:55.511Z"
   },
   {
    "duration": 36,
    "start_time": "2023-04-19T08:45:55.541Z"
   },
   {
    "duration": 14,
    "start_time": "2023-04-19T08:45:55.579Z"
   },
   {
    "duration": 15,
    "start_time": "2023-04-19T08:45:55.596Z"
   },
   {
    "duration": 30,
    "start_time": "2023-04-19T08:45:55.612Z"
   },
   {
    "duration": 7,
    "start_time": "2023-04-19T08:46:02.006Z"
   },
   {
    "duration": 224,
    "start_time": "2023-04-19T08:47:09.481Z"
   },
   {
    "duration": 16,
    "start_time": "2023-04-19T08:47:41.538Z"
   },
   {
    "duration": 19,
    "start_time": "2023-04-19T08:48:22.527Z"
   },
   {
    "duration": 26,
    "start_time": "2023-04-19T08:48:32.992Z"
   },
   {
    "duration": 17,
    "start_time": "2023-04-19T08:48:37.732Z"
   },
   {
    "duration": 17,
    "start_time": "2023-04-19T08:49:26.304Z"
   },
   {
    "duration": 17,
    "start_time": "2023-04-19T08:49:32.856Z"
   },
   {
    "duration": 23,
    "start_time": "2023-04-19T08:50:10.041Z"
   },
   {
    "duration": 19,
    "start_time": "2023-04-19T08:50:20.234Z"
   },
   {
    "duration": 1416,
    "start_time": "2023-04-19T08:53:27.464Z"
   },
   {
    "duration": 142305,
    "start_time": "2023-04-19T08:53:51.720Z"
   },
   {
    "duration": 1946,
    "start_time": "2023-04-19T11:34:26.686Z"
   },
   {
    "duration": 119,
    "start_time": "2023-04-19T11:34:28.635Z"
   },
   {
    "duration": 16,
    "start_time": "2023-04-19T11:34:28.757Z"
   },
   {
    "duration": 78,
    "start_time": "2023-04-19T11:34:28.775Z"
   },
   {
    "duration": 2243,
    "start_time": "2023-04-19T11:34:28.857Z"
   },
   {
    "duration": 7,
    "start_time": "2023-04-19T11:34:31.102Z"
   },
   {
    "duration": 94,
    "start_time": "2023-04-19T11:34:31.111Z"
   },
   {
    "duration": 21,
    "start_time": "2023-04-19T11:34:31.208Z"
   },
   {
    "duration": 54,
    "start_time": "2023-04-19T11:34:31.232Z"
   },
   {
    "duration": 0,
    "start_time": "2023-04-19T11:34:31.290Z"
   },
   {
    "duration": 0,
    "start_time": "2023-04-19T11:34:31.292Z"
   },
   {
    "duration": 0,
    "start_time": "2023-04-19T11:34:31.294Z"
   },
   {
    "duration": 0,
    "start_time": "2023-04-19T11:34:31.296Z"
   },
   {
    "duration": 0,
    "start_time": "2023-04-19T11:34:31.297Z"
   },
   {
    "duration": 0,
    "start_time": "2023-04-19T11:34:31.298Z"
   },
   {
    "duration": 0,
    "start_time": "2023-04-19T11:34:31.300Z"
   },
   {
    "duration": 0,
    "start_time": "2023-04-19T11:34:31.302Z"
   },
   {
    "duration": 0,
    "start_time": "2023-04-19T11:34:31.303Z"
   },
   {
    "duration": 0,
    "start_time": "2023-04-19T11:34:31.304Z"
   },
   {
    "duration": 0,
    "start_time": "2023-04-19T11:34:31.306Z"
   },
   {
    "duration": 0,
    "start_time": "2023-04-19T11:34:31.307Z"
   },
   {
    "duration": 0,
    "start_time": "2023-04-19T11:34:31.309Z"
   },
   {
    "duration": 0,
    "start_time": "2023-04-19T11:34:31.310Z"
   },
   {
    "duration": 0,
    "start_time": "2023-04-19T11:34:31.312Z"
   },
   {
    "duration": 0,
    "start_time": "2023-04-19T11:34:31.314Z"
   },
   {
    "duration": 0,
    "start_time": "2023-04-19T11:34:31.315Z"
   },
   {
    "duration": 0,
    "start_time": "2023-04-19T11:34:31.316Z"
   },
   {
    "duration": 1,
    "start_time": "2023-04-19T11:34:31.318Z"
   },
   {
    "duration": 0,
    "start_time": "2023-04-19T11:34:31.320Z"
   },
   {
    "duration": 0,
    "start_time": "2023-04-19T11:34:31.321Z"
   },
   {
    "duration": 0,
    "start_time": "2023-04-19T11:34:31.322Z"
   },
   {
    "duration": 0,
    "start_time": "2023-04-19T11:34:31.324Z"
   },
   {
    "duration": 0,
    "start_time": "2023-04-19T11:34:31.325Z"
   },
   {
    "duration": 0,
    "start_time": "2023-04-19T11:34:31.326Z"
   },
   {
    "duration": 0,
    "start_time": "2023-04-19T11:34:31.328Z"
   },
   {
    "duration": 0,
    "start_time": "2023-04-19T11:34:31.329Z"
   },
   {
    "duration": 0,
    "start_time": "2023-04-19T11:34:31.330Z"
   },
   {
    "duration": 1986,
    "start_time": "2023-04-19T11:34:45.949Z"
   },
   {
    "duration": 2234,
    "start_time": "2023-04-19T11:34:49.082Z"
   },
   {
    "duration": 4254,
    "start_time": "2023-04-19T11:35:16.130Z"
   },
   {
    "duration": 5940,
    "start_time": "2023-04-19T11:35:36.786Z"
   },
   {
    "duration": 22,
    "start_time": "2023-04-19T11:38:22.994Z"
   },
   {
    "duration": 2569,
    "start_time": "2023-04-19T14:20:13.706Z"
   },
   {
    "duration": 328,
    "start_time": "2023-04-19T14:20:16.281Z"
   },
   {
    "duration": 23,
    "start_time": "2023-04-19T14:20:16.611Z"
   },
   {
    "duration": 78,
    "start_time": "2023-04-19T14:20:16.636Z"
   },
   {
    "duration": 2410,
    "start_time": "2023-04-19T14:20:16.717Z"
   },
   {
    "duration": 6,
    "start_time": "2023-04-19T14:20:19.129Z"
   },
   {
    "duration": 29,
    "start_time": "2023-04-19T14:20:19.137Z"
   },
   {
    "duration": 12,
    "start_time": "2023-04-19T14:20:19.168Z"
   },
   {
    "duration": 7237,
    "start_time": "2023-04-19T14:20:19.182Z"
   },
   {
    "duration": 14,
    "start_time": "2023-04-19T14:20:26.421Z"
   },
   {
    "duration": 64,
    "start_time": "2023-04-19T14:20:26.438Z"
   },
   {
    "duration": 14,
    "start_time": "2023-04-19T14:20:26.505Z"
   },
   {
    "duration": 13,
    "start_time": "2023-04-19T14:20:26.522Z"
   },
   {
    "duration": 49,
    "start_time": "2023-04-19T14:20:26.541Z"
   },
   {
    "duration": 8,
    "start_time": "2023-04-19T14:20:26.593Z"
   },
   {
    "duration": 1869,
    "start_time": "2023-04-19T14:20:26.604Z"
   },
   {
    "duration": 190271,
    "start_time": "2023-04-19T14:20:28.475Z"
   },
   {
    "duration": 121,
    "start_time": "2023-04-19T14:23:38.773Z"
   },
   {
    "duration": 41,
    "start_time": "2023-04-19T14:23:38.925Z"
   },
   {
    "duration": 1800,
    "start_time": "2023-04-19T14:23:38.979Z"
   },
   {
    "duration": 185278,
    "start_time": "2023-04-19T14:23:40.786Z"
   },
   {
    "duration": 81,
    "start_time": "2023-04-19T14:26:46.066Z"
   },
   {
    "duration": 90,
    "start_time": "2023-04-19T14:26:46.156Z"
   },
   {
    "duration": 8,
    "start_time": "2023-04-19T14:26:46.249Z"
   },
   {
    "duration": 62,
    "start_time": "2023-04-19T14:26:46.260Z"
   },
   {
    "duration": 2061,
    "start_time": "2023-04-19T14:26:46.325Z"
   },
   {
    "duration": 235016,
    "start_time": "2023-04-19T14:26:48.387Z"
   },
   {
    "duration": 18,
    "start_time": "2023-04-19T14:30:43.411Z"
   },
   {
    "duration": 89,
    "start_time": "2023-04-19T14:30:43.431Z"
   },
   {
    "duration": 974,
    "start_time": "2023-04-19T14:30:43.533Z"
   },
   {
    "duration": 98474,
    "start_time": "2023-04-19T14:30:44.509Z"
   },
   {
    "duration": 34,
    "start_time": "2023-04-19T14:32:22.985Z"
   },
   {
    "duration": 349,
    "start_time": "2023-04-19T14:32:23.021Z"
   },
   {
    "duration": 27,
    "start_time": "2023-04-19T14:32:23.372Z"
   },
   {
    "duration": 1722,
    "start_time": "2023-04-19T14:35:48.578Z"
   },
   {
    "duration": 1735,
    "start_time": "2023-04-19T14:38:09.504Z"
   },
   {
    "duration": 1737,
    "start_time": "2023-04-19T14:39:11.162Z"
   },
   {
    "duration": 1653,
    "start_time": "2023-04-19T14:40:12.909Z"
   },
   {
    "duration": 42,
    "start_time": "2023-04-19T14:40:58.277Z"
   },
   {
    "duration": 9,
    "start_time": "2023-04-19T14:41:12.893Z"
   },
   {
    "duration": 14,
    "start_time": "2023-04-19T14:41:23.179Z"
   },
   {
    "duration": 419,
    "start_time": "2023-04-19T14:42:42.746Z"
   },
   {
    "duration": 11,
    "start_time": "2023-04-19T14:43:16.551Z"
   },
   {
    "duration": 15,
    "start_time": "2023-04-19T14:43:38.785Z"
   },
   {
    "duration": 1741,
    "start_time": "2023-04-19T14:45:11.751Z"
   },
   {
    "duration": 160885,
    "start_time": "2023-04-19T14:45:24.849Z"
   },
   {
    "duration": 260,
    "start_time": "2023-04-19T14:50:41.905Z"
   },
   {
    "duration": 1689,
    "start_time": "2023-04-19T14:51:05.281Z"
   },
   {
    "duration": 64,
    "start_time": "2023-04-19T14:51:06.973Z"
   },
   {
    "duration": 18,
    "start_time": "2023-04-19T14:51:07.039Z"
   },
   {
    "duration": 72,
    "start_time": "2023-04-19T14:51:07.059Z"
   },
   {
    "duration": 2265,
    "start_time": "2023-04-19T14:51:07.133Z"
   },
   {
    "duration": 20,
    "start_time": "2023-04-19T14:51:09.400Z"
   },
   {
    "duration": 44,
    "start_time": "2023-04-19T14:51:09.423Z"
   },
   {
    "duration": 10,
    "start_time": "2023-04-19T14:51:09.469Z"
   },
   {
    "duration": 5600,
    "start_time": "2023-04-19T14:51:09.481Z"
   },
   {
    "duration": 7,
    "start_time": "2023-04-19T14:51:15.083Z"
   },
   {
    "duration": 56,
    "start_time": "2023-04-19T14:51:15.092Z"
   },
   {
    "duration": 25,
    "start_time": "2023-04-19T14:51:15.149Z"
   },
   {
    "duration": 61,
    "start_time": "2023-04-19T14:51:15.176Z"
   },
   {
    "duration": 45,
    "start_time": "2023-04-19T14:51:15.241Z"
   },
   {
    "duration": 6,
    "start_time": "2023-04-19T14:51:15.289Z"
   },
   {
    "duration": 1493,
    "start_time": "2023-04-19T14:51:15.297Z"
   },
   {
    "duration": 152946,
    "start_time": "2023-04-19T14:51:16.792Z"
   },
   {
    "duration": 173,
    "start_time": "2023-04-19T14:53:49.743Z"
   },
   {
    "duration": 19,
    "start_time": "2023-04-19T14:53:49.918Z"
   },
   {
    "duration": 1505,
    "start_time": "2023-04-19T14:53:49.941Z"
   },
   {
    "duration": 154180,
    "start_time": "2023-04-19T14:53:51.449Z"
   },
   {
    "duration": 98,
    "start_time": "2023-04-19T14:56:25.633Z"
   },
   {
    "duration": 93,
    "start_time": "2023-04-19T14:56:25.734Z"
   },
   {
    "duration": 14,
    "start_time": "2023-04-19T14:56:25.833Z"
   },
   {
    "duration": 70,
    "start_time": "2023-04-19T14:56:25.854Z"
   },
   {
    "duration": 2406,
    "start_time": "2023-04-19T14:56:25.931Z"
   },
   {
    "duration": 231426,
    "start_time": "2023-04-19T14:56:28.339Z"
   },
   {
    "duration": 22,
    "start_time": "2023-04-19T15:00:19.766Z"
   },
   {
    "duration": 145,
    "start_time": "2023-04-19T15:00:19.791Z"
   },
   {
    "duration": 868,
    "start_time": "2023-04-19T15:00:19.953Z"
   },
   {
    "duration": 83806,
    "start_time": "2023-04-19T15:00:20.823Z"
   },
   {
    "duration": 256,
    "start_time": "2023-04-19T15:01:44.632Z"
   },
   {
    "duration": 279,
    "start_time": "2023-04-19T15:09:47.629Z"
   },
   {
    "duration": 254,
    "start_time": "2023-04-19T15:25:59.599Z"
   },
   {
    "duration": 6,
    "start_time": "2023-04-19T15:29:58.577Z"
   },
   {
    "duration": 9,
    "start_time": "2023-04-19T15:30:33.958Z"
   },
   {
    "duration": 5,
    "start_time": "2023-04-19T15:30:58.595Z"
   },
   {
    "duration": 7,
    "start_time": "2023-04-19T15:31:18.559Z"
   },
   {
    "duration": 1514,
    "start_time": "2023-04-19T16:19:00.754Z"
   },
   {
    "duration": 66,
    "start_time": "2023-04-19T16:19:02.270Z"
   },
   {
    "duration": 17,
    "start_time": "2023-04-19T16:19:02.338Z"
   },
   {
    "duration": 55,
    "start_time": "2023-04-19T16:19:02.361Z"
   },
   {
    "duration": 2172,
    "start_time": "2023-04-19T16:19:02.419Z"
   },
   {
    "duration": 6,
    "start_time": "2023-04-19T16:19:04.593Z"
   },
   {
    "duration": 68,
    "start_time": "2023-04-19T16:19:04.619Z"
   },
   {
    "duration": 11,
    "start_time": "2023-04-19T16:19:04.689Z"
   },
   {
    "duration": 6227,
    "start_time": "2023-04-19T16:19:04.702Z"
   },
   {
    "duration": 8,
    "start_time": "2023-04-19T16:19:10.933Z"
   },
   {
    "duration": 39,
    "start_time": "2023-04-19T16:19:10.943Z"
   },
   {
    "duration": 8,
    "start_time": "2023-04-19T16:19:10.984Z"
   },
   {
    "duration": 30,
    "start_time": "2023-04-19T16:19:10.994Z"
   },
   {
    "duration": 53,
    "start_time": "2023-04-19T16:19:11.026Z"
   },
   {
    "duration": 6,
    "start_time": "2023-04-19T16:19:11.081Z"
   },
   {
    "duration": 78,
    "start_time": "2023-04-19T16:19:11.089Z"
   },
   {
    "duration": 0,
    "start_time": "2023-04-19T16:19:11.169Z"
   },
   {
    "duration": 0,
    "start_time": "2023-04-19T16:19:11.170Z"
   },
   {
    "duration": 0,
    "start_time": "2023-04-19T16:19:11.171Z"
   },
   {
    "duration": 0,
    "start_time": "2023-04-19T16:19:11.173Z"
   },
   {
    "duration": 0,
    "start_time": "2023-04-19T16:19:11.174Z"
   },
   {
    "duration": 0,
    "start_time": "2023-04-19T16:19:11.175Z"
   },
   {
    "duration": 0,
    "start_time": "2023-04-19T16:19:11.176Z"
   },
   {
    "duration": 0,
    "start_time": "2023-04-19T16:19:11.177Z"
   },
   {
    "duration": 0,
    "start_time": "2023-04-19T16:19:11.179Z"
   },
   {
    "duration": 0,
    "start_time": "2023-04-19T16:19:11.180Z"
   },
   {
    "duration": 0,
    "start_time": "2023-04-19T16:19:11.181Z"
   },
   {
    "duration": 0,
    "start_time": "2023-04-19T16:19:11.182Z"
   },
   {
    "duration": 0,
    "start_time": "2023-04-19T16:19:11.184Z"
   },
   {
    "duration": 0,
    "start_time": "2023-04-19T16:19:11.185Z"
   },
   {
    "duration": 0,
    "start_time": "2023-04-19T16:19:11.186Z"
   },
   {
    "duration": 1964,
    "start_time": "2023-04-19T16:19:51.982Z"
   },
   {
    "duration": 76,
    "start_time": "2023-04-19T16:19:53.953Z"
   },
   {
    "duration": 18,
    "start_time": "2023-04-19T16:19:54.031Z"
   },
   {
    "duration": 67,
    "start_time": "2023-04-19T16:19:54.053Z"
   },
   {
    "duration": 2363,
    "start_time": "2023-04-19T16:19:54.126Z"
   },
   {
    "duration": 6,
    "start_time": "2023-04-19T16:19:56.490Z"
   },
   {
    "duration": 35,
    "start_time": "2023-04-19T16:19:56.497Z"
   },
   {
    "duration": 13,
    "start_time": "2023-04-19T16:19:56.540Z"
   },
   {
    "duration": 6977,
    "start_time": "2023-04-19T16:19:56.555Z"
   },
   {
    "duration": 12,
    "start_time": "2023-04-19T16:20:03.541Z"
   },
   {
    "duration": 50,
    "start_time": "2023-04-19T16:20:03.555Z"
   },
   {
    "duration": 19,
    "start_time": "2023-04-19T16:20:03.607Z"
   },
   {
    "duration": 14,
    "start_time": "2023-04-19T16:20:03.629Z"
   },
   {
    "duration": 44,
    "start_time": "2023-04-19T16:20:03.648Z"
   },
   {
    "duration": 6,
    "start_time": "2023-04-19T16:20:03.694Z"
   },
   {
    "duration": 1616,
    "start_time": "2023-04-19T16:20:03.702Z"
   },
   {
    "duration": 161112,
    "start_time": "2023-04-19T16:20:05.326Z"
   },
   {
    "duration": 80,
    "start_time": "2023-04-19T16:22:46.444Z"
   },
   {
    "duration": 95,
    "start_time": "2023-04-19T16:22:46.527Z"
   },
   {
    "duration": 1436,
    "start_time": "2023-04-19T16:22:46.628Z"
   },
   {
    "duration": 144893,
    "start_time": "2023-04-19T16:22:48.066Z"
   },
   {
    "duration": 80,
    "start_time": "2023-04-19T16:25:12.961Z"
   },
   {
    "duration": 92,
    "start_time": "2023-04-19T16:25:13.044Z"
   },
   {
    "duration": 1832,
    "start_time": "2023-04-19T16:25:13.144Z"
   },
   {
    "duration": 216070,
    "start_time": "2023-04-19T16:25:14.978Z"
   },
   {
    "duration": 194,
    "start_time": "2023-04-19T16:28:51.050Z"
   },
   {
    "duration": 66,
    "start_time": "2023-04-19T16:28:51.258Z"
   },
   {
    "duration": 820,
    "start_time": "2023-04-19T16:28:51.333Z"
   },
   {
    "duration": 85324,
    "start_time": "2023-04-19T16:28:52.156Z"
   },
   {
    "duration": 54,
    "start_time": "2023-04-19T16:30:17.482Z"
   },
   {
    "duration": 428,
    "start_time": "2023-04-19T16:30:17.539Z"
   },
   {
    "duration": 1801,
    "start_time": "2023-04-21T11:07:51.928Z"
   },
   {
    "duration": 135,
    "start_time": "2023-04-21T11:11:20.224Z"
   },
   {
    "duration": 107,
    "start_time": "2023-04-21T11:11:27.519Z"
   },
   {
    "duration": 16,
    "start_time": "2023-04-21T11:11:30.408Z"
   },
   {
    "duration": 57,
    "start_time": "2023-04-21T11:11:31.546Z"
   },
   {
    "duration": 55,
    "start_time": "2023-04-21T11:11:38.828Z"
   },
   {
    "duration": 4,
    "start_time": "2023-04-21T15:16:38.855Z"
   },
   {
    "duration": 1352,
    "start_time": "2023-04-21T15:16:52.188Z"
   },
   {
    "duration": 54,
    "start_time": "2023-04-21T15:16:53.542Z"
   },
   {
    "duration": 12,
    "start_time": "2023-04-21T15:16:53.598Z"
   },
   {
    "duration": 52,
    "start_time": "2023-04-21T15:16:53.611Z"
   },
   {
    "duration": 1677,
    "start_time": "2023-04-21T15:16:53.665Z"
   },
   {
    "duration": 7,
    "start_time": "2023-04-21T15:16:55.344Z"
   },
   {
    "duration": 23,
    "start_time": "2023-04-21T15:16:55.353Z"
   },
   {
    "duration": 10,
    "start_time": "2023-04-21T15:16:55.378Z"
   },
   {
    "duration": 5022,
    "start_time": "2023-04-21T15:16:55.390Z"
   },
   {
    "duration": 6,
    "start_time": "2023-04-21T15:17:00.415Z"
   },
   {
    "duration": 53,
    "start_time": "2023-04-21T15:17:00.423Z"
   },
   {
    "duration": 15,
    "start_time": "2023-04-21T15:17:00.478Z"
   },
   {
    "duration": 39,
    "start_time": "2023-04-21T15:17:00.496Z"
   },
   {
    "duration": 59,
    "start_time": "2023-04-21T15:17:00.537Z"
   },
   {
    "duration": 14,
    "start_time": "2023-04-21T15:17:00.598Z"
   },
   {
    "duration": 1427,
    "start_time": "2023-04-21T15:17:00.614Z"
   },
   {
    "duration": 28357,
    "start_time": "2023-04-21T15:17:02.043Z"
   },
   {
    "duration": 0,
    "start_time": "2023-04-21T15:17:30.402Z"
   },
   {
    "duration": 0,
    "start_time": "2023-04-21T15:17:30.404Z"
   },
   {
    "duration": 0,
    "start_time": "2023-04-21T15:17:30.405Z"
   },
   {
    "duration": 0,
    "start_time": "2023-04-21T15:17:30.406Z"
   },
   {
    "duration": 1,
    "start_time": "2023-04-21T15:17:30.407Z"
   },
   {
    "duration": 0,
    "start_time": "2023-04-21T15:17:30.409Z"
   },
   {
    "duration": 0,
    "start_time": "2023-04-21T15:17:30.433Z"
   },
   {
    "duration": 0,
    "start_time": "2023-04-21T15:17:30.435Z"
   },
   {
    "duration": 0,
    "start_time": "2023-04-21T15:17:30.437Z"
   },
   {
    "duration": 0,
    "start_time": "2023-04-21T15:17:30.439Z"
   },
   {
    "duration": 0,
    "start_time": "2023-04-21T15:17:30.441Z"
   },
   {
    "duration": 0,
    "start_time": "2023-04-21T15:17:30.443Z"
   },
   {
    "duration": 0,
    "start_time": "2023-04-21T15:17:30.444Z"
   },
   {
    "duration": 0,
    "start_time": "2023-04-21T15:17:30.445Z"
   },
   {
    "duration": 0,
    "start_time": "2023-04-21T15:17:30.447Z"
   },
   {
    "duration": 127361,
    "start_time": "2023-04-21T15:17:48.567Z"
   },
   {
    "duration": 109,
    "start_time": "2023-04-21T15:19:55.929Z"
   },
   {
    "duration": 97,
    "start_time": "2023-04-21T15:19:56.041Z"
   },
   {
    "duration": 18,
    "start_time": "2023-04-21T15:19:56.139Z"
   },
   {
    "duration": 1275,
    "start_time": "2023-04-21T15:19:56.159Z"
   },
   {
    "duration": 130081,
    "start_time": "2023-04-21T15:19:57.436Z"
   },
   {
    "duration": 115,
    "start_time": "2023-04-21T15:22:07.519Z"
   },
   {
    "duration": 97,
    "start_time": "2023-04-21T15:22:07.637Z"
   },
   {
    "duration": 1513,
    "start_time": "2023-04-21T15:22:07.735Z"
   },
   {
    "duration": 173772,
    "start_time": "2023-04-21T15:22:09.249Z"
   },
   {
    "duration": 118,
    "start_time": "2023-04-21T15:25:03.022Z"
   },
   {
    "duration": 99,
    "start_time": "2023-04-21T15:25:03.143Z"
   },
   {
    "duration": 624,
    "start_time": "2023-04-21T15:25:03.244Z"
   },
   {
    "duration": 73775,
    "start_time": "2023-04-21T15:25:03.870Z"
   },
   {
    "duration": 101,
    "start_time": "2023-04-21T15:26:17.647Z"
   },
   {
    "duration": 332,
    "start_time": "2023-04-21T15:26:17.750Z"
   },
   {
    "duration": 7,
    "start_time": "2023-04-21T15:34:47.005Z"
   },
   {
    "duration": 6,
    "start_time": "2023-04-21T15:35:03.048Z"
   },
   {
    "duration": 8,
    "start_time": "2023-04-21T15:35:07.366Z"
   },
   {
    "duration": 7,
    "start_time": "2023-04-21T15:35:14.726Z"
   },
   {
    "duration": 7,
    "start_time": "2023-04-21T15:35:17.195Z"
   },
   {
    "duration": 6940,
    "start_time": "2023-04-21T15:53:14.681Z"
   },
   {
    "duration": 2147,
    "start_time": "2023-04-21T15:54:26.649Z"
   },
   {
    "duration": 28,
    "start_time": "2023-04-21T15:54:48.436Z"
   },
   {
    "duration": 4,
    "start_time": "2023-04-21T15:55:13.927Z"
   },
   {
    "duration": 14,
    "start_time": "2023-04-21T15:55:19.993Z"
   },
   {
    "duration": 2171,
    "start_time": "2023-04-21T15:55:56.929Z"
   },
   {
    "duration": 19,
    "start_time": "2023-04-21T15:56:02.492Z"
   },
   {
    "duration": 2145,
    "start_time": "2023-04-21T15:56:54.721Z"
   },
   {
    "duration": 756,
    "start_time": "2023-04-21T15:56:56.868Z"
   },
   {
    "duration": 487,
    "start_time": "2023-04-21T15:56:57.626Z"
   },
   {
    "duration": 57,
    "start_time": "2023-04-21T15:56:58.115Z"
   },
   {
    "duration": 12,
    "start_time": "2023-04-21T15:56:58.173Z"
   },
   {
    "duration": 47,
    "start_time": "2023-04-21T15:56:58.187Z"
   },
   {
    "duration": 1676,
    "start_time": "2023-04-21T15:56:58.235Z"
   },
   {
    "duration": 6,
    "start_time": "2023-04-21T15:56:59.912Z"
   },
   {
    "duration": 21,
    "start_time": "2023-04-21T15:56:59.919Z"
   },
   {
    "duration": 7,
    "start_time": "2023-04-21T15:56:59.942Z"
   },
   {
    "duration": 4835,
    "start_time": "2023-04-21T15:56:59.950Z"
   },
   {
    "duration": 6,
    "start_time": "2023-04-21T15:57:04.787Z"
   },
   {
    "duration": 40,
    "start_time": "2023-04-21T15:57:04.794Z"
   },
   {
    "duration": 6,
    "start_time": "2023-04-21T15:57:04.836Z"
   },
   {
    "duration": 8,
    "start_time": "2023-04-21T15:57:04.843Z"
   },
   {
    "duration": 26,
    "start_time": "2023-04-21T15:57:04.852Z"
   },
   {
    "duration": 4,
    "start_time": "2023-04-21T15:57:04.880Z"
   },
   {
    "duration": 1350,
    "start_time": "2023-04-21T15:57:04.885Z"
   },
   {
    "duration": 22145,
    "start_time": "2023-04-21T15:57:06.237Z"
   },
   {
    "duration": 0,
    "start_time": "2023-04-21T15:57:28.384Z"
   },
   {
    "duration": 0,
    "start_time": "2023-04-21T15:57:28.386Z"
   },
   {
    "duration": 0,
    "start_time": "2023-04-21T15:57:28.387Z"
   },
   {
    "duration": 0,
    "start_time": "2023-04-21T15:57:28.388Z"
   },
   {
    "duration": 0,
    "start_time": "2023-04-21T15:57:28.389Z"
   },
   {
    "duration": 0,
    "start_time": "2023-04-21T15:57:28.390Z"
   },
   {
    "duration": 0,
    "start_time": "2023-04-21T15:57:28.391Z"
   },
   {
    "duration": 0,
    "start_time": "2023-04-21T15:57:28.392Z"
   },
   {
    "duration": 0,
    "start_time": "2023-04-21T15:57:28.393Z"
   },
   {
    "duration": 0,
    "start_time": "2023-04-21T15:57:28.394Z"
   },
   {
    "duration": 0,
    "start_time": "2023-04-21T15:57:28.395Z"
   },
   {
    "duration": 0,
    "start_time": "2023-04-21T15:57:28.396Z"
   },
   {
    "duration": 0,
    "start_time": "2023-04-21T15:57:28.398Z"
   },
   {
    "duration": 0,
    "start_time": "2023-04-21T15:57:28.399Z"
   },
   {
    "duration": 0,
    "start_time": "2023-04-21T15:57:28.400Z"
   },
   {
    "duration": 0,
    "start_time": "2023-04-21T15:57:28.401Z"
   },
   {
    "duration": 6112,
    "start_time": "2023-04-21T15:57:35.175Z"
   },
   {
    "duration": 5,
    "start_time": "2023-04-21T16:02:11.338Z"
   },
   {
    "duration": 2325,
    "start_time": "2023-04-21T16:02:34.840Z"
   },
   {
    "duration": 2171,
    "start_time": "2023-04-21T16:02:37.167Z"
   },
   {
    "duration": 776,
    "start_time": "2023-04-21T16:02:39.340Z"
   },
   {
    "duration": 512,
    "start_time": "2023-04-21T16:02:40.118Z"
   },
   {
    "duration": 59,
    "start_time": "2023-04-21T16:02:40.633Z"
   },
   {
    "duration": 14,
    "start_time": "2023-04-21T16:02:40.694Z"
   },
   {
    "duration": 48,
    "start_time": "2023-04-21T16:02:40.710Z"
   },
   {
    "duration": 1628,
    "start_time": "2023-04-21T16:02:40.761Z"
   },
   {
    "duration": 4,
    "start_time": "2023-04-21T16:02:42.390Z"
   },
   {
    "duration": 17,
    "start_time": "2023-04-21T16:02:42.396Z"
   },
   {
    "duration": 7,
    "start_time": "2023-04-21T16:02:42.414Z"
   },
   {
    "duration": 4858,
    "start_time": "2023-04-21T16:02:42.434Z"
   },
   {
    "duration": 6,
    "start_time": "2023-04-21T16:02:47.293Z"
   },
   {
    "duration": 38,
    "start_time": "2023-04-21T16:02:47.301Z"
   },
   {
    "duration": 6,
    "start_time": "2023-04-21T16:02:47.341Z"
   },
   {
    "duration": 6,
    "start_time": "2023-04-21T16:02:47.349Z"
   },
   {
    "duration": 27,
    "start_time": "2023-04-21T16:02:47.357Z"
   },
   {
    "duration": 14,
    "start_time": "2023-04-21T16:02:47.385Z"
   },
   {
    "duration": 1319,
    "start_time": "2023-04-21T16:02:47.401Z"
   },
   {
    "duration": 127935,
    "start_time": "2023-04-21T16:02:48.721Z"
   },
   {
    "duration": 84,
    "start_time": "2023-04-21T16:04:56.658Z"
   },
   {
    "duration": 96,
    "start_time": "2023-04-21T16:04:56.745Z"
   },
   {
    "duration": 92,
    "start_time": "2023-04-21T16:04:56.844Z"
   },
   {
    "duration": 1223,
    "start_time": "2023-04-21T16:04:56.938Z"
   },
   {
    "duration": 127822,
    "start_time": "2023-04-21T16:04:58.163Z"
   },
   {
    "duration": 57,
    "start_time": "2023-04-21T16:07:05.987Z"
   },
   {
    "duration": 96,
    "start_time": "2023-04-21T16:07:06.047Z"
   },
   {
    "duration": 199,
    "start_time": "2023-04-21T16:07:06.145Z"
   },
   {
    "duration": 0,
    "start_time": "2023-04-21T16:07:06.345Z"
   },
   {
    "duration": 0,
    "start_time": "2023-04-21T16:07:06.346Z"
   },
   {
    "duration": 0,
    "start_time": "2023-04-21T16:07:06.348Z"
   },
   {
    "duration": 0,
    "start_time": "2023-04-21T16:07:06.349Z"
   },
   {
    "duration": 0,
    "start_time": "2023-04-21T16:07:06.350Z"
   },
   {
    "duration": 0,
    "start_time": "2023-04-21T16:07:06.351Z"
   },
   {
    "duration": 0,
    "start_time": "2023-04-21T16:07:06.352Z"
   },
   {
    "duration": 0,
    "start_time": "2023-04-21T16:07:06.353Z"
   },
   {
    "duration": 14,
    "start_time": "2023-04-21T16:33:57.107Z"
   },
   {
    "duration": 43,
    "start_time": "2023-04-21T16:34:13.082Z"
   },
   {
    "duration": 2384,
    "start_time": "2023-04-21T16:34:21.262Z"
   },
   {
    "duration": 228627,
    "start_time": "2023-04-21T16:34:29.765Z"
   },
   {
    "duration": 72,
    "start_time": "2023-04-21T16:39:27.166Z"
   },
   {
    "duration": 16,
    "start_time": "2023-04-21T17:04:49.361Z"
   },
   {
    "duration": 17,
    "start_time": "2023-04-21T17:05:31.211Z"
   },
   {
    "duration": 18,
    "start_time": "2023-04-21T17:06:51.419Z"
   },
   {
    "duration": 10,
    "start_time": "2023-04-21T17:06:58.740Z"
   },
   {
    "duration": 20,
    "start_time": "2023-04-21T17:07:10.016Z"
   },
   {
    "duration": 2,
    "start_time": "2023-04-21T17:07:37.110Z"
   },
   {
    "duration": 4,
    "start_time": "2023-04-21T17:07:40.414Z"
   },
   {
    "duration": 14,
    "start_time": "2023-04-21T17:10:29.258Z"
   },
   {
    "duration": 6,
    "start_time": "2023-04-21T17:11:45.890Z"
   },
   {
    "duration": 22,
    "start_time": "2023-04-21T17:11:55.417Z"
   },
   {
    "duration": 6,
    "start_time": "2023-04-21T17:13:00.685Z"
   },
   {
    "duration": 17,
    "start_time": "2023-04-21T17:13:09.312Z"
   },
   {
    "duration": 22,
    "start_time": "2023-04-21T17:13:49.572Z"
   },
   {
    "duration": 17,
    "start_time": "2023-04-21T17:14:50.317Z"
   },
   {
    "duration": 15,
    "start_time": "2023-04-21T17:15:06.808Z"
   },
   {
    "duration": 19,
    "start_time": "2023-04-21T17:15:42.518Z"
   },
   {
    "duration": 15,
    "start_time": "2023-04-21T17:16:00.373Z"
   },
   {
    "duration": 13,
    "start_time": "2023-04-21T17:16:40.735Z"
   },
   {
    "duration": 2143,
    "start_time": "2023-04-21T17:16:53.788Z"
   },
   {
    "duration": 2128,
    "start_time": "2023-04-21T17:16:55.934Z"
   },
   {
    "duration": 736,
    "start_time": "2023-04-21T17:16:58.064Z"
   },
   {
    "duration": 507,
    "start_time": "2023-04-21T17:16:58.802Z"
   },
   {
    "duration": 57,
    "start_time": "2023-04-21T17:16:59.311Z"
   },
   {
    "duration": 12,
    "start_time": "2023-04-21T17:16:59.370Z"
   },
   {
    "duration": 52,
    "start_time": "2023-04-21T17:16:59.384Z"
   },
   {
    "duration": 1691,
    "start_time": "2023-04-21T17:16:59.438Z"
   },
   {
    "duration": 5,
    "start_time": "2023-04-21T17:17:01.131Z"
   },
   {
    "duration": 64,
    "start_time": "2023-04-21T17:17:01.138Z"
   },
   {
    "duration": 43,
    "start_time": "2023-04-21T17:17:01.203Z"
   },
   {
    "duration": 4880,
    "start_time": "2023-04-21T17:17:01.248Z"
   },
   {
    "duration": 6,
    "start_time": "2023-04-21T17:17:06.130Z"
   },
   {
    "duration": 33,
    "start_time": "2023-04-21T17:17:06.139Z"
   },
   {
    "duration": 6,
    "start_time": "2023-04-21T17:17:06.174Z"
   },
   {
    "duration": 7,
    "start_time": "2023-04-21T17:17:06.182Z"
   },
   {
    "duration": 140,
    "start_time": "2023-04-21T17:17:06.190Z"
   },
   {
    "duration": 0,
    "start_time": "2023-04-21T17:17:06.332Z"
   },
   {
    "duration": 0,
    "start_time": "2023-04-21T17:17:06.333Z"
   },
   {
    "duration": 0,
    "start_time": "2023-04-21T17:17:06.335Z"
   },
   {
    "duration": 0,
    "start_time": "2023-04-21T17:17:06.337Z"
   },
   {
    "duration": 0,
    "start_time": "2023-04-21T17:17:06.339Z"
   },
   {
    "duration": 0,
    "start_time": "2023-04-21T17:17:06.340Z"
   },
   {
    "duration": 0,
    "start_time": "2023-04-21T17:17:06.341Z"
   },
   {
    "duration": 0,
    "start_time": "2023-04-21T17:17:06.343Z"
   },
   {
    "duration": 0,
    "start_time": "2023-04-21T17:17:06.345Z"
   },
   {
    "duration": 0,
    "start_time": "2023-04-21T17:17:06.346Z"
   },
   {
    "duration": 0,
    "start_time": "2023-04-21T17:17:06.347Z"
   },
   {
    "duration": 0,
    "start_time": "2023-04-21T17:17:06.349Z"
   },
   {
    "duration": 0,
    "start_time": "2023-04-21T17:17:06.350Z"
   },
   {
    "duration": 0,
    "start_time": "2023-04-21T17:17:06.353Z"
   },
   {
    "duration": 0,
    "start_time": "2023-04-21T17:17:06.354Z"
   },
   {
    "duration": 0,
    "start_time": "2023-04-21T17:17:06.356Z"
   },
   {
    "duration": 0,
    "start_time": "2023-04-21T17:17:06.357Z"
   },
   {
    "duration": 0,
    "start_time": "2023-04-21T17:17:06.359Z"
   },
   {
    "duration": 0,
    "start_time": "2023-04-21T17:17:06.360Z"
   },
   {
    "duration": 0,
    "start_time": "2023-04-21T17:17:06.362Z"
   },
   {
    "duration": 1,
    "start_time": "2023-04-21T17:17:06.363Z"
   },
   {
    "duration": 13,
    "start_time": "2023-04-21T17:17:34.288Z"
   },
   {
    "duration": 14,
    "start_time": "2023-04-21T17:17:48.157Z"
   },
   {
    "duration": 26,
    "start_time": "2023-04-21T17:17:54.257Z"
   },
   {
    "duration": 41,
    "start_time": "2023-04-21T17:24:27.446Z"
   },
   {
    "duration": 25,
    "start_time": "2023-04-21T17:24:34.184Z"
   },
   {
    "duration": 16,
    "start_time": "2023-04-21T17:24:45.237Z"
   },
   {
    "duration": 16,
    "start_time": "2023-04-21T17:25:16.321Z"
   },
   {
    "duration": 2077,
    "start_time": "2023-04-21T17:25:24.786Z"
   },
   {
    "duration": 2078,
    "start_time": "2023-04-21T17:25:26.865Z"
   },
   {
    "duration": 745,
    "start_time": "2023-04-21T17:25:28.945Z"
   },
   {
    "duration": 479,
    "start_time": "2023-04-21T17:25:29.692Z"
   },
   {
    "duration": 55,
    "start_time": "2023-04-21T17:25:30.173Z"
   },
   {
    "duration": 11,
    "start_time": "2023-04-21T17:25:30.229Z"
   },
   {
    "duration": 50,
    "start_time": "2023-04-21T17:25:30.242Z"
   },
   {
    "duration": 1640,
    "start_time": "2023-04-21T17:25:30.294Z"
   },
   {
    "duration": 4,
    "start_time": "2023-04-21T17:25:31.936Z"
   },
   {
    "duration": 31,
    "start_time": "2023-04-21T17:25:31.941Z"
   },
   {
    "duration": 7,
    "start_time": "2023-04-21T17:25:31.973Z"
   },
   {
    "duration": 4845,
    "start_time": "2023-04-21T17:25:31.982Z"
   },
   {
    "duration": 9,
    "start_time": "2023-04-21T17:25:36.833Z"
   },
   {
    "duration": 44,
    "start_time": "2023-04-21T17:25:36.846Z"
   },
   {
    "duration": 9,
    "start_time": "2023-04-21T17:25:36.892Z"
   },
   {
    "duration": 11,
    "start_time": "2023-04-21T17:25:36.903Z"
   },
   {
    "duration": 49,
    "start_time": "2023-04-21T17:25:36.917Z"
   },
   {
    "duration": 33,
    "start_time": "2023-04-21T17:25:36.968Z"
   },
   {
    "duration": 15,
    "start_time": "2023-04-21T17:25:37.003Z"
   },
   {
    "duration": 1305,
    "start_time": "2023-04-21T17:25:37.033Z"
   },
   {
    "duration": 20193,
    "start_time": "2023-04-21T17:25:38.340Z"
   },
   {
    "duration": 0,
    "start_time": "2023-04-21T17:25:58.536Z"
   },
   {
    "duration": 0,
    "start_time": "2023-04-21T17:25:58.538Z"
   },
   {
    "duration": 0,
    "start_time": "2023-04-21T17:25:58.540Z"
   },
   {
    "duration": 0,
    "start_time": "2023-04-21T17:25:58.541Z"
   },
   {
    "duration": 0,
    "start_time": "2023-04-21T17:25:58.542Z"
   },
   {
    "duration": 0,
    "start_time": "2023-04-21T17:25:58.544Z"
   },
   {
    "duration": 0,
    "start_time": "2023-04-21T17:25:58.545Z"
   },
   {
    "duration": 0,
    "start_time": "2023-04-21T17:25:58.547Z"
   },
   {
    "duration": 0,
    "start_time": "2023-04-21T17:25:58.548Z"
   },
   {
    "duration": 0,
    "start_time": "2023-04-21T17:25:58.549Z"
   },
   {
    "duration": 0,
    "start_time": "2023-04-21T17:25:58.551Z"
   },
   {
    "duration": 0,
    "start_time": "2023-04-21T17:25:58.552Z"
   },
   {
    "duration": 0,
    "start_time": "2023-04-21T17:25:58.554Z"
   },
   {
    "duration": 0,
    "start_time": "2023-04-21T17:25:58.556Z"
   },
   {
    "duration": 0,
    "start_time": "2023-04-21T17:25:58.557Z"
   },
   {
    "duration": 0,
    "start_time": "2023-04-21T17:25:58.558Z"
   },
   {
    "duration": 0,
    "start_time": "2023-04-21T17:25:58.559Z"
   },
   {
    "duration": 19,
    "start_time": "2023-04-21T17:26:02.628Z"
   },
   {
    "duration": 17,
    "start_time": "2023-04-21T17:26:17.728Z"
   },
   {
    "duration": 5,
    "start_time": "2023-04-21T17:26:27.296Z"
   },
   {
    "duration": 19,
    "start_time": "2023-04-21T17:26:34.309Z"
   },
   {
    "duration": 16,
    "start_time": "2023-04-21T17:27:13.687Z"
   },
   {
    "duration": 29,
    "start_time": "2023-04-21T17:33:34.703Z"
   },
   {
    "duration": 15,
    "start_time": "2023-04-21T17:34:13.983Z"
   },
   {
    "duration": 39,
    "start_time": "2023-04-21T17:35:09.317Z"
   },
   {
    "duration": 22,
    "start_time": "2023-04-21T17:35:25.890Z"
   },
   {
    "duration": 2156,
    "start_time": "2023-04-21T17:35:52.750Z"
   },
   {
    "duration": 2193,
    "start_time": "2023-04-21T17:35:54.908Z"
   },
   {
    "duration": 746,
    "start_time": "2023-04-21T17:35:57.103Z"
   },
   {
    "duration": 529,
    "start_time": "2023-04-21T17:35:57.850Z"
   },
   {
    "duration": 62,
    "start_time": "2023-04-21T17:35:58.382Z"
   },
   {
    "duration": 12,
    "start_time": "2023-04-21T17:35:58.447Z"
   },
   {
    "duration": 51,
    "start_time": "2023-04-21T17:35:58.461Z"
   },
   {
    "duration": 1710,
    "start_time": "2023-04-21T17:35:58.514Z"
   },
   {
    "duration": 23,
    "start_time": "2023-04-21T17:36:00.226Z"
   },
   {
    "duration": 43,
    "start_time": "2023-04-21T17:36:00.251Z"
   },
   {
    "duration": 12,
    "start_time": "2023-04-21T17:36:00.295Z"
   },
   {
    "duration": 5049,
    "start_time": "2023-04-21T17:36:00.309Z"
   },
   {
    "duration": 6,
    "start_time": "2023-04-21T17:36:05.359Z"
   },
   {
    "duration": 8,
    "start_time": "2023-04-21T17:36:05.368Z"
   },
   {
    "duration": 129,
    "start_time": "2023-04-21T17:36:05.378Z"
   },
   {
    "duration": 0,
    "start_time": "2023-04-21T17:36:05.508Z"
   },
   {
    "duration": 0,
    "start_time": "2023-04-21T17:36:05.509Z"
   },
   {
    "duration": 0,
    "start_time": "2023-04-21T17:36:05.510Z"
   },
   {
    "duration": 0,
    "start_time": "2023-04-21T17:36:05.512Z"
   },
   {
    "duration": 0,
    "start_time": "2023-04-21T17:36:05.513Z"
   },
   {
    "duration": 0,
    "start_time": "2023-04-21T17:36:05.514Z"
   },
   {
    "duration": 0,
    "start_time": "2023-04-21T17:36:05.515Z"
   },
   {
    "duration": 0,
    "start_time": "2023-04-21T17:36:05.517Z"
   },
   {
    "duration": 0,
    "start_time": "2023-04-21T17:36:05.536Z"
   },
   {
    "duration": 0,
    "start_time": "2023-04-21T17:36:05.537Z"
   },
   {
    "duration": 0,
    "start_time": "2023-04-21T17:36:05.538Z"
   },
   {
    "duration": 0,
    "start_time": "2023-04-21T17:36:05.544Z"
   },
   {
    "duration": 0,
    "start_time": "2023-04-21T17:36:05.545Z"
   },
   {
    "duration": 0,
    "start_time": "2023-04-21T17:36:05.547Z"
   },
   {
    "duration": 0,
    "start_time": "2023-04-21T17:36:05.548Z"
   },
   {
    "duration": 0,
    "start_time": "2023-04-21T17:36:05.550Z"
   },
   {
    "duration": 0,
    "start_time": "2023-04-21T17:36:05.551Z"
   },
   {
    "duration": 0,
    "start_time": "2023-04-21T17:36:05.552Z"
   },
   {
    "duration": 0,
    "start_time": "2023-04-21T17:36:05.553Z"
   },
   {
    "duration": 0,
    "start_time": "2023-04-21T17:36:05.555Z"
   },
   {
    "duration": 0,
    "start_time": "2023-04-21T17:36:05.556Z"
   },
   {
    "duration": 0,
    "start_time": "2023-04-21T17:36:05.558Z"
   },
   {
    "duration": 0,
    "start_time": "2023-04-21T17:36:05.559Z"
   },
   {
    "duration": 14,
    "start_time": "2023-04-21T17:36:49.834Z"
   },
   {
    "duration": 12,
    "start_time": "2023-04-21T17:36:52.948Z"
   },
   {
    "duration": 24,
    "start_time": "2023-04-21T17:37:05.559Z"
   },
   {
    "duration": 35,
    "start_time": "2023-04-21T17:37:23.393Z"
   },
   {
    "duration": 44,
    "start_time": "2023-04-21T17:38:10.319Z"
   },
   {
    "duration": 43,
    "start_time": "2023-04-21T17:39:52.582Z"
   },
   {
    "duration": 40,
    "start_time": "2023-04-21T17:41:23.988Z"
   },
   {
    "duration": 54,
    "start_time": "2023-04-21T17:43:05.516Z"
   },
   {
    "duration": 33,
    "start_time": "2023-04-21T17:43:31.185Z"
   },
   {
    "duration": 44,
    "start_time": "2023-04-21T17:43:42.939Z"
   },
   {
    "duration": 24,
    "start_time": "2023-04-21T17:43:51.510Z"
   },
   {
    "duration": 26,
    "start_time": "2023-04-21T17:44:08.193Z"
   },
   {
    "duration": 38,
    "start_time": "2023-04-21T17:44:44.283Z"
   },
   {
    "duration": 28,
    "start_time": "2023-04-21T17:44:46.724Z"
   },
   {
    "duration": 25,
    "start_time": "2023-04-21T17:44:50.085Z"
   },
   {
    "duration": 23,
    "start_time": "2023-04-21T17:44:52.296Z"
   },
   {
    "duration": 42,
    "start_time": "2023-04-21T17:46:38.358Z"
   },
   {
    "duration": 2,
    "start_time": "2023-04-21T17:47:10.746Z"
   },
   {
    "duration": 3,
    "start_time": "2023-04-21T17:47:11.383Z"
   },
   {
    "duration": 79,
    "start_time": "2023-04-21T17:52:59.341Z"
   },
   {
    "duration": 2110,
    "start_time": "2023-04-21T17:53:19.297Z"
   },
   {
    "duration": 2079,
    "start_time": "2023-04-21T17:53:21.410Z"
   },
   {
    "duration": 731,
    "start_time": "2023-04-21T17:53:23.491Z"
   },
   {
    "duration": 541,
    "start_time": "2023-04-21T17:53:24.224Z"
   },
   {
    "duration": 56,
    "start_time": "2023-04-21T17:53:24.768Z"
   },
   {
    "duration": 12,
    "start_time": "2023-04-21T17:53:24.825Z"
   },
   {
    "duration": 46,
    "start_time": "2023-04-21T17:53:24.839Z"
   },
   {
    "duration": 1659,
    "start_time": "2023-04-21T17:53:24.887Z"
   },
   {
    "duration": 5,
    "start_time": "2023-04-21T17:53:26.548Z"
   },
   {
    "duration": 15,
    "start_time": "2023-04-21T17:53:26.555Z"
   },
   {
    "duration": 9,
    "start_time": "2023-04-21T17:53:26.572Z"
   },
   {
    "duration": 4780,
    "start_time": "2023-04-21T17:53:26.583Z"
   },
   {
    "duration": 6,
    "start_time": "2023-04-21T17:53:31.365Z"
   },
   {
    "duration": 7,
    "start_time": "2023-04-21T17:53:31.374Z"
   },
   {
    "duration": 10,
    "start_time": "2023-04-21T17:53:31.383Z"
   },
   {
    "duration": 27,
    "start_time": "2023-04-21T17:53:31.395Z"
   },
   {
    "duration": 57,
    "start_time": "2023-04-21T17:53:31.424Z"
   },
   {
    "duration": 23,
    "start_time": "2023-04-21T17:53:31.483Z"
   },
   {
    "duration": 17,
    "start_time": "2023-04-21T17:53:31.508Z"
   },
   {
    "duration": 1245,
    "start_time": "2023-04-21T17:53:31.526Z"
   },
   {
    "duration": 124964,
    "start_time": "2023-04-21T17:53:32.773Z"
   },
   {
    "duration": 100,
    "start_time": "2023-04-21T17:55:37.738Z"
   },
   {
    "duration": 130,
    "start_time": "2023-04-21T17:55:37.933Z"
   },
   {
    "duration": 0,
    "start_time": "2023-04-21T17:55:38.065Z"
   },
   {
    "duration": 0,
    "start_time": "2023-04-21T17:55:38.066Z"
   },
   {
    "duration": 0,
    "start_time": "2023-04-21T17:55:38.067Z"
   },
   {
    "duration": 0,
    "start_time": "2023-04-21T17:55:38.069Z"
   },
   {
    "duration": 0,
    "start_time": "2023-04-21T17:55:38.070Z"
   },
   {
    "duration": 0,
    "start_time": "2023-04-21T17:55:38.071Z"
   },
   {
    "duration": 0,
    "start_time": "2023-04-21T17:55:38.072Z"
   },
   {
    "duration": 0,
    "start_time": "2023-04-21T17:55:38.073Z"
   },
   {
    "duration": 0,
    "start_time": "2023-04-21T17:55:38.074Z"
   },
   {
    "duration": 0,
    "start_time": "2023-04-21T17:55:38.076Z"
   },
   {
    "duration": 0,
    "start_time": "2023-04-21T17:55:38.077Z"
   },
   {
    "duration": 0,
    "start_time": "2023-04-21T17:55:38.078Z"
   },
   {
    "duration": 0,
    "start_time": "2023-04-21T17:55:38.079Z"
   },
   {
    "duration": 0,
    "start_time": "2023-04-21T17:55:38.080Z"
   },
   {
    "duration": 6,
    "start_time": "2023-04-21T18:03:20.517Z"
   },
   {
    "duration": 6,
    "start_time": "2023-04-21T18:03:28.915Z"
   },
   {
    "duration": 6,
    "start_time": "2023-04-21T18:03:32.678Z"
   },
   {
    "duration": 6,
    "start_time": "2023-04-21T18:03:36.183Z"
   },
   {
    "duration": 1238,
    "start_time": "2023-04-21T18:03:41.139Z"
   },
   {
    "duration": 131045,
    "start_time": "2023-04-21T18:03:48.318Z"
   },
   {
    "duration": 109,
    "start_time": "2023-04-21T18:06:13.534Z"
   },
   {
    "duration": 12,
    "start_time": "2023-04-21T18:06:13.734Z"
   },
   {
    "duration": 34,
    "start_time": "2023-04-21T18:06:13.748Z"
   },
   {
    "duration": 2296,
    "start_time": "2023-04-21T18:06:13.784Z"
   },
   {
    "duration": 208838,
    "start_time": "2023-04-21T18:06:16.083Z"
   },
   {
    "duration": 113,
    "start_time": "2023-04-21T18:09:44.923Z"
   },
   {
    "duration": 99,
    "start_time": "2023-04-21T18:09:45.038Z"
   },
   {
    "duration": 661,
    "start_time": "2023-04-21T18:09:45.139Z"
   },
   {
    "duration": 73489,
    "start_time": "2023-04-21T18:09:45.802Z"
   },
   {
    "duration": 50,
    "start_time": "2023-04-21T18:10:59.292Z"
   },
   {
    "duration": 392,
    "start_time": "2023-04-21T18:10:59.343Z"
   },
   {
    "duration": 549,
    "start_time": "2023-04-21T18:17:30.136Z"
   },
   {
    "duration": 274,
    "start_time": "2023-04-21T18:18:15.779Z"
   },
   {
    "duration": 550,
    "start_time": "2023-04-21T18:29:42.967Z"
   }
  ],
  "kernelspec": {
   "display_name": "Python 3 (ipykernel)",
   "language": "python",
   "name": "python3"
  },
  "language_info": {
   "codemirror_mode": {
    "name": "ipython",
    "version": 3
   },
   "file_extension": ".py",
   "mimetype": "text/x-python",
   "name": "python",
   "nbconvert_exporter": "python",
   "pygments_lexer": "ipython3",
   "version": "3.9.13"
  },
  "toc": {
   "base_numbering": 1,
   "nav_menu": {
    "height": "507.986px",
    "width": "289.983px"
   },
   "number_sections": true,
   "sideBar": true,
   "skip_h1_title": true,
   "title_cell": "Содержание",
   "title_sidebar": "Contents",
   "toc_cell": true,
   "toc_position": {
    "height": "calc(100% - 180px)",
    "left": "10px",
    "top": "150px",
    "width": "286.181px"
   },
   "toc_section_display": true,
   "toc_window_display": true
  }
 },
 "nbformat": 4,
 "nbformat_minor": 2
}
