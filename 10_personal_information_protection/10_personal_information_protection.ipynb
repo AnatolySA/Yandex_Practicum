{
 "cells": [
  {
   "cell_type": "markdown",
   "metadata": {
    "toc": true
   },
   "source": [
    "<h1>Содержание<span class=\"tocSkip\"></span></h1>\n",
    "<div class=\"toc\"><ul class=\"toc-item\"><li><span><a href=\"#Загрузка-данных\" data-toc-modified-id=\"Загрузка-данных-1\"><span class=\"toc-item-num\">1&nbsp;&nbsp;</span>Загрузка данных</a></span></li><li><span><a href=\"#Умножение-матриц\" data-toc-modified-id=\"Умножение-матриц-2\"><span class=\"toc-item-num\">2&nbsp;&nbsp;</span>Умножение матриц</a></span></li><li><span><a href=\"#Алгоритм-преобразования\" data-toc-modified-id=\"Алгоритм-преобразования-3\"><span class=\"toc-item-num\">3&nbsp;&nbsp;</span>Алгоритм преобразования</a></span></li><li><span><a href=\"#Проверка-алгоритма\" data-toc-modified-id=\"Проверка-алгоритма-4\"><span class=\"toc-item-num\">4&nbsp;&nbsp;</span>Проверка алгоритма</a></span></li><li><span></li></ul></div>"
   ]
  },
  {
   "cell_type": "markdown",
   "metadata": {},
   "source": [
    "# Защита персональных данных клиентов"
   ]
  },
  {
   "cell_type": "markdown",
   "metadata": {},
   "source": [
    "Вам нужно защитить данные клиентов страховой компании «Хоть потоп». Разработайте такой метод преобразования данных, чтобы по ним было сложно восстановить персональную информацию. Обоснуйте корректность его работы.\n",
    "\n",
    "Нужно защитить данные, чтобы при преобразовании качество моделей машинного обучения не ухудшилось. Подбирать наилучшую модель не требуется."
   ]
  },
  {
   "cell_type": "markdown",
   "metadata": {},
   "source": [
    "## Загрузка данных"
   ]
  },
  {
   "cell_type": "code",
   "execution_count": 1,
   "metadata": {
    "scrolled": true
   },
   "outputs": [
    {
     "name": "stdout",
     "output_type": "stream",
     "text": [
      "Requirement already satisfied: phik in /opt/conda/lib/python3.9/site-packages (0.12.3)\n",
      "Requirement already satisfied: scipy>=1.5.2 in /opt/conda/lib/python3.9/site-packages (from phik) (1.9.1)\n",
      "Requirement already satisfied: matplotlib>=2.2.3 in /opt/conda/lib/python3.9/site-packages (from phik) (3.3.4)\n",
      "Requirement already satisfied: numpy>=1.18.0 in /opt/conda/lib/python3.9/site-packages (from phik) (1.21.1)\n",
      "Requirement already satisfied: joblib>=0.14.1 in /opt/conda/lib/python3.9/site-packages (from phik) (1.1.0)\n",
      "Requirement already satisfied: pandas>=0.25.1 in /opt/conda/lib/python3.9/site-packages (from phik) (1.2.4)\n",
      "Requirement already satisfied: pillow>=6.2.0 in /opt/conda/lib/python3.9/site-packages (from matplotlib>=2.2.3->phik) (8.4.0)\n",
      "Requirement already satisfied: python-dateutil>=2.1 in /opt/conda/lib/python3.9/site-packages (from matplotlib>=2.2.3->phik) (2.8.1)\n",
      "Requirement already satisfied: cycler>=0.10 in /opt/conda/lib/python3.9/site-packages (from matplotlib>=2.2.3->phik) (0.11.0)\n",
      "Requirement already satisfied: kiwisolver>=1.0.1 in /opt/conda/lib/python3.9/site-packages (from matplotlib>=2.2.3->phik) (1.4.4)\n",
      "Requirement already satisfied: pyparsing!=2.0.4,!=2.1.2,!=2.1.6,>=2.0.3 in /opt/conda/lib/python3.9/site-packages (from matplotlib>=2.2.3->phik) (2.4.7)\n",
      "Requirement already satisfied: pytz>=2017.3 in /opt/conda/lib/python3.9/site-packages (from pandas>=0.25.1->phik) (2021.1)\n",
      "Requirement already satisfied: six>=1.5 in /opt/conda/lib/python3.9/site-packages (from python-dateutil>=2.1->matplotlib>=2.2.3->phik) (1.16.0)\n",
      "Note: you may need to restart the kernel to use updated packages.\n"
     ]
    }
   ],
   "source": [
    "pip install phik"
   ]
  },
  {
   "cell_type": "code",
   "execution_count": 2,
   "metadata": {},
   "outputs": [],
   "source": [
    "import matplotlib.pyplot as plt\n",
    "import numpy as np\n",
    "import pandas as pd\n",
    "import phik\n",
    "#from phik import resources\n",
    "#from phik.binning import bin_data\n",
    "from phik.report import plot_correlation_matrix\n",
    "from sklearn.linear_model import LinearRegression\n",
    "from sklearn.metrics import r2_score\n",
    "from sklearn.model_selection import train_test_split"
   ]
  },
  {
   "cell_type": "code",
   "execution_count": 3,
   "metadata": {},
   "outputs": [],
   "source": [
    "data = pd.read_csv('/datasets/insurance.csv')"
   ]
  },
  {
   "cell_type": "code",
   "execution_count": 4,
   "metadata": {},
   "outputs": [],
   "source": [
    "def data_stats(data):\n",
    "    \"\"\"\n",
    "    В функцию передается исследуемый датафрейм.\n",
    "    Функция выводит на экран основную информацию, \n",
    "    необходимую для первичного анализа датафрейма. \n",
    "    \"\"\"\n",
    "    display(data.info())\n",
    "    with pd.option_context('display.max_rows', None, 'display.max_columns', None):\n",
    "        display(data.describe().T)\n",
    "    with pd.option_context('display.max_rows', None, 'display.max_columns', None):\n",
    "        display(data.isna().sum())\n",
    "    interval_cols = ['Зарплата', 'Возраст']\n",
    "    phik_overview = data.phik_matrix(interval_cols=interval_cols)\n",
    "    plot_correlation_matrix(phik_overview.values, \n",
    "                            x_labels=phik_overview.columns, \n",
    "                            y_labels=phik_overview.index, \n",
    "                            vmin=0, vmax=1, color_map=\"Greens\", \n",
    "                            title=r\"correlation $\\phi_K$\", \n",
    "                            fontsize_factor=1.5, \n",
    "                            figsize=(10, 8))\n",
    "    plt.tight_layout()"
   ]
  },
  {
   "cell_type": "code",
   "execution_count": 5,
   "metadata": {
    "scrolled": false
   },
   "outputs": [
    {
     "name": "stdout",
     "output_type": "stream",
     "text": [
      "<class 'pandas.core.frame.DataFrame'>\n",
      "RangeIndex: 5000 entries, 0 to 4999\n",
      "Data columns (total 5 columns):\n",
      " #   Column             Non-Null Count  Dtype  \n",
      "---  ------             --------------  -----  \n",
      " 0   Пол                5000 non-null   int64  \n",
      " 1   Возраст            5000 non-null   float64\n",
      " 2   Зарплата           5000 non-null   float64\n",
      " 3   Члены семьи        5000 non-null   int64  \n",
      " 4   Страховые выплаты  5000 non-null   int64  \n",
      "dtypes: float64(2), int64(3)\n",
      "memory usage: 195.4 KB\n"
     ]
    },
    {
     "data": {
      "text/plain": [
       "None"
      ]
     },
     "metadata": {},
     "output_type": "display_data"
    },
    {
     "data": {
      "text/html": [
       "<div>\n",
       "<style scoped>\n",
       "    .dataframe tbody tr th:only-of-type {\n",
       "        vertical-align: middle;\n",
       "    }\n",
       "\n",
       "    .dataframe tbody tr th {\n",
       "        vertical-align: top;\n",
       "    }\n",
       "\n",
       "    .dataframe thead th {\n",
       "        text-align: right;\n",
       "    }\n",
       "</style>\n",
       "<table border=\"1\" class=\"dataframe\">\n",
       "  <thead>\n",
       "    <tr style=\"text-align: right;\">\n",
       "      <th></th>\n",
       "      <th>count</th>\n",
       "      <th>mean</th>\n",
       "      <th>std</th>\n",
       "      <th>min</th>\n",
       "      <th>25%</th>\n",
       "      <th>50%</th>\n",
       "      <th>75%</th>\n",
       "      <th>max</th>\n",
       "    </tr>\n",
       "  </thead>\n",
       "  <tbody>\n",
       "    <tr>\n",
       "      <th>Пол</th>\n",
       "      <td>5000.0</td>\n",
       "      <td>0.4990</td>\n",
       "      <td>0.500049</td>\n",
       "      <td>0.0</td>\n",
       "      <td>0.0</td>\n",
       "      <td>0.0</td>\n",
       "      <td>1.0</td>\n",
       "      <td>1.0</td>\n",
       "    </tr>\n",
       "    <tr>\n",
       "      <th>Возраст</th>\n",
       "      <td>5000.0</td>\n",
       "      <td>30.9528</td>\n",
       "      <td>8.440807</td>\n",
       "      <td>18.0</td>\n",
       "      <td>24.0</td>\n",
       "      <td>30.0</td>\n",
       "      <td>37.0</td>\n",
       "      <td>65.0</td>\n",
       "    </tr>\n",
       "    <tr>\n",
       "      <th>Зарплата</th>\n",
       "      <td>5000.0</td>\n",
       "      <td>39916.3600</td>\n",
       "      <td>9900.083569</td>\n",
       "      <td>5300.0</td>\n",
       "      <td>33300.0</td>\n",
       "      <td>40200.0</td>\n",
       "      <td>46600.0</td>\n",
       "      <td>79000.0</td>\n",
       "    </tr>\n",
       "    <tr>\n",
       "      <th>Члены семьи</th>\n",
       "      <td>5000.0</td>\n",
       "      <td>1.1942</td>\n",
       "      <td>1.091387</td>\n",
       "      <td>0.0</td>\n",
       "      <td>0.0</td>\n",
       "      <td>1.0</td>\n",
       "      <td>2.0</td>\n",
       "      <td>6.0</td>\n",
       "    </tr>\n",
       "    <tr>\n",
       "      <th>Страховые выплаты</th>\n",
       "      <td>5000.0</td>\n",
       "      <td>0.1480</td>\n",
       "      <td>0.463183</td>\n",
       "      <td>0.0</td>\n",
       "      <td>0.0</td>\n",
       "      <td>0.0</td>\n",
       "      <td>0.0</td>\n",
       "      <td>5.0</td>\n",
       "    </tr>\n",
       "  </tbody>\n",
       "</table>\n",
       "</div>"
      ],
      "text/plain": [
       "                    count        mean          std     min      25%      50%  \\\n",
       "Пол                5000.0      0.4990     0.500049     0.0      0.0      0.0   \n",
       "Возраст            5000.0     30.9528     8.440807    18.0     24.0     30.0   \n",
       "Зарплата           5000.0  39916.3600  9900.083569  5300.0  33300.0  40200.0   \n",
       "Члены семьи        5000.0      1.1942     1.091387     0.0      0.0      1.0   \n",
       "Страховые выплаты  5000.0      0.1480     0.463183     0.0      0.0      0.0   \n",
       "\n",
       "                       75%      max  \n",
       "Пол                    1.0      1.0  \n",
       "Возраст               37.0     65.0  \n",
       "Зарплата           46600.0  79000.0  \n",
       "Члены семьи            2.0      6.0  \n",
       "Страховые выплаты      0.0      5.0  "
      ]
     },
     "metadata": {},
     "output_type": "display_data"
    },
    {
     "data": {
      "text/plain": [
       "Пол                  0\n",
       "Возраст              0\n",
       "Зарплата             0\n",
       "Члены семьи          0\n",
       "Страховые выплаты    0\n",
       "dtype: int64"
      ]
     },
     "metadata": {},
     "output_type": "display_data"
    },
    {
     "data": {
      "image/png": "[encoded data removed]",
      "text/plain": [
       "<Figure size 720x576 with 2 Axes>"
      ]
     },
     "metadata": {
      "needs_background": "light"
     },
     "output_type": "display_data"
    }
   ],
   "source": [
    "data_stats(data)"
   ]
  },
  {
   "cell_type": "code",
   "execution_count": 6,
   "metadata": {},
   "outputs": [],
   "source": [
    "# Переименуем столбцы\n",
    "data = data.rename(columns=\n",
    "               {'Пол': 'male',\n",
    "                'Возраст': 'age',\n",
    "                'Зарплата': 'salary',\n",
    "                'Члены семьи': 'family_members',\n",
    "                'Страховые выплаты': 'insurance_payments'\n",
    "               }\n",
    "              )"
   ]
  },
  {
   "cell_type": "code",
   "execution_count": 7,
   "metadata": {},
   "outputs": [],
   "source": [
    "# Изменим тип данных\n",
    "data['age'] = data['age'].astype(int)"
   ]
  },
  {
   "cell_type": "markdown",
   "metadata": {},
   "source": [
    "В данных отсутствуют пропуски. \n",
    "\n",
    "Можем отметить наличик средней прямой связи между возрастом и страховыми выплатами. \n",
    "\n",
    "Дополнительную предобработку данных в рамках решаемой задачи не осуществляем, так как заказчику необходимо решение проблемы преобразования данных, в результате которого было бы сложно восстановить персональную информацию. "
   ]
  },
  {
   "cell_type": "markdown",
   "metadata": {},
   "source": [
    "## Умножение матриц"
   ]
  },
  {
   "cell_type": "markdown",
   "metadata": {},
   "source": [
    "В этом задании вы можете записывать формулы в *Jupyter Notebook.*\n",
    "\n",
    "Чтобы записать формулу внутри текста, окружите её символами доллара \\\\$; если снаружи —  двойными символами \\\\$\\\\$. Эти формулы записываются на языке вёрстки *LaTeX.* \n",
    "\n",
    "Для примера мы записали формулы линейной регрессии. Можете их скопировать и отредактировать, чтобы решить задачу.\n",
    "\n",
    "Работать в *LaTeX* необязательно."
   ]
  },
  {
   "cell_type": "markdown",
   "metadata": {},
   "source": [
    "Обозначения:\n",
    "\n",
    "- $X$ — матрица признаков (нулевой столбец состоит из единиц)\n",
    "\n",
    "- $y$ — вектор целевого признака\n",
    "\n",
    "- $P$ — матрица, на которую умножаются признаки\n",
    "\n",
    "- $w$ — вектор весов линейной регрессии (нулевой элемент равен сдвигу)"
   ]
  },
  {
   "cell_type": "markdown",
   "metadata": {},
   "source": [
    "Предсказания:\n",
    "\n",
    "$$\n",
    "a = Xw\n",
    "$$\n",
    "\n",
    "Задача обучения:\n",
    "\n",
    "$$\n",
    "w = \\arg\\min_w MSE(Xw, y)\n",
    "$$\n",
    "\n",
    "Формула обучения:\n",
    "\n",
    "$$\n",
    "w = (X^T X)^{-1} X^T y\n",
    "$$"
   ]
  },
  {
   "cell_type": "markdown",
   "metadata": {},
   "source": [
    "**Ответ:** Не изменится.\n",
    "\n",
    "**Обоснование:** \n",
    "Пусть\n",
    "\n",
    "$\n",
    "X^{'} = XP\n",
    "$\n",
    "\n",
    "где P - случайно сгенерированная обратимая матрица\n",
    "\n",
    "тогда\n",
    "\n",
    "$\n",
    "a{'} = X^{'}w^{'}\n",
    "$\n",
    "\n",
    "$\n",
    "w{'} =((X^{'})^T X^{'})^{-1} (X^{'})^T y\n",
    "$\n",
    "\n",
    "Проведем преобразования, подставив выражение Х (XP) в формулу $w{'}$:\n",
    "\n",
    "$\n",
    "w{'} = ((XP)^T XP)^{-1} (XP)^T y\n",
    "$\n",
    "\n",
    "Проведем преобразования, используя свойства перемножения матриц:\n",
    "\n",
    "$\n",
    "w{'} = (P^TX^TXP)^{-1}*P^T* X^T * y\n",
    "$\n",
    "        \n",
    "$\n",
    "w{'} = ([P^TX^TX]*P)^{-1}*P^T* X^T * y\n",
    "$\n",
    "        \n",
    "$\n",
    "w{'} =  P^{-1}*[P^T(X^T*X)]^{-1}*P^T* X^T * y\n",
    "$\n",
    "        \n",
    "$\n",
    "w{'} = P^{-1}*[X^T*X]^{-1}*[P^T]^{-1}*P^T* X^T * y\n",
    "$\n",
    "    \n",
    "$\n",
    "w{'} = P^{-1}*[X^T*X]^{-1}*E* X^T * y\n",
    "$\n",
    "    \n",
    "$\n",
    "w{'} = P^{-1}*w\n",
    "$\n",
    "    \n",
    "$\n",
    "a{'} = XP*P^{-1}*w\n",
    "$\n",
    "    \n",
    "$\n",
    "a{'} = X*E*w = Xw\n",
    "$\n",
    "\n",
    "Таким образом \n",
    "\n",
    "$a{'} = X^{'}w^{'} = XP(P^TP)^{-1}P^Tw = XEw = Xw = a$;\n",
    "\n",
    "$w{'} = (P^TP)^{-1}P^Tw$"
   ]
  },
  {
   "cell_type": "markdown",
   "metadata": {},
   "source": [
    "## Алгоритм преобразования"
   ]
  },
  {
   "cell_type": "markdown",
   "metadata": {},
   "source": [
    "**Алгоритм**\n",
    "\n",
    "Для защиты данных клиентов предлагаем умножить объясняемые признаки на случайно сгенерированную обратимую матрицу. Это позволит закодировать персональные данные клиентов, существенно усложнив возможность их восстановления. Данный метод является корректным, так как при этом качество модели не изменяется.\n",
    "\n",
    "Этапы преобразования данных:\n",
    " - Задаем определяющие признаки.\n",
    " - Генерируем случайную матрицу, с помощью которой произведем преобразование данных. Количество строк такой матрицы должно соответствовать количеству столбцов матрицы определяющих признаков.\n",
    " - Проверяем сгенерированную матрицу на обратимость. Если матрица обратима, переходим к следующему шагу. Если матрица необратима, возвращаемся к предыдущему пункту.\n",
    " - Осуществляем умножением матрицы определяющих признаков на сгенерированную матрицу. \n",
    " - Обучаем модель, строим прогноз."
   ]
  },
  {
   "cell_type": "markdown",
   "metadata": {},
   "source": [
    "**Обоснование**\n",
    "\n",
    "В процессе построения предсказания задача модели линейной регрессии сводится к минимизации среднего квадратического отклонения по аргументу `w`. При этом $w = (X^T X)^{-1} X^T y$. \n",
    "\n",
    "При осуществлении преобразований в соответствии со свойствами умножения матриц мы выяснили, что умножение признаков на обратимую матрицу не изменят качество модели линейной регрессии."
   ]
  },
  {
   "cell_type": "markdown",
   "metadata": {},
   "source": [
    "## Проверка алгоритма"
   ]
  },
  {
   "cell_type": "code",
   "execution_count": 8,
   "metadata": {},
   "outputs": [],
   "source": [
    "# Задаем определяющие (features) и определяемые (target) признаки\n",
    "features = data.drop('insurance_payments', axis=1)\n",
    "target = data['insurance_payments']\n",
    "features_train, features_test, target_train, target_test = train_test_split(\n",
    "    features, target, test_size=0.25, random_state=442) "
   ]
  },
  {
   "cell_type": "code",
   "execution_count": 9,
   "metadata": {},
   "outputs": [
    {
     "name": "stdout",
     "output_type": "stream",
     "text": [
      "R2 модели логистической регрессии равна 0.42578.\n"
     ]
    }
   ],
   "source": [
    "# Определяем модель\n",
    "model = LinearRegression()\n",
    "# Обучаем модель\n",
    "model.fit(features_train, target_train)\n",
    "# Строим предсказания\n",
    "predictions = model.predict(features_test)\n",
    "# Оцениваем качество модели\n",
    "result = r2_score(target_test, predictions)\n",
    "print(f'R2 модели логистической регрессии равна {result:.5}.') "
   ]
  },
  {
   "cell_type": "code",
   "execution_count": 10,
   "metadata": {},
   "outputs": [],
   "source": [
    "# Генерируем случайную матрицу\n",
    "cod_matrix = np.random.randint(0, 100, (len(features_train.columns), len(features_train.columns)))\n",
    "while np.linalg.det(cod_matrix) == 0:\n",
    "    cod_matrix = np.random.randint(0, 100, (len(features_train.columns), len(features_train.columns)))\n",
    "# В нашем случае она квадратная, но количество столбцов можно и увеличить при желании. \n",
    "# Это увеличит время обучения модели, но не снизит качество.\n",
    "# Если количество столбцов будет меньше, качество снизится."
   ]
  },
  {
   "cell_type": "code",
   "execution_count": 11,
   "metadata": {},
   "outputs": [],
   "source": [
    "# Определяем закодированные признаки\n",
    "features_new = features.dot(cod_matrix)\n",
    "features_train_new, features_test_new, target_train, target_test = train_test_split(\n",
    "features_new, target, test_size=0.25, random_state=442)"
   ]
  },
  {
   "cell_type": "code",
   "execution_count": 12,
   "metadata": {},
   "outputs": [
    {
     "name": "stdout",
     "output_type": "stream",
     "text": [
      "R2 модели логистической регрессии равна 0.42578.\n"
     ]
    }
   ],
   "source": [
    "# Обучаем модель\n",
    "model.fit(features_train_new, target_train)\n",
    "# Строим предсказания\n",
    "predictions_new = model.predict(features_test_new)\n",
    "# Оцениваем качество модели\n",
    "result_new = r2_score(target_test, predictions_new)\n",
    "print(f'R2 модели логистической регрессии равна {result_new:.5}.') "
   ]
  },
  {
   "cell_type": "code",
   "execution_count": 13,
   "metadata": {},
   "outputs": [],
   "source": [
    "# Провести расшифровку данных можно с помощью следующего кода:\n",
    "# Умножаем закодированные данные на матрицу, \n",
    "# обратную сгенерированной случайно для кодирования\n",
    "features_decoder = features_new.dot(np.linalg.inv(cod_matrix))\n",
    "# Округляем значения до целочисленных:\n",
    "features_decoder[0] = features_decoder[0].round().astype(int)\n",
    "features_decoder[3] = features_decoder[3].round().astype(int)"
   ]
  },
  {
   "cell_type": "markdown",
   "metadata": {},
   "source": [
    "Предложенный нами метод преобразования данных позволяет защитить персональные данные клиентов, не оказывая влияния на качество модели линейной регрессии."
   ]
  },
  {
   "cell_type": "markdown",
   "metadata": {},
   "source": [
    "В рамках проекта перед нами стояла задача по защите данных клиентов страховой компании «Хоть потоп» путем разработки такого метода преобразования данных, чтобы по ним было сложно восстановить персональную информацию. \n",
    "\n",
    "На первом этапе мы загрузили данные и провели их предварительную обработку. \n",
    "\n",
    "На втором этапе доказали, что умножение признаков на обратимую матрицу не изменит качества модели линейной регрессии. Будем использовать это свойство для решения поставленной задачи.\n",
    "\n",
    "На третьем этапе написали алгоритм преобразования данных, который поможет защитить персональные данные клиентов.\n",
    "\n",
    "На четвертом этапе проверили корректность работы предлагаемого алгоритма. Обучили модель линейной регрессии на исходных данных, а затем на преобразованных. Сравнив резульатты, убедились, что качество модели не изменилось.\n",
    "\n",
    "\n",
    "Таким образом, нами была выполнена поставленная задача, а именно разработан такой метод преобразования данных, после применения которого было бы сложно восстановить персональную информацию."
   ]
  }
 ],
 "metadata": {
  "ExecuteTimeLog": [
   {
    "duration": 458,
    "start_time": "2023-05-27T14:13:27.043Z"
   },
   {
    "duration": 85,
    "start_time": "2023-05-27T14:14:45.507Z"
   },
   {
    "duration": 12,
    "start_time": "2023-05-27T14:15:03.107Z"
   },
   {
    "duration": 16,
    "start_time": "2023-05-27T14:15:33.333Z"
   },
   {
    "duration": 23,
    "start_time": "2023-05-27T14:16:54.419Z"
   },
   {
    "duration": 13,
    "start_time": "2023-05-27T14:18:01.834Z"
   },
   {
    "duration": 26,
    "start_time": "2023-05-27T14:20:38.800Z"
   },
   {
    "duration": 28,
    "start_time": "2023-05-27T14:20:48.802Z"
   },
   {
    "duration": 4,
    "start_time": "2023-05-27T14:21:13.147Z"
   },
   {
    "duration": 4,
    "start_time": "2023-05-27T14:21:31.828Z"
   },
   {
    "duration": 8,
    "start_time": "2023-05-27T14:22:08.199Z"
   },
   {
    "duration": 361,
    "start_time": "2023-05-28T09:48:53.270Z"
   },
   {
    "duration": 86,
    "start_time": "2023-05-28T09:48:56.786Z"
   },
   {
    "duration": 28,
    "start_time": "2023-05-28T09:51:16.555Z"
   },
   {
    "duration": 11,
    "start_time": "2023-05-28T09:51:17.455Z"
   },
   {
    "duration": 28,
    "start_time": "2023-05-28T09:54:27.107Z"
   },
   {
    "duration": 10,
    "start_time": "2023-05-28T09:54:28.487Z"
   },
   {
    "duration": 4,
    "start_time": "2023-05-28T09:58:47.445Z"
   },
   {
    "duration": 15,
    "start_time": "2023-05-28T09:58:49.287Z"
   },
   {
    "duration": 4,
    "start_time": "2023-05-28T10:00:20.455Z"
   },
   {
    "duration": 797,
    "start_time": "2023-05-28T10:00:43.628Z"
   },
   {
    "duration": 528,
    "start_time": "2023-05-28T10:02:05.167Z"
   },
   {
    "duration": 145,
    "start_time": "2023-05-28T10:02:25.902Z"
   },
   {
    "duration": 167,
    "start_time": "2023-05-28T10:03:08.892Z"
   },
   {
    "duration": 360,
    "start_time": "2023-05-29T13:37:57.219Z"
   },
   {
    "duration": 87,
    "start_time": "2023-05-29T13:37:57.580Z"
   },
   {
    "duration": 9,
    "start_time": "2023-05-29T13:37:57.669Z"
   },
   {
    "duration": 3,
    "start_time": "2023-05-29T13:37:57.680Z"
   },
   {
    "duration": 15,
    "start_time": "2023-05-29T13:37:57.684Z"
   },
   {
    "duration": 9,
    "start_time": "2023-05-29T13:37:57.700Z"
   },
   {
    "duration": 495,
    "start_time": "2023-05-29T13:37:57.711Z"
   },
   {
    "duration": 4,
    "start_time": "2023-05-29T13:38:39.120Z"
   },
   {
    "duration": 75,
    "start_time": "2023-05-29T13:38:46.988Z"
   },
   {
    "duration": 3,
    "start_time": "2023-05-29T13:39:18.554Z"
   },
   {
    "duration": 359,
    "start_time": "2023-05-29T13:39:42.027Z"
   },
   {
    "duration": 30,
    "start_time": "2023-05-29T13:39:42.389Z"
   },
   {
    "duration": 5,
    "start_time": "2023-05-29T13:39:42.421Z"
   },
   {
    "duration": 35,
    "start_time": "2023-05-29T13:39:42.428Z"
   },
   {
    "duration": 4,
    "start_time": "2023-05-29T13:39:42.465Z"
   },
   {
    "duration": 19,
    "start_time": "2023-05-29T13:39:42.471Z"
   },
   {
    "duration": 289,
    "start_time": "2023-05-29T13:40:06.427Z"
   },
   {
    "duration": 311,
    "start_time": "2023-05-29T13:40:19.857Z"
   },
   {
    "duration": 28,
    "start_time": "2023-05-29T13:40:20.170Z"
   },
   {
    "duration": 4,
    "start_time": "2023-05-29T13:40:20.200Z"
   },
   {
    "duration": 275,
    "start_time": "2023-05-29T13:40:20.205Z"
   },
   {
    "duration": 3,
    "start_time": "2023-05-29T13:40:20.482Z"
   },
   {
    "duration": 12,
    "start_time": "2023-05-29T13:40:20.486Z"
   },
   {
    "duration": 4,
    "start_time": "2023-05-29T13:41:52.191Z"
   },
   {
    "duration": 90,
    "start_time": "2023-05-29T15:13:35.944Z"
   },
   {
    "duration": 2,
    "start_time": "2023-05-29T15:13:51.744Z"
   },
   {
    "duration": 8,
    "start_time": "2023-05-29T15:13:56.305Z"
   },
   {
    "duration": 7,
    "start_time": "2023-05-29T15:14:03.281Z"
   },
   {
    "duration": 3,
    "start_time": "2023-05-29T15:14:20.413Z"
   },
   {
    "duration": 4,
    "start_time": "2023-05-29T15:14:26.574Z"
   },
   {
    "duration": 5,
    "start_time": "2023-05-29T15:14:30.709Z"
   },
   {
    "duration": 3,
    "start_time": "2023-05-29T15:38:17.186Z"
   },
   {
    "duration": 4,
    "start_time": "2023-05-29T15:38:20.922Z"
   },
   {
    "duration": 4,
    "start_time": "2023-05-29T15:38:23.772Z"
   },
   {
    "duration": 3,
    "start_time": "2023-05-29T15:38:32.194Z"
   },
   {
    "duration": 8,
    "start_time": "2023-05-29T15:38:32.620Z"
   },
   {
    "duration": 10,
    "start_time": "2023-05-29T15:39:47.053Z"
   },
   {
    "duration": 5,
    "start_time": "2023-05-29T15:42:22.920Z"
   },
   {
    "duration": 10,
    "start_time": "2023-05-29T15:44:28.193Z"
   },
   {
    "duration": 3,
    "start_time": "2023-05-29T15:44:46.779Z"
   },
   {
    "duration": 7,
    "start_time": "2023-05-29T15:46:36.486Z"
   },
   {
    "duration": 5,
    "start_time": "2023-05-29T15:46:42.590Z"
   },
   {
    "duration": 3,
    "start_time": "2023-05-29T15:46:52.341Z"
   },
   {
    "duration": 7,
    "start_time": "2023-05-29T15:48:49.142Z"
   },
   {
    "duration": 5,
    "start_time": "2023-05-29T15:50:30.341Z"
   },
   {
    "duration": 4,
    "start_time": "2023-05-29T15:50:37.318Z"
   },
   {
    "duration": 3,
    "start_time": "2023-05-29T15:50:38.370Z"
   },
   {
    "duration": 4,
    "start_time": "2023-05-29T15:50:43.905Z"
   },
   {
    "duration": 4,
    "start_time": "2023-05-29T15:51:23.345Z"
   },
   {
    "duration": 3,
    "start_time": "2023-05-29T15:51:27.254Z"
   },
   {
    "duration": 93,
    "start_time": "2023-05-29T15:51:45.442Z"
   },
   {
    "duration": 4,
    "start_time": "2023-05-29T15:51:49.129Z"
   },
   {
    "duration": 3,
    "start_time": "2023-05-29T15:52:55.415Z"
   },
   {
    "duration": 3,
    "start_time": "2023-05-29T15:53:00.332Z"
   },
   {
    "duration": 4,
    "start_time": "2023-05-29T15:53:05.715Z"
   },
   {
    "duration": 3,
    "start_time": "2023-05-29T15:53:08.710Z"
   },
   {
    "duration": 3,
    "start_time": "2023-05-29T15:53:10.875Z"
   },
   {
    "duration": 2,
    "start_time": "2023-05-29T15:53:18.748Z"
   },
   {
    "duration": 4,
    "start_time": "2023-05-29T15:53:20.531Z"
   },
   {
    "duration": 656,
    "start_time": "2023-05-29T16:04:26.708Z"
   },
   {
    "duration": 3,
    "start_time": "2023-05-29T16:06:32.687Z"
   },
   {
    "duration": 40,
    "start_time": "2023-05-29T16:09:13.468Z"
   },
   {
    "duration": 13,
    "start_time": "2023-05-29T16:09:22.651Z"
   },
   {
    "duration": 10,
    "start_time": "2023-05-29T16:09:40.842Z"
   },
   {
    "duration": 251,
    "start_time": "2023-05-29T16:10:50.155Z"
   },
   {
    "duration": 976,
    "start_time": "2023-05-29T16:13:39.158Z"
   },
   {
    "duration": 28,
    "start_time": "2023-05-29T16:13:40.136Z"
   },
   {
    "duration": 3,
    "start_time": "2023-05-29T16:13:40.166Z"
   },
   {
    "duration": 292,
    "start_time": "2023-05-29T16:13:40.171Z"
   },
   {
    "duration": 3,
    "start_time": "2023-05-29T16:13:40.465Z"
   },
   {
    "duration": 8,
    "start_time": "2023-05-29T16:13:40.470Z"
   },
   {
    "duration": 102,
    "start_time": "2023-05-29T16:13:40.479Z"
   },
   {
    "duration": 0,
    "start_time": "2023-05-29T16:13:40.583Z"
   },
   {
    "duration": 0,
    "start_time": "2023-05-29T16:13:40.584Z"
   },
   {
    "duration": 0,
    "start_time": "2023-05-29T16:13:40.585Z"
   },
   {
    "duration": 0,
    "start_time": "2023-05-29T16:13:40.586Z"
   },
   {
    "duration": 0,
    "start_time": "2023-05-29T16:13:40.588Z"
   },
   {
    "duration": 0,
    "start_time": "2023-05-29T16:13:40.589Z"
   },
   {
    "duration": 0,
    "start_time": "2023-05-29T16:13:40.605Z"
   },
   {
    "duration": 0,
    "start_time": "2023-05-29T16:13:40.607Z"
   },
   {
    "duration": 0,
    "start_time": "2023-05-29T16:13:40.608Z"
   },
   {
    "duration": 0,
    "start_time": "2023-05-29T16:13:40.609Z"
   },
   {
    "duration": 4,
    "start_time": "2023-05-29T16:14:02.593Z"
   },
   {
    "duration": 4,
    "start_time": "2023-05-29T16:14:03.388Z"
   },
   {
    "duration": 87,
    "start_time": "2023-05-29T16:14:11.618Z"
   },
   {
    "duration": 155,
    "start_time": "2023-05-29T16:14:13.159Z"
   },
   {
    "duration": 49,
    "start_time": "2023-05-29T16:14:14.109Z"
   },
   {
    "duration": 269255,
    "start_time": "2023-05-29T16:14:28.352Z"
   },
   {
    "duration": 2,
    "start_time": "2023-05-29T16:20:13.169Z"
   },
   {
    "duration": 3,
    "start_time": "2023-05-29T16:20:19.694Z"
   },
   {
    "duration": 8,
    "start_time": "2023-05-29T16:20:22.053Z"
   },
   {
    "duration": 3,
    "start_time": "2023-05-29T16:20:34.196Z"
   },
   {
    "duration": 8,
    "start_time": "2023-05-29T16:20:36.222Z"
   },
   {
    "duration": 3,
    "start_time": "2023-05-29T16:20:36.976Z"
   },
   {
    "duration": 10,
    "start_time": "2023-05-29T16:20:37.765Z"
   },
   {
    "duration": 3,
    "start_time": "2023-05-29T16:20:45.252Z"
   },
   {
    "duration": 11,
    "start_time": "2023-05-29T16:20:45.834Z"
   },
   {
    "duration": 3,
    "start_time": "2023-05-29T16:20:46.305Z"
   },
   {
    "duration": 17,
    "start_time": "2023-05-29T16:20:47.053Z"
   },
   {
    "duration": 4,
    "start_time": "2023-05-29T16:22:00.983Z"
   },
   {
    "duration": 4,
    "start_time": "2023-05-29T16:22:01.580Z"
   },
   {
    "duration": 15,
    "start_time": "2023-05-29T16:22:02.297Z"
   },
   {
    "duration": 11,
    "start_time": "2023-05-29T16:22:04.550Z"
   },
   {
    "duration": 17,
    "start_time": "2023-05-29T16:22:43.661Z"
   },
   {
    "duration": 4,
    "start_time": "2023-05-29T16:23:15.035Z"
   },
   {
    "duration": 4,
    "start_time": "2023-05-29T16:23:16.090Z"
   },
   {
    "duration": 9,
    "start_time": "2023-05-29T16:23:16.789Z"
   },
   {
    "duration": 3,
    "start_time": "2023-05-29T16:23:23.518Z"
   },
   {
    "duration": 3,
    "start_time": "2023-05-29T16:24:24.247Z"
   },
   {
    "duration": 3,
    "start_time": "2023-05-29T16:24:25.381Z"
   },
   {
    "duration": 15,
    "start_time": "2023-05-29T16:24:26.360Z"
   },
   {
    "duration": 3,
    "start_time": "2023-05-29T16:24:30.697Z"
   },
   {
    "duration": 4,
    "start_time": "2023-05-29T16:24:31.249Z"
   },
   {
    "duration": 14,
    "start_time": "2023-05-29T16:24:31.758Z"
   },
   {
    "duration": 3,
    "start_time": "2023-05-29T16:24:35.788Z"
   },
   {
    "duration": 3,
    "start_time": "2023-05-29T16:24:36.225Z"
   },
   {
    "duration": 9,
    "start_time": "2023-05-29T16:24:36.649Z"
   },
   {
    "duration": 3,
    "start_time": "2023-05-29T16:31:09.053Z"
   },
   {
    "duration": 3,
    "start_time": "2023-05-29T16:31:09.705Z"
   },
   {
    "duration": 13,
    "start_time": "2023-05-29T16:31:10.549Z"
   },
   {
    "duration": 17,
    "start_time": "2023-05-29T16:33:12.565Z"
   },
   {
    "duration": 12,
    "start_time": "2023-05-29T16:34:47.601Z"
   },
   {
    "duration": 48,
    "start_time": "2023-05-29T16:35:39.669Z"
   },
   {
    "duration": 11,
    "start_time": "2023-05-29T16:35:43.704Z"
   },
   {
    "duration": 4,
    "start_time": "2023-05-29T16:35:51.017Z"
   },
   {
    "duration": 18,
    "start_time": "2023-05-29T16:35:55.220Z"
   },
   {
    "duration": 4,
    "start_time": "2023-05-29T16:37:11.615Z"
   },
   {
    "duration": 11,
    "start_time": "2023-05-29T16:37:17.154Z"
   },
   {
    "duration": 5,
    "start_time": "2023-05-29T16:37:36.417Z"
   },
   {
    "duration": 12,
    "start_time": "2023-05-29T16:37:37.169Z"
   },
   {
    "duration": 3,
    "start_time": "2023-05-29T16:37:57.657Z"
   },
   {
    "duration": 11,
    "start_time": "2023-05-29T16:37:59.349Z"
   },
   {
    "duration": 8,
    "start_time": "2023-05-29T16:38:25.068Z"
   },
   {
    "duration": 6,
    "start_time": "2023-05-29T16:38:36.853Z"
   },
   {
    "duration": 6,
    "start_time": "2023-05-29T16:39:28.345Z"
   },
   {
    "duration": 5,
    "start_time": "2023-05-29T16:39:39.988Z"
   },
   {
    "duration": 55,
    "start_time": "2023-05-29T16:40:14.367Z"
   },
   {
    "duration": 7,
    "start_time": "2023-05-29T16:40:19.884Z"
   },
   {
    "duration": 6,
    "start_time": "2023-05-29T16:40:29.969Z"
   },
   {
    "duration": 8,
    "start_time": "2023-05-29T16:40:52.609Z"
   },
   {
    "duration": 9,
    "start_time": "2023-05-29T16:42:54.969Z"
   },
   {
    "duration": 7,
    "start_time": "2023-05-29T16:43:04.757Z"
   },
   {
    "duration": 14,
    "start_time": "2023-05-29T16:43:05.915Z"
   },
   {
    "duration": 9,
    "start_time": "2023-05-29T16:43:52.718Z"
   },
   {
    "duration": 5,
    "start_time": "2023-05-29T16:43:58.219Z"
   },
   {
    "duration": 5,
    "start_time": "2023-05-29T16:44:04.479Z"
   },
   {
    "duration": 8,
    "start_time": "2023-05-29T16:44:10.666Z"
   },
   {
    "duration": 7,
    "start_time": "2023-05-29T16:44:18.164Z"
   },
   {
    "duration": 55,
    "start_time": "2023-05-29T16:44:23.841Z"
   },
   {
    "duration": 6,
    "start_time": "2023-05-29T16:44:27.691Z"
   },
   {
    "duration": 729,
    "start_time": "2023-05-29T16:45:06.365Z"
   },
   {
    "duration": 7,
    "start_time": "2023-05-29T16:45:11.114Z"
   },
   {
    "duration": 9,
    "start_time": "2023-05-29T16:45:15.786Z"
   },
   {
    "duration": 335,
    "start_time": "2023-05-29T16:46:04.819Z"
   },
   {
    "duration": 678,
    "start_time": "2023-05-29T16:46:16.784Z"
   },
   {
    "duration": 5,
    "start_time": "2023-05-29T16:46:30.115Z"
   },
   {
    "duration": 5,
    "start_time": "2023-05-29T16:46:35.561Z"
   },
   {
    "duration": 6,
    "start_time": "2023-05-29T16:48:20.080Z"
   },
   {
    "duration": 6,
    "start_time": "2023-05-29T16:48:36.749Z"
   },
   {
    "duration": 7,
    "start_time": "2023-05-29T16:48:49.591Z"
   },
   {
    "duration": 6,
    "start_time": "2023-05-29T16:49:27.753Z"
   },
   {
    "duration": 6,
    "start_time": "2023-05-29T16:49:55.300Z"
   },
   {
    "duration": 5,
    "start_time": "2023-05-29T16:50:18.122Z"
   },
   {
    "duration": 7,
    "start_time": "2023-05-29T16:50:21.009Z"
   },
   {
    "duration": 13,
    "start_time": "2023-05-29T16:51:14.178Z"
   },
   {
    "duration": 11,
    "start_time": "2023-05-29T16:51:24.472Z"
   },
   {
    "duration": 46,
    "start_time": "2023-05-29T16:58:12.027Z"
   },
   {
    "duration": 46,
    "start_time": "2023-05-29T16:58:19.380Z"
   },
   {
    "duration": 18,
    "start_time": "2023-05-29T16:58:24.013Z"
   },
   {
    "duration": 3,
    "start_time": "2023-05-29T16:58:36.564Z"
   },
   {
    "duration": 3,
    "start_time": "2023-05-29T16:59:34.854Z"
   },
   {
    "duration": 4,
    "start_time": "2023-05-29T16:59:36.222Z"
   },
   {
    "duration": 8,
    "start_time": "2023-05-29T16:59:36.674Z"
   },
   {
    "duration": 2,
    "start_time": "2023-05-29T16:59:41.224Z"
   },
   {
    "duration": 8,
    "start_time": "2023-05-29T17:00:55.003Z"
   },
   {
    "duration": 4,
    "start_time": "2023-05-29T17:00:58.065Z"
   },
   {
    "duration": 18,
    "start_time": "2023-05-29T17:00:58.462Z"
   },
   {
    "duration": 4,
    "start_time": "2023-05-29T17:00:59.157Z"
   },
   {
    "duration": 4,
    "start_time": "2023-05-29T17:01:00.011Z"
   },
   {
    "duration": 8,
    "start_time": "2023-05-29T17:01:00.660Z"
   },
   {
    "duration": 990,
    "start_time": "2023-05-29T17:35:32.654Z"
   },
   {
    "duration": 29,
    "start_time": "2023-05-29T17:35:33.646Z"
   },
   {
    "duration": 4,
    "start_time": "2023-05-29T17:35:33.677Z"
   },
   {
    "duration": 329,
    "start_time": "2023-05-29T17:35:33.683Z"
   },
   {
    "duration": 4,
    "start_time": "2023-05-29T17:35:34.013Z"
   },
   {
    "duration": 9,
    "start_time": "2023-05-29T17:35:34.019Z"
   },
   {
    "duration": 25,
    "start_time": "2023-05-29T17:35:34.029Z"
   },
   {
    "duration": 21,
    "start_time": "2023-05-29T17:35:34.055Z"
   },
   {
    "duration": 35,
    "start_time": "2023-05-29T17:35:34.077Z"
   },
   {
    "duration": 93,
    "start_time": "2023-05-29T17:35:34.114Z"
   },
   {
    "duration": 10,
    "start_time": "2023-05-29T17:35:34.208Z"
   },
   {
    "duration": 6,
    "start_time": "2023-05-29T17:35:34.220Z"
   },
   {
    "duration": 66,
    "start_time": "2023-05-30T16:36:48.993Z"
   },
   {
    "duration": 70,
    "start_time": "2023-05-30T16:36:59.207Z"
   },
   {
    "duration": 3048,
    "start_time": "2023-05-30T16:37:03.097Z"
   },
   {
    "duration": 1195,
    "start_time": "2023-05-30T16:37:17.825Z"
   },
   {
    "duration": 112,
    "start_time": "2023-05-30T16:37:20.504Z"
   },
   {
    "duration": 678,
    "start_time": "2023-05-30T16:38:00.785Z"
   },
   {
    "duration": 16,
    "start_time": "2023-05-30T16:38:07.015Z"
   },
   {
    "duration": 108,
    "start_time": "2023-05-30T16:38:15.988Z"
   },
   {
    "duration": 3,
    "start_time": "2023-05-30T16:45:18.036Z"
   },
   {
    "duration": 92,
    "start_time": "2023-05-30T16:45:21.412Z"
   },
   {
    "duration": 108,
    "start_time": "2023-05-30T16:51:52.412Z"
   },
   {
    "duration": 4,
    "start_time": "2023-05-30T16:55:38.209Z"
   },
   {
    "duration": 107,
    "start_time": "2023-05-30T16:55:41.586Z"
   },
   {
    "duration": 120,
    "start_time": "2023-05-30T16:56:18.781Z"
   },
   {
    "duration": 905,
    "start_time": "2023-05-30T16:56:34.475Z"
   },
   {
    "duration": 13,
    "start_time": "2023-05-30T16:57:24.712Z"
   },
   {
    "duration": 4,
    "start_time": "2023-05-30T16:57:32.692Z"
   },
   {
    "duration": 924,
    "start_time": "2023-05-30T16:57:35.687Z"
   },
   {
    "duration": 88,
    "start_time": "2023-05-30T16:58:38.577Z"
   },
   {
    "duration": 529,
    "start_time": "2023-05-30T16:58:40.743Z"
   },
   {
    "duration": 5,
    "start_time": "2023-05-30T16:59:44.821Z"
   },
   {
    "duration": 59,
    "start_time": "2023-05-30T16:59:50.641Z"
   },
   {
    "duration": 5,
    "start_time": "2023-05-30T17:00:43.179Z"
   },
   {
    "duration": 573,
    "start_time": "2023-05-30T17:00:47.354Z"
   },
   {
    "duration": 4,
    "start_time": "2023-05-30T17:49:05.263Z"
   },
   {
    "duration": 576,
    "start_time": "2023-05-30T17:53:17.539Z"
   },
   {
    "duration": 10,
    "start_time": "2023-05-30T18:02:23.701Z"
   },
   {
    "duration": 12,
    "start_time": "2023-05-30T18:03:44.043Z"
   },
   {
    "duration": 12,
    "start_time": "2023-05-30T18:03:56.402Z"
   },
   {
    "duration": 11,
    "start_time": "2023-05-30T18:04:05.090Z"
   },
   {
    "duration": 2165,
    "start_time": "2023-05-30T18:04:12.678Z"
   },
   {
    "duration": 1427,
    "start_time": "2023-05-30T18:04:14.845Z"
   },
   {
    "duration": 36,
    "start_time": "2023-05-30T18:04:16.274Z"
   },
   {
    "duration": 6,
    "start_time": "2023-05-30T18:04:16.312Z"
   },
   {
    "duration": 689,
    "start_time": "2023-05-30T18:04:16.320Z"
   },
   {
    "duration": 3,
    "start_time": "2023-05-30T18:04:17.011Z"
   },
   {
    "duration": 8,
    "start_time": "2023-05-30T18:04:17.016Z"
   },
   {
    "duration": 5,
    "start_time": "2023-05-30T18:04:17.026Z"
   },
   {
    "duration": 27,
    "start_time": "2023-05-30T18:04:17.033Z"
   },
   {
    "duration": 13,
    "start_time": "2023-05-30T18:04:17.063Z"
   },
   {
    "duration": 39463,
    "start_time": "2023-05-30T18:04:17.081Z"
   },
   {
    "duration": 3,
    "start_time": "2023-05-30T18:04:56.546Z"
   },
   {
    "duration": 20,
    "start_time": "2023-05-30T18:04:56.551Z"
   },
   {
    "duration": 10,
    "start_time": "2023-05-30T18:04:56.573Z"
   },
   {
    "duration": 329,
    "start_time": "2023-05-30T18:04:56.585Z"
   },
   {
    "duration": 5,
    "start_time": "2023-05-30T18:05:10.792Z"
   },
   {
    "duration": 5,
    "start_time": "2023-05-30T18:05:24.732Z"
   },
   {
    "duration": 4,
    "start_time": "2023-05-30T18:07:15.272Z"
   },
   {
    "duration": 28183,
    "start_time": "2023-05-30T18:13:11.197Z"
   },
   {
    "duration": 16682,
    "start_time": "2023-05-30T18:13:46.262Z"
   },
   {
    "duration": 4,
    "start_time": "2023-05-30T18:14:30.213Z"
   },
   {
    "duration": 5,
    "start_time": "2023-05-30T18:14:32.817Z"
   },
   {
    "duration": 7,
    "start_time": "2023-05-30T18:14:39.108Z"
   },
   {
    "duration": 16894,
    "start_time": "2023-05-30T18:14:52.917Z"
   },
   {
    "duration": 4,
    "start_time": "2023-05-30T18:15:12.942Z"
   },
   {
    "duration": 4,
    "start_time": "2023-05-30T18:15:29.638Z"
   },
   {
    "duration": 4,
    "start_time": "2023-05-30T18:15:32.404Z"
   },
   {
    "duration": 6,
    "start_time": "2023-05-30T18:15:34.317Z"
   },
   {
    "duration": 3,
    "start_time": "2023-05-30T18:15:37.822Z"
   },
   {
    "duration": 4,
    "start_time": "2023-05-30T18:15:43.127Z"
   },
   {
    "duration": 6,
    "start_time": "2023-05-30T18:15:47.408Z"
   },
   {
    "duration": 7,
    "start_time": "2023-05-30T18:16:44.579Z"
   },
   {
    "duration": 12,
    "start_time": "2023-05-30T18:17:21.075Z"
   },
   {
    "duration": 5,
    "start_time": "2023-05-30T18:17:53.956Z"
   },
   {
    "duration": 7,
    "start_time": "2023-05-30T18:17:58.254Z"
   },
   {
    "duration": 13,
    "start_time": "2023-05-30T18:22:08.398Z"
   },
   {
    "duration": 6,
    "start_time": "2023-05-30T18:22:21.312Z"
   },
   {
    "duration": 6,
    "start_time": "2023-05-30T18:24:18.811Z"
   },
   {
    "duration": 10,
    "start_time": "2023-05-30T18:26:00.601Z"
   },
   {
    "duration": 11,
    "start_time": "2023-05-30T18:26:34.373Z"
   },
   {
    "duration": 7,
    "start_time": "2023-05-30T18:26:38.139Z"
   },
   {
    "duration": 13,
    "start_time": "2023-05-30T18:26:39.160Z"
   },
   {
    "duration": 4,
    "start_time": "2023-05-30T18:26:41.562Z"
   },
   {
    "duration": 8,
    "start_time": "2023-05-30T18:26:43.099Z"
   },
   {
    "duration": 12,
    "start_time": "2023-05-30T18:26:44.431Z"
   },
   {
    "duration": 2071,
    "start_time": "2023-05-30T18:26:58.105Z"
   },
   {
    "duration": 1388,
    "start_time": "2023-05-30T18:27:00.179Z"
   },
   {
    "duration": 29,
    "start_time": "2023-05-30T18:27:01.569Z"
   },
   {
    "duration": 27,
    "start_time": "2023-05-30T18:27:01.601Z"
   },
   {
    "duration": 693,
    "start_time": "2023-05-30T18:27:01.630Z"
   },
   {
    "duration": 4,
    "start_time": "2023-05-30T18:27:02.326Z"
   },
   {
    "duration": 18,
    "start_time": "2023-05-30T18:27:02.332Z"
   },
   {
    "duration": 37,
    "start_time": "2023-05-30T18:27:02.352Z"
   },
   {
    "duration": 30,
    "start_time": "2023-05-30T18:27:02.391Z"
   },
   {
    "duration": 6,
    "start_time": "2023-05-30T18:27:02.424Z"
   },
   {
    "duration": 24,
    "start_time": "2023-05-30T18:27:02.432Z"
   },
   {
    "duration": 19,
    "start_time": "2023-05-30T18:27:02.458Z"
   },
   {
    "duration": 6,
    "start_time": "2023-05-30T18:27:02.480Z"
   },
   {
    "duration": 4,
    "start_time": "2023-05-30T18:27:59.188Z"
   },
   {
    "duration": 7,
    "start_time": "2023-05-30T18:28:02.068Z"
   },
   {
    "duration": 10,
    "start_time": "2023-05-30T18:28:03.005Z"
   },
   {
    "duration": 12,
    "start_time": "2023-05-30T18:28:06.620Z"
   },
   {
    "duration": 10,
    "start_time": "2023-05-30T18:28:10.080Z"
   },
   {
    "duration": 7,
    "start_time": "2023-05-30T18:28:12.990Z"
   },
   {
    "duration": 9,
    "start_time": "2023-05-30T18:28:13.774Z"
   },
   {
    "duration": 4,
    "start_time": "2023-05-30T18:28:16.012Z"
   },
   {
    "duration": 6,
    "start_time": "2023-05-30T18:28:17.946Z"
   },
   {
    "duration": 13,
    "start_time": "2023-05-30T18:28:18.996Z"
   },
   {
    "duration": 2112,
    "start_time": "2023-05-30T18:28:39.643Z"
   },
   {
    "duration": 1400,
    "start_time": "2023-05-30T18:28:41.759Z"
   },
   {
    "duration": 29,
    "start_time": "2023-05-30T18:28:43.161Z"
   },
   {
    "duration": 5,
    "start_time": "2023-05-30T18:28:43.192Z"
   },
   {
    "duration": 628,
    "start_time": "2023-05-30T18:28:43.200Z"
   },
   {
    "duration": 4,
    "start_time": "2023-05-30T18:28:43.829Z"
   },
   {
    "duration": 27,
    "start_time": "2023-05-30T18:28:43.835Z"
   },
   {
    "duration": 9,
    "start_time": "2023-05-30T18:28:43.863Z"
   },
   {
    "duration": 11,
    "start_time": "2023-05-30T18:28:43.873Z"
   },
   {
    "duration": 4,
    "start_time": "2023-05-30T18:28:43.886Z"
   },
   {
    "duration": 8,
    "start_time": "2023-05-30T18:28:43.891Z"
   },
   {
    "duration": 16,
    "start_time": "2023-05-30T18:28:43.900Z"
   },
   {
    "duration": 40,
    "start_time": "2023-05-30T18:28:43.918Z"
   }
  ],
  "kernelspec": {
   "display_name": "Python 3 (ipykernel)",
   "language": "python",
   "name": "python3"
  },
  "language_info": {
   "codemirror_mode": {
    "name": "ipython",
    "version": 3
   },
   "file_extension": ".py",
   "mimetype": "text/x-python",
   "name": "python",
   "nbconvert_exporter": "python",
   "pygments_lexer": "ipython3",
   "version": "3.9.13"
  },
  "toc": {
   "base_numbering": 1,
   "nav_menu": {},
   "number_sections": true,
   "sideBar": true,
   "skip_h1_title": true,
   "title_cell": "Содержание",
   "title_sidebar": "Contents",
   "toc_cell": true,
   "toc_position": {
    "height": "calc(100% - 180px)",
    "left": "10px",
    "top": "150px",
    "width": "371px"
   },
   "toc_section_display": true,
   "toc_window_display": true
  }
 },
 "nbformat": 4,
 "nbformat_minor": 2
}
